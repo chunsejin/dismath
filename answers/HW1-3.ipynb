{
 "nbformat": 4,
 "nbformat_minor": 0,
 "metadata": {
  "colab": {
   "name": "이산수학1824160김민석 (1).ipynb",
   "provenance": [],
   "collapsed_sections": []
  },
  "kernelspec": {
   "name": "python3",
   "display_name": "Python 3"
  },
  "language_info": {
   "name": "python"
  }
 },
 "cells": [
  {
   "cell_type": "markdown",
   "source": [
    "# 과제 1-3: 판다스 데이터 다루기\n",
    "---\n",
    "박정현(pwjdgus1017@donga.ac.kr), 배정훈(rhenus9911@gmail.com), 최재혁(fkdlfkdl68@donga.ac.kr), 권건우(a71463092@gmail.com)\n",
    "정답 작성: 김민석\n",
    "---\n",
    "우리는 관계 강의를 통해 그래프에 대한 구성을 이론적으로 학습하였다. 구체적으로, 유향/무향 그래프 및 관계행렬 등을 그래프 표현으로 배웠다. 하지만, 강의에서 학습한 데이터는 단순한 숫자(1,2,3,..)/문자형(a,b,c,..)이었기 때문에 실제 세계에서 적용하기는 어렵다.\n",
    "\n",
    "본 프로그래밍 과정을 통해, 실제 데이터를 어떻게 그래프 모델로 표현하고, 또한 그래프의 이론적인 방법을 실용적으로 어떻게 응용하는지에 대해서 배울 예정이다."
   ],
   "metadata": {
    "collapsed": false
   }
  },
  {
   "cell_type": "markdown",
   "source": [
    "데이터셋1 폴더에서 다음 데이터셋을 다운로드 받아서, 업로드하고 프로그램 수행하시기 바랍니다.\n",
    "\n",
    "- 부산교통공사_시간대별 승하차인원_20210801\n"
   ],
   "metadata": {
    "collapsed": false
   }
  },
  {
   "cell_type": "code",
   "metadata": {
    "id": "IWZ-DihHZsVq",
    "colab": {
     "base_uri": "https://localhost:8080/",
     "height": 748
    },
    "outputId": "8b57d144-7d5c-48a9-db78-6f7476a29f8e"
   },
   "source": [
    "import pandas as pd \n",
    "\n",
    "df=pd.read_csv('/content/부산교통공사_시간대별 승하차인원_20210801.csv', encoding='cp949')\n",
    "df.head(5)"
   ],
   "execution_count": 1,
   "outputs": [
    {
     "output_type": "execute_result",
     "data": {
      "text/html": [
       "<div>\n",
       "<style scoped>\n",
       "    .dataframe tbody tr th:only-of-type {\n",
       "        vertical-align: middle;\n",
       "    }\n",
       "\n",
       "    .dataframe tbody tr th {\n",
       "        vertical-align: top;\n",
       "    }\n",
       "\n",
       "    .dataframe thead th {\n",
       "        text-align: right;\n",
       "    }\n",
       "</style>\n",
       "<table border=\"1\" class=\"dataframe\">\n",
       "  <thead>\n",
       "    <tr style=\"text-align: right;\">\n",
       "      <th></th>\n",
       "      <th>역번호</th>\n",
       "      <th>역명</th>\n",
       "      <th>년월일</th>\n",
       "      <th>구분</th>\n",
       "      <th>합계</th>\n",
       "      <th>01시-02시</th>\n",
       "      <th>02시-03시</th>\n",
       "      <th>03시-04시</th>\n",
       "      <th>04시-05시</th>\n",
       "      <th>05시-06시</th>\n",
       "      <th>06시-07시</th>\n",
       "      <th>07시-08시</th>\n",
       "      <th>08시-09시</th>\n",
       "      <th>09시-10시</th>\n",
       "      <th>10시-11시</th>\n",
       "      <th>11시-12시</th>\n",
       "      <th>12시-13시</th>\n",
       "      <th>13시-14시</th>\n",
       "      <th>14시-15시</th>\n",
       "      <th>15시-16시</th>\n",
       "      <th>16시-17시</th>\n",
       "      <th>17시-18시</th>\n",
       "      <th>18시-19시</th>\n",
       "      <th>19시-20시</th>\n",
       "      <th>20시-21시</th>\n",
       "      <th>21시-22시</th>\n",
       "      <th>22시-23시</th>\n",
       "      <th>23시-24시</th>\n",
       "      <th>24시-01시</th>\n",
       "    </tr>\n",
       "  </thead>\n",
       "  <tbody>\n",
       "    <tr>\n",
       "      <th>0</th>\n",
       "      <td>95</td>\n",
       "      <td>다대포해수욕장</td>\n",
       "      <td>2021-01-01</td>\n",
       "      <td>승차</td>\n",
       "      <td>2323</td>\n",
       "      <td>0</td>\n",
       "      <td>0</td>\n",
       "      <td>1</td>\n",
       "      <td>4</td>\n",
       "      <td>24</td>\n",
       "      <td>42</td>\n",
       "      <td>101</td>\n",
       "      <td>122</td>\n",
       "      <td>94</td>\n",
       "      <td>109</td>\n",
       "      <td>148</td>\n",
       "      <td>143</td>\n",
       "      <td>163</td>\n",
       "      <td>229</td>\n",
       "      <td>308</td>\n",
       "      <td>272</td>\n",
       "      <td>237</td>\n",
       "      <td>132</td>\n",
       "      <td>59</td>\n",
       "      <td>53</td>\n",
       "      <td>55</td>\n",
       "      <td>20</td>\n",
       "      <td>7</td>\n",
       "      <td>0</td>\n",
       "    </tr>\n",
       "    <tr>\n",
       "      <th>1</th>\n",
       "      <td>95</td>\n",
       "      <td>다대포해수욕장</td>\n",
       "      <td>2021-01-01</td>\n",
       "      <td>하차</td>\n",
       "      <td>2010</td>\n",
       "      <td>0</td>\n",
       "      <td>0</td>\n",
       "      <td>1</td>\n",
       "      <td>1</td>\n",
       "      <td>26</td>\n",
       "      <td>88</td>\n",
       "      <td>112</td>\n",
       "      <td>54</td>\n",
       "      <td>66</td>\n",
       "      <td>99</td>\n",
       "      <td>123</td>\n",
       "      <td>136</td>\n",
       "      <td>226</td>\n",
       "      <td>248</td>\n",
       "      <td>199</td>\n",
       "      <td>160</td>\n",
       "      <td>158</td>\n",
       "      <td>76</td>\n",
       "      <td>71</td>\n",
       "      <td>41</td>\n",
       "      <td>57</td>\n",
       "      <td>34</td>\n",
       "      <td>21</td>\n",
       "      <td>13</td>\n",
       "    </tr>\n",
       "    <tr>\n",
       "      <th>2</th>\n",
       "      <td>95</td>\n",
       "      <td>다대포해수욕장</td>\n",
       "      <td>2021-01-02</td>\n",
       "      <td>승차</td>\n",
       "      <td>2901</td>\n",
       "      <td>0</td>\n",
       "      <td>0</td>\n",
       "      <td>0</td>\n",
       "      <td>4</td>\n",
       "      <td>34</td>\n",
       "      <td>43</td>\n",
       "      <td>79</td>\n",
       "      <td>139</td>\n",
       "      <td>173</td>\n",
       "      <td>173</td>\n",
       "      <td>197</td>\n",
       "      <td>207</td>\n",
       "      <td>249</td>\n",
       "      <td>296</td>\n",
       "      <td>386</td>\n",
       "      <td>288</td>\n",
       "      <td>264</td>\n",
       "      <td>123</td>\n",
       "      <td>72</td>\n",
       "      <td>83</td>\n",
       "      <td>64</td>\n",
       "      <td>26</td>\n",
       "      <td>1</td>\n",
       "      <td>0</td>\n",
       "    </tr>\n",
       "    <tr>\n",
       "      <th>3</th>\n",
       "      <td>95</td>\n",
       "      <td>다대포해수욕장</td>\n",
       "      <td>2021-01-02</td>\n",
       "      <td>하차</td>\n",
       "      <td>2363</td>\n",
       "      <td>0</td>\n",
       "      <td>0</td>\n",
       "      <td>0</td>\n",
       "      <td>0</td>\n",
       "      <td>14</td>\n",
       "      <td>48</td>\n",
       "      <td>61</td>\n",
       "      <td>78</td>\n",
       "      <td>73</td>\n",
       "      <td>129</td>\n",
       "      <td>206</td>\n",
       "      <td>209</td>\n",
       "      <td>222</td>\n",
       "      <td>265</td>\n",
       "      <td>264</td>\n",
       "      <td>223</td>\n",
       "      <td>165</td>\n",
       "      <td>104</td>\n",
       "      <td>62</td>\n",
       "      <td>78</td>\n",
       "      <td>81</td>\n",
       "      <td>48</td>\n",
       "      <td>20</td>\n",
       "      <td>13</td>\n",
       "    </tr>\n",
       "    <tr>\n",
       "      <th>4</th>\n",
       "      <td>95</td>\n",
       "      <td>다대포해수욕장</td>\n",
       "      <td>2021-01-03</td>\n",
       "      <td>승차</td>\n",
       "      <td>2268</td>\n",
       "      <td>0</td>\n",
       "      <td>0</td>\n",
       "      <td>2</td>\n",
       "      <td>5</td>\n",
       "      <td>22</td>\n",
       "      <td>43</td>\n",
       "      <td>49</td>\n",
       "      <td>104</td>\n",
       "      <td>125</td>\n",
       "      <td>117</td>\n",
       "      <td>157</td>\n",
       "      <td>154</td>\n",
       "      <td>198</td>\n",
       "      <td>249</td>\n",
       "      <td>337</td>\n",
       "      <td>239</td>\n",
       "      <td>182</td>\n",
       "      <td>91</td>\n",
       "      <td>63</td>\n",
       "      <td>57</td>\n",
       "      <td>43</td>\n",
       "      <td>25</td>\n",
       "      <td>6</td>\n",
       "      <td>0</td>\n",
       "    </tr>\n",
       "  </tbody>\n",
       "</table>\n",
       "</div>"
      ],
      "text/plain": [
       "   역번호       역명         년월일  구분  ...  21시-22시  22시-23시  23시-24시  24시-01시\n",
       "0   95  다대포해수욕장  2021-01-01  승차  ...       55       20        7        0\n",
       "1   95  다대포해수욕장  2021-01-01  하차  ...       57       34       21       13\n",
       "2   95  다대포해수욕장  2021-01-02  승차  ...       64       26        1        0\n",
       "3   95  다대포해수욕장  2021-01-02  하차  ...       81       48       20       13\n",
       "4   95  다대포해수욕장  2021-01-03  승차  ...       43       25        6        0\n",
       "\n",
       "[5 rows x 29 columns]"
      ]
     },
     "metadata": {},
     "execution_count": 1
    }
   ]
  },
  {
   "cell_type": "markdown",
   "metadata": {
    "id": "JykJ2yPYMtyf"
   },
   "source": [
    "# HW1. 판다스(pandas)의 데이터프레임(Dataframe) 다루기 \n",
    "\n",
    "\n",
    "본 과제는 판다스의 데이터 프레임을 조직을 목표합니다.\n",
    "csv,json 파일 읽기, 필요 데이터 추출 및 필터, 그룹화 및 통계 계산하기를 학습할 예정입니다.\n",
    "\n",
    "```각 과제는 아래 세부 과제들로 구성됩니다,```"
   ]
  },
  {
   "cell_type": "markdown",
   "metadata": {
    "id": "vK08uqJEaTUQ"
   },
   "source": [
    "## ■ 문제 1-1. 데이터 프레임의 레코드 수를 출력할 것.\n",
    "데이터 프레임의 레코드 수(Row의 수)와 필드 수(Column)를 각각 출력하여라\n",
    "```\n",
    "데이터프레임의 __shape__ 메소드는 데이터의 차원을 표현합니다\n",
    "\n",
    "참조: https://pandas.pydata.org/pandas-docs/version/0.24.2/reference/api/pandas.DataFrame.shape.html`\n",
    "```\n",
    "\n",
    "```\n"
   ]
  },
  {
   "cell_type": "code",
   "metadata": {
    "id": "vqF-z-1QaSeN",
    "colab": {
     "base_uri": "https://localhost:8080/"
    },
    "outputId": "67f2f642-b025-4810-85fd-5bef629ad3c4"
   },
   "source": [
    "#2차원 행렬로 구성된 데이터 프레임의 크기 출력\n",
    "df.shape"
   ],
   "execution_count": 2,
   "outputs": [
    {
     "output_type": "execute_result",
     "data": {
      "text/plain": [
       "(54432, 29)"
      ]
     },
     "metadata": {},
     "execution_count": 2
    }
   ]
  },
  {
   "cell_type": "code",
   "metadata": {
    "id": "SIQJ0BSpatNE",
    "colab": {
     "base_uri": "https://localhost:8080/"
    },
    "outputId": "78d0268b-d76d-4889-f0f8-71d0817ffb6a"
   },
   "source": [
    "#행\n",
    "df.shape[0]"
   ],
   "execution_count": 3,
   "outputs": [
    {
     "output_type": "execute_result",
     "data": {
      "text/plain": [
       "54432"
      ]
     },
     "metadata": {},
     "execution_count": 3
    }
   ]
  },
  {
   "cell_type": "code",
   "metadata": {
    "id": "vzie6mS0a12D",
    "colab": {
     "base_uri": "https://localhost:8080/"
    },
    "outputId": "b3ff2431-36e8-4483-fb53-a6defea63f08"
   },
   "source": [
    "#열\n",
    "df.shape[1]"
   ],
   "execution_count": 4,
   "outputs": [
    {
     "output_type": "execute_result",
     "data": {
      "text/plain": [
       "29"
      ]
     },
     "metadata": {},
     "execution_count": 4
    }
   ]
  },
  {
   "cell_type": "markdown",
   "metadata": {
    "id": "jb47PGEBa5vO"
   },
   "source": [
    "## ■ 문제 1-2. 데이터프레임의 표현적인 통계(descriptive statistics) 보기\n",
    "주어진 데이터프레임의 표현적인 통계를 출력하시오 \n",
    "\n",
    "```\n",
    "Descriptive statistics이란? 데이터의 분포의 모양, 퍼짐 정도, 중앙에 몰리는 정도. 최대, 최소값, 평균 을 한눈에 보여주도록 합니다.\n",
    "\n",
    "참조 https://pandas.pydata.org/docs/reference/api/pandas.DataFrame.describe.html\n",
    "```\n"
   ]
  },
  {
   "cell_type": "code",
   "metadata": {
    "id": "eO-3tvtKa8-y",
    "colab": {
     "base_uri": "https://localhost:8080/",
     "height": 317
    },
    "outputId": "a5f9f97d-9c60-4898-b1d6-b3ebdca278a4"
   },
   "source": [
    "# 데이터프레임에 대한 표현적인 통계를 출력하시오\n",
    "df.describe()"
   ],
   "execution_count": 5,
   "outputs": [
    {
     "output_type": "execute_result",
     "data": {
      "text/html": [
       "<div>\n",
       "<style scoped>\n",
       "    .dataframe tbody tr th:only-of-type {\n",
       "        vertical-align: middle;\n",
       "    }\n",
       "\n",
       "    .dataframe tbody tr th {\n",
       "        vertical-align: top;\n",
       "    }\n",
       "\n",
       "    .dataframe thead th {\n",
       "        text-align: right;\n",
       "    }\n",
       "</style>\n",
       "<table border=\"1\" class=\"dataframe\">\n",
       "  <thead>\n",
       "    <tr style=\"text-align: right;\">\n",
       "      <th></th>\n",
       "      <th>역번호</th>\n",
       "      <th>합계</th>\n",
       "      <th>01시-02시</th>\n",
       "      <th>02시-03시</th>\n",
       "      <th>03시-04시</th>\n",
       "      <th>04시-05시</th>\n",
       "      <th>05시-06시</th>\n",
       "      <th>06시-07시</th>\n",
       "      <th>07시-08시</th>\n",
       "      <th>08시-09시</th>\n",
       "      <th>09시-10시</th>\n",
       "      <th>10시-11시</th>\n",
       "      <th>11시-12시</th>\n",
       "      <th>12시-13시</th>\n",
       "      <th>13시-14시</th>\n",
       "      <th>14시-15시</th>\n",
       "      <th>15시-16시</th>\n",
       "      <th>16시-17시</th>\n",
       "      <th>17시-18시</th>\n",
       "      <th>18시-19시</th>\n",
       "      <th>19시-20시</th>\n",
       "      <th>20시-21시</th>\n",
       "      <th>21시-22시</th>\n",
       "      <th>22시-23시</th>\n",
       "      <th>23시-24시</th>\n",
       "      <th>24시-01시</th>\n",
       "    </tr>\n",
       "  </thead>\n",
       "  <tbody>\n",
       "    <tr>\n",
       "      <th>count</th>\n",
       "      <td>54432.000000</td>\n",
       "      <td>54432.000000</td>\n",
       "      <td>54432.000000</td>\n",
       "      <td>54432.000000</td>\n",
       "      <td>54432.000000</td>\n",
       "      <td>54432.000000</td>\n",
       "      <td>54432.000000</td>\n",
       "      <td>54432.000000</td>\n",
       "      <td>54432.000000</td>\n",
       "      <td>54432.000000</td>\n",
       "      <td>54432.000000</td>\n",
       "      <td>54432.000000</td>\n",
       "      <td>54432.000000</td>\n",
       "      <td>54432.000000</td>\n",
       "      <td>54432.000000</td>\n",
       "      <td>54432.000000</td>\n",
       "      <td>54432.000000</td>\n",
       "      <td>54432.000000</td>\n",
       "      <td>54432.000000</td>\n",
       "      <td>54432.000000</td>\n",
       "      <td>54432.000000</td>\n",
       "      <td>54432.000000</td>\n",
       "      <td>54432.000000</td>\n",
       "      <td>54432.000000</td>\n",
       "      <td>54432.000000</td>\n",
       "      <td>54432.000000</td>\n",
       "    </tr>\n",
       "    <tr>\n",
       "      <th>mean</th>\n",
       "      <td>217.696429</td>\n",
       "      <td>6001.938125</td>\n",
       "      <td>0.176146</td>\n",
       "      <td>0.167659</td>\n",
       "      <td>0.118386</td>\n",
       "      <td>1.766093</td>\n",
       "      <td>60.352568</td>\n",
       "      <td>138.390414</td>\n",
       "      <td>303.107529</td>\n",
       "      <td>544.682650</td>\n",
       "      <td>361.287349</td>\n",
       "      <td>323.543210</td>\n",
       "      <td>342.298979</td>\n",
       "      <td>363.079292</td>\n",
       "      <td>382.208407</td>\n",
       "      <td>376.746858</td>\n",
       "      <td>394.491145</td>\n",
       "      <td>428.293283</td>\n",
       "      <td>496.812812</td>\n",
       "      <td>583.616898</td>\n",
       "      <td>298.578759</td>\n",
       "      <td>211.858098</td>\n",
       "      <td>181.392802</td>\n",
       "      <td>135.147762</td>\n",
       "      <td>62.917604</td>\n",
       "      <td>10.903421</td>\n",
       "    </tr>\n",
       "    <tr>\n",
       "      <th>std</th>\n",
       "      <td>96.589932</td>\n",
       "      <td>4817.111320</td>\n",
       "      <td>0.812027</td>\n",
       "      <td>1.245476</td>\n",
       "      <td>3.069415</td>\n",
       "      <td>4.834943</td>\n",
       "      <td>54.239414</td>\n",
       "      <td>104.622347</td>\n",
       "      <td>267.770210</td>\n",
       "      <td>530.095992</td>\n",
       "      <td>331.195661</td>\n",
       "      <td>272.636397</td>\n",
       "      <td>297.848738</td>\n",
       "      <td>321.347636</td>\n",
       "      <td>342.717366</td>\n",
       "      <td>339.763729</td>\n",
       "      <td>350.070443</td>\n",
       "      <td>369.656160</td>\n",
       "      <td>431.662020</td>\n",
       "      <td>576.509050</td>\n",
       "      <td>284.804430</td>\n",
       "      <td>221.292111</td>\n",
       "      <td>190.983476</td>\n",
       "      <td>153.573710</td>\n",
       "      <td>72.383265</td>\n",
       "      <td>14.248733</td>\n",
       "    </tr>\n",
       "    <tr>\n",
       "      <th>min</th>\n",
       "      <td>95.000000</td>\n",
       "      <td>49.000000</td>\n",
       "      <td>0.000000</td>\n",
       "      <td>0.000000</td>\n",
       "      <td>0.000000</td>\n",
       "      <td>0.000000</td>\n",
       "      <td>0.000000</td>\n",
       "      <td>0.000000</td>\n",
       "      <td>0.000000</td>\n",
       "      <td>1.000000</td>\n",
       "      <td>0.000000</td>\n",
       "      <td>0.000000</td>\n",
       "      <td>1.000000</td>\n",
       "      <td>1.000000</td>\n",
       "      <td>2.000000</td>\n",
       "      <td>1.000000</td>\n",
       "      <td>1.000000</td>\n",
       "      <td>1.000000</td>\n",
       "      <td>0.000000</td>\n",
       "      <td>0.000000</td>\n",
       "      <td>0.000000</td>\n",
       "      <td>0.000000</td>\n",
       "      <td>0.000000</td>\n",
       "      <td>0.000000</td>\n",
       "      <td>0.000000</td>\n",
       "      <td>0.000000</td>\n",
       "    </tr>\n",
       "    <tr>\n",
       "      <th>25%</th>\n",
       "      <td>122.750000</td>\n",
       "      <td>2628.000000</td>\n",
       "      <td>0.000000</td>\n",
       "      <td>0.000000</td>\n",
       "      <td>0.000000</td>\n",
       "      <td>0.000000</td>\n",
       "      <td>19.000000</td>\n",
       "      <td>65.000000</td>\n",
       "      <td>104.000000</td>\n",
       "      <td>181.750000</td>\n",
       "      <td>145.000000</td>\n",
       "      <td>144.000000</td>\n",
       "      <td>152.000000</td>\n",
       "      <td>157.000000</td>\n",
       "      <td>165.000000</td>\n",
       "      <td>159.000000</td>\n",
       "      <td>169.000000</td>\n",
       "      <td>185.000000</td>\n",
       "      <td>203.000000</td>\n",
       "      <td>194.000000</td>\n",
       "      <td>103.000000</td>\n",
       "      <td>75.000000</td>\n",
       "      <td>59.000000</td>\n",
       "      <td>40.000000</td>\n",
       "      <td>19.000000</td>\n",
       "      <td>2.000000</td>\n",
       "    </tr>\n",
       "    <tr>\n",
       "      <th>50%</th>\n",
       "      <td>216.500000</td>\n",
       "      <td>4486.500000</td>\n",
       "      <td>0.000000</td>\n",
       "      <td>0.000000</td>\n",
       "      <td>0.000000</td>\n",
       "      <td>0.000000</td>\n",
       "      <td>45.000000</td>\n",
       "      <td>114.000000</td>\n",
       "      <td>220.000000</td>\n",
       "      <td>379.000000</td>\n",
       "      <td>270.000000</td>\n",
       "      <td>240.000000</td>\n",
       "      <td>248.000000</td>\n",
       "      <td>261.000000</td>\n",
       "      <td>272.000000</td>\n",
       "      <td>263.000000</td>\n",
       "      <td>275.000000</td>\n",
       "      <td>306.000000</td>\n",
       "      <td>360.000000</td>\n",
       "      <td>399.000000</td>\n",
       "      <td>210.000000</td>\n",
       "      <td>148.000000</td>\n",
       "      <td>129.000000</td>\n",
       "      <td>92.000000</td>\n",
       "      <td>43.000000</td>\n",
       "      <td>6.000000</td>\n",
       "    </tr>\n",
       "    <tr>\n",
       "      <th>75%</th>\n",
       "      <td>302.250000</td>\n",
       "      <td>8083.000000</td>\n",
       "      <td>0.000000</td>\n",
       "      <td>0.000000</td>\n",
       "      <td>0.000000</td>\n",
       "      <td>2.000000</td>\n",
       "      <td>89.000000</td>\n",
       "      <td>183.000000</td>\n",
       "      <td>423.000000</td>\n",
       "      <td>703.000000</td>\n",
       "      <td>467.000000</td>\n",
       "      <td>428.000000</td>\n",
       "      <td>445.000000</td>\n",
       "      <td>474.000000</td>\n",
       "      <td>495.000000</td>\n",
       "      <td>487.000000</td>\n",
       "      <td>509.000000</td>\n",
       "      <td>560.000000</td>\n",
       "      <td>649.000000</td>\n",
       "      <td>763.000000</td>\n",
       "      <td>397.000000</td>\n",
       "      <td>270.000000</td>\n",
       "      <td>236.000000</td>\n",
       "      <td>177.000000</td>\n",
       "      <td>84.000000</td>\n",
       "      <td>14.000000</td>\n",
       "    </tr>\n",
       "    <tr>\n",
       "      <th>max</th>\n",
       "      <td>414.000000</td>\n",
       "      <td>42783.000000</td>\n",
       "      <td>62.000000</td>\n",
       "      <td>166.000000</td>\n",
       "      <td>700.000000</td>\n",
       "      <td>633.000000</td>\n",
       "      <td>420.000000</td>\n",
       "      <td>938.000000</td>\n",
       "      <td>1473.000000</td>\n",
       "      <td>4228.000000</td>\n",
       "      <td>3098.000000</td>\n",
       "      <td>2470.000000</td>\n",
       "      <td>4396.000000</td>\n",
       "      <td>5485.000000</td>\n",
       "      <td>5499.000000</td>\n",
       "      <td>5449.000000</td>\n",
       "      <td>5534.000000</td>\n",
       "      <td>3203.000000</td>\n",
       "      <td>3887.000000</td>\n",
       "      <td>5507.000000</td>\n",
       "      <td>2767.000000</td>\n",
       "      <td>2634.000000</td>\n",
       "      <td>2584.000000</td>\n",
       "      <td>2648.000000</td>\n",
       "      <td>1870.000000</td>\n",
       "      <td>178.000000</td>\n",
       "    </tr>\n",
       "  </tbody>\n",
       "</table>\n",
       "</div>"
      ],
      "text/plain": [
       "                역번호            합계  ...       23시-24시       24시-01시\n",
       "count  54432.000000  54432.000000  ...  54432.000000  54432.000000\n",
       "mean     217.696429   6001.938125  ...     62.917604     10.903421\n",
       "std       96.589932   4817.111320  ...     72.383265     14.248733\n",
       "min       95.000000     49.000000  ...      0.000000      0.000000\n",
       "25%      122.750000   2628.000000  ...     19.000000      2.000000\n",
       "50%      216.500000   4486.500000  ...     43.000000      6.000000\n",
       "75%      302.250000   8083.000000  ...     84.000000     14.000000\n",
       "max      414.000000  42783.000000  ...   1870.000000    178.000000\n",
       "\n",
       "[8 rows x 26 columns]"
      ]
     },
     "metadata": {},
     "execution_count": 5
    }
   ]
  },
  {
   "cell_type": "markdown",
   "metadata": {
    "id": "Uk_vt8cybemX"
   },
   "source": [
    "## ■ 문제 1-3. 데이터프레임의 하위 n개 출력\n",
    "주어진 데이터프레임의 하위 n개의 데이터를 출력하여라"
   ]
  },
  {
   "cell_type": "code",
   "metadata": {
    "id": "ulidFWmZbgXI",
    "colab": {
     "base_uri": "https://localhost:8080/",
     "height": 343
    },
    "outputId": "f211d640-7d10-4b59-a0a1-09ef80cf3d98"
   },
   "source": [
    "n=5\n",
    "df.tail(n)"
   ],
   "execution_count": 6,
   "outputs": [
    {
     "output_type": "execute_result",
     "data": {
      "text/html": [
       "<div>\n",
       "<style scoped>\n",
       "    .dataframe tbody tr th:only-of-type {\n",
       "        vertical-align: middle;\n",
       "    }\n",
       "\n",
       "    .dataframe tbody tr th {\n",
       "        vertical-align: top;\n",
       "    }\n",
       "\n",
       "    .dataframe thead th {\n",
       "        text-align: right;\n",
       "    }\n",
       "</style>\n",
       "<table border=\"1\" class=\"dataframe\">\n",
       "  <thead>\n",
       "    <tr style=\"text-align: right;\">\n",
       "      <th></th>\n",
       "      <th>역번호</th>\n",
       "      <th>역명</th>\n",
       "      <th>년월일</th>\n",
       "      <th>구분</th>\n",
       "      <th>합계</th>\n",
       "      <th>01시-02시</th>\n",
       "      <th>02시-03시</th>\n",
       "      <th>03시-04시</th>\n",
       "      <th>04시-05시</th>\n",
       "      <th>05시-06시</th>\n",
       "      <th>06시-07시</th>\n",
       "      <th>07시-08시</th>\n",
       "      <th>08시-09시</th>\n",
       "      <th>09시-10시</th>\n",
       "      <th>10시-11시</th>\n",
       "      <th>11시-12시</th>\n",
       "      <th>12시-13시</th>\n",
       "      <th>13시-14시</th>\n",
       "      <th>14시-15시</th>\n",
       "      <th>15시-16시</th>\n",
       "      <th>16시-17시</th>\n",
       "      <th>17시-18시</th>\n",
       "      <th>18시-19시</th>\n",
       "      <th>19시-20시</th>\n",
       "      <th>20시-21시</th>\n",
       "      <th>21시-22시</th>\n",
       "      <th>22시-23시</th>\n",
       "      <th>23시-24시</th>\n",
       "      <th>24시-01시</th>\n",
       "    </tr>\n",
       "  </thead>\n",
       "  <tbody>\n",
       "    <tr>\n",
       "      <th>54427</th>\n",
       "      <td>414</td>\n",
       "      <td>안  평</td>\n",
       "      <td>2021-08-29</td>\n",
       "      <td>하차</td>\n",
       "      <td>1141</td>\n",
       "      <td>0</td>\n",
       "      <td>0</td>\n",
       "      <td>0</td>\n",
       "      <td>0</td>\n",
       "      <td>1</td>\n",
       "      <td>80</td>\n",
       "      <td>59</td>\n",
       "      <td>65</td>\n",
       "      <td>63</td>\n",
       "      <td>88</td>\n",
       "      <td>76</td>\n",
       "      <td>81</td>\n",
       "      <td>89</td>\n",
       "      <td>66</td>\n",
       "      <td>80</td>\n",
       "      <td>75</td>\n",
       "      <td>94</td>\n",
       "      <td>60</td>\n",
       "      <td>47</td>\n",
       "      <td>44</td>\n",
       "      <td>33</td>\n",
       "      <td>25</td>\n",
       "      <td>10</td>\n",
       "      <td>5</td>\n",
       "    </tr>\n",
       "    <tr>\n",
       "      <th>54428</th>\n",
       "      <td>414</td>\n",
       "      <td>안  평</td>\n",
       "      <td>2021-08-30</td>\n",
       "      <td>승차</td>\n",
       "      <td>1946</td>\n",
       "      <td>0</td>\n",
       "      <td>0</td>\n",
       "      <td>0</td>\n",
       "      <td>4</td>\n",
       "      <td>37</td>\n",
       "      <td>82</td>\n",
       "      <td>194</td>\n",
       "      <td>161</td>\n",
       "      <td>155</td>\n",
       "      <td>127</td>\n",
       "      <td>118</td>\n",
       "      <td>115</td>\n",
       "      <td>128</td>\n",
       "      <td>107</td>\n",
       "      <td>135</td>\n",
       "      <td>130</td>\n",
       "      <td>172</td>\n",
       "      <td>157</td>\n",
       "      <td>59</td>\n",
       "      <td>32</td>\n",
       "      <td>18</td>\n",
       "      <td>13</td>\n",
       "      <td>2</td>\n",
       "      <td>0</td>\n",
       "    </tr>\n",
       "    <tr>\n",
       "      <th>54429</th>\n",
       "      <td>414</td>\n",
       "      <td>안  평</td>\n",
       "      <td>2021-08-30</td>\n",
       "      <td>하차</td>\n",
       "      <td>1892</td>\n",
       "      <td>0</td>\n",
       "      <td>0</td>\n",
       "      <td>0</td>\n",
       "      <td>0</td>\n",
       "      <td>2</td>\n",
       "      <td>102</td>\n",
       "      <td>88</td>\n",
       "      <td>158</td>\n",
       "      <td>89</td>\n",
       "      <td>102</td>\n",
       "      <td>122</td>\n",
       "      <td>105</td>\n",
       "      <td>103</td>\n",
       "      <td>101</td>\n",
       "      <td>128</td>\n",
       "      <td>129</td>\n",
       "      <td>173</td>\n",
       "      <td>195</td>\n",
       "      <td>121</td>\n",
       "      <td>78</td>\n",
       "      <td>41</td>\n",
       "      <td>31</td>\n",
       "      <td>15</td>\n",
       "      <td>9</td>\n",
       "    </tr>\n",
       "    <tr>\n",
       "      <th>54430</th>\n",
       "      <td>414</td>\n",
       "      <td>안  평</td>\n",
       "      <td>2021-08-31</td>\n",
       "      <td>승차</td>\n",
       "      <td>1862</td>\n",
       "      <td>0</td>\n",
       "      <td>0</td>\n",
       "      <td>0</td>\n",
       "      <td>8</td>\n",
       "      <td>38</td>\n",
       "      <td>93</td>\n",
       "      <td>193</td>\n",
       "      <td>176</td>\n",
       "      <td>130</td>\n",
       "      <td>118</td>\n",
       "      <td>107</td>\n",
       "      <td>98</td>\n",
       "      <td>99</td>\n",
       "      <td>134</td>\n",
       "      <td>97</td>\n",
       "      <td>176</td>\n",
       "      <td>168</td>\n",
       "      <td>124</td>\n",
       "      <td>46</td>\n",
       "      <td>29</td>\n",
       "      <td>17</td>\n",
       "      <td>9</td>\n",
       "      <td>2</td>\n",
       "      <td>0</td>\n",
       "    </tr>\n",
       "    <tr>\n",
       "      <th>54431</th>\n",
       "      <td>414</td>\n",
       "      <td>안  평</td>\n",
       "      <td>2021-08-31</td>\n",
       "      <td>하차</td>\n",
       "      <td>1800</td>\n",
       "      <td>0</td>\n",
       "      <td>0</td>\n",
       "      <td>0</td>\n",
       "      <td>0</td>\n",
       "      <td>2</td>\n",
       "      <td>99</td>\n",
       "      <td>86</td>\n",
       "      <td>153</td>\n",
       "      <td>85</td>\n",
       "      <td>84</td>\n",
       "      <td>108</td>\n",
       "      <td>111</td>\n",
       "      <td>108</td>\n",
       "      <td>90</td>\n",
       "      <td>100</td>\n",
       "      <td>106</td>\n",
       "      <td>157</td>\n",
       "      <td>195</td>\n",
       "      <td>116</td>\n",
       "      <td>84</td>\n",
       "      <td>52</td>\n",
       "      <td>42</td>\n",
       "      <td>10</td>\n",
       "      <td>12</td>\n",
       "    </tr>\n",
       "  </tbody>\n",
       "</table>\n",
       "</div>"
      ],
      "text/plain": [
       "       역번호    역명         년월일  구분  ...  21시-22시  22시-23시  23시-24시  24시-01시\n",
       "54427  414  안  평  2021-08-29  하차  ...       33       25       10        5\n",
       "54428  414  안  평  2021-08-30  승차  ...       18       13        2        0\n",
       "54429  414  안  평  2021-08-30  하차  ...       41       31       15        9\n",
       "54430  414  안  평  2021-08-31  승차  ...       17        9        2        0\n",
       "54431  414  안  평  2021-08-31  하차  ...       52       42       10       12\n",
       "\n",
       "[5 rows x 29 columns]"
      ]
     },
     "metadata": {},
     "execution_count": 6
    }
   ]
  },
  {
   "cell_type": "markdown",
   "metadata": {
    "id": "cVVEZdFqbu9B"
   },
   "source": [
    "## ■ 문제 1-4. 데이터프레임 내 특정 필트(COLUMN) 및 특정 레코드(ROW) 선택하기 (2문제)\n",
    "1) 데이터프레임 내 __역번호__,__역명__ ,__구분__,__08시-09시__ 필드만 선택하고\n",
    "2) 위의 데이터에서 30000-39999번째 레코드(총 1만개)만 가져와서 저장할 것\n",
    "\n",
    "변수명은 df_sub 로 저장하시오\n",
    "\n",
    "참고로 30000번째 데이터는 '동의대' 역명을 포함한다\n",
    "\n",
    "```\n",
    "참조: https://pandas.pydata.org/pandas-docs/stable/user_guide/indexing.html\n",
    "```"
   ]
  },
  {
   "cell_type": "code",
   "metadata": {
    "id": "P9eCI6FlcUFq"
   },
   "source": [
    "df_sub=df[['역번호','역명','구분','08시-09시']]"
   ],
   "execution_count": 7,
   "outputs": []
  },
  {
   "cell_type": "code",
   "metadata": {
    "id": "EVuWFhkUcwns"
   },
   "source": [
    "df_sub=df_sub[30000:40000]"
   ],
   "execution_count": 8,
   "outputs": []
  },
  {
   "cell_type": "code",
   "metadata": {
    "id": "K7fY8_Nyc4Ge",
    "colab": {
     "base_uri": "https://localhost:8080/",
     "height": 419
    },
    "outputId": "98e0ad0a-855b-447e-a88c-efd1ca337a76"
   },
   "source": [
    "df_sub"
   ],
   "execution_count": 9,
   "outputs": [
    {
     "output_type": "execute_result",
     "data": {
      "text/html": [
       "<div>\n",
       "<style scoped>\n",
       "    .dataframe tbody tr th:only-of-type {\n",
       "        vertical-align: middle;\n",
       "    }\n",
       "\n",
       "    .dataframe tbody tr th {\n",
       "        vertical-align: top;\n",
       "    }\n",
       "\n",
       "    .dataframe thead th {\n",
       "        text-align: right;\n",
       "    }\n",
       "</style>\n",
       "<table border=\"1\" class=\"dataframe\">\n",
       "  <thead>\n",
       "    <tr style=\"text-align: right;\">\n",
       "      <th></th>\n",
       "      <th>역번호</th>\n",
       "      <th>역명</th>\n",
       "      <th>구분</th>\n",
       "      <th>08시-09시</th>\n",
       "    </tr>\n",
       "  </thead>\n",
       "  <tbody>\n",
       "    <tr>\n",
       "      <th>30000</th>\n",
       "      <td>222</td>\n",
       "      <td>동의대</td>\n",
       "      <td>승차</td>\n",
       "      <td>168</td>\n",
       "    </tr>\n",
       "    <tr>\n",
       "      <th>30001</th>\n",
       "      <td>222</td>\n",
       "      <td>동의대</td>\n",
       "      <td>하차</td>\n",
       "      <td>101</td>\n",
       "    </tr>\n",
       "    <tr>\n",
       "      <th>30002</th>\n",
       "      <td>222</td>\n",
       "      <td>동의대</td>\n",
       "      <td>승차</td>\n",
       "      <td>603</td>\n",
       "    </tr>\n",
       "    <tr>\n",
       "      <th>30003</th>\n",
       "      <td>222</td>\n",
       "      <td>동의대</td>\n",
       "      <td>하차</td>\n",
       "      <td>426</td>\n",
       "    </tr>\n",
       "    <tr>\n",
       "      <th>30004</th>\n",
       "      <td>222</td>\n",
       "      <td>동의대</td>\n",
       "      <td>승차</td>\n",
       "      <td>612</td>\n",
       "    </tr>\n",
       "    <tr>\n",
       "      <th>...</th>\n",
       "      <td>...</td>\n",
       "      <td>...</td>\n",
       "      <td>...</td>\n",
       "      <td>...</td>\n",
       "    </tr>\n",
       "    <tr>\n",
       "      <th>39995</th>\n",
       "      <td>243</td>\n",
       "      <td>양  산</td>\n",
       "      <td>하차</td>\n",
       "      <td>223</td>\n",
       "    </tr>\n",
       "    <tr>\n",
       "      <th>39996</th>\n",
       "      <td>243</td>\n",
       "      <td>양  산</td>\n",
       "      <td>승차</td>\n",
       "      <td>155</td>\n",
       "    </tr>\n",
       "    <tr>\n",
       "      <th>39997</th>\n",
       "      <td>243</td>\n",
       "      <td>양  산</td>\n",
       "      <td>하차</td>\n",
       "      <td>142</td>\n",
       "    </tr>\n",
       "    <tr>\n",
       "      <th>39998</th>\n",
       "      <td>243</td>\n",
       "      <td>양  산</td>\n",
       "      <td>승차</td>\n",
       "      <td>503</td>\n",
       "    </tr>\n",
       "    <tr>\n",
       "      <th>39999</th>\n",
       "      <td>243</td>\n",
       "      <td>양  산</td>\n",
       "      <td>하차</td>\n",
       "      <td>446</td>\n",
       "    </tr>\n",
       "  </tbody>\n",
       "</table>\n",
       "<p>10000 rows × 4 columns</p>\n",
       "</div>"
      ],
      "text/plain": [
       "       역번호    역명  구분  08시-09시\n",
       "30000  222   동의대  승차      168\n",
       "30001  222   동의대  하차      101\n",
       "30002  222   동의대  승차      603\n",
       "30003  222   동의대  하차      426\n",
       "30004  222   동의대  승차      612\n",
       "...    ...   ...  ..      ...\n",
       "39995  243  양  산  하차      223\n",
       "39996  243  양  산  승차      155\n",
       "39997  243  양  산  하차      142\n",
       "39998  243  양  산  승차      503\n",
       "39999  243  양  산  하차      446\n",
       "\n",
       "[10000 rows x 4 columns]"
      ]
     },
     "metadata": {},
     "execution_count": 9
    }
   ]
  },
  {
   "cell_type": "markdown",
   "metadata": {
    "id": "9Iqn7yjMdCHJ"
   },
   "source": [
    "## ■ 문제 1-5. 데이터프레임의 특정 필드에 따른 그룹화 및 평균 구하기\n",
    "df_sub에서 승하차의 구분에 따른 평균을 구하여라.\n",
    "df_sub에 재저장할 필요없으며, 계산된 역번호는 무시해도 된다 \n",
    "\n",
    "```\n",
    "참고: https://pandas.pydata.org/docs/reference/api/pandas.DataFrame.groupby.html\n",
    "```"
   ]
  },
  {
   "cell_type": "code",
   "metadata": {
    "id": "Qh6s-6Y9dCz9",
    "colab": {
     "base_uri": "https://localhost:8080/",
     "height": 142
    },
    "outputId": "a1cbb37f-713f-4b24-848c-ba938e8f94ef"
   },
   "source": [
    "df_sub.groupby(['구분'],as_index=True).mean()"
   ],
   "execution_count": 10,
   "outputs": [
    {
     "output_type": "execute_result",
     "data": {
      "text/html": [
       "<div>\n",
       "<style scoped>\n",
       "    .dataframe tbody tr th:only-of-type {\n",
       "        vertical-align: middle;\n",
       "    }\n",
       "\n",
       "    .dataframe tbody tr th {\n",
       "        vertical-align: top;\n",
       "    }\n",
       "\n",
       "    .dataframe thead th {\n",
       "        text-align: right;\n",
       "    }\n",
       "</style>\n",
       "<table border=\"1\" class=\"dataframe\">\n",
       "  <thead>\n",
       "    <tr style=\"text-align: right;\">\n",
       "      <th></th>\n",
       "      <th>역번호</th>\n",
       "      <th>08시-09시</th>\n",
       "    </tr>\n",
       "    <tr>\n",
       "      <th>구분</th>\n",
       "      <th></th>\n",
       "      <th></th>\n",
       "    </tr>\n",
       "  </thead>\n",
       "  <tbody>\n",
       "    <tr>\n",
       "      <th>승차</th>\n",
       "      <td>232.5168</td>\n",
       "      <td>401.4302</td>\n",
       "    </tr>\n",
       "    <tr>\n",
       "      <th>하차</th>\n",
       "      <td>232.5168</td>\n",
       "      <td>385.2460</td>\n",
       "    </tr>\n",
       "  </tbody>\n",
       "</table>\n",
       "</div>"
      ],
      "text/plain": [
       "         역번호   08시-09시\n",
       "구분                    \n",
       "승차  232.5168  401.4302\n",
       "하차  232.5168  385.2460"
      ]
     },
     "metadata": {},
     "execution_count": 10
    }
   ]
  },
  {
   "cell_type": "markdown",
   "metadata": {
    "id": "LQjfF6pVeOue"
   },
   "source": [
    "## ■ 문제 1-6 데이터프레임의 그룹함수 적용하기(최대, 최소, 평균 등)\n",
    "승하차 중 최소/최대 인원을 갖는 데이터 구하기\n",
    "\n",
    "최소: 1동래역이 최소인원 1명이다\n",
    "\n",
    "최대: 화 명역은 08-09시에 4228명이 하차한다.\n",
    "\n",
    "```\n",
    "DataFrame을 데이터 그룹화 시키기 함수: groupby()\n",
    "- Series의 데이터 그룹화 : 특정열 인덱싱.groupby(기준열 인덱싱)\n",
    "- DataFrame의 데이터 그룹화 : df.groupby(\"기준이 될 컬럼명\")를 통해 특정열이 아닌, df의 모든 열에 대해 계산\n",
    "ex) grouped = df['index'].groupby(df['key']) = df['index']를 df['key']기준으로 데이터 그룹화시키고 그 결과를 grouped에 저장 \n",
    "추가적으로, grouped.mean()을 적용하여 평균을 구할 수 있다.\n",
    "```"
   ]
  },
  {
   "cell_type": "code",
   "metadata": {
    "id": "lcVxBtpIfXYT"
   },
   "source": [
    "grouped=df[['역번호','역명','구분','08시-09시']].groupby(['구분'])\n",
    "# grouped=df.groupby(['구분'])"
   ],
   "execution_count": 11,
   "outputs": []
  },
  {
   "cell_type": "code",
   "metadata": {
    "id": "6ZhiAb65f7VW",
    "colab": {
     "base_uri": "https://localhost:8080/",
     "height": 142
    },
    "outputId": "0c27b842-e2bc-4e62-95de-bf22cb9431ab"
   },
   "source": [
    "grouped.min()"
   ],
   "execution_count": 12,
   "outputs": [
    {
     "output_type": "execute_result",
     "data": {
      "text/html": [
       "<div>\n",
       "<style scoped>\n",
       "    .dataframe tbody tr th:only-of-type {\n",
       "        vertical-align: middle;\n",
       "    }\n",
       "\n",
       "    .dataframe tbody tr th {\n",
       "        vertical-align: top;\n",
       "    }\n",
       "\n",
       "    .dataframe thead th {\n",
       "        text-align: right;\n",
       "    }\n",
       "</style>\n",
       "<table border=\"1\" class=\"dataframe\">\n",
       "  <thead>\n",
       "    <tr style=\"text-align: right;\">\n",
       "      <th></th>\n",
       "      <th>역번호</th>\n",
       "      <th>역명</th>\n",
       "      <th>08시-09시</th>\n",
       "    </tr>\n",
       "    <tr>\n",
       "      <th>구분</th>\n",
       "      <th></th>\n",
       "      <th></th>\n",
       "      <th></th>\n",
       "    </tr>\n",
       "  </thead>\n",
       "  <tbody>\n",
       "    <tr>\n",
       "      <th>승차</th>\n",
       "      <td>95</td>\n",
       "      <td>1동래</td>\n",
       "      <td>1</td>\n",
       "    </tr>\n",
       "    <tr>\n",
       "      <th>하차</th>\n",
       "      <td>95</td>\n",
       "      <td>1동래</td>\n",
       "      <td>1</td>\n",
       "    </tr>\n",
       "  </tbody>\n",
       "</table>\n",
       "</div>"
      ],
      "text/plain": [
       "    역번호   역명  08시-09시\n",
       "구분                   \n",
       "승차   95  1동래        1\n",
       "하차   95  1동래        1"
      ]
     },
     "metadata": {},
     "execution_count": 12
    }
   ]
  },
  {
   "cell_type": "code",
   "metadata": {
    "id": "VtgzpuDngB-P",
    "colab": {
     "base_uri": "https://localhost:8080/",
     "height": 142
    },
    "outputId": "d4c183e3-97d0-4202-e3fd-ee0dcb8b2440"
   },
   "source": [
    "grouped.max()"
   ],
   "execution_count": 13,
   "outputs": [
    {
     "output_type": "execute_result",
     "data": {
      "text/html": [
       "<div>\n",
       "<style scoped>\n",
       "    .dataframe tbody tr th:only-of-type {\n",
       "        vertical-align: middle;\n",
       "    }\n",
       "\n",
       "    .dataframe tbody tr th {\n",
       "        vertical-align: top;\n",
       "    }\n",
       "\n",
       "    .dataframe thead th {\n",
       "        text-align: right;\n",
       "    }\n",
       "</style>\n",
       "<table border=\"1\" class=\"dataframe\">\n",
       "  <thead>\n",
       "    <tr style=\"text-align: right;\">\n",
       "      <th></th>\n",
       "      <th>역번호</th>\n",
       "      <th>역명</th>\n",
       "      <th>08시-09시</th>\n",
       "    </tr>\n",
       "    <tr>\n",
       "      <th>구분</th>\n",
       "      <th></th>\n",
       "      <th></th>\n",
       "      <th></th>\n",
       "    </tr>\n",
       "  </thead>\n",
       "  <tbody>\n",
       "    <tr>\n",
       "      <th>승차</th>\n",
       "      <td>414</td>\n",
       "      <td>화  명</td>\n",
       "      <td>2285</td>\n",
       "    </tr>\n",
       "    <tr>\n",
       "      <th>하차</th>\n",
       "      <td>414</td>\n",
       "      <td>화  명</td>\n",
       "      <td>4228</td>\n",
       "    </tr>\n",
       "  </tbody>\n",
       "</table>\n",
       "</div>"
      ],
      "text/plain": [
       "    역번호    역명  08시-09시\n",
       "구분                    \n",
       "승차  414  화  명     2285\n",
       "하차  414  화  명     4228"
      ]
     },
     "metadata": {},
     "execution_count": 13
    }
   ]
  },
  {
   "cell_type": "markdown",
   "metadata": {
    "id": "y7Qr0cjoiNPQ"
   },
   "source": [
    "## ■ 문제 1-7 데이터프레임의 특정 값을 필터링 하기\n",
    "df 데이터프레임으로부터 하단역(102)에 대한 승하차정보만 갖도록 필터링 하시오\n",
    "\n",
    "꼭 역번호(102)로 검색하시고, df_hadan 으로 저장하면됩니다\n",
    "\n",
    "df_hadan의 shape는 486 rows × 29 columns 입니다\n",
    "\n",
    "```\n",
    "특정 컬럼값을 만족하는 데이터프레임을 출력하기\n",
    "df.loc[df['column_name'] == some_value]\n",
    "\n",
    "```"
   ]
  },
  {
   "cell_type": "code",
   "metadata": {
    "id": "po8cTEEViPlz"
   },
   "source": [
    "df_hadan=df.loc[df['역번호']==102]"
   ],
   "execution_count": 14,
   "outputs": []
  },
  {
   "cell_type": "code",
   "metadata": {
    "id": "PGvfXT2dior2",
    "colab": {
     "base_uri": "https://localhost:8080/",
     "height": 643
    },
    "outputId": "b4f41270-669a-4e4a-d18c-09cf4c941719"
   },
   "source": [
    "df_hadan"
   ],
   "execution_count": 15,
   "outputs": [
    {
     "output_type": "execute_result",
     "data": {
      "text/html": [
       "<div>\n",
       "<style scoped>\n",
       "    .dataframe tbody tr th:only-of-type {\n",
       "        vertical-align: middle;\n",
       "    }\n",
       "\n",
       "    .dataframe tbody tr th {\n",
       "        vertical-align: top;\n",
       "    }\n",
       "\n",
       "    .dataframe thead th {\n",
       "        text-align: right;\n",
       "    }\n",
       "</style>\n",
       "<table border=\"1\" class=\"dataframe\">\n",
       "  <thead>\n",
       "    <tr style=\"text-align: right;\">\n",
       "      <th></th>\n",
       "      <th>역번호</th>\n",
       "      <th>역명</th>\n",
       "      <th>년월일</th>\n",
       "      <th>구분</th>\n",
       "      <th>합계</th>\n",
       "      <th>01시-02시</th>\n",
       "      <th>02시-03시</th>\n",
       "      <th>03시-04시</th>\n",
       "      <th>04시-05시</th>\n",
       "      <th>05시-06시</th>\n",
       "      <th>06시-07시</th>\n",
       "      <th>07시-08시</th>\n",
       "      <th>08시-09시</th>\n",
       "      <th>09시-10시</th>\n",
       "      <th>10시-11시</th>\n",
       "      <th>11시-12시</th>\n",
       "      <th>12시-13시</th>\n",
       "      <th>13시-14시</th>\n",
       "      <th>14시-15시</th>\n",
       "      <th>15시-16시</th>\n",
       "      <th>16시-17시</th>\n",
       "      <th>17시-18시</th>\n",
       "      <th>18시-19시</th>\n",
       "      <th>19시-20시</th>\n",
       "      <th>20시-21시</th>\n",
       "      <th>21시-22시</th>\n",
       "      <th>22시-23시</th>\n",
       "      <th>23시-24시</th>\n",
       "      <th>24시-01시</th>\n",
       "    </tr>\n",
       "  </thead>\n",
       "  <tbody>\n",
       "    <tr>\n",
       "      <th>3402</th>\n",
       "      <td>102</td>\n",
       "      <td>하  단</td>\n",
       "      <td>2021-01-01</td>\n",
       "      <td>승차</td>\n",
       "      <td>5351</td>\n",
       "      <td>0</td>\n",
       "      <td>0</td>\n",
       "      <td>0</td>\n",
       "      <td>14</td>\n",
       "      <td>44</td>\n",
       "      <td>129</td>\n",
       "      <td>156</td>\n",
       "      <td>226</td>\n",
       "      <td>258</td>\n",
       "      <td>251</td>\n",
       "      <td>292</td>\n",
       "      <td>356</td>\n",
       "      <td>449</td>\n",
       "      <td>403</td>\n",
       "      <td>459</td>\n",
       "      <td>489</td>\n",
       "      <td>479</td>\n",
       "      <td>336</td>\n",
       "      <td>292</td>\n",
       "      <td>284</td>\n",
       "      <td>268</td>\n",
       "      <td>124</td>\n",
       "      <td>36</td>\n",
       "      <td>6</td>\n",
       "    </tr>\n",
       "    <tr>\n",
       "      <th>3403</th>\n",
       "      <td>102</td>\n",
       "      <td>하  단</td>\n",
       "      <td>2021-01-01</td>\n",
       "      <td>하차</td>\n",
       "      <td>5079</td>\n",
       "      <td>0</td>\n",
       "      <td>0</td>\n",
       "      <td>0</td>\n",
       "      <td>2</td>\n",
       "      <td>20</td>\n",
       "      <td>147</td>\n",
       "      <td>166</td>\n",
       "      <td>236</td>\n",
       "      <td>230</td>\n",
       "      <td>241</td>\n",
       "      <td>297</td>\n",
       "      <td>315</td>\n",
       "      <td>332</td>\n",
       "      <td>376</td>\n",
       "      <td>429</td>\n",
       "      <td>438</td>\n",
       "      <td>469</td>\n",
       "      <td>402</td>\n",
       "      <td>251</td>\n",
       "      <td>231</td>\n",
       "      <td>252</td>\n",
       "      <td>140</td>\n",
       "      <td>82</td>\n",
       "      <td>23</td>\n",
       "    </tr>\n",
       "    <tr>\n",
       "      <th>3404</th>\n",
       "      <td>102</td>\n",
       "      <td>하  단</td>\n",
       "      <td>2021-01-02</td>\n",
       "      <td>승차</td>\n",
       "      <td>8208</td>\n",
       "      <td>0</td>\n",
       "      <td>0</td>\n",
       "      <td>0</td>\n",
       "      <td>12</td>\n",
       "      <td>70</td>\n",
       "      <td>128</td>\n",
       "      <td>249</td>\n",
       "      <td>356</td>\n",
       "      <td>405</td>\n",
       "      <td>530</td>\n",
       "      <td>547</td>\n",
       "      <td>715</td>\n",
       "      <td>765</td>\n",
       "      <td>727</td>\n",
       "      <td>638</td>\n",
       "      <td>724</td>\n",
       "      <td>679</td>\n",
       "      <td>486</td>\n",
       "      <td>322</td>\n",
       "      <td>366</td>\n",
       "      <td>289</td>\n",
       "      <td>135</td>\n",
       "      <td>55</td>\n",
       "      <td>10</td>\n",
       "    </tr>\n",
       "    <tr>\n",
       "      <th>3405</th>\n",
       "      <td>102</td>\n",
       "      <td>하  단</td>\n",
       "      <td>2021-01-02</td>\n",
       "      <td>하차</td>\n",
       "      <td>7678</td>\n",
       "      <td>0</td>\n",
       "      <td>0</td>\n",
       "      <td>0</td>\n",
       "      <td>1</td>\n",
       "      <td>29</td>\n",
       "      <td>241</td>\n",
       "      <td>298</td>\n",
       "      <td>413</td>\n",
       "      <td>434</td>\n",
       "      <td>482</td>\n",
       "      <td>522</td>\n",
       "      <td>561</td>\n",
       "      <td>599</td>\n",
       "      <td>602</td>\n",
       "      <td>566</td>\n",
       "      <td>550</td>\n",
       "      <td>632</td>\n",
       "      <td>585</td>\n",
       "      <td>275</td>\n",
       "      <td>275</td>\n",
       "      <td>341</td>\n",
       "      <td>155</td>\n",
       "      <td>87</td>\n",
       "      <td>30</td>\n",
       "    </tr>\n",
       "    <tr>\n",
       "      <th>3406</th>\n",
       "      <td>102</td>\n",
       "      <td>하  단</td>\n",
       "      <td>2021-01-03</td>\n",
       "      <td>승차</td>\n",
       "      <td>5683</td>\n",
       "      <td>0</td>\n",
       "      <td>0</td>\n",
       "      <td>0</td>\n",
       "      <td>19</td>\n",
       "      <td>51</td>\n",
       "      <td>82</td>\n",
       "      <td>143</td>\n",
       "      <td>214</td>\n",
       "      <td>259</td>\n",
       "      <td>306</td>\n",
       "      <td>326</td>\n",
       "      <td>390</td>\n",
       "      <td>459</td>\n",
       "      <td>500</td>\n",
       "      <td>499</td>\n",
       "      <td>532</td>\n",
       "      <td>510</td>\n",
       "      <td>394</td>\n",
       "      <td>272</td>\n",
       "      <td>300</td>\n",
       "      <td>297</td>\n",
       "      <td>102</td>\n",
       "      <td>23</td>\n",
       "      <td>5</td>\n",
       "    </tr>\n",
       "    <tr>\n",
       "      <th>...</th>\n",
       "      <td>...</td>\n",
       "      <td>...</td>\n",
       "      <td>...</td>\n",
       "      <td>...</td>\n",
       "      <td>...</td>\n",
       "      <td>...</td>\n",
       "      <td>...</td>\n",
       "      <td>...</td>\n",
       "      <td>...</td>\n",
       "      <td>...</td>\n",
       "      <td>...</td>\n",
       "      <td>...</td>\n",
       "      <td>...</td>\n",
       "      <td>...</td>\n",
       "      <td>...</td>\n",
       "      <td>...</td>\n",
       "      <td>...</td>\n",
       "      <td>...</td>\n",
       "      <td>...</td>\n",
       "      <td>...</td>\n",
       "      <td>...</td>\n",
       "      <td>...</td>\n",
       "      <td>...</td>\n",
       "      <td>...</td>\n",
       "      <td>...</td>\n",
       "      <td>...</td>\n",
       "      <td>...</td>\n",
       "      <td>...</td>\n",
       "      <td>...</td>\n",
       "    </tr>\n",
       "    <tr>\n",
       "      <th>3883</th>\n",
       "      <td>102</td>\n",
       "      <td>하  단</td>\n",
       "      <td>2021-08-29</td>\n",
       "      <td>하차</td>\n",
       "      <td>7949</td>\n",
       "      <td>0</td>\n",
       "      <td>6</td>\n",
       "      <td>0</td>\n",
       "      <td>0</td>\n",
       "      <td>41</td>\n",
       "      <td>232</td>\n",
       "      <td>242</td>\n",
       "      <td>326</td>\n",
       "      <td>420</td>\n",
       "      <td>426</td>\n",
       "      <td>480</td>\n",
       "      <td>520</td>\n",
       "      <td>508</td>\n",
       "      <td>552</td>\n",
       "      <td>628</td>\n",
       "      <td>691</td>\n",
       "      <td>604</td>\n",
       "      <td>615</td>\n",
       "      <td>452</td>\n",
       "      <td>417</td>\n",
       "      <td>422</td>\n",
       "      <td>215</td>\n",
       "      <td>122</td>\n",
       "      <td>30</td>\n",
       "    </tr>\n",
       "    <tr>\n",
       "      <th>3884</th>\n",
       "      <td>102</td>\n",
       "      <td>하  단</td>\n",
       "      <td>2021-08-30</td>\n",
       "      <td>승차</td>\n",
       "      <td>16281</td>\n",
       "      <td>0</td>\n",
       "      <td>0</td>\n",
       "      <td>0</td>\n",
       "      <td>21</td>\n",
       "      <td>138</td>\n",
       "      <td>472</td>\n",
       "      <td>1299</td>\n",
       "      <td>1552</td>\n",
       "      <td>913</td>\n",
       "      <td>869</td>\n",
       "      <td>896</td>\n",
       "      <td>841</td>\n",
       "      <td>870</td>\n",
       "      <td>896</td>\n",
       "      <td>913</td>\n",
       "      <td>1059</td>\n",
       "      <td>1508</td>\n",
       "      <td>1647</td>\n",
       "      <td>904</td>\n",
       "      <td>733</td>\n",
       "      <td>506</td>\n",
       "      <td>207</td>\n",
       "      <td>36</td>\n",
       "      <td>1</td>\n",
       "    </tr>\n",
       "    <tr>\n",
       "      <th>3885</th>\n",
       "      <td>102</td>\n",
       "      <td>하  단</td>\n",
       "      <td>2021-08-30</td>\n",
       "      <td>하차</td>\n",
       "      <td>14578</td>\n",
       "      <td>0</td>\n",
       "      <td>0</td>\n",
       "      <td>0</td>\n",
       "      <td>0</td>\n",
       "      <td>62</td>\n",
       "      <td>811</td>\n",
       "      <td>1278</td>\n",
       "      <td>1231</td>\n",
       "      <td>799</td>\n",
       "      <td>743</td>\n",
       "      <td>687</td>\n",
       "      <td>738</td>\n",
       "      <td>840</td>\n",
       "      <td>847</td>\n",
       "      <td>874</td>\n",
       "      <td>1024</td>\n",
       "      <td>1161</td>\n",
       "      <td>1479</td>\n",
       "      <td>768</td>\n",
       "      <td>437</td>\n",
       "      <td>374</td>\n",
       "      <td>256</td>\n",
       "      <td>140</td>\n",
       "      <td>29</td>\n",
       "    </tr>\n",
       "    <tr>\n",
       "      <th>3886</th>\n",
       "      <td>102</td>\n",
       "      <td>하  단</td>\n",
       "      <td>2021-08-31</td>\n",
       "      <td>승차</td>\n",
       "      <td>16087</td>\n",
       "      <td>0</td>\n",
       "      <td>12</td>\n",
       "      <td>10</td>\n",
       "      <td>33</td>\n",
       "      <td>122</td>\n",
       "      <td>428</td>\n",
       "      <td>1312</td>\n",
       "      <td>1592</td>\n",
       "      <td>947</td>\n",
       "      <td>851</td>\n",
       "      <td>759</td>\n",
       "      <td>858</td>\n",
       "      <td>839</td>\n",
       "      <td>811</td>\n",
       "      <td>840</td>\n",
       "      <td>1063</td>\n",
       "      <td>1506</td>\n",
       "      <td>1653</td>\n",
       "      <td>920</td>\n",
       "      <td>688</td>\n",
       "      <td>538</td>\n",
       "      <td>237</td>\n",
       "      <td>65</td>\n",
       "      <td>3</td>\n",
       "    </tr>\n",
       "    <tr>\n",
       "      <th>3887</th>\n",
       "      <td>102</td>\n",
       "      <td>하  단</td>\n",
       "      <td>2021-08-31</td>\n",
       "      <td>하차</td>\n",
       "      <td>14508</td>\n",
       "      <td>2</td>\n",
       "      <td>7</td>\n",
       "      <td>9</td>\n",
       "      <td>1</td>\n",
       "      <td>70</td>\n",
       "      <td>815</td>\n",
       "      <td>1223</td>\n",
       "      <td>1270</td>\n",
       "      <td>834</td>\n",
       "      <td>684</td>\n",
       "      <td>678</td>\n",
       "      <td>707</td>\n",
       "      <td>816</td>\n",
       "      <td>770</td>\n",
       "      <td>797</td>\n",
       "      <td>963</td>\n",
       "      <td>1185</td>\n",
       "      <td>1556</td>\n",
       "      <td>838</td>\n",
       "      <td>397</td>\n",
       "      <td>450</td>\n",
       "      <td>283</td>\n",
       "      <td>123</td>\n",
       "      <td>30</td>\n",
       "    </tr>\n",
       "  </tbody>\n",
       "</table>\n",
       "<p>486 rows × 29 columns</p>\n",
       "</div>"
      ],
      "text/plain": [
       "      역번호    역명         년월일  구분  ...  21시-22시  22시-23시  23시-24시  24시-01시\n",
       "3402  102  하  단  2021-01-01  승차  ...      268      124       36        6\n",
       "3403  102  하  단  2021-01-01  하차  ...      252      140       82       23\n",
       "3404  102  하  단  2021-01-02  승차  ...      289      135       55       10\n",
       "3405  102  하  단  2021-01-02  하차  ...      341      155       87       30\n",
       "3406  102  하  단  2021-01-03  승차  ...      297      102       23        5\n",
       "...   ...   ...         ...  ..  ...      ...      ...      ...      ...\n",
       "3883  102  하  단  2021-08-29  하차  ...      422      215      122       30\n",
       "3884  102  하  단  2021-08-30  승차  ...      506      207       36        1\n",
       "3885  102  하  단  2021-08-30  하차  ...      374      256      140       29\n",
       "3886  102  하  단  2021-08-31  승차  ...      538      237       65        3\n",
       "3887  102  하  단  2021-08-31  하차  ...      450      283      123       30\n",
       "\n",
       "[486 rows x 29 columns]"
      ]
     },
     "metadata": {},
     "execution_count": 15
    }
   ]
  },
  {
   "cell_type": "markdown",
   "metadata": {
    "id": "-NQ6GlAKkmOo"
   },
   "source": [
    "## ■ 문제 1-8 실제 데이터값에 기반한 서브데이터 추출(Boolean indexing)\n",
    "두 가지 이상의 필터를 혼합하여 8-9시와 18시-19시에 각각 1000명이상, 2000이상 데이터만 추출하시오. \n",
    "\n",
    "참고로 __승차__한 데이터만 29건이 발생합니다.\n",
    "\n",
    "```\n",
    "cond_A = (df['column_name'] > 1000)\n",
    "cond_B = (df['column_name'] > 2000)\n",
    "df_hadan_sub1 = df_hadan.loc [cond_A & cond_B]"
   ]
  },
  {
   "cell_type": "code",
   "metadata": {
    "id": "7yncDB-mknyj"
   },
   "source": [
    "cond_A = (df['08시-09시'] > 1000)\n",
    "cond_B = (df['18시-19시'] > 2000)\n",
    "df_hadan_sub1 = df_hadan.loc [cond_A & cond_B]"
   ],
   "execution_count": 16,
   "outputs": []
  },
  {
   "cell_type": "code",
   "metadata": {
    "id": "-NFb5M7UlbyE",
    "colab": {
     "base_uri": "https://localhost:8080/"
    },
    "outputId": "73af4895-e3ac-4d23-a5e8-65256a7bbac1"
   },
   "source": [
    "df_hadan_sub1.shape"
   ],
   "execution_count": 17,
   "outputs": [
    {
     "output_type": "execute_result",
     "data": {
      "text/plain": [
       "(29, 29)"
      ]
     },
     "metadata": {},
     "execution_count": 17
    }
   ]
  },
  {
   "cell_type": "markdown",
   "metadata": {
    "id": "4u0gm0W0Mo7g"
   },
   "source": [
    "# HW2. 논리식(Logic expression)에 대한 라이브러리 사용 및 Matplotlib를 사용한 데이터 시각화\n",
    "\n",
    "pyprover는 first-order predicate logic에 대한 증명을 파이썬 라이브러리 입니다. 슬라이드 33페이지에 있는 추론에 대해서 설명합니다.\n",
    "Matplotlib은 주로 2D 그래프 차트를 위한 패키지로, 출판물 수준의 그래프를 만들어내도록 지원합니다. pdf, svg, jpg 등의 벡터 및 레스터 포맷으로 출력이 가능합니다"
   ]
  },
  {
   "cell_type": "code",
   "metadata": {
    "id": "-9Cx1MU4cKo_",
    "colab": {
     "base_uri": "https://localhost:8080/"
    },
    "outputId": "31b5c6f8-fb21-416f-fac6-8c0515401b32"
   },
   "source": [
    "!pip install pyprover\n",
    "from pyprover import *"
   ],
   "execution_count": 18,
   "outputs": [
    {
     "output_type": "stream",
     "name": "stdout",
     "text": [
      "Requirement already satisfied: pyprover in /usr/local/lib/python3.7/dist-packages (0.5.6)\n",
      "Requirement already satisfied: pyparsing in /usr/local/lib/python3.7/dist-packages (from pyprover) (2.4.7)\n",
      "\u001B[33mWARNING: Running pip as the 'root' user can result in broken permissions and conflicting behaviour with the system package manager. It is recommended to use a virtual environment instead: https://pip.pypa.io/warnings/venv\u001B[0m\n"
     ]
    }
   ]
  },
  {
   "cell_type": "markdown",
   "metadata": {
    "id": "MbMICNXOi8u6"
   },
   "source": [
    "## ■ 문제 2-1. 전건 긍정 modus ponens"
   ]
  },
  {
   "cell_type": "code",
   "metadata": {
    "id": "CH2hUivsi7bw",
    "colab": {
     "base_uri": "https://localhost:8080/"
    },
    "outputId": "a523b162-b996-486d-cba8-9ac68a172865"
   },
   "source": [
    "given=P&(P>>Q) # [P AND (P -> Q) ]->Q\n",
    "conclu=Q\n",
    "result=proves(given,conclu)\n",
    "print(result)"
   ],
   "execution_count": 19,
   "outputs": [
    {
     "output_type": "stream",
     "name": "stdout",
     "text": [
      "True\n"
     ]
    }
   ]
  },
  {
   "cell_type": "markdown",
   "metadata": {
    "id": "AtrDKiX_nbO0"
   },
   "source": [
    "## ■ 문제 2-2. 가언 삼단 논법 hypothetical syllogism"
   ]
  },
  {
   "cell_type": "code",
   "metadata": {
    "id": "gn4-4gXNnk-I",
    "colab": {
     "base_uri": "https://localhost:8080/"
    },
    "outputId": "4481b7e3-b8a1-4fa9-f2ca-94ff6bc45b92"
   },
   "source": [
    "# 가언삼단 논법 P이면 Q이다\n",
    "# Q이면 R이다\n",
    "# 따라서 P이면 R이다.\n",
    "# [(P->Q) & (Q->R) ]-> P->R\n",
    "\n",
    "given=(P>>Q&Q>>R)\n",
    "conclusion=P>>R\n",
    "result=proves(given,conclusion)\n",
    "print(result)"
   ],
   "execution_count": 20,
   "outputs": [
    {
     "output_type": "stream",
     "name": "stdout",
     "text": [
      "True\n"
     ]
    }
   ]
  },
  {
   "cell_type": "markdown",
   "metadata": {
    "id": "m_387oR3neoe"
   },
   "source": [
    "## ■ 문제 2-3. 술어 논리 predicate logic\n",
    "TE는 Exist(∃x)를 의미하고 FA는 ForAll(∀x)를 의미하는 한정자이다. 이 한정자를 predicate logic(술어 로직)와 함께 사용하는 예제를 살펴보자. (본 예제는 실행하기만 하면 됩니다)\n",
    "```\n",
    "Statement: Not all students like homework\n",
    "Negation: There is at leat one student who does not like homework\n",
    "```"
   ]
  },
  {
   "cell_type": "code",
   "metadata": {
    "id": "jR0kR5f-ogZ8",
    "colab": {
     "base_uri": "https://localhost:8080/"
    },
    "outputId": "305bec14-e9ba-49e8-dee9-05672135d2f2"
   },
   "source": [
    "# x: students, P: isHomeworkLikable(x)\n",
    "given = ~(FA(x, P(x))) # Not all students like homework\n",
    "conclu = TE(x, ~P(x)) # There is at least one student who does not like homework\n",
    "print(\"true\") if proves( given, conclu ) else print(\"false\")"
   ],
   "execution_count": 21,
   "outputs": [
    {
     "output_type": "stream",
     "name": "stdout",
     "text": [
      "true\n"
     ]
    }
   ]
  },
  {
   "cell_type": "markdown",
   "metadata": {
    "id": "6jO15gsRpPQe"
   },
   "source": [
    "Matplotlib 를 사용하기\n",
    "Matplotlib는 그래프 차트등을 표현하는 저수준 라이브러리이다. 좀더 진보된 라이브러리를 원한다면, seaborn 등을 참고하면 좋다."
   ]
  },
  {
   "cell_type": "code",
   "metadata": {
    "colab": {
     "base_uri": "https://localhost:8080/"
    },
    "id": "t0Dp0CB1o5z9",
    "outputId": "b6a0f4f8-51dc-4127-8f9b-2fb6f82e4d33"
   },
   "source": [
    "# Matplotlib 기본설정\n",
    "!pip install -U pip\n",
    "!pip install -U matplotlib\n",
    "\n",
    "import matplotlib.pyplot as plt\n",
    "import numpy as np\n",
    "\n",
    "plt.rc('font', family='NanumBarunGothic')\n",
    "!sudo apt-get install -y fonts-nanum\n",
    "!sudo fc-cache -fv\n",
    "!rm ~/.cache/matplotlib -rf"
   ],
   "execution_count": 22,
   "outputs": [
    {
     "output_type": "stream",
     "name": "stdout",
     "text": [
      "Requirement already satisfied: pip in /usr/local/lib/python3.7/dist-packages (21.2.4)\n",
      "\u001B[33mWARNING: Running pip as the 'root' user can result in broken permissions and conflicting behaviour with the system package manager. It is recommended to use a virtual environment instead: https://pip.pypa.io/warnings/venv\u001B[0m\n",
      "Requirement already satisfied: matplotlib in /usr/local/lib/python3.7/dist-packages (3.4.3)\n",
      "Requirement already satisfied: kiwisolver>=1.0.1 in /usr/local/lib/python3.7/dist-packages (from matplotlib) (1.3.2)\n",
      "Requirement already satisfied: cycler>=0.10 in /usr/local/lib/python3.7/dist-packages (from matplotlib) (0.10.0)\n",
      "Requirement already satisfied: pyparsing>=2.2.1 in /usr/local/lib/python3.7/dist-packages (from matplotlib) (2.4.7)\n",
      "Requirement already satisfied: pillow>=6.2.0 in /usr/local/lib/python3.7/dist-packages (from matplotlib) (7.1.2)\n",
      "Requirement already satisfied: python-dateutil>=2.7 in /usr/local/lib/python3.7/dist-packages (from matplotlib) (2.8.2)\n",
      "Requirement already satisfied: numpy>=1.16 in /usr/local/lib/python3.7/dist-packages (from matplotlib) (1.19.5)\n",
      "Requirement already satisfied: six in /usr/local/lib/python3.7/dist-packages (from cycler>=0.10->matplotlib) (1.15.0)\n",
      "\u001B[33mWARNING: Running pip as the 'root' user can result in broken permissions and conflicting behaviour with the system package manager. It is recommended to use a virtual environment instead: https://pip.pypa.io/warnings/venv\u001B[0m\n",
      "Reading package lists... Done\n",
      "Building dependency tree       \n",
      "Reading state information... Done\n",
      "fonts-nanum is already the newest version (20170925-1).\n",
      "0 upgraded, 0 newly installed, 0 to remove and 37 not upgraded.\n",
      "/usr/share/fonts: caching, new cache contents: 0 fonts, 1 dirs\n",
      "/usr/share/fonts/truetype: caching, new cache contents: 0 fonts, 3 dirs\n",
      "/usr/share/fonts/truetype/humor-sans: caching, new cache contents: 1 fonts, 0 dirs\n",
      "/usr/share/fonts/truetype/liberation: caching, new cache contents: 16 fonts, 0 dirs\n",
      "/usr/share/fonts/truetype/nanum: caching, new cache contents: 10 fonts, 0 dirs\n",
      "/usr/local/share/fonts: caching, new cache contents: 0 fonts, 0 dirs\n",
      "/root/.local/share/fonts: skipping, no such directory\n",
      "/root/.fonts: skipping, no such directory\n",
      "/var/cache/fontconfig: cleaning cache directory\n",
      "/root/.cache/fontconfig: not cleaning non-existent cache directory\n",
      "/root/.fontconfig: not cleaning non-existent cache directory\n",
      "fc-cache: succeeded\n"
     ]
    }
   ]
  },
  {
   "cell_type": "code",
   "metadata": {
    "id": "VZm5H11pp9T7",
    "colab": {
     "base_uri": "https://localhost:8080/",
     "height": 671
    },
    "outputId": "553c8a23-6ce7-4e34-cc69-75457ccade48"
   },
   "source": [
    "# x축설정\n",
    "df_hadan.set_index(['구분','년월일'])"
   ],
   "execution_count": 23,
   "outputs": [
    {
     "output_type": "execute_result",
     "data": {
      "text/html": [
       "<div>\n",
       "<style scoped>\n",
       "    .dataframe tbody tr th:only-of-type {\n",
       "        vertical-align: middle;\n",
       "    }\n",
       "\n",
       "    .dataframe tbody tr th {\n",
       "        vertical-align: top;\n",
       "    }\n",
       "\n",
       "    .dataframe thead th {\n",
       "        text-align: right;\n",
       "    }\n",
       "</style>\n",
       "<table border=\"1\" class=\"dataframe\">\n",
       "  <thead>\n",
       "    <tr style=\"text-align: right;\">\n",
       "      <th></th>\n",
       "      <th></th>\n",
       "      <th>역번호</th>\n",
       "      <th>역명</th>\n",
       "      <th>합계</th>\n",
       "      <th>01시-02시</th>\n",
       "      <th>02시-03시</th>\n",
       "      <th>03시-04시</th>\n",
       "      <th>04시-05시</th>\n",
       "      <th>05시-06시</th>\n",
       "      <th>06시-07시</th>\n",
       "      <th>07시-08시</th>\n",
       "      <th>08시-09시</th>\n",
       "      <th>09시-10시</th>\n",
       "      <th>10시-11시</th>\n",
       "      <th>11시-12시</th>\n",
       "      <th>12시-13시</th>\n",
       "      <th>13시-14시</th>\n",
       "      <th>14시-15시</th>\n",
       "      <th>15시-16시</th>\n",
       "      <th>16시-17시</th>\n",
       "      <th>17시-18시</th>\n",
       "      <th>18시-19시</th>\n",
       "      <th>19시-20시</th>\n",
       "      <th>20시-21시</th>\n",
       "      <th>21시-22시</th>\n",
       "      <th>22시-23시</th>\n",
       "      <th>23시-24시</th>\n",
       "      <th>24시-01시</th>\n",
       "    </tr>\n",
       "    <tr>\n",
       "      <th>구분</th>\n",
       "      <th>년월일</th>\n",
       "      <th></th>\n",
       "      <th></th>\n",
       "      <th></th>\n",
       "      <th></th>\n",
       "      <th></th>\n",
       "      <th></th>\n",
       "      <th></th>\n",
       "      <th></th>\n",
       "      <th></th>\n",
       "      <th></th>\n",
       "      <th></th>\n",
       "      <th></th>\n",
       "      <th></th>\n",
       "      <th></th>\n",
       "      <th></th>\n",
       "      <th></th>\n",
       "      <th></th>\n",
       "      <th></th>\n",
       "      <th></th>\n",
       "      <th></th>\n",
       "      <th></th>\n",
       "      <th></th>\n",
       "      <th></th>\n",
       "      <th></th>\n",
       "      <th></th>\n",
       "      <th></th>\n",
       "      <th></th>\n",
       "    </tr>\n",
       "  </thead>\n",
       "  <tbody>\n",
       "    <tr>\n",
       "      <th>승차</th>\n",
       "      <th>2021-01-01</th>\n",
       "      <td>102</td>\n",
       "      <td>하  단</td>\n",
       "      <td>5351</td>\n",
       "      <td>0</td>\n",
       "      <td>0</td>\n",
       "      <td>0</td>\n",
       "      <td>14</td>\n",
       "      <td>44</td>\n",
       "      <td>129</td>\n",
       "      <td>156</td>\n",
       "      <td>226</td>\n",
       "      <td>258</td>\n",
       "      <td>251</td>\n",
       "      <td>292</td>\n",
       "      <td>356</td>\n",
       "      <td>449</td>\n",
       "      <td>403</td>\n",
       "      <td>459</td>\n",
       "      <td>489</td>\n",
       "      <td>479</td>\n",
       "      <td>336</td>\n",
       "      <td>292</td>\n",
       "      <td>284</td>\n",
       "      <td>268</td>\n",
       "      <td>124</td>\n",
       "      <td>36</td>\n",
       "      <td>6</td>\n",
       "    </tr>\n",
       "    <tr>\n",
       "      <th>하차</th>\n",
       "      <th>2021-01-01</th>\n",
       "      <td>102</td>\n",
       "      <td>하  단</td>\n",
       "      <td>5079</td>\n",
       "      <td>0</td>\n",
       "      <td>0</td>\n",
       "      <td>0</td>\n",
       "      <td>2</td>\n",
       "      <td>20</td>\n",
       "      <td>147</td>\n",
       "      <td>166</td>\n",
       "      <td>236</td>\n",
       "      <td>230</td>\n",
       "      <td>241</td>\n",
       "      <td>297</td>\n",
       "      <td>315</td>\n",
       "      <td>332</td>\n",
       "      <td>376</td>\n",
       "      <td>429</td>\n",
       "      <td>438</td>\n",
       "      <td>469</td>\n",
       "      <td>402</td>\n",
       "      <td>251</td>\n",
       "      <td>231</td>\n",
       "      <td>252</td>\n",
       "      <td>140</td>\n",
       "      <td>82</td>\n",
       "      <td>23</td>\n",
       "    </tr>\n",
       "    <tr>\n",
       "      <th>승차</th>\n",
       "      <th>2021-01-02</th>\n",
       "      <td>102</td>\n",
       "      <td>하  단</td>\n",
       "      <td>8208</td>\n",
       "      <td>0</td>\n",
       "      <td>0</td>\n",
       "      <td>0</td>\n",
       "      <td>12</td>\n",
       "      <td>70</td>\n",
       "      <td>128</td>\n",
       "      <td>249</td>\n",
       "      <td>356</td>\n",
       "      <td>405</td>\n",
       "      <td>530</td>\n",
       "      <td>547</td>\n",
       "      <td>715</td>\n",
       "      <td>765</td>\n",
       "      <td>727</td>\n",
       "      <td>638</td>\n",
       "      <td>724</td>\n",
       "      <td>679</td>\n",
       "      <td>486</td>\n",
       "      <td>322</td>\n",
       "      <td>366</td>\n",
       "      <td>289</td>\n",
       "      <td>135</td>\n",
       "      <td>55</td>\n",
       "      <td>10</td>\n",
       "    </tr>\n",
       "    <tr>\n",
       "      <th>하차</th>\n",
       "      <th>2021-01-02</th>\n",
       "      <td>102</td>\n",
       "      <td>하  단</td>\n",
       "      <td>7678</td>\n",
       "      <td>0</td>\n",
       "      <td>0</td>\n",
       "      <td>0</td>\n",
       "      <td>1</td>\n",
       "      <td>29</td>\n",
       "      <td>241</td>\n",
       "      <td>298</td>\n",
       "      <td>413</td>\n",
       "      <td>434</td>\n",
       "      <td>482</td>\n",
       "      <td>522</td>\n",
       "      <td>561</td>\n",
       "      <td>599</td>\n",
       "      <td>602</td>\n",
       "      <td>566</td>\n",
       "      <td>550</td>\n",
       "      <td>632</td>\n",
       "      <td>585</td>\n",
       "      <td>275</td>\n",
       "      <td>275</td>\n",
       "      <td>341</td>\n",
       "      <td>155</td>\n",
       "      <td>87</td>\n",
       "      <td>30</td>\n",
       "    </tr>\n",
       "    <tr>\n",
       "      <th>승차</th>\n",
       "      <th>2021-01-03</th>\n",
       "      <td>102</td>\n",
       "      <td>하  단</td>\n",
       "      <td>5683</td>\n",
       "      <td>0</td>\n",
       "      <td>0</td>\n",
       "      <td>0</td>\n",
       "      <td>19</td>\n",
       "      <td>51</td>\n",
       "      <td>82</td>\n",
       "      <td>143</td>\n",
       "      <td>214</td>\n",
       "      <td>259</td>\n",
       "      <td>306</td>\n",
       "      <td>326</td>\n",
       "      <td>390</td>\n",
       "      <td>459</td>\n",
       "      <td>500</td>\n",
       "      <td>499</td>\n",
       "      <td>532</td>\n",
       "      <td>510</td>\n",
       "      <td>394</td>\n",
       "      <td>272</td>\n",
       "      <td>300</td>\n",
       "      <td>297</td>\n",
       "      <td>102</td>\n",
       "      <td>23</td>\n",
       "      <td>5</td>\n",
       "    </tr>\n",
       "    <tr>\n",
       "      <th>...</th>\n",
       "      <th>...</th>\n",
       "      <td>...</td>\n",
       "      <td>...</td>\n",
       "      <td>...</td>\n",
       "      <td>...</td>\n",
       "      <td>...</td>\n",
       "      <td>...</td>\n",
       "      <td>...</td>\n",
       "      <td>...</td>\n",
       "      <td>...</td>\n",
       "      <td>...</td>\n",
       "      <td>...</td>\n",
       "      <td>...</td>\n",
       "      <td>...</td>\n",
       "      <td>...</td>\n",
       "      <td>...</td>\n",
       "      <td>...</td>\n",
       "      <td>...</td>\n",
       "      <td>...</td>\n",
       "      <td>...</td>\n",
       "      <td>...</td>\n",
       "      <td>...</td>\n",
       "      <td>...</td>\n",
       "      <td>...</td>\n",
       "      <td>...</td>\n",
       "      <td>...</td>\n",
       "      <td>...</td>\n",
       "      <td>...</td>\n",
       "    </tr>\n",
       "    <tr>\n",
       "      <th>하차</th>\n",
       "      <th>2021-08-29</th>\n",
       "      <td>102</td>\n",
       "      <td>하  단</td>\n",
       "      <td>7949</td>\n",
       "      <td>0</td>\n",
       "      <td>6</td>\n",
       "      <td>0</td>\n",
       "      <td>0</td>\n",
       "      <td>41</td>\n",
       "      <td>232</td>\n",
       "      <td>242</td>\n",
       "      <td>326</td>\n",
       "      <td>420</td>\n",
       "      <td>426</td>\n",
       "      <td>480</td>\n",
       "      <td>520</td>\n",
       "      <td>508</td>\n",
       "      <td>552</td>\n",
       "      <td>628</td>\n",
       "      <td>691</td>\n",
       "      <td>604</td>\n",
       "      <td>615</td>\n",
       "      <td>452</td>\n",
       "      <td>417</td>\n",
       "      <td>422</td>\n",
       "      <td>215</td>\n",
       "      <td>122</td>\n",
       "      <td>30</td>\n",
       "    </tr>\n",
       "    <tr>\n",
       "      <th>승차</th>\n",
       "      <th>2021-08-30</th>\n",
       "      <td>102</td>\n",
       "      <td>하  단</td>\n",
       "      <td>16281</td>\n",
       "      <td>0</td>\n",
       "      <td>0</td>\n",
       "      <td>0</td>\n",
       "      <td>21</td>\n",
       "      <td>138</td>\n",
       "      <td>472</td>\n",
       "      <td>1299</td>\n",
       "      <td>1552</td>\n",
       "      <td>913</td>\n",
       "      <td>869</td>\n",
       "      <td>896</td>\n",
       "      <td>841</td>\n",
       "      <td>870</td>\n",
       "      <td>896</td>\n",
       "      <td>913</td>\n",
       "      <td>1059</td>\n",
       "      <td>1508</td>\n",
       "      <td>1647</td>\n",
       "      <td>904</td>\n",
       "      <td>733</td>\n",
       "      <td>506</td>\n",
       "      <td>207</td>\n",
       "      <td>36</td>\n",
       "      <td>1</td>\n",
       "    </tr>\n",
       "    <tr>\n",
       "      <th>하차</th>\n",
       "      <th>2021-08-30</th>\n",
       "      <td>102</td>\n",
       "      <td>하  단</td>\n",
       "      <td>14578</td>\n",
       "      <td>0</td>\n",
       "      <td>0</td>\n",
       "      <td>0</td>\n",
       "      <td>0</td>\n",
       "      <td>62</td>\n",
       "      <td>811</td>\n",
       "      <td>1278</td>\n",
       "      <td>1231</td>\n",
       "      <td>799</td>\n",
       "      <td>743</td>\n",
       "      <td>687</td>\n",
       "      <td>738</td>\n",
       "      <td>840</td>\n",
       "      <td>847</td>\n",
       "      <td>874</td>\n",
       "      <td>1024</td>\n",
       "      <td>1161</td>\n",
       "      <td>1479</td>\n",
       "      <td>768</td>\n",
       "      <td>437</td>\n",
       "      <td>374</td>\n",
       "      <td>256</td>\n",
       "      <td>140</td>\n",
       "      <td>29</td>\n",
       "    </tr>\n",
       "    <tr>\n",
       "      <th>승차</th>\n",
       "      <th>2021-08-31</th>\n",
       "      <td>102</td>\n",
       "      <td>하  단</td>\n",
       "      <td>16087</td>\n",
       "      <td>0</td>\n",
       "      <td>12</td>\n",
       "      <td>10</td>\n",
       "      <td>33</td>\n",
       "      <td>122</td>\n",
       "      <td>428</td>\n",
       "      <td>1312</td>\n",
       "      <td>1592</td>\n",
       "      <td>947</td>\n",
       "      <td>851</td>\n",
       "      <td>759</td>\n",
       "      <td>858</td>\n",
       "      <td>839</td>\n",
       "      <td>811</td>\n",
       "      <td>840</td>\n",
       "      <td>1063</td>\n",
       "      <td>1506</td>\n",
       "      <td>1653</td>\n",
       "      <td>920</td>\n",
       "      <td>688</td>\n",
       "      <td>538</td>\n",
       "      <td>237</td>\n",
       "      <td>65</td>\n",
       "      <td>3</td>\n",
       "    </tr>\n",
       "    <tr>\n",
       "      <th>하차</th>\n",
       "      <th>2021-08-31</th>\n",
       "      <td>102</td>\n",
       "      <td>하  단</td>\n",
       "      <td>14508</td>\n",
       "      <td>2</td>\n",
       "      <td>7</td>\n",
       "      <td>9</td>\n",
       "      <td>1</td>\n",
       "      <td>70</td>\n",
       "      <td>815</td>\n",
       "      <td>1223</td>\n",
       "      <td>1270</td>\n",
       "      <td>834</td>\n",
       "      <td>684</td>\n",
       "      <td>678</td>\n",
       "      <td>707</td>\n",
       "      <td>816</td>\n",
       "      <td>770</td>\n",
       "      <td>797</td>\n",
       "      <td>963</td>\n",
       "      <td>1185</td>\n",
       "      <td>1556</td>\n",
       "      <td>838</td>\n",
       "      <td>397</td>\n",
       "      <td>450</td>\n",
       "      <td>283</td>\n",
       "      <td>123</td>\n",
       "      <td>30</td>\n",
       "    </tr>\n",
       "  </tbody>\n",
       "</table>\n",
       "<p>486 rows × 27 columns</p>\n",
       "</div>"
      ],
      "text/plain": [
       "               역번호    역명     합계  01시-02시  ...  21시-22시  22시-23시  23시-24시  24시-01시\n",
       "구분 년월일                                    ...                                    \n",
       "승차 2021-01-01  102  하  단   5351        0  ...      268      124       36        6\n",
       "하차 2021-01-01  102  하  단   5079        0  ...      252      140       82       23\n",
       "승차 2021-01-02  102  하  단   8208        0  ...      289      135       55       10\n",
       "하차 2021-01-02  102  하  단   7678        0  ...      341      155       87       30\n",
       "승차 2021-01-03  102  하  단   5683        0  ...      297      102       23        5\n",
       "...            ...   ...    ...      ...  ...      ...      ...      ...      ...\n",
       "하차 2021-08-29  102  하  단   7949        0  ...      422      215      122       30\n",
       "승차 2021-08-30  102  하  단  16281        0  ...      506      207       36        1\n",
       "하차 2021-08-30  102  하  단  14578        0  ...      374      256      140       29\n",
       "승차 2021-08-31  102  하  단  16087        0  ...      538      237       65        3\n",
       "하차 2021-08-31  102  하  단  14508        2  ...      450      283      123       30\n",
       "\n",
       "[486 rows x 27 columns]"
      ]
     },
     "metadata": {},
     "execution_count": 23
    }
   ]
  },
  {
   "cell_type": "code",
   "metadata": {
    "id": "6kc73P-xrCYj",
    "colab": {
     "base_uri": "https://localhost:8080/",
     "height": 718
    },
    "outputId": "b3e90ae5-147c-4917-f5d3-73df1143ba30"
   },
   "source": [
    "df_hadan.plot(figsize=(12,12))"
   ],
   "execution_count": 24,
   "outputs": [
    {
     "output_type": "execute_result",
     "data": {
      "text/plain": [
       "<AxesSubplot:>"
      ]
     },
     "metadata": {},
     "execution_count": 24
    },
    {
     "output_type": "display_data",
     "data": {
      "image/png": "[encoded data removed]",
      "text/plain": [
       "<Figure size 864x864 with 1 Axes>"
      ]
     },
     "metadata": {
      "needs_background": "light"
     }
    }
   ]
  },
  {
   "cell_type": "code",
   "metadata": {
    "id": "h8o91tMrwGWJ",
    "colab": {
     "base_uri": "https://localhost:8080/",
     "height": 595
    },
    "outputId": "6d6c604d-b400-4902-dec8-f5278c6fa2f0"
   },
   "source": [
    "# 빈 3개의 그래프  \n",
    "fig= plt.figure(figsize=(14,10))\n",
    "ax1 = fig.add_subplot(2,2,1)\n",
    "ax2 = fig.add_subplot(2,2,2)\n",
    "ax3 = fig.add_subplot(2,2,3)"
   ],
   "execution_count": 25,
   "outputs": [
    {
     "output_type": "display_data",
     "data": {
      "image/png": "[encoded data removed]",
      "text/plain": [
       "<Figure size 1008x720 with 3 Axes>"
      ]
     },
     "metadata": {
      "needs_background": "light"
     }
    }
   ]
  },
  {
   "cell_type": "code",
   "metadata": {
    "id": "Uawcrs1NweqO",
    "colab": {
     "base_uri": "https://localhost:8080/",
     "height": 664
    },
    "outputId": "53311e10-f609-4f59-9795-486b98dcfe25"
   },
   "source": [
    "# 빈그래프의 채워넣기\n",
    "x = np.arange(50)\n",
    "y = np.random.randn(50)\n",
    "ax1.plot(x,y,'ro')\n",
    "ax2.plot(x,y,'b-')\n",
    "ax3.plot(x, y,'g-')\n",
    "fig"
   ],
   "execution_count": 26,
   "outputs": [
    {
     "output_type": "stream",
     "name": "stderr",
     "text": [
      "/usr/local/lib/python3.7/dist-packages/matplotlib/backends/backend_agg.py:240: RuntimeWarning: Glyph 8722 missing from current font.\n",
      "  font.set_text(s, 0.0, flags=flags)\n",
      "/usr/local/lib/python3.7/dist-packages/matplotlib/backends/backend_agg.py:203: RuntimeWarning: Glyph 8722 missing from current font.\n",
      "  font.set_text(s, 0, flags=flags)\n"
     ]
    },
    {
     "output_type": "execute_result",
     "data": {
      "image/png": "[encoded data removed]",
      "text/plain": [
       "<Figure size 1008x720 with 3 Axes>"
      ]
     },
     "metadata": {},
     "execution_count": 26
    }
   ]
  },
  {
   "cell_type": "markdown",
   "metadata": {
    "id": "c9_PWyb7yC5Z"
   },
   "source": [
    "## ■ 문제 2-4 승,하차 인원에 대한 그래프 출력\n",
    "하단역 승하차 데이터로(df_hadan)부터 **일자별 승차 합계인원**에 대한 그래프를 그리고자 한다.\n",
    "x축은 일자 혹은 관련된 index 값이어도 무방하며, y축은 승차인원의 합계가 나와야함\n",
    "ax1 에 그래프를 생성하시오"
   ]
  },
  {
   "cell_type": "code",
   "metadata": {
    "id": "4mMtwmgKyDdl",
    "colab": {
     "base_uri": "https://localhost:8080/",
     "height": 1000
    },
    "outputId": "1383aaf7-fd5e-44e6-9bba-0812df6bbb9c"
   },
   "source": [
    "# 참조 문서 https://matplotlib.org/stable/tutorials/index.html, https://wikidocs.net/92081 ,https://wikidocs.net/141537\n",
    "\n",
    "#하단역 승하차 데이터를 df_hadan에 새로 저장\n",
    "df_hadan=df.loc[df['역번호']==102]\n",
    "\n",
    "#일자별 승차 합계인원으로 df_hadan에 한번 더 필터링한 값을 저장\n",
    "df_hadan=df_hadan.loc[df['구분']=='승차']\n",
    "\n",
    "print(df_hadan)\n",
    "\n",
    "#디버깅용 \n",
    "# print(df_hadan[['년월일']])\n",
    "# print(df_hadan[['합계']])\n",
    "\n",
    "#y축 설정\n",
    "y_axis=df_hadan[['합계']]\n",
    "\n",
    "#x축은 설정하였으나 그래프의 나타내기 실패 \n",
    "x_axis=df_hadan[['년월일']]\n",
    "\n",
    "#기본그래프 설정\n",
    "fig= plt.figure(figsize=(12,12))\n",
    "ax1 = fig.add_subplot(2,2,1,ylabel='일자별 승차 합계인원')\n",
    "ax2 = fig.add_subplot(2,2,2,ylabel='승차인원 10000명이상')\n",
    "ax3 = fig.add_subplot(2,2,3)\n",
    "\n",
    "#ax1에 그리기\n",
    "# ax1.plot(x_axis,y_axis) #실패 TypeError: unhashable type: 'numpy.ndarray' \n",
    "ax1.plot(y_axis)\n",
    "x = np.arange(50)\n",
    "y = np.random.randn(50)\n",
    "ax3.plot(x, y, 'r--')\n",
    "\n"
   ],
   "execution_count": 27,
   "outputs": [
    {
     "output_type": "stream",
     "name": "stdout",
     "text": [
      "      역번호    역명         년월일  구분  ...  21시-22시  22시-23시  23시-24시  24시-01시\n",
      "3402  102  하  단  2021-01-01  승차  ...      268      124       36        6\n",
      "3404  102  하  단  2021-01-02  승차  ...      289      135       55       10\n",
      "3406  102  하  단  2021-01-03  승차  ...      297      102       23        5\n",
      "3408  102  하  단  2021-01-04  승차  ...      415      170       42        7\n",
      "3410  102  하  단  2021-01-05  승차  ...      406      157       36        8\n",
      "...   ...   ...         ...  ..  ...      ...      ...      ...      ...\n",
      "3878  102  하  단  2021-08-27  승차  ...      520      225       52        5\n",
      "3880  102  하  단  2021-08-28  승차  ...      430      199       41        3\n",
      "3882  102  하  단  2021-08-29  승차  ...      373      156       46        5\n",
      "3884  102  하  단  2021-08-30  승차  ...      506      207       36        1\n",
      "3886  102  하  단  2021-08-31  승차  ...      538      237       65        3\n",
      "\n",
      "[243 rows x 29 columns]\n"
     ]
    },
    {
     "output_type": "execute_result",
     "data": {
      "text/plain": [
       "[<matplotlib.lines.Line2D at 0x7fcbb7b7a590>]"
      ]
     },
     "metadata": {},
     "execution_count": 27
    },
    {
     "output_type": "stream",
     "name": "stderr",
     "text": [
      "/usr/local/lib/python3.7/dist-packages/matplotlib/backends/backend_agg.py:240: RuntimeWarning: Glyph 8722 missing from current font.\n",
      "  font.set_text(s, 0.0, flags=flags)\n",
      "/usr/local/lib/python3.7/dist-packages/matplotlib/backends/backend_agg.py:203: RuntimeWarning: Glyph 8722 missing from current font.\n",
      "  font.set_text(s, 0, flags=flags)\n"
     ]
    },
    {
     "output_type": "display_data",
     "data": {
      "image/png": "[encoded data removed]",
      "text/plain": [
       "<Figure size 864x864 with 3 Axes>"
      ]
     },
     "metadata": {
      "needs_background": "light"
     }
    }
   ]
  },
  {
   "cell_type": "markdown",
   "metadata": {
    "id": "F_YnEer9CbIf"
   },
   "source": [
    "## ■ 문제 2-5 특정 조건에 따른 승,하차 그래프 만들기\n",
    "df_hadan 으로부터, **승차 인원이 10000명 이상인** 데이터만 추출하여 그래프 생성하기\n"
   ]
  },
  {
   "cell_type": "code",
   "metadata": {
    "id": "BnxFAL0iCdt6",
    "colab": {
     "base_uri": "https://localhost:8080/",
     "height": 772
    },
    "outputId": "9426a741-b2dd-441f-b862-958602b9bd24"
   },
   "source": [
    "#df_hadan 설정 \n",
    "df_hadan=df.loc[df['역번호']==102]\n",
    "df_hadan=df_hadan.loc[df_hadan['구분']=='승차']\n",
    "\n",
    "cond_A = (df_hadan['합계'] >= 10000)\n",
    "df_hadan_ride=df_hadan.loc[cond_A]\n",
    "df_hadan_ride\n",
    "y_axis=df_hadan_ride[['합계']]\n",
    "#그래프 그리기 ax2에 그린다.\n",
    "\n",
    "ax2.plot(y_axis,linestyle='dotted')\n",
    "\n",
    "fig"
   ],
   "execution_count": 28,
   "outputs": [
    {
     "output_type": "stream",
     "name": "stderr",
     "text": [
      "/usr/local/lib/python3.7/dist-packages/matplotlib/backends/backend_agg.py:240: RuntimeWarning: Glyph 8722 missing from current font.\n",
      "  font.set_text(s, 0.0, flags=flags)\n",
      "/usr/local/lib/python3.7/dist-packages/matplotlib/backends/backend_agg.py:203: RuntimeWarning: Glyph 8722 missing from current font.\n",
      "  font.set_text(s, 0, flags=flags)\n"
     ]
    },
    {
     "output_type": "execute_result",
     "data": {
      "image/png": "[encoded data removed]",
      "text/plain": [
       "<Figure size 864x864 with 3 Axes>"
      ]
     },
     "metadata": {},
     "execution_count": 28
    }
   ]
  },
  {
   "cell_type": "markdown",
   "metadata": {
    "id": "hjm7WiNAHeno"
   },
   "source": [
    "**iloc를** 사용하여 첫번째 행과 01시-02시 데이터부터 24시-01시 데이터까지가져오자\n",
    "```\n",
    "df.iloc[start_row:end_row, start_col:end_col]\n",
    "https://pandas.pydata.org/pandas-docs/stable/reference/api/pandas.DataFrame.iloc.html"
   ]
  },
  {
   "cell_type": "code",
   "metadata": {
    "id": "FvMxEyQHGQtR",
    "colab": {
     "base_uri": "https://localhost:8080/",
     "height": 145
    },
    "outputId": "de03435a-fb95-4ebc-9c4b-f32eecfb71f6"
   },
   "source": [
    "df_hadan=df.loc[df['역번호']==102]\n",
    "df_hadan0 = df_hadan.iloc[:2, 5:29]\n",
    "df_hadan0"
   ],
   "execution_count": 29,
   "outputs": [
    {
     "output_type": "execute_result",
     "data": {
      "text/html": [
       "<div>\n",
       "<style scoped>\n",
       "    .dataframe tbody tr th:only-of-type {\n",
       "        vertical-align: middle;\n",
       "    }\n",
       "\n",
       "    .dataframe tbody tr th {\n",
       "        vertical-align: top;\n",
       "    }\n",
       "\n",
       "    .dataframe thead th {\n",
       "        text-align: right;\n",
       "    }\n",
       "</style>\n",
       "<table border=\"1\" class=\"dataframe\">\n",
       "  <thead>\n",
       "    <tr style=\"text-align: right;\">\n",
       "      <th></th>\n",
       "      <th>01시-02시</th>\n",
       "      <th>02시-03시</th>\n",
       "      <th>03시-04시</th>\n",
       "      <th>04시-05시</th>\n",
       "      <th>05시-06시</th>\n",
       "      <th>06시-07시</th>\n",
       "      <th>07시-08시</th>\n",
       "      <th>08시-09시</th>\n",
       "      <th>09시-10시</th>\n",
       "      <th>10시-11시</th>\n",
       "      <th>11시-12시</th>\n",
       "      <th>12시-13시</th>\n",
       "      <th>13시-14시</th>\n",
       "      <th>14시-15시</th>\n",
       "      <th>15시-16시</th>\n",
       "      <th>16시-17시</th>\n",
       "      <th>17시-18시</th>\n",
       "      <th>18시-19시</th>\n",
       "      <th>19시-20시</th>\n",
       "      <th>20시-21시</th>\n",
       "      <th>21시-22시</th>\n",
       "      <th>22시-23시</th>\n",
       "      <th>23시-24시</th>\n",
       "      <th>24시-01시</th>\n",
       "    </tr>\n",
       "  </thead>\n",
       "  <tbody>\n",
       "    <tr>\n",
       "      <th>3402</th>\n",
       "      <td>0</td>\n",
       "      <td>0</td>\n",
       "      <td>0</td>\n",
       "      <td>14</td>\n",
       "      <td>44</td>\n",
       "      <td>129</td>\n",
       "      <td>156</td>\n",
       "      <td>226</td>\n",
       "      <td>258</td>\n",
       "      <td>251</td>\n",
       "      <td>292</td>\n",
       "      <td>356</td>\n",
       "      <td>449</td>\n",
       "      <td>403</td>\n",
       "      <td>459</td>\n",
       "      <td>489</td>\n",
       "      <td>479</td>\n",
       "      <td>336</td>\n",
       "      <td>292</td>\n",
       "      <td>284</td>\n",
       "      <td>268</td>\n",
       "      <td>124</td>\n",
       "      <td>36</td>\n",
       "      <td>6</td>\n",
       "    </tr>\n",
       "    <tr>\n",
       "      <th>3403</th>\n",
       "      <td>0</td>\n",
       "      <td>0</td>\n",
       "      <td>0</td>\n",
       "      <td>2</td>\n",
       "      <td>20</td>\n",
       "      <td>147</td>\n",
       "      <td>166</td>\n",
       "      <td>236</td>\n",
       "      <td>230</td>\n",
       "      <td>241</td>\n",
       "      <td>297</td>\n",
       "      <td>315</td>\n",
       "      <td>332</td>\n",
       "      <td>376</td>\n",
       "      <td>429</td>\n",
       "      <td>438</td>\n",
       "      <td>469</td>\n",
       "      <td>402</td>\n",
       "      <td>251</td>\n",
       "      <td>231</td>\n",
       "      <td>252</td>\n",
       "      <td>140</td>\n",
       "      <td>82</td>\n",
       "      <td>23</td>\n",
       "    </tr>\n",
       "  </tbody>\n",
       "</table>\n",
       "</div>"
      ],
      "text/plain": [
       "      01시-02시  02시-03시  03시-04시  04시-05시  ...  21시-22시  22시-23시  23시-24시  24시-01시\n",
       "3402        0        0        0       14  ...      268      124       36        6\n",
       "3403        0        0        0        2  ...      252      140       82       23\n",
       "\n",
       "[2 rows x 24 columns]"
      ]
     },
     "metadata": {},
     "execution_count": 29
    }
   ]
  },
  {
   "cell_type": "markdown",
   "metadata": {
    "id": "GnrFLnFMHs3A"
   },
   "source": [
    "## ■ 문제 2-6. Column과 Rows 값을 서로 변경하시오\n",
    "Transpose 메소드를 사용하여 column에 있는 데이터를 행의 값으로 변환합니다"
   ]
  },
  {
   "cell_type": "code",
   "metadata": {
    "id": "jqqMv6cfHxoe",
    "colab": {
     "base_uri": "https://localhost:8080/",
     "height": 793
    },
    "outputId": "c178ebac-4872-415e-b1a7-9e91b27e68fe"
   },
   "source": [
    "## your code here..\n",
    "df_hadan_transpose=df_hadan0.transpose()\n",
    "df_hadan_transpose"
   ],
   "execution_count": 30,
   "outputs": [
    {
     "output_type": "execute_result",
     "data": {
      "text/html": [
       "<div>\n",
       "<style scoped>\n",
       "    .dataframe tbody tr th:only-of-type {\n",
       "        vertical-align: middle;\n",
       "    }\n",
       "\n",
       "    .dataframe tbody tr th {\n",
       "        vertical-align: top;\n",
       "    }\n",
       "\n",
       "    .dataframe thead th {\n",
       "        text-align: right;\n",
       "    }\n",
       "</style>\n",
       "<table border=\"1\" class=\"dataframe\">\n",
       "  <thead>\n",
       "    <tr style=\"text-align: right;\">\n",
       "      <th></th>\n",
       "      <th>3402</th>\n",
       "      <th>3403</th>\n",
       "    </tr>\n",
       "  </thead>\n",
       "  <tbody>\n",
       "    <tr>\n",
       "      <th>01시-02시</th>\n",
       "      <td>0</td>\n",
       "      <td>0</td>\n",
       "    </tr>\n",
       "    <tr>\n",
       "      <th>02시-03시</th>\n",
       "      <td>0</td>\n",
       "      <td>0</td>\n",
       "    </tr>\n",
       "    <tr>\n",
       "      <th>03시-04시</th>\n",
       "      <td>0</td>\n",
       "      <td>0</td>\n",
       "    </tr>\n",
       "    <tr>\n",
       "      <th>04시-05시</th>\n",
       "      <td>14</td>\n",
       "      <td>2</td>\n",
       "    </tr>\n",
       "    <tr>\n",
       "      <th>05시-06시</th>\n",
       "      <td>44</td>\n",
       "      <td>20</td>\n",
       "    </tr>\n",
       "    <tr>\n",
       "      <th>06시-07시</th>\n",
       "      <td>129</td>\n",
       "      <td>147</td>\n",
       "    </tr>\n",
       "    <tr>\n",
       "      <th>07시-08시</th>\n",
       "      <td>156</td>\n",
       "      <td>166</td>\n",
       "    </tr>\n",
       "    <tr>\n",
       "      <th>08시-09시</th>\n",
       "      <td>226</td>\n",
       "      <td>236</td>\n",
       "    </tr>\n",
       "    <tr>\n",
       "      <th>09시-10시</th>\n",
       "      <td>258</td>\n",
       "      <td>230</td>\n",
       "    </tr>\n",
       "    <tr>\n",
       "      <th>10시-11시</th>\n",
       "      <td>251</td>\n",
       "      <td>241</td>\n",
       "    </tr>\n",
       "    <tr>\n",
       "      <th>11시-12시</th>\n",
       "      <td>292</td>\n",
       "      <td>297</td>\n",
       "    </tr>\n",
       "    <tr>\n",
       "      <th>12시-13시</th>\n",
       "      <td>356</td>\n",
       "      <td>315</td>\n",
       "    </tr>\n",
       "    <tr>\n",
       "      <th>13시-14시</th>\n",
       "      <td>449</td>\n",
       "      <td>332</td>\n",
       "    </tr>\n",
       "    <tr>\n",
       "      <th>14시-15시</th>\n",
       "      <td>403</td>\n",
       "      <td>376</td>\n",
       "    </tr>\n",
       "    <tr>\n",
       "      <th>15시-16시</th>\n",
       "      <td>459</td>\n",
       "      <td>429</td>\n",
       "    </tr>\n",
       "    <tr>\n",
       "      <th>16시-17시</th>\n",
       "      <td>489</td>\n",
       "      <td>438</td>\n",
       "    </tr>\n",
       "    <tr>\n",
       "      <th>17시-18시</th>\n",
       "      <td>479</td>\n",
       "      <td>469</td>\n",
       "    </tr>\n",
       "    <tr>\n",
       "      <th>18시-19시</th>\n",
       "      <td>336</td>\n",
       "      <td>402</td>\n",
       "    </tr>\n",
       "    <tr>\n",
       "      <th>19시-20시</th>\n",
       "      <td>292</td>\n",
       "      <td>251</td>\n",
       "    </tr>\n",
       "    <tr>\n",
       "      <th>20시-21시</th>\n",
       "      <td>284</td>\n",
       "      <td>231</td>\n",
       "    </tr>\n",
       "    <tr>\n",
       "      <th>21시-22시</th>\n",
       "      <td>268</td>\n",
       "      <td>252</td>\n",
       "    </tr>\n",
       "    <tr>\n",
       "      <th>22시-23시</th>\n",
       "      <td>124</td>\n",
       "      <td>140</td>\n",
       "    </tr>\n",
       "    <tr>\n",
       "      <th>23시-24시</th>\n",
       "      <td>36</td>\n",
       "      <td>82</td>\n",
       "    </tr>\n",
       "    <tr>\n",
       "      <th>24시-01시</th>\n",
       "      <td>6</td>\n",
       "      <td>23</td>\n",
       "    </tr>\n",
       "  </tbody>\n",
       "</table>\n",
       "</div>"
      ],
      "text/plain": [
       "         3402  3403\n",
       "01시-02시     0     0\n",
       "02시-03시     0     0\n",
       "03시-04시     0     0\n",
       "04시-05시    14     2\n",
       "05시-06시    44    20\n",
       "06시-07시   129   147\n",
       "07시-08시   156   166\n",
       "08시-09시   226   236\n",
       "09시-10시   258   230\n",
       "10시-11시   251   241\n",
       "11시-12시   292   297\n",
       "12시-13시   356   315\n",
       "13시-14시   449   332\n",
       "14시-15시   403   376\n",
       "15시-16시   459   429\n",
       "16시-17시   489   438\n",
       "17시-18시   479   469\n",
       "18시-19시   336   402\n",
       "19시-20시   292   251\n",
       "20시-21시   284   231\n",
       "21시-22시   268   252\n",
       "22시-23시   124   140\n",
       "23시-24시    36    82\n",
       "24시-01시     6    23"
      ]
     },
     "metadata": {},
     "execution_count": 30
    }
   ]
  },
  {
   "cell_type": "markdown",
   "metadata": {
    "id": "gXSePkd_Ixxm"
   },
   "source": [
    "## ■ 문제 2-7. 그래프의 스타일 속성을 지정하시오\n",
    "df_hadan_transpose 를 막대(bar) 그래프 차트를 사용하여 그리시오 그래프에 대한 x축 레이블(label)은 '시간대'로 y축 레이블은 승하차 인원, 제목(title)은 '시간대별 승하차 인원'으로 작성하시오"
   ]
  },
  {
   "cell_type": "code",
   "metadata": {
    "id": "Ac9IeqhqK5uH",
    "colab": {
     "base_uri": "https://localhost:8080/",
     "height": 332
    },
    "outputId": "4a0892ec-0617-4b26-a356-af479d322696"
   },
   "source": [
    "ax = df_hadan_transpose.plot.bar(xlabel='시간대',ylabel='승하차인원', title='시간대별 승하차 인원')"
   ],
   "execution_count": 31,
   "outputs": [
    {
     "output_type": "display_data",
     "data": {
      "image/png": "[encoded data removed]",
      "text/plain": [
       "<Figure size 432x288 with 1 Axes>"
      ]
     },
     "metadata": {
      "needs_background": "light"
     }
    }
   ]
  },
  {
   "cell_type": "markdown",
   "metadata": {
    "id": "lQ3-3dsfJxm0"
   },
   "source": [
    "다음과 같이 이미지 파일로 내보내기가 가능하다\n",
    "\n",
    "\n",
    "```\n",
    "https://matplotlib.org/stable/api/_as_gen/matplotlib.pyplot.savefig.html\n",
    "```"
   ]
  },
  {
   "cell_type": "code",
   "metadata": {
    "id": "mL1XOUhjJyTH",
    "colab": {
     "base_uri": "https://localhost:8080/",
     "height": 35
    },
    "outputId": "e310b0b5-3c03-4811-b7d3-f6e6f3a053bf"
   },
   "source": [
    "\n",
    "plt.savefig(\"bar_chart.png\")"
   ],
   "execution_count": 32,
   "outputs": [
    {
     "output_type": "display_data",
     "data": {
      "text/plain": [
       "<Figure size 432x288 with 0 Axes>"
      ]
     },
     "metadata": {}
    }
   ]
  },
  {
   "cell_type": "markdown",
   "metadata": {
    "id": "I_z-96BuMl6D"
   },
   "source": [
    "# HW3. 데이터에 집합(Set)연산 적용하기 및 구글 드라이브와 연동하기\n",
    "- 주어진 데이터셋들간에 교집합,차집합,합집합 연산을 적용해보기\n",
    "- 구글 드라이브와 연동하여 파일을 쉽게 읽을 수 있도록 하기\n",
    "- 구글드라이브로 공유된 파일들을 쉽게 사용하도록 하기# 새 섹션"
   ]
  },
  {
   "cell_type": "markdown",
   "metadata": {
    "id": "ZJVok3czM4aL"
   },
   "source": [
    "## ■ 문제 3-1 구글 드라이브에서 기존의 csv 파일 불러오기 및 상위 10개 출력\n",
    "자신의 구글드라이브에 아래 파일을 업로드한 뒤에, csv파일 데이터셋 불러오기를 수행하시오.\n",
    "부산교통공사_시간대별 승하차인원_20210801.csv\n"
   ]
  },
  {
   "cell_type": "code",
   "metadata": {
    "id": "Tz1Y02KOSXUQ",
    "colab": {
     "base_uri": "https://localhost:8080/"
    },
    "outputId": "323c3dfa-acba-43df-dd2b-ddcb473b601f"
   },
   "source": [
    "from google.colab import drive\n",
    "drive.mount('/content/drive')"
   ],
   "execution_count": 33,
   "outputs": [
    {
     "output_type": "stream",
     "name": "stdout",
     "text": [
      "Mounted at /content/drive\n"
     ]
    }
   ]
  },
  {
   "cell_type": "code",
   "metadata": {
    "id": "7eYIi174NfLn"
   },
   "source": [
    "path_dataset = \"/content/drive/MyDrive/\"\n",
    "filename= \"부산교통공사_시간대별 승하차인원_20210801.csv\""
   ],
   "execution_count": 34,
   "outputs": []
  },
  {
   "cell_type": "code",
   "metadata": {
    "id": "4bS9kqWbUAWG",
    "colab": {
     "base_uri": "https://localhost:8080/"
    },
    "outputId": "bd6fdbcd-b9b0-4d2a-8cde-ed1e1c74aff3"
   },
   "source": [
    "cd /content/drive/\n"
   ],
   "execution_count": 35,
   "outputs": [
    {
     "output_type": "stream",
     "name": "stdout",
     "text": [
      "/content/drive\n"
     ]
    }
   ]
  },
  {
   "cell_type": "code",
   "metadata": {
    "id": "1UeHCiPuNWmD",
    "colab": {
     "base_uri": "https://localhost:8080/",
     "height": 1000
    },
    "outputId": "db72d1e5-b602-4e34-d556-e2ce0141163e"
   },
   "source": [
    "my_df = pd.read_csv(path_dataset + filename,encoding='cp949')\n",
    "my_df.head(10)"
   ],
   "execution_count": 36,
   "outputs": [
    {
     "output_type": "execute_result",
     "data": {
      "text/html": [
       "<div>\n",
       "<style scoped>\n",
       "    .dataframe tbody tr th:only-of-type {\n",
       "        vertical-align: middle;\n",
       "    }\n",
       "\n",
       "    .dataframe tbody tr th {\n",
       "        vertical-align: top;\n",
       "    }\n",
       "\n",
       "    .dataframe thead th {\n",
       "        text-align: right;\n",
       "    }\n",
       "</style>\n",
       "<table border=\"1\" class=\"dataframe\">\n",
       "  <thead>\n",
       "    <tr style=\"text-align: right;\">\n",
       "      <th></th>\n",
       "      <th>역번호</th>\n",
       "      <th>역명</th>\n",
       "      <th>년월일</th>\n",
       "      <th>구분</th>\n",
       "      <th>합계</th>\n",
       "      <th>01시-02시</th>\n",
       "      <th>02시-03시</th>\n",
       "      <th>03시-04시</th>\n",
       "      <th>04시-05시</th>\n",
       "      <th>05시-06시</th>\n",
       "      <th>06시-07시</th>\n",
       "      <th>07시-08시</th>\n",
       "      <th>08시-09시</th>\n",
       "      <th>09시-10시</th>\n",
       "      <th>10시-11시</th>\n",
       "      <th>11시-12시</th>\n",
       "      <th>12시-13시</th>\n",
       "      <th>13시-14시</th>\n",
       "      <th>14시-15시</th>\n",
       "      <th>15시-16시</th>\n",
       "      <th>16시-17시</th>\n",
       "      <th>17시-18시</th>\n",
       "      <th>18시-19시</th>\n",
       "      <th>19시-20시</th>\n",
       "      <th>20시-21시</th>\n",
       "      <th>21시-22시</th>\n",
       "      <th>22시-23시</th>\n",
       "      <th>23시-24시</th>\n",
       "      <th>24시-01시</th>\n",
       "    </tr>\n",
       "  </thead>\n",
       "  <tbody>\n",
       "    <tr>\n",
       "      <th>0</th>\n",
       "      <td>95</td>\n",
       "      <td>다대포해수욕장</td>\n",
       "      <td>2021-01-01</td>\n",
       "      <td>승차</td>\n",
       "      <td>2323</td>\n",
       "      <td>0</td>\n",
       "      <td>0</td>\n",
       "      <td>1</td>\n",
       "      <td>4</td>\n",
       "      <td>24</td>\n",
       "      <td>42</td>\n",
       "      <td>101</td>\n",
       "      <td>122</td>\n",
       "      <td>94</td>\n",
       "      <td>109</td>\n",
       "      <td>148</td>\n",
       "      <td>143</td>\n",
       "      <td>163</td>\n",
       "      <td>229</td>\n",
       "      <td>308</td>\n",
       "      <td>272</td>\n",
       "      <td>237</td>\n",
       "      <td>132</td>\n",
       "      <td>59</td>\n",
       "      <td>53</td>\n",
       "      <td>55</td>\n",
       "      <td>20</td>\n",
       "      <td>7</td>\n",
       "      <td>0</td>\n",
       "    </tr>\n",
       "    <tr>\n",
       "      <th>1</th>\n",
       "      <td>95</td>\n",
       "      <td>다대포해수욕장</td>\n",
       "      <td>2021-01-01</td>\n",
       "      <td>하차</td>\n",
       "      <td>2010</td>\n",
       "      <td>0</td>\n",
       "      <td>0</td>\n",
       "      <td>1</td>\n",
       "      <td>1</td>\n",
       "      <td>26</td>\n",
       "      <td>88</td>\n",
       "      <td>112</td>\n",
       "      <td>54</td>\n",
       "      <td>66</td>\n",
       "      <td>99</td>\n",
       "      <td>123</td>\n",
       "      <td>136</td>\n",
       "      <td>226</td>\n",
       "      <td>248</td>\n",
       "      <td>199</td>\n",
       "      <td>160</td>\n",
       "      <td>158</td>\n",
       "      <td>76</td>\n",
       "      <td>71</td>\n",
       "      <td>41</td>\n",
       "      <td>57</td>\n",
       "      <td>34</td>\n",
       "      <td>21</td>\n",
       "      <td>13</td>\n",
       "    </tr>\n",
       "    <tr>\n",
       "      <th>2</th>\n",
       "      <td>95</td>\n",
       "      <td>다대포해수욕장</td>\n",
       "      <td>2021-01-02</td>\n",
       "      <td>승차</td>\n",
       "      <td>2901</td>\n",
       "      <td>0</td>\n",
       "      <td>0</td>\n",
       "      <td>0</td>\n",
       "      <td>4</td>\n",
       "      <td>34</td>\n",
       "      <td>43</td>\n",
       "      <td>79</td>\n",
       "      <td>139</td>\n",
       "      <td>173</td>\n",
       "      <td>173</td>\n",
       "      <td>197</td>\n",
       "      <td>207</td>\n",
       "      <td>249</td>\n",
       "      <td>296</td>\n",
       "      <td>386</td>\n",
       "      <td>288</td>\n",
       "      <td>264</td>\n",
       "      <td>123</td>\n",
       "      <td>72</td>\n",
       "      <td>83</td>\n",
       "      <td>64</td>\n",
       "      <td>26</td>\n",
       "      <td>1</td>\n",
       "      <td>0</td>\n",
       "    </tr>\n",
       "    <tr>\n",
       "      <th>3</th>\n",
       "      <td>95</td>\n",
       "      <td>다대포해수욕장</td>\n",
       "      <td>2021-01-02</td>\n",
       "      <td>하차</td>\n",
       "      <td>2363</td>\n",
       "      <td>0</td>\n",
       "      <td>0</td>\n",
       "      <td>0</td>\n",
       "      <td>0</td>\n",
       "      <td>14</td>\n",
       "      <td>48</td>\n",
       "      <td>61</td>\n",
       "      <td>78</td>\n",
       "      <td>73</td>\n",
       "      <td>129</td>\n",
       "      <td>206</td>\n",
       "      <td>209</td>\n",
       "      <td>222</td>\n",
       "      <td>265</td>\n",
       "      <td>264</td>\n",
       "      <td>223</td>\n",
       "      <td>165</td>\n",
       "      <td>104</td>\n",
       "      <td>62</td>\n",
       "      <td>78</td>\n",
       "      <td>81</td>\n",
       "      <td>48</td>\n",
       "      <td>20</td>\n",
       "      <td>13</td>\n",
       "    </tr>\n",
       "    <tr>\n",
       "      <th>4</th>\n",
       "      <td>95</td>\n",
       "      <td>다대포해수욕장</td>\n",
       "      <td>2021-01-03</td>\n",
       "      <td>승차</td>\n",
       "      <td>2268</td>\n",
       "      <td>0</td>\n",
       "      <td>0</td>\n",
       "      <td>2</td>\n",
       "      <td>5</td>\n",
       "      <td>22</td>\n",
       "      <td>43</td>\n",
       "      <td>49</td>\n",
       "      <td>104</td>\n",
       "      <td>125</td>\n",
       "      <td>117</td>\n",
       "      <td>157</td>\n",
       "      <td>154</td>\n",
       "      <td>198</td>\n",
       "      <td>249</td>\n",
       "      <td>337</td>\n",
       "      <td>239</td>\n",
       "      <td>182</td>\n",
       "      <td>91</td>\n",
       "      <td>63</td>\n",
       "      <td>57</td>\n",
       "      <td>43</td>\n",
       "      <td>25</td>\n",
       "      <td>6</td>\n",
       "      <td>0</td>\n",
       "    </tr>\n",
       "    <tr>\n",
       "      <th>5</th>\n",
       "      <td>95</td>\n",
       "      <td>다대포해수욕장</td>\n",
       "      <td>2021-01-03</td>\n",
       "      <td>하차</td>\n",
       "      <td>1914</td>\n",
       "      <td>0</td>\n",
       "      <td>0</td>\n",
       "      <td>2</td>\n",
       "      <td>0</td>\n",
       "      <td>18</td>\n",
       "      <td>25</td>\n",
       "      <td>38</td>\n",
       "      <td>61</td>\n",
       "      <td>71</td>\n",
       "      <td>122</td>\n",
       "      <td>171</td>\n",
       "      <td>126</td>\n",
       "      <td>229</td>\n",
       "      <td>244</td>\n",
       "      <td>173</td>\n",
       "      <td>141</td>\n",
       "      <td>133</td>\n",
       "      <td>95</td>\n",
       "      <td>73</td>\n",
       "      <td>65</td>\n",
       "      <td>65</td>\n",
       "      <td>32</td>\n",
       "      <td>21</td>\n",
       "      <td>9</td>\n",
       "    </tr>\n",
       "    <tr>\n",
       "      <th>6</th>\n",
       "      <td>95</td>\n",
       "      <td>다대포해수욕장</td>\n",
       "      <td>2021-01-04</td>\n",
       "      <td>승차</td>\n",
       "      <td>3527</td>\n",
       "      <td>0</td>\n",
       "      <td>0</td>\n",
       "      <td>0</td>\n",
       "      <td>11</td>\n",
       "      <td>52</td>\n",
       "      <td>122</td>\n",
       "      <td>304</td>\n",
       "      <td>357</td>\n",
       "      <td>214</td>\n",
       "      <td>239</td>\n",
       "      <td>198</td>\n",
       "      <td>244</td>\n",
       "      <td>265</td>\n",
       "      <td>322</td>\n",
       "      <td>313</td>\n",
       "      <td>254</td>\n",
       "      <td>222</td>\n",
       "      <td>169</td>\n",
       "      <td>78</td>\n",
       "      <td>59</td>\n",
       "      <td>57</td>\n",
       "      <td>41</td>\n",
       "      <td>6</td>\n",
       "      <td>0</td>\n",
       "    </tr>\n",
       "    <tr>\n",
       "      <th>7</th>\n",
       "      <td>95</td>\n",
       "      <td>다대포해수욕장</td>\n",
       "      <td>2021-01-04</td>\n",
       "      <td>하차</td>\n",
       "      <td>2767</td>\n",
       "      <td>0</td>\n",
       "      <td>0</td>\n",
       "      <td>0</td>\n",
       "      <td>1</td>\n",
       "      <td>13</td>\n",
       "      <td>65</td>\n",
       "      <td>116</td>\n",
       "      <td>146</td>\n",
       "      <td>110</td>\n",
       "      <td>99</td>\n",
       "      <td>158</td>\n",
       "      <td>204</td>\n",
       "      <td>292</td>\n",
       "      <td>224</td>\n",
       "      <td>221</td>\n",
       "      <td>192</td>\n",
       "      <td>183</td>\n",
       "      <td>267</td>\n",
       "      <td>183</td>\n",
       "      <td>102</td>\n",
       "      <td>105</td>\n",
       "      <td>55</td>\n",
       "      <td>21</td>\n",
       "      <td>10</td>\n",
       "    </tr>\n",
       "    <tr>\n",
       "      <th>8</th>\n",
       "      <td>95</td>\n",
       "      <td>다대포해수욕장</td>\n",
       "      <td>2021-01-05</td>\n",
       "      <td>승차</td>\n",
       "      <td>3421</td>\n",
       "      <td>0</td>\n",
       "      <td>1</td>\n",
       "      <td>1</td>\n",
       "      <td>13</td>\n",
       "      <td>55</td>\n",
       "      <td>129</td>\n",
       "      <td>316</td>\n",
       "      <td>346</td>\n",
       "      <td>198</td>\n",
       "      <td>219</td>\n",
       "      <td>222</td>\n",
       "      <td>251</td>\n",
       "      <td>246</td>\n",
       "      <td>296</td>\n",
       "      <td>260</td>\n",
       "      <td>245</td>\n",
       "      <td>205</td>\n",
       "      <td>161</td>\n",
       "      <td>76</td>\n",
       "      <td>81</td>\n",
       "      <td>49</td>\n",
       "      <td>42</td>\n",
       "      <td>9</td>\n",
       "      <td>0</td>\n",
       "    </tr>\n",
       "    <tr>\n",
       "      <th>9</th>\n",
       "      <td>95</td>\n",
       "      <td>다대포해수욕장</td>\n",
       "      <td>2021-01-05</td>\n",
       "      <td>하차</td>\n",
       "      <td>2689</td>\n",
       "      <td>2</td>\n",
       "      <td>1</td>\n",
       "      <td>0</td>\n",
       "      <td>2</td>\n",
       "      <td>22</td>\n",
       "      <td>75</td>\n",
       "      <td>105</td>\n",
       "      <td>153</td>\n",
       "      <td>96</td>\n",
       "      <td>125</td>\n",
       "      <td>168</td>\n",
       "      <td>197</td>\n",
       "      <td>186</td>\n",
       "      <td>226</td>\n",
       "      <td>192</td>\n",
       "      <td>197</td>\n",
       "      <td>201</td>\n",
       "      <td>239</td>\n",
       "      <td>177</td>\n",
       "      <td>98</td>\n",
       "      <td>115</td>\n",
       "      <td>63</td>\n",
       "      <td>27</td>\n",
       "      <td>22</td>\n",
       "    </tr>\n",
       "  </tbody>\n",
       "</table>\n",
       "</div>"
      ],
      "text/plain": [
       "   역번호       역명         년월일  구분  ...  21시-22시  22시-23시  23시-24시  24시-01시\n",
       "0   95  다대포해수욕장  2021-01-01  승차  ...       55       20        7        0\n",
       "1   95  다대포해수욕장  2021-01-01  하차  ...       57       34       21       13\n",
       "2   95  다대포해수욕장  2021-01-02  승차  ...       64       26        1        0\n",
       "3   95  다대포해수욕장  2021-01-02  하차  ...       81       48       20       13\n",
       "4   95  다대포해수욕장  2021-01-03  승차  ...       43       25        6        0\n",
       "5   95  다대포해수욕장  2021-01-03  하차  ...       65       32       21        9\n",
       "6   95  다대포해수욕장  2021-01-04  승차  ...       57       41        6        0\n",
       "7   95  다대포해수욕장  2021-01-04  하차  ...      105       55       21       10\n",
       "8   95  다대포해수욕장  2021-01-05  승차  ...       49       42        9        0\n",
       "9   95  다대포해수욕장  2021-01-05  하차  ...      115       63       27       22\n",
       "\n",
       "[10 rows x 29 columns]"
      ]
     },
     "metadata": {},
     "execution_count": 36
    }
   ]
  },
  {
   "cell_type": "markdown",
   "metadata": {
    "id": "6gTYil7FNmQC"
   },
   "source": [
    "## ■ 문제 3-2. 구글드라이브 파일 공유하고 해당 파일을 읽어오기\n",
    "구글 드라이브 내 URL 기반 공유를 수행하고 해당 파일을 정상적으로 다운로드되는지 확인할\n",
    "구글드라이브 id를 찾아서 아래 코드에 대입하여 실행시키시기 바랍니다\n",
    "\n",
    "예) 공유된 폴더 링크가 다음과 같다면 https://drive.google.com/drive/folders/1-EJr-anFISoVb96QYedLx5PklEtm9JSS?usp=sharing\n",
    "id는 1-EJr-anFISoVb96QYedLx5PklEtm9JSS 가 됩니다"
   ]
  },
  {
   "cell_type": "markdown",
   "metadata": {
    "id": "Hwtgt1-KNouw"
   },
   "source": [
    "https://drive.google.com/drive/folders/1k71RY6hTtXuzKJF2yhzEF3IEdBfI7Kfl?usp=sharing\n"
   ]
  },
  {
   "cell_type": "code",
   "metadata": {
    "id": "FDWe5QyFNX39",
    "colab": {
     "base_uri": "https://localhost:8080/"
    },
    "outputId": "296d62fe-54d4-414a-ec8a-4137d9962318"
   },
   "source": [
    "# pyDrive 설치\n",
    "!pip install -U -q PyDrive\n",
    "from pydrive.auth import GoogleAuth\n",
    "from pydrive.drive import GoogleDrive\n",
    "from google.colab import auth\n",
    "from oauth2client.client import GoogleCredentials\n",
    "\n",
    "# Authenticate and create the PyDrive client\n",
    "auth.authenticate_user()\n",
    "gauth = GoogleAuth()\n",
    "gauth.credentials = GoogleCredentials.get_application_default()\n",
    "drive = GoogleDrive(gauth)"
   ],
   "execution_count": 37,
   "outputs": [
    {
     "output_type": "stream",
     "name": "stdout",
     "text": [
      "\u001B[33mWARNING: Running pip as the 'root' user can result in broken permissions and conflicting behaviour with the system package manager. It is recommended to use a virtual environment instead: https://pip.pypa.io/warnings/venv\u001B[0m\n"
     ]
    }
   ]
  },
  {
   "cell_type": "code",
   "metadata": {
    "id": "keiRAv4RONda"
   },
   "source": [
    "id='1k71RY6hTtXuzKJF2yhzEF3IEdBfI7Kfl'\n",
    "file_list = drive.ListFile({'q': f\"'{id}' in parents and trashed=false\"}).GetList()"
   ],
   "execution_count": 38,
   "outputs": []
  },
  {
   "cell_type": "code",
   "metadata": {
    "colab": {
     "base_uri": "https://localhost:8080/"
    },
    "id": "Vf82ZvIuadrJ",
    "outputId": "65977f64-11dc-4d81-ad5f-158f23233a89"
   },
   "source": [
    "cd /content"
   ],
   "execution_count": 39,
   "outputs": [
    {
     "output_type": "stream",
     "name": "stdout",
     "text": [
      "/content\n"
     ]
    }
   ]
  },
  {
   "cell_type": "code",
   "metadata": {
    "id": "Md3ZXHd3Osjb",
    "colab": {
     "base_uri": "https://localhost:8080/"
    },
    "outputId": "1fe72b1f-61be-4884-b4b0-666609123eae"
   },
   "source": [
    "# 공유된 파일리스트 확인하고 데이터를 다운로드 받습니다.\n",
    "for file in file_list:\n",
    "    downloaded = drive.CreateFile({'id': file['id']})\n",
    "    downloaded.GetContentFile(file['title'])\n",
    "    print(file['title'])\n",
    "    "
   ],
   "execution_count": 40,
   "outputs": [
    {
     "output_type": "stream",
     "name": "stdout",
     "text": [
      "부산교통공사_시간대별 승하차인원_20210801.csv\n"
     ]
    }
   ]
  },
  {
   "cell_type": "code",
   "metadata": {
    "id": "DXOxDaC7ZDYB",
    "colab": {
     "base_uri": "https://localhost:8080/"
    },
    "outputId": "a213bc28-49e1-4a5d-8497-d78014f217b2"
   },
   "source": [
    "P = my_df.loc[my_df['08시-09시'] > 1000]\n",
    "S = my_df.loc[my_df['17시-18시'] > 1000]\n",
    "print( P.shape[0] , S.shape[0] )"
   ],
   "execution_count": 41,
   "outputs": [
    {
     "output_type": "stream",
     "name": "stdout",
     "text": [
      "8263 6500\n"
     ]
    }
   ]
  },
  {
   "cell_type": "markdown",
   "metadata": {
    "id": "BACzg2hcce-L"
   },
   "source": [
    ""
   ]
  },
  {
   "cell_type": "markdown",
   "metadata": {
    "id": "K8IZep5xZNqG"
   },
   "source": [
    "## ■ 문제 3-3. UNION 연산 수행하기\n",
    "P 와 S의 UNION에 대한 값을 계산하시오\n",
    "두가지 방법 이상이 기대될수 있다. 1) pd.concat을 사용하여 데이터프레임을 유지하거나, 2) 각 데이터에 대해 list 형태로 변환한 뒤에 계산하는 방법\n",
    "union 연산을 수행한 결과는 11150이 되어야한다\n",
    "\n",
    "```\n",
    "https://pandas.pydata.org/docs/reference/api/pandas.concat.html\n",
    "https://pandas.pydata.org/docs/reference/api/pandas.DataFrame.drop_duplicates.html\n",
    "https://www.w3schools.com/python/ref_set_union.asp\n",
    "```"
   ]
  },
  {
   "cell_type": "code",
   "metadata": {
    "id": "_fY28b0hZOr3",
    "colab": {
     "base_uri": "https://localhost:8080/"
    },
    "outputId": "869c32fa-18b8-4eb8-c2a3-425092b608cf"
   },
   "source": [
    "P = my_df.loc[my_df['08시-09시'] > 1000]\n",
    "S = my_df.loc[my_df['17시-18시'] > 1000]\n",
    "result=pd.concat([P,S])   #concat으로 두개의 데이터를 합친다\n",
    "final_result=result.drop_duplicates() #그 중 중복인 것을 없앤다  # 이 두가지 자체가 union연산\n",
    "final_result.shape[0]"
   ],
   "execution_count": 42,
   "outputs": [
    {
     "output_type": "execute_result",
     "data": {
      "text/plain": [
       "11150"
      ]
     },
     "metadata": {},
     "execution_count": 42
    }
   ]
  },
  {
   "cell_type": "markdown",
   "metadata": {
    "id": "5dvTPLgumR3K"
   },
   "source": [
    "## ■ 문제 3-4. INTERSECTION 연산 수행하기\n",
    "P 와 S의 INTERSECTION 대한 값을 계산하시오\n",
    "두가지 방법 이상이 기대될수 있다. 1) pd.concat을 사용하여 데이터프레임을 유지하거나, 2) 각 데이터에 대해 list 형태로 변환한 뒤에 계산하는 방법\n",
    "Intersection 연산을 수행한 결과는 3613이 되어야한다\n",
    "\n",
    "```\n",
    "https://pandas.pydata.org/docs/reference/api/pandas.DataFrame.merge.html\n",
    "https://www.w3schools.com/python/ref_set_intersection.asp\n",
    "```"
   ]
  },
  {
   "cell_type": "code",
   "metadata": {
    "id": "m32BJkwvlrxI",
    "colab": {
     "base_uri": "https://localhost:8080/"
    },
    "outputId": "b5f428db-259b-40d1-fc9d-caa6eb7082d9"
   },
   "source": [
    "P = my_df.loc[my_df['08시-09시'] > 1000]\n",
    "S = my_df.loc[my_df['17시-18시'] > 1000]\n",
    "result=pd.concat([P,S])\n",
    "f=result[result.duplicated()]  #<- df[df.[]]\n",
    "f.shape[0]"
   ],
   "execution_count": 43,
   "outputs": [
    {
     "output_type": "execute_result",
     "data": {
      "text/plain": [
       "3613"
      ]
     },
     "metadata": {},
     "execution_count": 43
    }
   ]
  },
  {
   "cell_type": "markdown",
   "metadata": {
    "id": "kD4nE_JTrwLB"
   },
   "source": [
    "## ■ 문제 3-5. DIFFERENCE 연산 수행하기\n",
    "P 와 S의 DIFFERENCE 대한 값을 계산하시오\n",
    "두가지 방법 이상이 기대될수 있다. 1) pd.concat을 사용하여 데이터프레임을 유지하거나, 2) 각 데이터에 대해 list 형태로 변환한 뒤에 계산하는 방법\n",
    "Difference 연산을 수행한 결과는 각각 4650, 2887 이되어야한다\n",
    "\n",
    "```\n",
    "https://pandas.pydata.org/pandas-docs/stable/reference/api/pandas.DataFrame.isin.html\n",
    "https://pandas.pydata.org/docs/reference/api/pandas.DataFrame.index.html\n",
    "https://www.w3schools.com/python/ref_set_difference.asp\n",
    "```"
   ]
  },
  {
   "cell_type": "code",
   "metadata": {
    "id": "ejba9LGMDHz6"
   },
   "source": [
    "#1번 방법으로 푸는 아이디어\n",
    "# 합집합구하고\n",
    "# 그중 P가 포함되어있는 것을 제외하고 인덱싱  False값들을 저장\n",
    "# 이렇게 되면 순수S만 남는다.\n",
    "# my_df=my_df[['08시-09시','17시-18시']]\n",
    "# P = my_df.loc[my_df['08시-09시'] > 1000]\n",
    "# S = my_df.loc[my_df['17시-18시'] > 1000]\n",
    "# result=pd.concat([P,S])\n",
    "# union=result.drop_duplicates() \n",
    "# P_Diffrence=union[union.isin(P)]\n",
    "# A=P_Diffrence.dropna(axis=0)\n",
    "# A.drop_duplicates()\n",
    "# A\n",
    "\n"
   ],
   "execution_count": 44,
   "outputs": []
  },
  {
   "cell_type": "code",
   "metadata": {
    "id": "gZ0kiIbAInJb",
    "colab": {
     "base_uri": "https://localhost:8080/"
    },
    "outputId": "e3197993-d2a6-4646-a113-9fbb277c4a0c"
   },
   "source": [
    "#2번의 방법으로는 성공\n",
    "P = my_df.loc[my_df['08시-09시'] > 1000]\n",
    "S = my_df.loc[my_df['17시-18시'] > 1000]\n",
    "\n",
    "P=P.values.tolist()\n",
    "S=S.values.tolist()\n",
    "P_set=set(tuple(row) for row in P)\n",
    "S_set=set(tuple(row) for row in S)\n",
    "result=P_set.difference(S_set)\n",
    "print(len(result))\n",
    "result2=S_set.difference(P_set)\n",
    "print(len(result2))"
   ],
   "execution_count": 45,
   "outputs": [
    {
     "output_type": "stream",
     "name": "stdout",
     "text": [
      "4650\n",
      "2887\n"
     ]
    }
   ]
  },
  {
   "cell_type": "markdown",
   "metadata": {
    "id": "EkEFm4HfNvln"
   },
   "source": [
    "## ■ 문제 3-6. isSubset 함수 만들기\n",
    "만약 데이터프레임 dfA, dfB가 주어질 때,\n",
    "dfA가 dfB의 서브셋이고, dfA가 dfB의 서브셋이라면(동치=equivalence) return True\n",
    "만약 dfA가 dfB의 서브셋이고 그 반대는 성립하지 않는 경우에도 return True\n",
    "그 외(서로의 서브셋이 아닌 경우, dfB가 dfA의 서브셋이지만 그 반대는 성립하지 않는 경우)는 return False\n",
    "을 반환하는 함수를 작성하여라"
   ]
  },
  {
   "cell_type": "code",
   "metadata": {
    "id": "RtAYPFyRNzgs",
    "colab": {
     "base_uri": "https://localhost:8080/"
    },
    "outputId": "4d429ba1-fb77-468c-b79c-33ed56c718de"
   },
   "source": [
    "\n",
    "\n",
    "def isSubset(dfA, dfB):\n",
    "   dfA_set=set(tuple(row) for row in dfA)\n",
    "   dfB_set=set(tuple(row) for row in dfB)\n",
    "   if (dfA_set.issubset(dfB_set) and dfB_set.issubset(dfA_set)): #동치인경우\n",
    "      return True\n",
    "   elif dfA_set.issubset(dfB_set) and not dfB_set.issubset(dfA_set): #dfA가 dfB의 서브셋이고 그반대는 성립하지 않는경우\n",
    "      return True\n",
    "   elif dfB_set.issubset(dfA_set) and not dfA_set.issubset(dfB_set): #dfB가 dfA의 서브셋이지만 그반대는 성립하지않는 경우\n",
    "     return False\n",
    "   else: #그외 (서로가 서브셋이 아닌경우)\n",
    "     return False\n",
    "intersect_commute=f\n",
    "P_only=result\n",
    "\n",
    "print(isSubset(P,intersect_commute))# == isSubset(P, intersect_commute)\n",
    "print(isSubset(P,P)) \n",
    "print(isSubset(P,S)) \n",
    "print(isSubset(P,P_only))# == isSubset(P, P_only)\n",
    "\n",
    "# isSubset(P, intersect_commute)\n",
    "# isSubset(P, P)\n",
    "# isSubset(P, S)\n",
    "# isSubset(P, P_only)"
   ],
   "execution_count": 46,
   "outputs": [
    {
     "output_type": "stream",
     "name": "stdout",
     "text": [
      "False\n",
      "True\n",
      "False\n",
      "False\n"
     ]
    }
   ]
  }
 ]
}