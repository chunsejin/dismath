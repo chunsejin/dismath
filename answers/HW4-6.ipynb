{
 "nbformat": 4,
 "nbformat_minor": 0,
 "metadata": {
  "colab": {
   "name": "1824160_김민석 HW4~6",
   "provenance": [],
   "collapsed_sections": [],
   "toc_visible": true
  },
  "kernelspec": {
   "name": "python3",
   "display_name": "Python 3"
  },
  "language_info": {
   "name": "python"
  }
 },
 "cells": [
  {
   "cell_type": "markdown",
   "source": [
    "# 과제 4 & 5 & 6: 관계에 대한 이해 및 그래프 생성/분석\n",
    "---\n",
    "박정현(pwjdgus1017@donga.ac.kr), 배정훈(rhenus9911@gmail.com), 최재혁(fkdlfkdl68@donga.ac.kr), 권건우(a71463092@gmail.com)\n",
    "정답 작성: 김민석\n",
    "---\n",
    "우리는 관계 강의를 통해 그래프에 대한 구성을 이론적으로 학습하였다. 구체적으로, 유향/무향 그래프 및 관계행렬 등을 그래프 표현으로 배웠다. 하지만, 강의에서 학습한 데이터는 단순한 숫자(1,2,3,..)/문자형(a,b,c,..)이었기 때문에 실제 세계에서 적용하기는 어렵다.\n",
    "\n",
    "본 프로그래밍 과정을 통해, 실제 데이터를 어떻게 그래프 모델로 표현하고, 또한 그래프의 이론적인 방법을 실용적으로 어떻게 응용하는지에 대해서 배울 예정이다.\n",
    "\n",
    "\n"
   ],
   "metadata": {
    "collapsed": false
   }
  },
  {
   "cell_type": "markdown",
   "metadata": {
    "id": "LyFhqIPQ2WFt"
   },
   "source": [
    "# 해당파일 활용 방법- [메뉴] 파일->드라이브에 사본 저장을 통해서 프로그램 실행하시면 됩니다."
   ]
  },
  {
   "cell_type": "markdown",
   "metadata": {
    "collapsed": false,
    "pycharm": {
     "name": "#%% md\n"
    },
    "id": "2fkhiOxW1uS1"
   },
   "source": [
    "# 과제 도우미 학생을 통해 문제 해결이 어려운 경우, 가상대학의 문의게시판에 궁금한 부분을 게재하시기 바랍니다."
   ]
  },
  {
   "cell_type": "markdown",
   "metadata": {
    "id": "tp5ObGzXM0Gz"
   },
   "source": [
    "# numpy 사용하기\n",
    "Numpy는 C언어로 구현된 파이썬 라이브러리로써, 고성능의 수치계산을 위해 제작되었습니다. Numpy(Numerical Python의 줄임말)는 벡터 및 행렬 연산에 있어서 매우 편리한 기능을 제공합니다.\n",
    "\n",
    "이미 경험한 pandas와 matplotlib의 기반으로 사용될 수 도 있습니다. 예로, 라이브러리를 사용하면 numpy의 행렬을 pandas데이터로 변환할 수 있습니다.\n",
    "\n",
    "기본적으로 Numpy는 배열/행렬(array) 단위로 데이터를 기본으로합니다. 따라서 1d, 2d, 3d(d는 차원으로써 dimention의 약어)에 기반한 배열 연산을 수행합니다.\n",
    "\n",
    "\n",
    "** numpy는 워낙 방대하기 때문에 본 챕터에서는 관계행렬 혹은 가중치 그래프 중심의 행렬 연산을 주로 배울 예정입니다. \n",
    "\n",
    "\n",
    "세부적으로, 공부하고 싶은 학생은 \"파이썬과 NumPy로 배우는 선형대수\", \"Mastering Numerical Computing with NumPy\" 등와 같은 도서를 구입하고 별도로 공부하길 바랍니다."
   ]
  },
  {
   "cell_type": "markdown",
   "metadata": {
    "id": "gWi8XPQyNa6l"
   },
   "source": [
    "## numpy 데이터 선언하기"
   ]
  },
  {
   "cell_type": "code",
   "metadata": {
    "id": "isi10GTmLzeX"
   },
   "source": [
    "import numpy as np"
   ],
   "execution_count": 157,
   "outputs": []
  },
  {
   "cell_type": "code",
   "metadata": {
    "colab": {
     "base_uri": "https://localhost:8080/"
    },
    "id": "tOsZFgDWMzbH",
    "outputId": "d244edce-c362-4c11-e843-b7e7c7c89fe8"
   },
   "source": [
    "data1 = [1,2,3,4,5]\n",
    "data1"
   ],
   "execution_count": 158,
   "outputs": [
    {
     "output_type": "execute_result",
     "data": {
      "text/plain": [
       "[1, 2, 3, 4, 5]"
      ]
     },
     "metadata": {},
     "execution_count": 158
    }
   ]
  },
  {
   "cell_type": "code",
   "metadata": {
    "colab": {
     "base_uri": "https://localhost:8080/"
    },
    "id": "N4MVMfnhNE2Z",
    "outputId": "7cf24864-abfe-4610-ceac-dd22123e9826"
   },
   "source": [
    "arr1 = np.array(data1)\n",
    "arr1"
   ],
   "execution_count": 159,
   "outputs": [
    {
     "output_type": "execute_result",
     "data": {
      "text/plain": [
       "array([1, 2, 3, 4, 5])"
      ]
     },
     "metadata": {},
     "execution_count": 159
    }
   ]
  },
  {
   "cell_type": "code",
   "metadata": {
    "colab": {
     "base_uri": "https://localhost:8080/"
    },
    "id": "cZwlYeuCNGJG",
    "outputId": "12a7d30b-dacd-4281-c446-a500fdf58e25"
   },
   "source": [
    "arr1.shape"
   ],
   "execution_count": 160,
   "outputs": [
    {
     "output_type": "execute_result",
     "data": {
      "text/plain": [
       "(5,)"
      ]
     },
     "metadata": {},
     "execution_count": 160
    }
   ]
  },
  {
   "cell_type": "code",
   "metadata": {
    "colab": {
     "base_uri": "https://localhost:8080/"
    },
    "id": "-sjYb-BvNLHc",
    "outputId": "8a6f4ec7-eda5-4707-c7c9-b98022bcbc9c"
   },
   "source": [
    "arr4 = np.array([[1,2,3],[4,5,6],[7,8,9],[10,11,12]])\n",
    "arr4"
   ],
   "execution_count": 161,
   "outputs": [
    {
     "output_type": "execute_result",
     "data": {
      "text/plain": [
       "array([[ 1,  2,  3],\n",
       "       [ 4,  5,  6],\n",
       "       [ 7,  8,  9],\n",
       "       [10, 11, 12]])"
      ]
     },
     "metadata": {},
     "execution_count": 161
    }
   ]
  },
  {
   "cell_type": "code",
   "metadata": {
    "colab": {
     "base_uri": "https://localhost:8080/"
    },
    "id": "QMzlgPDxNN7n",
    "outputId": "e473caba-4f56-414f-8e7a-5b54f7e39d7e"
   },
   "source": [
    "np.zeros((3,3))"
   ],
   "execution_count": 162,
   "outputs": [
    {
     "output_type": "execute_result",
     "data": {
      "text/plain": [
       "array([[0., 0., 0.],\n",
       "       [0., 0., 0.],\n",
       "       [0., 0., 0.]])"
      ]
     },
     "metadata": {},
     "execution_count": 162
    }
   ]
  },
  {
   "cell_type": "code",
   "metadata": {
    "colab": {
     "base_uri": "https://localhost:8080/"
    },
    "id": "7sAFH9_2NPd6",
    "outputId": "eb8021a8-9f72-4ebc-abdf-274f06c40b84"
   },
   "source": [
    "np.ones((3, 3))"
   ],
   "execution_count": 163,
   "outputs": [
    {
     "output_type": "execute_result",
     "data": {
      "text/plain": [
       "array([[1., 1., 1.],\n",
       "       [1., 1., 1.],\n",
       "       [1., 1., 1.]])"
      ]
     },
     "metadata": {},
     "execution_count": 163
    }
   ]
  },
  {
   "cell_type": "markdown",
   "metadata": {
    "id": "f28taIOvNi6I"
   },
   "source": [
    "## numpy 데이터간 연산하기"
   ]
  },
  {
   "cell_type": "code",
   "metadata": {
    "id": "klu1xROpNYuQ"
   },
   "source": [
    "arr1 = np.array([[True,True],[False, False]])"
   ],
   "execution_count": 164,
   "outputs": []
  },
  {
   "cell_type": "code",
   "metadata": {
    "id": "WnA_hS-mPAT0"
   },
   "source": [
    "arr2 = np.array([[True,True],[True, False]])"
   ],
   "execution_count": 165,
   "outputs": []
  },
  {
   "cell_type": "code",
   "metadata": {
    "id": "kb7nTxouQLwc",
    "colab": {
     "base_uri": "https://localhost:8080/"
    },
    "outputId": "b98d8566-4ca0-420f-a3bf-bfab858cae3f"
   },
   "source": [
    "# 논리합 계산하기\n",
    "# astype(int)를 통해서 True/False 값을 0/1로 변환하기\n",
    "np.logical_and(arr1, arr2).astype(int)"
   ],
   "execution_count": 166,
   "outputs": [
    {
     "output_type": "execute_result",
     "data": {
      "text/plain": [
       "array([[1, 1],\n",
       "       [0, 0]])"
      ]
     },
     "metadata": {},
     "execution_count": 166
    }
   ]
  },
  {
   "cell_type": "markdown",
   "metadata": {
    "id": "BZSSeDl2QMSS"
   },
   "source": [
    "# 관계에 대한 이해\n"
   ]
  },
  {
   "cell_type": "code",
   "metadata": {
    "id": "13ofWymuRppT"
   },
   "source": [
    "def gen_rand_boolean_matrix(N):\n",
    "  arr = np.full((N,N), False)\n",
    "  idx = np.random.randint(N, size=N)\n",
    "\n",
    "  # replace \"False\" by \"True\" at given indices\n",
    "  arr[range(N), idx] = True\n",
    "  return arr"
   ],
   "execution_count": 167,
   "outputs": []
  },
  {
   "cell_type": "code",
   "metadata": {
    "colab": {
     "base_uri": "https://localhost:8080/"
    },
    "id": "U-bN2qpwQtWd",
    "outputId": "809b6671-b578-4cfb-c165-a57be29779d2"
   },
   "source": [
    "M = 8\n",
    "R = gen_rand_boolean_matrix(M)\n",
    "R.astype(int)"
   ],
   "execution_count": 168,
   "outputs": [
    {
     "output_type": "execute_result",
     "data": {
      "text/plain": [
       "array([[0, 0, 0, 0, 0, 0, 1, 0],\n",
       "       [0, 0, 0, 0, 0, 0, 1, 0],\n",
       "       [0, 0, 0, 0, 0, 0, 0, 1],\n",
       "       [0, 0, 0, 0, 1, 0, 0, 0],\n",
       "       [0, 0, 0, 0, 0, 0, 0, 1],\n",
       "       [0, 1, 0, 0, 0, 0, 0, 0],\n",
       "       [0, 0, 0, 1, 0, 0, 0, 0],\n",
       "       [0, 0, 1, 0, 0, 0, 0, 0]])"
      ]
     },
     "metadata": {},
     "execution_count": 168
    }
   ]
  },
  {
   "cell_type": "code",
   "metadata": {
    "id": "AWWVgk40SD3h",
    "colab": {
     "base_uri": "https://localhost:8080/"
    },
    "outputId": "1718397e-f2ce-488d-b342-cdab5d1518ca"
   },
   "source": [
    "S = gen_rand_boolean_matrix(M)\n",
    "S.astype(int)"
   ],
   "execution_count": 169,
   "outputs": [
    {
     "output_type": "execute_result",
     "data": {
      "text/plain": [
       "array([[1, 0, 0, 0, 0, 0, 0, 0],\n",
       "       [1, 0, 0, 0, 0, 0, 0, 0],\n",
       "       [0, 0, 0, 0, 0, 0, 0, 1],\n",
       "       [0, 0, 1, 0, 0, 0, 0, 0],\n",
       "       [0, 0, 0, 0, 0, 1, 0, 0],\n",
       "       [0, 0, 0, 0, 0, 0, 0, 1],\n",
       "       [0, 0, 0, 1, 0, 0, 0, 0],\n",
       "       [0, 0, 0, 0, 1, 0, 0, 0]])"
      ]
     },
     "metadata": {},
     "execution_count": 169
    }
   ]
  },
  {
   "cell_type": "code",
   "metadata": {
    "colab": {
     "base_uri": "https://localhost:8080/"
    },
    "id": "8fkPgk9kS5tr",
    "outputId": "0745f1c9-e26e-498e-8ac7-ba4a3b066bc8"
   },
   "source": [
    "R_and_S = np.logical_and(R,S) \n",
    "R_and_S"
   ],
   "execution_count": 170,
   "outputs": [
    {
     "output_type": "execute_result",
     "data": {
      "text/plain": [
       "array([[False, False, False, False, False, False, False, False],\n",
       "       [False, False, False, False, False, False, False, False],\n",
       "       [False, False, False, False, False, False, False,  True],\n",
       "       [False, False, False, False, False, False, False, False],\n",
       "       [False, False, False, False, False, False, False, False],\n",
       "       [False, False, False, False, False, False, False, False],\n",
       "       [False, False, False,  True, False, False, False, False],\n",
       "       [False, False, False, False, False, False, False, False]])"
      ]
     },
     "metadata": {},
     "execution_count": 170
    }
   ]
  },
  {
   "cell_type": "code",
   "metadata": {
    "colab": {
     "base_uri": "https://localhost:8080/"
    },
    "id": "R0mSenSPTGP9",
    "outputId": "9adb0e7f-ff73-4f27-bce0-7e98062e3dbe"
   },
   "source": [
    "R_and_S.astype(int)"
   ],
   "execution_count": 171,
   "outputs": [
    {
     "output_type": "execute_result",
     "data": {
      "text/plain": [
       "array([[0, 0, 0, 0, 0, 0, 0, 0],\n",
       "       [0, 0, 0, 0, 0, 0, 0, 0],\n",
       "       [0, 0, 0, 0, 0, 0, 0, 1],\n",
       "       [0, 0, 0, 0, 0, 0, 0, 0],\n",
       "       [0, 0, 0, 0, 0, 0, 0, 0],\n",
       "       [0, 0, 0, 0, 0, 0, 0, 0],\n",
       "       [0, 0, 0, 1, 0, 0, 0, 0],\n",
       "       [0, 0, 0, 0, 0, 0, 0, 0]])"
      ]
     },
     "metadata": {},
     "execution_count": 171
    }
   ]
  },
  {
   "cell_type": "markdown",
   "metadata": {
    "id": "KGYZ2J5tTdzb"
   },
   "source": [
    "## 문제 4-1: 부울곱(Boolean Product)을 생성하시오"
   ]
  },
  {
   "cell_type": "code",
   "metadata": {
    "id": "dKvnbno3fFMp"
   },
   "source": [
    "def my_boolean_product(R,S):\n",
    "  M=np.zeros((len(R[0]),len(R[0])))\n",
    "  for i in range(len(R[0])):\n",
    "    for j in range(len(R[0])):\n",
    "      for k in range(len(R[0])):\n",
    "        M[i,j]=np.logical_or(M[i,j],np.logical_and(R[i,k],S[k,j]))\n",
    "  M=M.astype(int)\n",
    "  return M\n",
    "\n",
    "  '''\n",
    "  주어진 관계 매트릭스로부터 부울곱 (Boolean Product)한 결과를 계산하시오\n",
    "  :param R: NxN Boolean 기반 관계행렬\n",
    "  :param S: NxN Boolean 기반 관계행렬\n",
    "  :return: NxN Boolean 기반 관계행렬\n",
    "  '''\n"
   ],
   "execution_count": 172,
   "outputs": []
  },
  {
   "cell_type": "code",
   "metadata": {
    "pycharm": {
     "name": "#%%\n"
    },
    "colab": {
     "base_uri": "https://localhost:8080/"
    },
    "id": "pkXAmdMP1uS9",
    "outputId": "45d8f8db-0841-4652-c1b3-a71cdc68539b"
   },
   "source": [
    "my_boolean_product(R,S)"
   ],
   "execution_count": 173,
   "outputs": [
    {
     "output_type": "execute_result",
     "data": {
      "text/plain": [
       "array([[0, 0, 0, 1, 0, 0, 0, 0],\n",
       "       [0, 0, 0, 1, 0, 0, 0, 0],\n",
       "       [0, 0, 0, 0, 1, 0, 0, 0],\n",
       "       [0, 0, 0, 0, 0, 1, 0, 0],\n",
       "       [0, 0, 0, 0, 1, 0, 0, 0],\n",
       "       [1, 0, 0, 0, 0, 0, 0, 0],\n",
       "       [0, 0, 1, 0, 0, 0, 0, 0],\n",
       "       [0, 0, 0, 0, 0, 0, 0, 1]])"
      ]
     },
     "metadata": {},
     "execution_count": 173
    }
   ]
  },
  {
   "cell_type": "markdown",
   "metadata": {
    "id": "bPywG3lfToq3"
   },
   "source": [
    "## 문제 4-2: Transitive Relation, Symmetric Relation, Reflexive Relation\n",
    "주어진 행렬 M이 Transitive Relation, Symmetric Relation, Reflexive Relation, 만족하는 지를 확인하는 메소드를 만드시오"
   ]
  },
  {
   "cell_type": "code",
   "metadata": {
    "id": "VnBRToAkezZL"
   },
   "source": [
    "def is_transitive_relation(M):\n",
    "  check_zero_relation=np.zeros((len(M),len(M)))\n",
    "  if np.array_equal(M,check_zero_relation):\n",
    "    \n",
    "    return False\n",
    "  R=my_boolean_product(M,M)\n",
    "  if np.array_equal(R,M):\n",
    "    return True\n",
    "    \n",
    "  '''\n",
    "  추이 관계인지를 확인하는 함수\n",
    "  :param M: NxN Boolean 기반 관계행렬\n",
    "  :return: True / False\n",
    "  '''\n",
    "  return False"
   ],
   "execution_count": 174,
   "outputs": []
  },
  {
   "cell_type": "code",
   "metadata": {
    "pycharm": {
     "name": "#%%\n"
    },
    "id": "W0wrmMbX1uS-"
   },
   "source": [
    "def is_symmetric_relation(M):\n",
    "  check_zero_relation=np.zeros((len(M),len(M)))\n",
    "  if np.array_equal(M,check_zero_relation):\n",
    "    \n",
    "    return False\n",
    "  S=len(M)\n",
    "  for i in range(S):\n",
    "    for j in range(S):\n",
    "      if M[i][j]==True:\n",
    "        if M[j][i]==True:\n",
    "          pass\n",
    "        else:\n",
    "          return False\n",
    "   \n",
    "  '''\n",
    "  대칭 관계인지를 확인하는 함수\n",
    "  :param M: NxN Boolean 기반 관계행렬\n",
    "  :return: True / False\n",
    "  '''\n",
    "  return True"
   ],
   "execution_count": 175,
   "outputs": []
  },
  {
   "cell_type": "code",
   "metadata": {
    "pycharm": {
     "name": "#%%\n"
    },
    "id": "nVtVm3xB1uS-"
   },
   "source": [
    "def is_reflexive_relation(M):\n",
    "  check_zero_relation=np.zeros((len(M),len(M)))\n",
    "  if np.array_equal(M,check_zero_relation):\n",
    "    \n",
    "    return False\n",
    "  reflex_count=0\n",
    "  for i in range(len(M)):\n",
    "    for j in range(len(M)):\n",
    "      if i==j:\n",
    "        if M[i,j]==True:\n",
    "          reflex_count+=1\n",
    "  if reflex_count==len(M):\n",
    "    return True\n",
    "  '''\n",
    "  반사 관계인지를 확인하는 함수\n",
    "  :param M: NxN Boolean 기반 관계행렬\n",
    "  :return: True / False\n",
    "  '''\n",
    "  return False"
   ],
   "execution_count": 176,
   "outputs": []
  },
  {
   "cell_type": "code",
   "metadata": {
    "pycharm": {
     "name": "#%%\n"
    },
    "colab": {
     "base_uri": "https://localhost:8080/"
    },
    "id": "pE8yK-7g1uS-",
    "outputId": "e57ec2a0-2fdb-440c-9a26-1882010f76da"
   },
   "source": [
    "M = np.full((3,3), True)\n",
    "M"
   ],
   "execution_count": 177,
   "outputs": [
    {
     "output_type": "execute_result",
     "data": {
      "text/plain": [
       "array([[ True,  True,  True],\n",
       "       [ True,  True,  True],\n",
       "       [ True,  True,  True]])"
      ]
     },
     "metadata": {},
     "execution_count": 177
    }
   ]
  },
  {
   "cell_type": "code",
   "metadata": {
    "pycharm": {
     "name": "#%%\n"
    },
    "id": "o1nv4X0u1uS-",
    "colab": {
     "base_uri": "https://localhost:8080/"
    },
    "outputId": "60b0775c-f509-48e8-fe05-68f106984922"
   },
   "source": [
    "is_transitive_relation(M)"
   ],
   "execution_count": 178,
   "outputs": [
    {
     "output_type": "execute_result",
     "data": {
      "text/plain": [
       "True"
      ]
     },
     "metadata": {},
     "execution_count": 178
    }
   ]
  },
  {
   "cell_type": "code",
   "metadata": {
    "pycharm": {
     "name": "#%%\n"
    },
    "id": "EM7O4lZy1uS-",
    "colab": {
     "base_uri": "https://localhost:8080/"
    },
    "outputId": "1006158c-db1b-4f0c-e53a-a32d202f0321"
   },
   "source": [
    "is_symmetric_relation(M)"
   ],
   "execution_count": 179,
   "outputs": [
    {
     "output_type": "execute_result",
     "data": {
      "text/plain": [
       "True"
      ]
     },
     "metadata": {},
     "execution_count": 179
    }
   ]
  },
  {
   "cell_type": "code",
   "metadata": {
    "pycharm": {
     "name": "#%%\n"
    },
    "id": "xOWPMmzy1uS_",
    "colab": {
     "base_uri": "https://localhost:8080/"
    },
    "outputId": "7b2c32fd-6877-4ccb-c51e-58c9034dd75b"
   },
   "source": [
    "is_reflexive_relation(M)"
   ],
   "execution_count": 180,
   "outputs": [
    {
     "output_type": "execute_result",
     "data": {
      "text/plain": [
       "True"
      ]
     },
     "metadata": {},
     "execution_count": 180
    }
   ]
  },
  {
   "cell_type": "code",
   "metadata": {
    "pycharm": {
     "name": "#%%\n"
    },
    "id": "HSbGH7Tj1uS_",
    "colab": {
     "base_uri": "https://localhost:8080/"
    },
    "outputId": "773cae7f-3b48-44c3-b7c0-a700df7fd87d"
   },
   "source": [
    "M = np.full((3,3), False)\n",
    "M"
   ],
   "execution_count": 181,
   "outputs": [
    {
     "output_type": "execute_result",
     "data": {
      "text/plain": [
       "array([[False, False, False],\n",
       "       [False, False, False],\n",
       "       [False, False, False]])"
      ]
     },
     "metadata": {},
     "execution_count": 181
    }
   ]
  },
  {
   "cell_type": "code",
   "metadata": {
    "pycharm": {
     "name": "#%%\n"
    },
    "id": "9W4YdHdw1uTA",
    "colab": {
     "base_uri": "https://localhost:8080/"
    },
    "outputId": "e2b5d468-3e88-45f1-f1c9-480ceb6052f2"
   },
   "source": [
    "is_transitive_relation(M)"
   ],
   "execution_count": 182,
   "outputs": [
    {
     "output_type": "execute_result",
     "data": {
      "text/plain": [
       "False"
      ]
     },
     "metadata": {},
     "execution_count": 182
    }
   ]
  },
  {
   "cell_type": "code",
   "metadata": {
    "pycharm": {
     "name": "#%%\n"
    },
    "id": "lCM9JWTS1uTB",
    "colab": {
     "base_uri": "https://localhost:8080/"
    },
    "outputId": "b8e2b221-cb04-49d9-cb74-6a484dcc17a7"
   },
   "source": [
    "is_symmetric_relation(M)"
   ],
   "execution_count": 183,
   "outputs": [
    {
     "output_type": "execute_result",
     "data": {
      "text/plain": [
       "False"
      ]
     },
     "metadata": {},
     "execution_count": 183
    }
   ]
  },
  {
   "cell_type": "code",
   "metadata": {
    "pycharm": {
     "name": "#%%\n"
    },
    "id": "inoX3Ka_1uTB",
    "colab": {
     "base_uri": "https://localhost:8080/"
    },
    "outputId": "2cd08e18-6af4-461a-ab62-0252f5159028"
   },
   "source": [
    "is_reflexive_relation(M)"
   ],
   "execution_count": 184,
   "outputs": [
    {
     "output_type": "execute_result",
     "data": {
      "text/plain": [
       "False"
      ]
     },
     "metadata": {},
     "execution_count": 184
    }
   ]
  },
  {
   "cell_type": "markdown",
   "metadata": {
    "id": "0fpAZxLwe5FR"
   },
   "source": [
    "## 문제 4-3: Equivalence relation\n",
    "is_transitive, is_symmetric, is_reflexive_relation 메소드를 활용하여 equivalence relation인지를 확인하는 메소드를 생성하시오\n"
   ]
  },
  {
   "cell_type": "code",
   "metadata": {
    "id": "HyFu0yHwgPb1"
   },
   "source": [
    "def is_equivalence_relation(M):\n",
    "  if is_transitive_relation(M):\n",
    "    if is_symmetric_relation(M):\n",
    "      if is_reflexive_relation(M):\n",
    "        return True\n",
    "\n",
    "  '''\n",
    "  동치 관계인지를 확인하는 함수\n",
    "  :param M: NxN Boolean 기반 관계행렬\n",
    "  :return: True / False\n",
    "  '''\n",
    "  return False"
   ],
   "execution_count": 185,
   "outputs": []
  },
  {
   "cell_type": "code",
   "metadata": {
    "pycharm": {
     "name": "#%%\n"
    },
    "id": "VrkYWXpu1uTB",
    "colab": {
     "base_uri": "https://localhost:8080/"
    },
    "outputId": "e8638ed4-55ea-42ab-f3ea-992f2baa5d3f"
   },
   "source": [
    "M = np.array([[True,True,True,True],[False,True,False,True],[True,True,True,True],[True,True,True,True]])\n",
    "M"
   ],
   "execution_count": 186,
   "outputs": [
    {
     "output_type": "execute_result",
     "data": {
      "text/plain": [
       "array([[ True,  True,  True,  True],\n",
       "       [False,  True, False,  True],\n",
       "       [ True,  True,  True,  True],\n",
       "       [ True,  True,  True,  True]])"
      ]
     },
     "metadata": {},
     "execution_count": 186
    }
   ]
  },
  {
   "cell_type": "code",
   "metadata": {
    "pycharm": {
     "name": "#%%\n"
    },
    "id": "x1Tb0k2E1uTB",
    "colab": {
     "base_uri": "https://localhost:8080/"
    },
    "outputId": "92be69a5-3d97-4ddc-9f82-da3b4fbfafe7"
   },
   "source": [
    "is_equivalence_relation(M)"
   ],
   "execution_count": 187,
   "outputs": [
    {
     "output_type": "execute_result",
     "data": {
      "text/plain": [
       "False"
      ]
     },
     "metadata": {},
     "execution_count": 187
    }
   ]
  },
  {
   "cell_type": "code",
   "metadata": {
    "pycharm": {
     "name": "#%%\n"
    },
    "id": "_cUpvsXY1uTC",
    "colab": {
     "base_uri": "https://localhost:8080/"
    },
    "outputId": "193d5662-4bb2-4ecc-ebdf-39110a023e45"
   },
   "source": [
    "M = np.full((3,3), True)\n",
    "M"
   ],
   "execution_count": 188,
   "outputs": [
    {
     "output_type": "execute_result",
     "data": {
      "text/plain": [
       "array([[ True,  True,  True],\n",
       "       [ True,  True,  True],\n",
       "       [ True,  True,  True]])"
      ]
     },
     "metadata": {},
     "execution_count": 188
    }
   ]
  },
  {
   "cell_type": "code",
   "metadata": {
    "pycharm": {
     "name": "#%%\n"
    },
    "id": "ImTKG4rR1uTC",
    "colab": {
     "base_uri": "https://localhost:8080/"
    },
    "outputId": "bf41e93e-7d10-4575-9019-a220951d603e"
   },
   "source": [
    "is_equivalence_relation(M)"
   ],
   "execution_count": 189,
   "outputs": [
    {
     "output_type": "execute_result",
     "data": {
      "text/plain": [
       "True"
      ]
     },
     "metadata": {},
     "execution_count": 189
    }
   ]
  },
  {
   "cell_type": "markdown",
   "metadata": {
    "id": "MlocFs85gPxl"
   },
   "source": [
    "## 문제 4-4: Floyd Washall Algorithm\n",
    "플로이드 워셜 알고리즘을 작성하고, 이를 통해 주어진 관계행렬을 만족하는 가장 작은 동치 관계(Equivalence relation)를 구하여라\n",
    "플로이드 알고리즘은 외부 혹은 라이브러리를 사용해도 무관하다. 단 입출력은 만족해야한다."
   ]
  },
  {
   "cell_type": "code",
   "metadata": {
    "pycharm": {
     "name": "#%%\n"
    },
    "id": "dKIXmfTy1uTC"
   },
   "source": [
    "def floyd_washall(R, S):\n",
    "  W=R+S\n",
    "  k=len(W)\n",
    "  col=[]\n",
    "  row=[]\n",
    "  for i in range(k):\n",
    "    for j in range(k):\n",
    "      for l in range(k):\n",
    "        #열 확인 \n",
    "        if W[i,l]==True:\n",
    "          col.append(l)\n",
    "        #행 확인 \n",
    "        if W[l,i]==True:\n",
    "          row.append(l)\n",
    "    #열 행 으로 W갱신\n",
    "    for a in range(len(col)):\n",
    "      for b in range(len(row)):\n",
    "        W[col[a],row[b]]=True\n",
    "    col=[]\n",
    "    row=[]\n",
    "      \n",
    "  E = np.array([None, None]) # 수정해도 되는 부분\n",
    "  E=W\n",
    "  return E\n",
    "  # 관계행렬 R과 S를 입력으로 받아서 플로이드 워셜 알고리즘을 통해 가장 작은 동치 관계행렬을 반환한다\n",
    "  # :param R: NxN의 관계행렬\n",
    "  # :param S: NxN의 관계행렬\n",
    "  # :return: NxN의 관계행렬"
   ],
   "execution_count": 190,
   "outputs": []
  },
  {
   "cell_type": "code",
   "metadata": {
    "pycharm": {
     "name": "#%%\n"
    },
    "id": "lwH4AF4H1uTC",
    "colab": {
     "base_uri": "https://localhost:8080/"
    },
    "outputId": "ba6f9aad-68ee-42d3-b930-88da66b42d50"
   },
   "source": [
    "R = np.array([[True,True,False,False,False],[True,True,False,False,False],[False,False,True,True,False],[False,False,True,True,True],[False,False,False,False,True]])\n",
    "\n",
    "S = np.array([[True,False,False,False,False],[False,True,False,False,False],[False,False,True,False,False],[False,False,False,True,True],[False,False,False,True,True]])\n",
    "R"
   ],
   "execution_count": 191,
   "outputs": [
    {
     "output_type": "execute_result",
     "data": {
      "text/plain": [
       "array([[ True,  True, False, False, False],\n",
       "       [ True,  True, False, False, False],\n",
       "       [False, False,  True,  True, False],\n",
       "       [False, False,  True,  True,  True],\n",
       "       [False, False, False, False,  True]])"
      ]
     },
     "metadata": {},
     "execution_count": 191
    }
   ]
  },
  {
   "cell_type": "code",
   "metadata": {
    "pycharm": {
     "name": "#%%\n"
    },
    "id": "Y8UBNHxE1uTC",
    "colab": {
     "base_uri": "https://localhost:8080/"
    },
    "outputId": "b577e302-f83c-40cf-bca4-63218903b909"
   },
   "source": [
    "S"
   ],
   "execution_count": 192,
   "outputs": [
    {
     "output_type": "execute_result",
     "data": {
      "text/plain": [
       "array([[ True, False, False, False, False],\n",
       "       [False,  True, False, False, False],\n",
       "       [False, False,  True, False, False],\n",
       "       [False, False, False,  True,  True],\n",
       "       [False, False, False,  True,  True]])"
      ]
     },
     "metadata": {},
     "execution_count": 192
    }
   ]
  },
  {
   "cell_type": "code",
   "metadata": {
    "pycharm": {
     "name": "#%%\n"
    },
    "id": "49aQPHJ11uTD",
    "colab": {
     "base_uri": "https://localhost:8080/"
    },
    "outputId": "36eff5e5-d7ae-4978-a510-789ed0f52fe2"
   },
   "source": [
    "# 슬라이드 관계 챕터에서, p105의 정답과 동일해야함\n",
    "floyd_washall(R, S)\n"
   ],
   "execution_count": 193,
   "outputs": [
    {
     "output_type": "execute_result",
     "data": {
      "text/plain": [
       "array([[ True,  True, False, False, False],\n",
       "       [ True,  True, False, False, False],\n",
       "       [False, False,  True,  True,  True],\n",
       "       [False, False,  True,  True,  True],\n",
       "       [False, False,  True,  True,  True]])"
      ]
     },
     "metadata": {},
     "execution_count": 193
    }
   ]
  },
  {
   "cell_type": "markdown",
   "metadata": {
    "id": "BnJ0u5qZgwjo"
   },
   "source": [
    "# 그래프 생성하기\n",
    "그래프의 edge와 vertex(node)를 생성하는 방법을 배웁니다"
   ]
  },
  {
   "cell_type": "code",
   "metadata": {
    "id": "OvfK1glUhf1I"
   },
   "source": [
    "import networkx as nx"
   ],
   "execution_count": 194,
   "outputs": []
  },
  {
   "cell_type": "code",
   "metadata": {
    "pycharm": {
     "name": "#%%\n"
    },
    "id": "iv-7IZxV1uTD"
   },
   "source": [
    "# 기본 그래프 선언\n",
    "g=nx.Graph()"
   ],
   "execution_count": 195,
   "outputs": []
  },
  {
   "cell_type": "markdown",
   "metadata": {
    "collapsed": false,
    "pycharm": {
     "name": "#%% md\n"
    },
    "id": "X12vXI7v1uTD"
   },
   "source": [
    "add_node: 노드를 추가합니다.\n",
    "add_nodes_from: 리스트 등으로부터 여러 노드를 추가합니다"
   ]
  },
  {
   "cell_type": "code",
   "metadata": {
    "pycharm": {
     "name": "#%%\n"
    },
    "id": "YYzSj7Qk1uTD"
   },
   "source": [
    "g.add_node(\"A\")\n",
    "g.add_node(\"B\")\n",
    "g.add_node(\"C\")\n",
    "g.add_nodes_from([\"D\",\"E\",\"F\"])\n",
    "g.add_node(\"G\")"
   ],
   "execution_count": 196,
   "outputs": []
  },
  {
   "cell_type": "code",
   "metadata": {
    "pycharm": {
     "name": "#%%\n"
    },
    "colab": {
     "base_uri": "https://localhost:8080/"
    },
    "id": "hfmry0Ov1uTD",
    "outputId": "542f434e-2bb4-4d14-a613-6d36aef4513a"
   },
   "source": [
    "g.nodes"
   ],
   "execution_count": 197,
   "outputs": [
    {
     "output_type": "execute_result",
     "data": {
      "text/plain": [
       "NodeView(('A', 'B', 'C', 'D', 'E', 'F', 'G'))"
      ]
     },
     "metadata": {},
     "execution_count": 197
    }
   ]
  },
  {
   "cell_type": "code",
   "metadata": {
    "pycharm": {
     "name": "#%%\n"
    },
    "colab": {
     "base_uri": "https://localhost:8080/"
    },
    "id": "AI2JA3w31uTD",
    "outputId": "57aca235-f38d-41c7-9029-ee9883d35f01"
   },
   "source": [
    "# 노드의 수를 확인합니다.\n",
    "g.number_of_nodes()"
   ],
   "execution_count": 198,
   "outputs": [
    {
     "output_type": "execute_result",
     "data": {
      "text/plain": [
       "7"
      ]
     },
     "metadata": {},
     "execution_count": 198
    }
   ]
  },
  {
   "cell_type": "code",
   "metadata": {
    "pycharm": {
     "name": "#%%\n"
    },
    "id": "BCqOh-9W1uTE"
   },
   "source": [
    "g.remove_node(\"G\")"
   ],
   "execution_count": 199,
   "outputs": []
  },
  {
   "cell_type": "code",
   "metadata": {
    "pycharm": {
     "name": "#%%\n"
    },
    "id": "XBaXz9a41uTE"
   },
   "source": [
    "g.add_edge(\"A\",\"C\")\n",
    "g.add_edge(\"A\",\"D\")\n",
    "g.add_edge(\"A\",\"E\")\n",
    "g.add_edge(\"A\",\"F\")\n",
    "g.add_edges_from([(\"B\",\"B\"),(\"B\",\"C\"),(\"B\",\"D\"),(\"B\",\"F\")])\n",
    "g.add_edge(\"D\",\"E\")\n",
    "g.add_edge(\"C\",\"D\")\n",
    "g.add_edge(\"C\",\"F\")\n",
    "g.add_edge(\"E\",\"E\")"
   ],
   "execution_count": 200,
   "outputs": []
  },
  {
   "cell_type": "code",
   "metadata": {
    "pycharm": {
     "name": "#%%\n"
    },
    "colab": {
     "base_uri": "https://localhost:8080/"
    },
    "id": "i8c7gikA1uTE",
    "outputId": "521611fb-c2b9-4cad-af7d-680ff3010a1e"
   },
   "source": [
    "g.number_of_edges()"
   ],
   "execution_count": 201,
   "outputs": [
    {
     "output_type": "execute_result",
     "data": {
      "text/plain": [
       "12"
      ]
     },
     "metadata": {},
     "execution_count": 201
    }
   ]
  },
  {
   "cell_type": "code",
   "metadata": {
    "pycharm": {
     "name": "#%%\n"
    },
    "id": "ETcR_0vz1uTE",
    "colab": {
     "base_uri": "https://localhost:8080/",
     "height": 319
    },
    "outputId": "5dac2d2d-93cb-46d3-e064-b1a56370a574"
   },
   "source": [
    "# 그래프 화면 출력\n",
    "nx.draw(g, with_labels = True)"
   ],
   "execution_count": 202,
   "outputs": [
    {
     "output_type": "display_data",
     "data": {
      "image/png": "[encoded data removed]",
      "text/plain": [
       "<Figure size 432x288 with 1 Axes>"
      ]
     },
     "metadata": {}
    }
   ]
  },
  {
   "cell_type": "code",
   "metadata": {
    "pycharm": {
     "name": "#%%\n"
    },
    "id": "K8B2Hise1uTE"
   },
   "source": [
    "# 엣지 제거\n",
    "g.remove_edge(\"C\",\"D\")"
   ],
   "execution_count": 203,
   "outputs": []
  },
  {
   "cell_type": "code",
   "metadata": {
    "pycharm": {
     "name": "#%%\n"
    },
    "colab": {
     "base_uri": "https://localhost:8080/"
    },
    "id": "kLGt447P1uTE",
    "outputId": "c58b861d-0c51-4f96-c9c4-307a66f9c4c8"
   },
   "source": [
    "g.edges"
   ],
   "execution_count": 204,
   "outputs": [
    {
     "output_type": "execute_result",
     "data": {
      "text/plain": [
       "EdgeView([('A', 'C'), ('A', 'D'), ('A', 'E'), ('A', 'F'), ('B', 'B'), ('B', 'C'), ('B', 'D'), ('B', 'F'), ('C', 'F'), ('D', 'E'), ('E', 'E')])"
      ]
     },
     "metadata": {},
     "execution_count": 204
    }
   ]
  },
  {
   "cell_type": "code",
   "metadata": {
    "pycharm": {
     "name": "#%%\n"
    },
    "colab": {
     "base_uri": "https://localhost:8080/",
     "height": 319
    },
    "id": "_w-yYpEh1uTE",
    "outputId": "9be0e47e-5d35-4290-cc15-1f05e122c968"
   },
   "source": [
    "nx.draw(g, with_labels = True)"
   ],
   "execution_count": 205,
   "outputs": [
    {
     "output_type": "display_data",
     "data": {
      "image/png": "[encoded data removed]",
      "text/plain": [
       "<Figure size 432x288 with 1 Axes>"
      ]
     },
     "metadata": {}
    }
   ]
  },
  {
   "cell_type": "markdown",
   "metadata": {
    "collapsed": false,
    "pycharm": {
     "name": "#%% md\n"
    },
    "id": "2HQoV-711uTF"
   },
   "source": [
    "## 방향성 그래프 생성하기"
   ]
  },
  {
   "cell_type": "code",
   "metadata": {
    "pycharm": {
     "name": "#%%\n"
    },
    "id": "H4HFPSvS1uTF"
   },
   "source": [
    "G = nx.DiGraph()"
   ],
   "execution_count": 206,
   "outputs": []
  },
  {
   "cell_type": "code",
   "metadata": {
    "pycharm": {
     "name": "#%%\n"
    },
    "id": "cUlXCxbY1uTF"
   },
   "source": [
    "G.add_nodes_from(['A','B','C','D','E'])"
   ],
   "execution_count": 207,
   "outputs": []
  },
  {
   "cell_type": "code",
   "metadata": {
    "pycharm": {
     "name": "#%%\n"
    },
    "id": "jatZw1PL1uTF"
   },
   "source": [
    "G.add_edge('A','C',weight=8)\n",
    "G.add_edge('A','E',weight=10)\n",
    "G.add_edge('B','A',weight=15)\n",
    "G.add_edge('C','E',weight=23)\n",
    "G.add_edge('D','B',weight=17)\n",
    "G.add_edge('D','A',weight=27)\n",
    "G.add_edge('E','B',weight=11)\n",
    "G.add_edge('E','D',weight=5)"
   ],
   "execution_count": 208,
   "outputs": []
  },
  {
   "cell_type": "code",
   "metadata": {
    "pycharm": {
     "name": "#%%\n"
    },
    "colab": {
     "base_uri": "https://localhost:8080/",
     "height": 319
    },
    "id": "ntUl1dwJ1uTF",
    "outputId": "135529aa-55c1-412b-ceb7-9aaf98df7612"
   },
   "source": [
    "nx.draw(G, with_labels=True)"
   ],
   "execution_count": 209,
   "outputs": [
    {
     "output_type": "display_data",
     "data": {
      "image/png": "[encoded data removed]",
      "text/plain": [
       "<Figure size 432x288 with 1 Axes>"
      ]
     },
     "metadata": {}
    }
   ]
  },
  {
   "cell_type": "markdown",
   "metadata": {
    "collapsed": false,
    "pycharm": {
     "name": "#%% md\n"
    },
    "id": "lJvHGPbc1uTF"
   },
   "source": [
    "## Degree 이해하기"
   ]
  },
  {
   "cell_type": "code",
   "metadata": {
    "pycharm": {
     "name": "#%%\n"
    },
    "colab": {
     "base_uri": "https://localhost:8080/"
    },
    "id": "5XGY6ENM1uTF",
    "outputId": "2fc1af2a-5e89-4abf-fa8a-8f80c3470fb4"
   },
   "source": [
    "# in/out degree 출력\n",
    "G.degree"
   ],
   "execution_count": 210,
   "outputs": [
    {
     "output_type": "execute_result",
     "data": {
      "text/plain": [
       "DiDegreeView({'A': 4, 'B': 3, 'C': 2, 'D': 3, 'E': 4})"
      ]
     },
     "metadata": {},
     "execution_count": 210
    }
   ]
  },
  {
   "cell_type": "code",
   "metadata": {
    "pycharm": {
     "name": "#%%\n"
    },
    "colab": {
     "base_uri": "https://localhost:8080/"
    },
    "id": "ipU8dYMq1uTF",
    "outputId": "ed62479c-d2cc-4752-bf53-8fbe94e6bab1"
   },
   "source": [
    "# in_degree 출력\n",
    "G.in_degree()"
   ],
   "execution_count": 211,
   "outputs": [
    {
     "output_type": "execute_result",
     "data": {
      "text/plain": [
       "InDegreeView({'A': 2, 'B': 2, 'C': 1, 'D': 1, 'E': 2})"
      ]
     },
     "metadata": {},
     "execution_count": 211
    }
   ]
  },
  {
   "cell_type": "code",
   "metadata": {
    "pycharm": {
     "name": "#%%\n"
    },
    "colab": {
     "base_uri": "https://localhost:8080/"
    },
    "id": "NTBRcNi11uTF",
    "outputId": "2c4161b3-d2be-4f6b-e529-6d94e651fb7e"
   },
   "source": [
    "# out_degree 출력\n",
    "G.out_degree()"
   ],
   "execution_count": 212,
   "outputs": [
    {
     "output_type": "execute_result",
     "data": {
      "text/plain": [
       "OutDegreeView({'A': 2, 'B': 1, 'C': 1, 'D': 2, 'E': 2})"
      ]
     },
     "metadata": {},
     "execution_count": 212
    }
   ]
  },
  {
   "cell_type": "markdown",
   "metadata": {
    "collapsed": false,
    "pycharm": {
     "name": "#%% md\n"
    },
    "id": "h0B1q9Ha1uTG"
   },
   "source": [
    "## 전임노드(Predecessor node)와 후임노드(Successor node)란?\n",
    "Successor node: Digraph에서 기준이 되는 node의 edge에 의해 다음으로 가리키는 node를 뜻한다.\n",
    "\n",
    "Predecessor node: Digraph에서 기준이 되는 노드가 edge에 의해 가리켜지는  node를 뜻한다.\n",
    "\n",
    "예를 들어 A를 기준으로 치면 다음으로 가리키는 C, E가 Successor node가 된다.\n",
    "\n",
    "그리고 A를 기준으로 화살표를 받는 B,D가 Predecessor node가 된다."
   ]
  },
  {
   "cell_type": "code",
   "metadata": {
    "pycharm": {
     "name": "#%%\n"
    },
    "id": "gIz4zTy-1uTG",
    "colab": {
     "base_uri": "https://localhost:8080/"
    },
    "outputId": "451b905c-0c2e-4d3c-c039-3912646d82fc"
   },
   "source": [
    "# A의 successor nodes\n",
    "list(G.successors('A'))"
   ],
   "execution_count": 213,
   "outputs": [
    {
     "output_type": "execute_result",
     "data": {
      "text/plain": [
       "['C', 'E']"
      ]
     },
     "metadata": {},
     "execution_count": 213
    }
   ]
  },
  {
   "cell_type": "code",
   "metadata": {
    "pycharm": {
     "name": "#%%\n"
    },
    "colab": {
     "base_uri": "https://localhost:8080/"
    },
    "id": "5jgoeqoO1uTG",
    "outputId": "3a347105-e1ef-4d16-8a76-fc3976cfa240"
   },
   "source": [
    "# B의 successor nodes\n",
    "list(G.predecessors('A'))"
   ],
   "execution_count": 214,
   "outputs": [
    {
     "output_type": "execute_result",
     "data": {
      "text/plain": [
       "['B', 'D']"
      ]
     },
     "metadata": {},
     "execution_count": 214
    }
   ]
  },
  {
   "cell_type": "markdown",
   "metadata": {
    "collapsed": false,
    "pycharm": {
     "name": "#%% md\n"
    },
    "id": "s9QHSRNV1uTG"
   },
   "source": [
    "## 문제 5-1: 최고의 in-degree/out-degree 비율을 갖는 지점을 찾는 함수를 작성하여라."
   ]
  },
  {
   "cell_type": "code",
   "metadata": {
    "pycharm": {
     "name": "#%%\n"
    },
    "id": "yKzvDoL11uTG"
   },
   "source": [
    "# 랜덤으로 생성되는 방향을 가진 그래프 (directed graph)\n",
    "random_digraph = nx.fast_gnp_random_graph(10, 0.3, seed=None, directed=True)"
   ],
   "execution_count": 215,
   "outputs": []
  },
  {
   "cell_type": "code",
   "metadata": {
    "pycharm": {
     "name": "#%%\n"
    },
    "colab": {
     "base_uri": "https://localhost:8080/",
     "height": 319
    },
    "id": "u-MQgoXi1uTG",
    "outputId": "39a9ab89-6ecc-4d9b-b7a2-0532061703cc"
   },
   "source": [
    "nx.draw(random_digraph)"
   ],
   "execution_count": 216,
   "outputs": [
    {
     "output_type": "display_data",
     "data": {
      "image/png": "[encoded data removed]",
      "text/plain": [
       "<Figure size 432x288 with 1 Axes>"
      ]
     },
     "metadata": {}
    }
   ]
  },
  {
   "cell_type": "code",
   "metadata": {
    "pycharm": {
     "name": "#%%\n"
    },
    "id": "C2ICCJxX1uTG"
   },
   "source": [
    "def find_highest_custom_degree(graph):\n",
    "  '''\n",
    "  주어진 그래프로부터 제일 높은 custom_degree를 찾는 것을 목표한다.\n",
    "  구체적으로, 각 노드에서 custom_degree는  ( in_degree * 10 - out_degree * 5 ) 로 계산된다.\n",
    "  :param graph: 그래프\n",
    "  :return: 최대 높은 custom degree\n",
    "  '''\n",
    "  highest_score = -1\n",
    "  \n",
    "  for n in graph.nodes:\n",
    "    score = graph.in_degree[n] * 10 - graph.out_degree[n] * 5\n",
    "    if  highest_score < score:\n",
    "      highest_score=score\n",
    "        \n",
    "  return highest_score"
   ],
   "execution_count": 217,
   "outputs": []
  },
  {
   "cell_type": "code",
   "metadata": {
    "pycharm": {
     "name": "#%%\n"
    },
    "id": "n3-CoQvs1uTG",
    "colab": {
     "base_uri": "https://localhost:8080/"
    },
    "outputId": "7e3e135c-aa15-4d1d-a8b3-e9c4d9006fdf"
   },
   "source": [
    "find_highest_custom_degree(random_digraph)"
   ],
   "execution_count": 218,
   "outputs": [
    {
     "output_type": "execute_result",
     "data": {
      "text/plain": [
       "30"
      ]
     },
     "metadata": {},
     "execution_count": 218
    }
   ]
  },
  {
   "cell_type": "markdown",
   "metadata": {
    "collapsed": false,
    "pycharm": {
     "name": "#%% md\n"
    },
    "id": "N4dO0LWR1uTH"
   },
   "source": [
    "## 문제 5-2: 넓이 우선 검색(Breadth-First Search)  구현하기\n",
    "\n",
    "넓이 우선검색은 Level 우선 검색이라고도 한다. 가까운 근처 이웃부터 천천히 검색하는 방법이다. 즉, 주위의 정보를 먼저 검색하고 그 다음에 점점 먼 이웃을 검색하는 방법이다.\n",
    "\n",
    "connected_caveman_graph 는 k 크기의 l 개의 clique를 가진 caveman 그래프를 반환한다. 예로, 5-clique가 5개인 그래프를 다음과 같이 생성할 수 있다. 5-clique는 5명이 완벽하게 서로 커뮤니케이션하는 완전한 그래프라고 할 수 있다.\n",
    "\n"
   ]
  },
  {
   "cell_type": "code",
   "metadata": {
    "pycharm": {
     "name": "#%%\n"
    },
    "colab": {
     "base_uri": "https://localhost:8080/",
     "height": 319
    },
    "id": "MAcL9PUM1uTH",
    "outputId": "01b7f21b-3810-4c4e-bf33-ad0e589ee3db"
   },
   "source": [
    "g =  nx.connected_caveman_graph(5, 5)\n",
    "nx.draw(g, with_labels=True)"
   ],
   "execution_count": 219,
   "outputs": [
    {
     "output_type": "display_data",
     "data": {
      "image/png": "[encoded data removed]",
      "text/plain": [
       "<Figure size 432x288 with 1 Axes>"
      ]
     },
     "metadata": {}
    }
   ]
  },
  {
   "cell_type": "code",
   "metadata": {
    "pycharm": {
     "name": "#%%\n"
    },
    "id": "8G1bcknh1uTH"
   },
   "source": [
    "from collections import deque\n",
    "def bfs(graph,startnode):\n",
    "  visited=[]#방문했던 vertax\n",
    "  visit=[]#방문해야하는 vertax\n",
    "  first_visit=list(graph.adj[startnode])#제일처음 Entry Point\n",
    "  visit.append(first_visit)\n",
    "  visit=sum(visit,[])\n",
    "  visit=deque(visit)\n",
    "  visited.append(startnode)\n",
    "  while visit:\n",
    "    check_visit=visit.popleft()\n",
    "    if check_visit in visited:\n",
    "      pass\n",
    "    else:\n",
    "      visited.append(check_visit)\n",
    "      graph_adj=list(graph.adj[check_visit])\n",
    "      \n",
    "      for i in range(len(graph_adj)):\n",
    "        visit.append(graph_adj[i])\n",
    "          \n",
    "  last_visited=visited.pop()  \n",
    "  return last_visited\n",
    "    "
   ],
   "execution_count": 220,
   "outputs": []
  },
  {
   "cell_type": "code",
   "metadata": {
    "pycharm": {
     "name": "#%%\n"
    },
    "colab": {
     "base_uri": "https://localhost:8080/"
    },
    "id": "jlq2z5nC1uTH",
    "outputId": "138344bf-d9ad-4114-efcd-dcb394611642"
   },
   "source": [
    "bfs(g, 0)"
   ],
   "execution_count": 221,
   "outputs": [
    {
     "output_type": "execute_result",
     "data": {
      "text/plain": [
       "11"
      ]
     },
     "metadata": {},
     "execution_count": 221
    }
   ]
  },
  {
   "cell_type": "markdown",
   "metadata": {
    "collapsed": false,
    "pycharm": {
     "name": "#%% md\n"
    },
    "id": "mnV3dqPr1uTH"
   },
   "source": [
    "# 소셜네트워크 분석 이해하기\n",
    "그래프 네트워크에서 노드간의 직접적인 연결은 1 홉(hop)에 있다고 표현한다. 예를 들면, (A)-(B)-(C) 가 3개로 노드로 이루어진 그래프에서, A와 C는 2 hops 관계 있다고 본다. 따라서, 큰 hop은 해당 노드로 부터 멀리 떨어져 있는 노드로 볼 수 있다. 소셜네트워크에서는, 친구와 친구 사이의 관계가 먼 것으로 이야기한다."
   ]
  },
  {
   "cell_type": "code",
   "metadata": {
    "pycharm": {
     "name": "#%%\n"
    },
    "colab": {
     "base_uri": "https://localhost:8080/"
    },
    "id": "8E6qxsGl1uTH",
    "outputId": "086dcae1-d680-4ecd-9a82-6331b01d4fcf"
   },
   "source": [
    "# source 로부터 n-HOPS가 떨어진 노드들을 찾는 방법\n",
    "HOPS = 2\n",
    "[n for n, d in nx.shortest_path_length(g ,source=0).items() if d==HOPS]"
   ],
   "execution_count": 222,
   "outputs": [
    {
     "output_type": "execute_result",
     "data": {
      "text/plain": [
       "[1, 5, 20, 21, 22, 23]"
      ]
     },
     "metadata": {},
     "execution_count": 222
    }
   ]
  },
  {
   "cell_type": "markdown",
   "metadata": {
    "collapsed": false,
    "pycharm": {
     "name": "#%% md\n"
    },
    "id": "MI5d94RQ1uTH"
   },
   "source": [
    "## 문제 6-1: 인플루언서로부터 전체 노드의 50%를 차지하게되는 최소 HOPS를 계산하여라.\n",
    "인플루언서 p가 주어졌을때, p가 전체 노드의 50%를 알게 되는 최소 HOPS을 찾는 함수 find_min_hops_with_above_50_friends()을 구현하시오\n",
    "\n",
    "Watts-Strogatz 그래프 모델은 Small-World 그래프를 표현합니다. Small-World 그래프는 많은 노드가 하나 이상의 이웃을 가지지 않는, 일부 노드에 많은 이웃을 가지게되는 그래프입니다. 예로, 우리가 알고있는 인플루언서 기반 소셜네트워크, 온라인 상점 내 인기상품 기반 상품 네트워크 등은 이러한 Small World 그래프 입니다. 또한, 실제 사람들의 커뮤니티에서도 많은 사람들은 적은 수의 사람들을 알고 있으며, 소수의 사람들이 많은 인맥을 가지는 구조로 보여주게 됩니다.\n",
    "참조링크: (Small-World 그래프)[https://en.wikipedia.org/wiki/Small-world_network]\n",
    "\n"
   ]
  },
  {
   "cell_type": "code",
   "metadata": {
    "pycharm": {
     "name": "#%%\n"
    },
    "colab": {
     "base_uri": "https://localhost:8080/",
     "height": 319
    },
    "id": "kpfjdd_F1uTH",
    "outputId": "a4d1319e-ec7e-452d-f7b1-bcb2821338ac"
   },
   "source": [
    "# watts_strogatz_graph는 Small World 그래프 생성을 위해 다음과 같은 arguments을 input으로 받아 그래프를 생성합니다.\n",
    "# n은 노드의 수, k는 각 노드마다 연결될 이웃의 수(edge의 수), p= 연결될 확률\n",
    "g = nx.watts_strogatz_graph(n = 100, k= 5, p = 0.5, seed=None)\n",
    "nx.draw(g, with_labels=True)"
   ],
   "execution_count": 223,
   "outputs": [
    {
     "output_type": "display_data",
     "data": {
      "image/png": "[encoded data removed]",
      "text/plain": [
       "<Figure size 432x288 with 1 Axes>"
      ]
     },
     "metadata": {}
    }
   ]
  },
  {
   "cell_type": "code",
   "metadata": {
    "pycharm": {
     "name": "#%%\n"
    },
    "id": "yZobODF01uTH"
   },
   "source": [
    "def find_min_hops_with_above_50_friends(g, influencer=0, min_percent=50):\n",
    "  i=1\n",
    "  count=0\n",
    "  while True:\n",
    "    hops = i\n",
    "    HOPS_list=[n for n, d in nx.shortest_path_length(g ,source=influencer).items() if d==hops]\n",
    "    count+=len(HOPS_list)\n",
    "    HOPS_list=None\n",
    "    i+=1\n",
    "    if len(g.nodes)*(min_percent*0.01)<=count:\n",
    "      break\n",
    "  return hops\n",
    "  '''\n",
    "  주어진 노드가 50% 이상의 친구 노드를 가지는 최소 홉수를 찾으시오\n",
    "  :param g: 그래프\n",
    "  :param influencer: 타겟이 될 인플루언서 노드\n",
    "  :param min_percent: 최소 요구해야할 노드의 비율 실제 필요한 노드 수는 전체 노드 수(g.nodes) * 0.5 이상이 되어야한다.\n",
    "  :return: 최소 hops 로 반환해야한다.\n",
    "  '''"
   ],
   "execution_count": 224,
   "outputs": []
  },
  {
   "cell_type": "code",
   "metadata": {
    "colab": {
     "base_uri": "https://localhost:8080/"
    },
    "id": "E2xC8vGBClB0",
    "outputId": "d1e886c7-47d3-47ff-a280-1d87f4e13791"
   },
   "source": [
    "result_find_min_hops=find_min_hops_with_above_50_friends(g)\n",
    "result_find_min_hops"
   ],
   "execution_count": 225,
   "outputs": [
    {
     "output_type": "execute_result",
     "data": {
      "text/plain": [
       "4"
      ]
     },
     "metadata": {},
     "execution_count": 225
    }
   ]
  }
 ]
}