{
 "nbformat": 4,
 "nbformat_minor": 0,
 "metadata": {
  "colab": {
   "name": "주제5_(4,5,6)_그래프_다루기.ipynb",
   "provenance": [],
   "collapsed_sections": [],
   "toc_visible": true
  },
  "kernelspec": {
   "name": "python3",
   "display_name": "Python 3"
  },
  "language_info": {
   "name": "python"
  }
 },
 "cells": [
  {
   "cell_type": "markdown",
   "metadata": {
    "id": "YJnuJPN5L4xg"
   },
   "source": [
    "# 과제 7 & 8: 그래프 알고리즘 및 함성함수 활용\n",
    "---\n",
    "박정현(pwjdgus1017@donga.ac.kr), 배정훈(rhenus9911@gmail.com), 최재혁(fkdlfkdl68@donga.ac.kr), 권건우(a71463092@gmail.com)\n",
    "---\n",
    "우리는 그래프에 대한 이론을 학습하였다. 특히, 우리는 다양한 그래프에 대한 종류(Complete graph, isomorphism graph, homomorphism graph, spanning graph, euler graph, hamilton graph 등을 학삽하였다. 또한 그에 관련된 알고리즘으로써, 우리는 그래프 종류에 대한 평가 방법(각 그래프 종류 판별법) 및 관련된 알고리즘(판매원 탐방, 최단 경로, 그래프 컬러링 등)를 학습하였다. 이를 기반으로, 아래의 주어진 문제 7, 8 에 대한 코드를 작성하시오.\n",
    "\n",
    "\n"
   ]
  },
  {
   "cell_type": "markdown",
   "metadata": {
    "id": "LyFhqIPQ2WFt"
   },
   "source": [
    "# 해당파일 활용 방법- [메뉴] 파일->드라이브에 사본 저장을 통해서 프로그램 실행하시면 됩니다."
   ]
  },
  {
   "cell_type": "markdown",
   "metadata": {
    "collapsed": false,
    "pycharm": {
     "name": "#%% md\n"
    },
    "id": "2fkhiOxW1uS1"
   },
   "source": [
    "# 과제 도우미 학생을 통해 문제 해결이 어려운 경우, 가상대학의 문의게시판에 궁금한 부분을 게재하시기 바랍니다."
   ]
  },
  {
   "cell_type": "markdown",
   "metadata": {
    "id": "BnJ0u5qZgwjo"
   },
   "source": [
    "# 문제 7: 여러가지 그래프 판별법\n",
    "Simple graph, Complete graph, Isomorphism graph, homomorphism graph, Sparse and Dense graphs, Euler and Hamiltonian graph를 인지를 확인하는 코드를 작성하시오.\n"
   ]
  },
  {
   "cell_type": "code",
   "metadata": {
    "id": "OvfK1glUhf1I"
   },
   "source": [
    "import networkx as nx"
   ],
   "execution_count": 1,
   "outputs": []
  },
  {
   "cell_type": "markdown",
   "metadata": {
    "collapsed": false,
    "pycharm": {
     "name": "#%% md\n"
    },
    "id": "X12vXI7v1uTD"
   },
   "source": [
    "## 문제 7-1: 주어진 두 Directed 그래프 (G1, G2) 로부터 Isomorphism graph 인지를 판별하기"
   ]
  },
  {
   "cell_type": "code",
   "metadata": {
    "pycharm": {
     "name": "#%%\n"
    },
    "id": "YYzSj7Qk1uTD"
   },
   "source": [
    "def is_isomorphic(G1, G2):\n",
    "  '''\n",
    "  G1과 G2가 isomorphic 관계인지를 체크\n",
    "  :param G1: Directed 그래프\n",
    "  :param G2: Directed 그래프\n",
    "  :return: Boolean\n",
    "  '''"
   ],
   "execution_count": null,
   "outputs": []
  },
  {
   "cell_type": "code",
   "metadata": {
    "pycharm": {
     "name": "#%%\n"
    },
    "colab": {
     "base_uri": "https://localhost:8080/"
    },
    "id": "hfmry0Ov1uTD",
    "outputId": "8851beff-1a5f-4617-e534-be2a8a13c5d5"
   },
   "source": [
    "g1 = nx.DiGraph()\n",
    "g2 = nx.DiGraph()\n",
    "nx.add_path(g1, [1,2,3,4,5,6,7,8,9,10])\n",
    "nx.add_path(g2, [10,20,30,40,50,60,70,80,90,100])\n",
    "print(is_isomorphic(g1,g2)) # nx.is_isomorphic 사용하지 말 것"
   ],
   "execution_count": 3,
   "outputs": [
    {
     "name": "stdout",
     "output_type": "stream",
     "text": [
      "True\n"
     ]
    }
   ]
  },
  {
   "cell_type": "markdown",
   "metadata": {
    "pycharm": {
     "name": "#%% md\n"
    },
    "colab": {
     "base_uri": "https://localhost:8080/"
    },
    "id": "AI2JA3w31uTD",
    "outputId": "dd9cacea-8082-4ace-c1d2-57f81eff1ce4"
   },
   "source": [
    "## 문제 7-2: 다음 그래프에 대해서 Graph Density를 계산하는 구하는 함수 def calculate_density()를 작성하여라. 또한"
   ]
  },
  {
   "cell_type": "code",
   "metadata": {
    "pycharm": {
     "name": "#%%\n"
    },
    "id": "BCqOh-9W1uTE"
   },
   "source": [
    "def calculate_density(G):\n",
    "  '''\n",
    "  :param G: directed 그래프\n",
    "  :return: graph density의 값 [0,1]\n",
    "  '''"
   ],
   "execution_count": null,
   "outputs": []
  },
  {
   "cell_type": "code",
   "execution_count": 5,
   "outputs": [
    {
     "data": {
      "text/plain": "0.40816326530612246"
     },
     "execution_count": 5,
     "metadata": {},
     "output_type": "execute_result"
    }
   ],
   "source": [
    "g = nx.watts_strogatz_graph(50, 20, 1)\n",
    "calculate_density(g) # nx.density 사용하지 말 것"
   ],
   "metadata": {
    "collapsed": false,
    "pycharm": {
     "name": "#%%\n"
    }
   }
  },
  {
   "cell_type": "markdown",
   "source": [
    "## 문제 7-3: 다음 주어진 그래프가 Euler graph 인지를 확인하는 코드를 작성하시오"
   ],
   "metadata": {
    "collapsed": false,
    "pycharm": {
     "name": "#%% md\n"
    }
   }
  },
  {
   "cell_type": "code",
   "execution_count": null,
   "outputs": [],
   "source": [
    "def is_Eulerian(g):\n",
    "  '''\n",
    "  :param g: undirected graph\n",
    "  :return: Boolean\n",
    "  '''"
   ],
   "metadata": {
    "collapsed": false,
    "pycharm": {
     "name": "#%%\n"
    }
   }
  },
  {
   "cell_type": "code",
   "execution_count": 7,
   "outputs": [
    {
     "data": {
      "text/plain": "<Figure size 432x288 with 1 Axes>",
      "image/png": "[encoded data removed]"
     },
     "metadata": {},
     "output_type": "display_data"
    }
   ],
   "source": [
    "g = nx.path_graph(5)\n",
    "nx.draw(g, with_labels=True)"
   ],
   "metadata": {
    "collapsed": false,
    "pycharm": {
     "name": "#%%\n"
    }
   }
  },
  {
   "cell_type": "code",
   "execution_count": 10,
   "outputs": [
    {
     "data": {
      "text/plain": "False"
     },
     "execution_count": 10,
     "metadata": {},
     "output_type": "execute_result"
    }
   ],
   "source": [
    "is_Eulerian(g) # nx.is_Eulerian 사용하지 말 것"
   ],
   "metadata": {
    "collapsed": false,
    "pycharm": {
     "name": "#%%\n"
    }
   }
  },
  {
   "cell_type": "markdown",
   "source": [
    "# 문제 8: 그래프 알고리즘 사용하기"
   ],
   "metadata": {
    "collapsed": false,
    "pycharm": {
     "name": "#%% md\n"
    }
   }
  },
  {
   "cell_type": "markdown",
   "source": [
    "그래프 알고리즘이 주로 사용되는 예는 항공운항정보의 네트워크를 구성할때 사용한다. 그래프 모델에서, 항공사(airlines)혹은 공항(airports)는 노드(Nodes/Vertices)로 구성되고 각 공항간의 운항 정보는 관계(Relationships/Edges)로 표현된다."
   ],
   "metadata": {
    "collapsed": false,
    "pycharm": {
     "name": "#%% md\n"
    }
   }
  },
  {
   "cell_type": "code",
   "execution_count": 13,
   "outputs": [],
   "source": [
    "import pandas as pd"
   ],
   "metadata": {
    "collapsed": false,
    "pycharm": {
     "name": "#%%\n"
    }
   }
  },
  {
   "cell_type": "code",
   "execution_count": 35,
   "outputs": [],
   "source": [
    "# 공항 정보, 항공사, 운항정보를 불러오기를 수행한다\n",
    "airports = pd.read_csv(\"dataset/airports.csv\", header=None)"
   ],
   "metadata": {
    "collapsed": false,
    "pycharm": {
     "name": "#%%\n"
    }
   }
  },
  {
   "cell_type": "code",
   "execution_count": 38,
   "outputs": [],
   "source": [
    "usa_airports = airports[airports.iloc[:, 3] == 'United States'] # 미국 내 공항만 추출"
   ],
   "metadata": {
    "collapsed": false,
    "pycharm": {
     "name": "#%%\n"
    }
   }
  },
  {
   "cell_type": "code",
   "execution_count": 39,
   "outputs": [
    {
     "data": {
      "text/plain": "                                                   name   id   latitude  \\\n3200                         Barter Island LRRS Airport  BTI  70.134003   \n3201                         Cape Lisburne LRRS Airport  LUR  68.875099   \n3202                             Point Lay LRRS Airport  PIZ  69.732903   \n3203                         Hilo International Airport  ITO  19.721399   \n3204                          Orlando Executive Airport  ORL  28.545500   \n3205                                    Bettles Airport  BTT  66.913902   \n3206                                      Clear Airport  Z84  64.301201   \n3207                       Indian Mountain LRRS Airport  UTO  65.992798   \n3208                                 Fort Yukon Airport  FYU  66.571503   \n3209                            Sparrevohn LRRS Airport  SVW  61.097401   \n3210                               Bryant Army Heliport  FRN  61.266399   \n3211                              Tatalina LRRS Airport  TLJ  62.894402   \n3212                         Cape Romanzof LRRS Airport  CZF  61.780300   \n3213                           Laurence G Hanscom Field  BED  42.470001   \n3214                             St Paul Island Airport  SNP  57.167301   \n3215                         Cape Newenham LRRS Airport  EHM  58.646400   \n3216                                  St George Airport  STG  56.578300   \n3217                                    Iliamna Airport  ILI  59.754398   \n3218                                   Platinum Airport  PTU  59.011398   \n3219                               Big Mountain Airport  BMX  59.361198   \n3220                           Oscoda Wurtsmith Airport  OSC  44.451599   \n3221                           Marina Municipal Airport  OAR  36.681900   \n3222                          Sacramento Mather Airport  MHR  38.553902   \n3223                        Bicycle Lake Army Air Field  BYS  35.280499   \n3224                    Twentynine Palms (Self) Airport  NXP  34.296200   \n3225                        Fort Smith Regional Airport  FSM  35.336601   \n3226                                      Merrill Field  MRI  61.213501   \n3227                     Grants-Milan Municipal Airport  GNT  35.167301   \n3228                        Ponca City Regional Airport  PNC  36.731998   \n3229                              Hunter Army Air Field  SVN  32.009998   \n...                                                 ...  ...        ...   \n6971     Mc Comb/Pike County Airport/John E Lewis Field  MCB  31.178499   \n6972                          Southern Illinois Airport  MDH  37.778099   \n6973                Mc Entire Joint National Guard Base  MMT  33.920799   \n6974                        Brunswick Executive Airport  NHZ  43.892200   \n6975  Naval Station Mayport (Admiral David L. Mcdona...  NRB  30.391100   \n6976                       Orangeburg Municipal Airport  OGB  33.456799   \n6977                         Columbus Municipal Airport  OLU  41.448002   \n6978                           Ottumwa Regional Airport  OTM  41.106602   \n6979                 Cairns AAF (Fort Rucker) Air Field  OZR  31.275700   \n6980                                   Ralph Wenz Field  PWY  42.795502   \n6981                            Dutchess County Airport  POU  41.626598   \n6982                      New Richmond Regional Airport  RNH  45.148300   \n6983                          Russell Municipal Airport  RSL  38.872101   \n6984                    Redwood Falls Municipal Airport  RWF  44.547199   \n6985                          Salinas Municipal Airport  SNS  36.662800   \n6986                           Sonora Municipal Airport  SOA  30.585699   \n6987                     Saline County Regional Airport  SUZ  34.590599   \n6988                                    Tonopah Airport  TPH  38.060200   \n6989                               Aurora State Airport  UAO  45.247101   \n6990                            Ukiah Municipal Airport  UKI  39.125999   \n6991                          University Oxford Airport  UOX  34.384300   \n6992                        Huntsville Regional Airport  HTV  30.746901   \n6993                                       Miller Field  VTN  42.857800   \n6994                       Winnemucca Municipal Airport  WMC  40.896599   \n6995                              West Woodward Airport  WWR  36.438000   \n6996                      Cape Canaveral AFS Skid Strip  XMR  28.467600   \n6997                            Homey (Area 51) Airport   \\N  37.235001   \n6998                       Zanesville Municipal Airport  ZZV  39.944401   \n7048                           Nenana Municipal Airport  ENN  64.547302   \n7049                                    Wasilla Airport  WWA  61.571701   \n\n       longitude  \n3200 -143.582001  \n3201 -166.110001  \n3202 -163.005005  \n3203 -155.048004  \n3204  -81.332901  \n3205 -151.529007  \n3206 -149.119995  \n3207 -153.703995  \n3208 -145.250000  \n3209 -155.574005  \n3210 -149.653000  \n3211 -155.977005  \n3212 -166.039001  \n3213  -71.289001  \n3214 -170.220001  \n3215 -162.063004  \n3216 -169.662003  \n3217 -154.910996  \n3218 -161.820007  \n3219 -155.259003  \n3220  -83.394096  \n3221 -121.762001  \n3222 -121.297997  \n3223 -116.629997  \n3224 -116.162003  \n3225  -94.367401  \n3226 -149.843994  \n3227 -107.902000  \n3228  -97.099800  \n3229  -81.145699  \n...          ...  \n6971  -90.471901  \n6972  -89.251999  \n6973  -80.801300  \n6974  -69.938599  \n6975  -81.424698  \n6976  -80.859497  \n6977  -97.342598  \n6978  -92.447899  \n6979  -85.713402  \n6980 -109.806999  \n6981  -73.884201  \n6982  -92.538101  \n6983  -98.811798  \n6984  -95.082298  \n6985 -121.606003  \n6986 -100.649002  \n6987  -92.479401  \n6988 -117.086998  \n6989 -122.769997  \n6990 -123.200996  \n6991  -89.536797  \n6992  -95.587196  \n6993 -100.547996  \n6994 -117.806000  \n6995  -99.522667  \n6996  -80.566597  \n6997 -115.810997  \n6998  -81.892097  \n7048 -149.074005  \n7049 -149.539993  \n\n[1435 rows x 4 columns]",
      "text/html": "<div>\n<style scoped>\n    .dataframe tbody tr th:only-of-type {\n        vertical-align: middle;\n    }\n\n    .dataframe tbody tr th {\n        vertical-align: top;\n    }\n\n    .dataframe thead th {\n        text-align: right;\n    }\n</style>\n<table border=\"1\" class=\"dataframe\">\n  <thead>\n    <tr style=\"text-align: right;\">\n      <th></th>\n      <th>name</th>\n      <th>id</th>\n      <th>latitude</th>\n      <th>longitude</th>\n    </tr>\n  </thead>\n  <tbody>\n    <tr>\n      <th>3200</th>\n      <td>Barter Island LRRS Airport</td>\n      <td>BTI</td>\n      <td>70.134003</td>\n      <td>-143.582001</td>\n    </tr>\n    <tr>\n      <th>3201</th>\n      <td>Cape Lisburne LRRS Airport</td>\n      <td>LUR</td>\n      <td>68.875099</td>\n      <td>-166.110001</td>\n    </tr>\n    <tr>\n      <th>3202</th>\n      <td>Point Lay LRRS Airport</td>\n      <td>PIZ</td>\n      <td>69.732903</td>\n      <td>-163.005005</td>\n    </tr>\n    <tr>\n      <th>3203</th>\n      <td>Hilo International Airport</td>\n      <td>ITO</td>\n      <td>19.721399</td>\n      <td>-155.048004</td>\n    </tr>\n    <tr>\n      <th>3204</th>\n      <td>Orlando Executive Airport</td>\n      <td>ORL</td>\n      <td>28.545500</td>\n      <td>-81.332901</td>\n    </tr>\n    <tr>\n      <th>3205</th>\n      <td>Bettles Airport</td>\n      <td>BTT</td>\n      <td>66.913902</td>\n      <td>-151.529007</td>\n    </tr>\n    <tr>\n      <th>3206</th>\n      <td>Clear Airport</td>\n      <td>Z84</td>\n      <td>64.301201</td>\n      <td>-149.119995</td>\n    </tr>\n    <tr>\n      <th>3207</th>\n      <td>Indian Mountain LRRS Airport</td>\n      <td>UTO</td>\n      <td>65.992798</td>\n      <td>-153.703995</td>\n    </tr>\n    <tr>\n      <th>3208</th>\n      <td>Fort Yukon Airport</td>\n      <td>FYU</td>\n      <td>66.571503</td>\n      <td>-145.250000</td>\n    </tr>\n    <tr>\n      <th>3209</th>\n      <td>Sparrevohn LRRS Airport</td>\n      <td>SVW</td>\n      <td>61.097401</td>\n      <td>-155.574005</td>\n    </tr>\n    <tr>\n      <th>3210</th>\n      <td>Bryant Army Heliport</td>\n      <td>FRN</td>\n      <td>61.266399</td>\n      <td>-149.653000</td>\n    </tr>\n    <tr>\n      <th>3211</th>\n      <td>Tatalina LRRS Airport</td>\n      <td>TLJ</td>\n      <td>62.894402</td>\n      <td>-155.977005</td>\n    </tr>\n    <tr>\n      <th>3212</th>\n      <td>Cape Romanzof LRRS Airport</td>\n      <td>CZF</td>\n      <td>61.780300</td>\n      <td>-166.039001</td>\n    </tr>\n    <tr>\n      <th>3213</th>\n      <td>Laurence G Hanscom Field</td>\n      <td>BED</td>\n      <td>42.470001</td>\n      <td>-71.289001</td>\n    </tr>\n    <tr>\n      <th>3214</th>\n      <td>St Paul Island Airport</td>\n      <td>SNP</td>\n      <td>57.167301</td>\n      <td>-170.220001</td>\n    </tr>\n    <tr>\n      <th>3215</th>\n      <td>Cape Newenham LRRS Airport</td>\n      <td>EHM</td>\n      <td>58.646400</td>\n      <td>-162.063004</td>\n    </tr>\n    <tr>\n      <th>3216</th>\n      <td>St George Airport</td>\n      <td>STG</td>\n      <td>56.578300</td>\n      <td>-169.662003</td>\n    </tr>\n    <tr>\n      <th>3217</th>\n      <td>Iliamna Airport</td>\n      <td>ILI</td>\n      <td>59.754398</td>\n      <td>-154.910996</td>\n    </tr>\n    <tr>\n      <th>3218</th>\n      <td>Platinum Airport</td>\n      <td>PTU</td>\n      <td>59.011398</td>\n      <td>-161.820007</td>\n    </tr>\n    <tr>\n      <th>3219</th>\n      <td>Big Mountain Airport</td>\n      <td>BMX</td>\n      <td>59.361198</td>\n      <td>-155.259003</td>\n    </tr>\n    <tr>\n      <th>3220</th>\n      <td>Oscoda Wurtsmith Airport</td>\n      <td>OSC</td>\n      <td>44.451599</td>\n      <td>-83.394096</td>\n    </tr>\n    <tr>\n      <th>3221</th>\n      <td>Marina Municipal Airport</td>\n      <td>OAR</td>\n      <td>36.681900</td>\n      <td>-121.762001</td>\n    </tr>\n    <tr>\n      <th>3222</th>\n      <td>Sacramento Mather Airport</td>\n      <td>MHR</td>\n      <td>38.553902</td>\n      <td>-121.297997</td>\n    </tr>\n    <tr>\n      <th>3223</th>\n      <td>Bicycle Lake Army Air Field</td>\n      <td>BYS</td>\n      <td>35.280499</td>\n      <td>-116.629997</td>\n    </tr>\n    <tr>\n      <th>3224</th>\n      <td>Twentynine Palms (Self) Airport</td>\n      <td>NXP</td>\n      <td>34.296200</td>\n      <td>-116.162003</td>\n    </tr>\n    <tr>\n      <th>3225</th>\n      <td>Fort Smith Regional Airport</td>\n      <td>FSM</td>\n      <td>35.336601</td>\n      <td>-94.367401</td>\n    </tr>\n    <tr>\n      <th>3226</th>\n      <td>Merrill Field</td>\n      <td>MRI</td>\n      <td>61.213501</td>\n      <td>-149.843994</td>\n    </tr>\n    <tr>\n      <th>3227</th>\n      <td>Grants-Milan Municipal Airport</td>\n      <td>GNT</td>\n      <td>35.167301</td>\n      <td>-107.902000</td>\n    </tr>\n    <tr>\n      <th>3228</th>\n      <td>Ponca City Regional Airport</td>\n      <td>PNC</td>\n      <td>36.731998</td>\n      <td>-97.099800</td>\n    </tr>\n    <tr>\n      <th>3229</th>\n      <td>Hunter Army Air Field</td>\n      <td>SVN</td>\n      <td>32.009998</td>\n      <td>-81.145699</td>\n    </tr>\n    <tr>\n      <th>...</th>\n      <td>...</td>\n      <td>...</td>\n      <td>...</td>\n      <td>...</td>\n    </tr>\n    <tr>\n      <th>6971</th>\n      <td>Mc Comb/Pike County Airport/John E Lewis Field</td>\n      <td>MCB</td>\n      <td>31.178499</td>\n      <td>-90.471901</td>\n    </tr>\n    <tr>\n      <th>6972</th>\n      <td>Southern Illinois Airport</td>\n      <td>MDH</td>\n      <td>37.778099</td>\n      <td>-89.251999</td>\n    </tr>\n    <tr>\n      <th>6973</th>\n      <td>Mc Entire Joint National Guard Base</td>\n      <td>MMT</td>\n      <td>33.920799</td>\n      <td>-80.801300</td>\n    </tr>\n    <tr>\n      <th>6974</th>\n      <td>Brunswick Executive Airport</td>\n      <td>NHZ</td>\n      <td>43.892200</td>\n      <td>-69.938599</td>\n    </tr>\n    <tr>\n      <th>6975</th>\n      <td>Naval Station Mayport (Admiral David L. Mcdona...</td>\n      <td>NRB</td>\n      <td>30.391100</td>\n      <td>-81.424698</td>\n    </tr>\n    <tr>\n      <th>6976</th>\n      <td>Orangeburg Municipal Airport</td>\n      <td>OGB</td>\n      <td>33.456799</td>\n      <td>-80.859497</td>\n    </tr>\n    <tr>\n      <th>6977</th>\n      <td>Columbus Municipal Airport</td>\n      <td>OLU</td>\n      <td>41.448002</td>\n      <td>-97.342598</td>\n    </tr>\n    <tr>\n      <th>6978</th>\n      <td>Ottumwa Regional Airport</td>\n      <td>OTM</td>\n      <td>41.106602</td>\n      <td>-92.447899</td>\n    </tr>\n    <tr>\n      <th>6979</th>\n      <td>Cairns AAF (Fort Rucker) Air Field</td>\n      <td>OZR</td>\n      <td>31.275700</td>\n      <td>-85.713402</td>\n    </tr>\n    <tr>\n      <th>6980</th>\n      <td>Ralph Wenz Field</td>\n      <td>PWY</td>\n      <td>42.795502</td>\n      <td>-109.806999</td>\n    </tr>\n    <tr>\n      <th>6981</th>\n      <td>Dutchess County Airport</td>\n      <td>POU</td>\n      <td>41.626598</td>\n      <td>-73.884201</td>\n    </tr>\n    <tr>\n      <th>6982</th>\n      <td>New Richmond Regional Airport</td>\n      <td>RNH</td>\n      <td>45.148300</td>\n      <td>-92.538101</td>\n    </tr>\n    <tr>\n      <th>6983</th>\n      <td>Russell Municipal Airport</td>\n      <td>RSL</td>\n      <td>38.872101</td>\n      <td>-98.811798</td>\n    </tr>\n    <tr>\n      <th>6984</th>\n      <td>Redwood Falls Municipal Airport</td>\n      <td>RWF</td>\n      <td>44.547199</td>\n      <td>-95.082298</td>\n    </tr>\n    <tr>\n      <th>6985</th>\n      <td>Salinas Municipal Airport</td>\n      <td>SNS</td>\n      <td>36.662800</td>\n      <td>-121.606003</td>\n    </tr>\n    <tr>\n      <th>6986</th>\n      <td>Sonora Municipal Airport</td>\n      <td>SOA</td>\n      <td>30.585699</td>\n      <td>-100.649002</td>\n    </tr>\n    <tr>\n      <th>6987</th>\n      <td>Saline County Regional Airport</td>\n      <td>SUZ</td>\n      <td>34.590599</td>\n      <td>-92.479401</td>\n    </tr>\n    <tr>\n      <th>6988</th>\n      <td>Tonopah Airport</td>\n      <td>TPH</td>\n      <td>38.060200</td>\n      <td>-117.086998</td>\n    </tr>\n    <tr>\n      <th>6989</th>\n      <td>Aurora State Airport</td>\n      <td>UAO</td>\n      <td>45.247101</td>\n      <td>-122.769997</td>\n    </tr>\n    <tr>\n      <th>6990</th>\n      <td>Ukiah Municipal Airport</td>\n      <td>UKI</td>\n      <td>39.125999</td>\n      <td>-123.200996</td>\n    </tr>\n    <tr>\n      <th>6991</th>\n      <td>University Oxford Airport</td>\n      <td>UOX</td>\n      <td>34.384300</td>\n      <td>-89.536797</td>\n    </tr>\n    <tr>\n      <th>6992</th>\n      <td>Huntsville Regional Airport</td>\n      <td>HTV</td>\n      <td>30.746901</td>\n      <td>-95.587196</td>\n    </tr>\n    <tr>\n      <th>6993</th>\n      <td>Miller Field</td>\n      <td>VTN</td>\n      <td>42.857800</td>\n      <td>-100.547996</td>\n    </tr>\n    <tr>\n      <th>6994</th>\n      <td>Winnemucca Municipal Airport</td>\n      <td>WMC</td>\n      <td>40.896599</td>\n      <td>-117.806000</td>\n    </tr>\n    <tr>\n      <th>6995</th>\n      <td>West Woodward Airport</td>\n      <td>WWR</td>\n      <td>36.438000</td>\n      <td>-99.522667</td>\n    </tr>\n    <tr>\n      <th>6996</th>\n      <td>Cape Canaveral AFS Skid Strip</td>\n      <td>XMR</td>\n      <td>28.467600</td>\n      <td>-80.566597</td>\n    </tr>\n    <tr>\n      <th>6997</th>\n      <td>Homey (Area 51) Airport</td>\n      <td>\\N</td>\n      <td>37.235001</td>\n      <td>-115.810997</td>\n    </tr>\n    <tr>\n      <th>6998</th>\n      <td>Zanesville Municipal Airport</td>\n      <td>ZZV</td>\n      <td>39.944401</td>\n      <td>-81.892097</td>\n    </tr>\n    <tr>\n      <th>7048</th>\n      <td>Nenana Municipal Airport</td>\n      <td>ENN</td>\n      <td>64.547302</td>\n      <td>-149.074005</td>\n    </tr>\n    <tr>\n      <th>7049</th>\n      <td>Wasilla Airport</td>\n      <td>WWA</td>\n      <td>61.571701</td>\n      <td>-149.539993</td>\n    </tr>\n  </tbody>\n</table>\n<p>1435 rows × 4 columns</p>\n</div>"
     },
     "execution_count": 39,
     "metadata": {},
     "output_type": "execute_result"
    }
   ],
   "source": [
    "usa_airports = usa_airports.loc[:,[1,4,6,7]]\n",
    "usa_airports.rename(columns={1: 'name', 4: 'id', 6: 'latitude', 7: 'longitude'}, inplace=True)\n",
    "usa_airports\n",
    "# column_names=['name','id','latitude','longitude']"
   ],
   "metadata": {
    "collapsed": false,
    "pycharm": {
     "name": "#%%\n"
    }
   }
  },
  {
   "cell_type": "code",
   "execution_count": 40,
   "outputs": [
    {
     "data": {
      "text/plain": "                                              name code\n0                                          Unknown    -\n1                                   Private flight    -\n2                                      135 Airways  NaN\n3                                    1Time Airline   1T\n4     2 Sqn No 1 Elementary Flying Training School  NaN\n5                                  213 Flight Unit  NaN\n6                    223 Flight Unit State Airline  NaN\n7                                224th Flight Unit  NaN\n8                                      247 Jet Ltd  NaN\n9                                      3D Aviation  NaN\n10                                     40-Mile Air   Q5\n11                                          4D Air  NaN\n12                          611897 Alberta Limited  NaN\n13                                Ansett Australia   AN\n14                            Abacus International   1B\n15                                 Abelag Aviation   W9\n16                                  Army Air Corps  NaN\n17                       Aero Aviation Centre Ltd.  NaN\n18       Aero Servicios Ejecutivos Internacionales  NaN\n19                                     Aero Biniza  NaN\n20                                   Aero Albatros  NaN\n21                                      Aigle Azur   ZI\n22                                  Aloha Airlines   AQ\n23                               Alaska Island Air  NaN\n24                               American Airlines   AA\n25                 Aviation Management Corporation  NaN\n26                         Atlantis Airlines (USA)  NaN\n27                              Aerovista Airlines  NaN\n28                                 Asiana Airlines   OZ\n29                                 Askari Aviation   4K\n...                                            ...  ...\n6132                                    Fly France   FF\n6133                                 Jota Aviation  NaN\n6134                                    Europe Jet   EX\n6135                                        COBALT  NaN\n6136                      Southern Airways Express  NaN\n6137       Deutsche Luftverkehrsgesellschaft (DLT)   DW\n6138                                   Orenburzhie  NaN\n6139                            Atlantic Air Cargo   K3\n6140                          World Scale Airlines   W3\n6141                                All America US   AG\n6142   University of Birmingham Air Squadron (RAF)  NaN\n6143                                Choice Airways  NaN\n6144                                Aruba Airlines  NaN\n6145                                     BudgetAir   1K\n6146                               Dynamic Airways  NaN\n6147                                       Fly One   F5\n6148                                       Nordica   EE\n6149                              Tez Jet Airlines  NaN\n6150                                      Kush Air  NaN\n6151                                         Dummy   0E\n6152                                        ViaAir  NaN\n6153                              All America BOPY   0P\n6154                              Thai Vietjet Air  NaN\n6155                              Air Andaman (2Y)   2Y\n6156                     TDA Toa Domestic Airlines  NaN\n6157                                   GX Airlines  NaN\n6158                        Lynx Aviation (L3/SSX)  NaN\n6159                               Jetgo Australia   JG\n6160                                  Air Carnival   2S\n6161                                 Svyaz Rossiya   7R\n\n[6162 rows x 2 columns]",
      "text/html": "<div>\n<style scoped>\n    .dataframe tbody tr th:only-of-type {\n        vertical-align: middle;\n    }\n\n    .dataframe tbody tr th {\n        vertical-align: top;\n    }\n\n    .dataframe thead th {\n        text-align: right;\n    }\n</style>\n<table border=\"1\" class=\"dataframe\">\n  <thead>\n    <tr style=\"text-align: right;\">\n      <th></th>\n      <th>name</th>\n      <th>code</th>\n    </tr>\n  </thead>\n  <tbody>\n    <tr>\n      <th>0</th>\n      <td>Unknown</td>\n      <td>-</td>\n    </tr>\n    <tr>\n      <th>1</th>\n      <td>Private flight</td>\n      <td>-</td>\n    </tr>\n    <tr>\n      <th>2</th>\n      <td>135 Airways</td>\n      <td>NaN</td>\n    </tr>\n    <tr>\n      <th>3</th>\n      <td>1Time Airline</td>\n      <td>1T</td>\n    </tr>\n    <tr>\n      <th>4</th>\n      <td>2 Sqn No 1 Elementary Flying Training School</td>\n      <td>NaN</td>\n    </tr>\n    <tr>\n      <th>5</th>\n      <td>213 Flight Unit</td>\n      <td>NaN</td>\n    </tr>\n    <tr>\n      <th>6</th>\n      <td>223 Flight Unit State Airline</td>\n      <td>NaN</td>\n    </tr>\n    <tr>\n      <th>7</th>\n      <td>224th Flight Unit</td>\n      <td>NaN</td>\n    </tr>\n    <tr>\n      <th>8</th>\n      <td>247 Jet Ltd</td>\n      <td>NaN</td>\n    </tr>\n    <tr>\n      <th>9</th>\n      <td>3D Aviation</td>\n      <td>NaN</td>\n    </tr>\n    <tr>\n      <th>10</th>\n      <td>40-Mile Air</td>\n      <td>Q5</td>\n    </tr>\n    <tr>\n      <th>11</th>\n      <td>4D Air</td>\n      <td>NaN</td>\n    </tr>\n    <tr>\n      <th>12</th>\n      <td>611897 Alberta Limited</td>\n      <td>NaN</td>\n    </tr>\n    <tr>\n      <th>13</th>\n      <td>Ansett Australia</td>\n      <td>AN</td>\n    </tr>\n    <tr>\n      <th>14</th>\n      <td>Abacus International</td>\n      <td>1B</td>\n    </tr>\n    <tr>\n      <th>15</th>\n      <td>Abelag Aviation</td>\n      <td>W9</td>\n    </tr>\n    <tr>\n      <th>16</th>\n      <td>Army Air Corps</td>\n      <td>NaN</td>\n    </tr>\n    <tr>\n      <th>17</th>\n      <td>Aero Aviation Centre Ltd.</td>\n      <td>NaN</td>\n    </tr>\n    <tr>\n      <th>18</th>\n      <td>Aero Servicios Ejecutivos Internacionales</td>\n      <td>NaN</td>\n    </tr>\n    <tr>\n      <th>19</th>\n      <td>Aero Biniza</td>\n      <td>NaN</td>\n    </tr>\n    <tr>\n      <th>20</th>\n      <td>Aero Albatros</td>\n      <td>NaN</td>\n    </tr>\n    <tr>\n      <th>21</th>\n      <td>Aigle Azur</td>\n      <td>ZI</td>\n    </tr>\n    <tr>\n      <th>22</th>\n      <td>Aloha Airlines</td>\n      <td>AQ</td>\n    </tr>\n    <tr>\n      <th>23</th>\n      <td>Alaska Island Air</td>\n      <td>NaN</td>\n    </tr>\n    <tr>\n      <th>24</th>\n      <td>American Airlines</td>\n      <td>AA</td>\n    </tr>\n    <tr>\n      <th>25</th>\n      <td>Aviation Management Corporation</td>\n      <td>NaN</td>\n    </tr>\n    <tr>\n      <th>26</th>\n      <td>Atlantis Airlines (USA)</td>\n      <td>NaN</td>\n    </tr>\n    <tr>\n      <th>27</th>\n      <td>Aerovista Airlines</td>\n      <td>NaN</td>\n    </tr>\n    <tr>\n      <th>28</th>\n      <td>Asiana Airlines</td>\n      <td>OZ</td>\n    </tr>\n    <tr>\n      <th>29</th>\n      <td>Askari Aviation</td>\n      <td>4K</td>\n    </tr>\n    <tr>\n      <th>...</th>\n      <td>...</td>\n      <td>...</td>\n    </tr>\n    <tr>\n      <th>6132</th>\n      <td>Fly France</td>\n      <td>FF</td>\n    </tr>\n    <tr>\n      <th>6133</th>\n      <td>Jota Aviation</td>\n      <td>NaN</td>\n    </tr>\n    <tr>\n      <th>6134</th>\n      <td>Europe Jet</td>\n      <td>EX</td>\n    </tr>\n    <tr>\n      <th>6135</th>\n      <td>COBALT</td>\n      <td>NaN</td>\n    </tr>\n    <tr>\n      <th>6136</th>\n      <td>Southern Airways Express</td>\n      <td>NaN</td>\n    </tr>\n    <tr>\n      <th>6137</th>\n      <td>Deutsche Luftverkehrsgesellschaft (DLT)</td>\n      <td>DW</td>\n    </tr>\n    <tr>\n      <th>6138</th>\n      <td>Orenburzhie</td>\n      <td>NaN</td>\n    </tr>\n    <tr>\n      <th>6139</th>\n      <td>Atlantic Air Cargo</td>\n      <td>K3</td>\n    </tr>\n    <tr>\n      <th>6140</th>\n      <td>World Scale Airlines</td>\n      <td>W3</td>\n    </tr>\n    <tr>\n      <th>6141</th>\n      <td>All America US</td>\n      <td>AG</td>\n    </tr>\n    <tr>\n      <th>6142</th>\n      <td>University of Birmingham Air Squadron (RAF)</td>\n      <td>NaN</td>\n    </tr>\n    <tr>\n      <th>6143</th>\n      <td>Choice Airways</td>\n      <td>NaN</td>\n    </tr>\n    <tr>\n      <th>6144</th>\n      <td>Aruba Airlines</td>\n      <td>NaN</td>\n    </tr>\n    <tr>\n      <th>6145</th>\n      <td>BudgetAir</td>\n      <td>1K</td>\n    </tr>\n    <tr>\n      <th>6146</th>\n      <td>Dynamic Airways</td>\n      <td>NaN</td>\n    </tr>\n    <tr>\n      <th>6147</th>\n      <td>Fly One</td>\n      <td>F5</td>\n    </tr>\n    <tr>\n      <th>6148</th>\n      <td>Nordica</td>\n      <td>EE</td>\n    </tr>\n    <tr>\n      <th>6149</th>\n      <td>Tez Jet Airlines</td>\n      <td>NaN</td>\n    </tr>\n    <tr>\n      <th>6150</th>\n      <td>Kush Air</td>\n      <td>NaN</td>\n    </tr>\n    <tr>\n      <th>6151</th>\n      <td>Dummy</td>\n      <td>0E</td>\n    </tr>\n    <tr>\n      <th>6152</th>\n      <td>ViaAir</td>\n      <td>NaN</td>\n    </tr>\n    <tr>\n      <th>6153</th>\n      <td>All America BOPY</td>\n      <td>0P</td>\n    </tr>\n    <tr>\n      <th>6154</th>\n      <td>Thai Vietjet Air</td>\n      <td>NaN</td>\n    </tr>\n    <tr>\n      <th>6155</th>\n      <td>Air Andaman (2Y)</td>\n      <td>2Y</td>\n    </tr>\n    <tr>\n      <th>6156</th>\n      <td>TDA Toa Domestic Airlines</td>\n      <td>NaN</td>\n    </tr>\n    <tr>\n      <th>6157</th>\n      <td>GX Airlines</td>\n      <td>NaN</td>\n    </tr>\n    <tr>\n      <th>6158</th>\n      <td>Lynx Aviation (L3/SSX)</td>\n      <td>NaN</td>\n    </tr>\n    <tr>\n      <th>6159</th>\n      <td>Jetgo Australia</td>\n      <td>JG</td>\n    </tr>\n    <tr>\n      <th>6160</th>\n      <td>Air Carnival</td>\n      <td>2S</td>\n    </tr>\n    <tr>\n      <th>6161</th>\n      <td>Svyaz Rossiya</td>\n      <td>7R</td>\n    </tr>\n  </tbody>\n</table>\n<p>6162 rows × 2 columns</p>\n</div>"
     },
     "execution_count": 40,
     "metadata": {},
     "output_type": "execute_result"
    }
   ],
   "source": [
    "airlines = pd.read_csv(\"dataset/airlines.csv\", header=None)\n",
    "airlines = airlines.loc[:,[1,3]]\n",
    "airlines.rename(columns={1: 'name', 3: 'code'}, inplace=True)\n",
    "airlines"
   ],
   "metadata": {
    "collapsed": false,
    "pycharm": {
     "name": "#%%\n"
    }
   }
  },
  {
   "cell_type": "code",
   "execution_count": null,
   "outputs": [],
   "source": [
    "trips = pd.read_csv(\"dataset/188591317_T_ONTIME.csv.gz\", low_memory=False)"
   ],
   "metadata": {
    "collapsed": false,
    "pycharm": {
     "name": "#%%\n"
    }
   }
  },
  {
   "cell_type": "code",
   "execution_count": 49,
   "outputs": [],
   "source": [
    "trips.rename(columns={\"ORIGIN\":\"src\", \"DEST\":\"dst\", \"DEP_DELAY\":\"deptDelay\", \"ARR_DELAY\":\"arrDelay\",\"TAIL_NUM\":\"tailNumber\",\"FL_NUM\":\"flightNumber\",\"FL_DATE\":\"date\", \"CRS_DEP_TIME\":\"time\",\"CRS_ARR_TIME\":\"arrivalTime\",\"DISTANCE\":\"distance\",\"UNIQUE_CARRIER\":\"airline\"}, inplace=True)"
   ],
   "metadata": {
    "collapsed": false,
    "pycharm": {
     "name": "#%%\n"
    }
   }
  },
  {
   "cell_type": "code",
   "execution_count": 51,
   "outputs": [],
   "source": [
    "G = nx.from_pandas_edgelist(trips, source=\"src\", target=\"dst\", edge_attr=['distance'])"
   ],
   "metadata": {
    "collapsed": false,
    "pycharm": {
     "name": "#%%\n"
    }
   }
  },
  {
   "cell_type": "code",
   "execution_count": 52,
   "outputs": [
    {
     "data": {
      "text/plain": "<Figure size 432x288 with 1 Axes>",
      "image/png": "[encoded data removed]"
     },
     "metadata": {},
     "output_type": "display_data"
    }
   ],
   "source": [
    "nx.draw(G, with_labels=True)"
   ],
   "metadata": {
    "collapsed": false,
    "pycharm": {
     "name": "#%%\n"
    }
   }
  },
  {
   "cell_type": "code",
   "execution_count": 56,
   "outputs": [
    {
     "data": {
      "text/plain": "341"
     },
     "execution_count": 56,
     "metadata": {},
     "output_type": "execute_result"
    }
   ],
   "source": [
    "G.number_of_nodes()"
   ],
   "metadata": {
    "collapsed": false,
    "pycharm": {
     "name": "#%%\n"
    }
   }
  },
  {
   "cell_type": "code",
   "execution_count": 57,
   "outputs": [
    {
     "data": {
      "text/plain": "2677"
     },
     "execution_count": 57,
     "metadata": {},
     "output_type": "execute_result"
    }
   ],
   "source": [
    "G.number_of_edges()"
   ],
   "metadata": {
    "collapsed": false,
    "pycharm": {
     "name": "#%%\n"
    }
   }
  },
  {
   "cell_type": "markdown",
   "source": [
    "## 최단거리 알고리즘\n",
    "최단거리 알고리즘은 다양한 방법들이 존재한다. 학습한 Dijkstra 이외에도, A*, Bellman-Ford, Floyd-Warshall, Yen's 등 다양한 알고리즘이 존재한다.\n",
    "https://networkx.org/documentation/stable//reference/algorithms/shortest_paths.html#\n",
    "참고하여 다음 문제를 해결하시오"
   ],
   "metadata": {
    "collapsed": false,
    "pycharm": {
     "name": "#%% md\n"
    }
   }
  },
  {
   "cell_type": "markdown",
   "source": [
    "## 8-1: Traveling saleperson 문제"
   ],
   "metadata": {
    "collapsed": false,
    "pycharm": {
     "name": "#%% md\n"
    }
   }
  },
  {
   "cell_type": "code",
   "execution_count": null,
   "outputs": [],
   "source": [
    "\n"
   ],
   "metadata": {
    "collapsed": false,
    "pycharm": {
     "name": "#%%\n"
    }
   }
  },
  {
   "cell_type": "markdown",
   "source": [
    "## 8-2: 최단거리 문제"
   ],
   "metadata": {
    "collapsed": false,
    "pycharm": {
     "name": "#%% md\n"
    }
   }
  },
  {
   "cell_type": "code",
   "execution_count": null,
   "outputs": [],
   "source": [
    "## 8-3: 최단거리 문제"
   ],
   "metadata": {
    "collapsed": false,
    "pycharm": {
     "name": "#%%\n"
    }
   }
  },
  {
   "cell_type": "code",
   "execution_count": null,
   "outputs": [],
   "source": [
    "## 8-2: K개 후보순위에 따른 경로 찾기"
   ],
   "metadata": {
    "collapsed": false,
    "pycharm": {
     "name": "#%%\n"
    }
   }
  },
  {
   "cell_type": "markdown",
   "source": [
    "## 8-3: Degree 문제 가장 외부 나가는 여정이 많은 높은 공항을 탐색"
   ],
   "metadata": {
    "collapsed": false,
    "pycharm": {
     "name": "#%% md\n"
    }
   }
  },
  {
   "cell_type": "markdown",
   "source": [
    "## 8-4: D"
   ],
   "metadata": {
    "collapsed": false,
    "pycharm": {
     "name": "#%% md\n"
    }
   }
  },
  {
   "cell_type": "markdown",
   "metadata": {
    "collapsed": false,
    "pycharm": {
     "name": "#%% md\n"
    },
    "id": "2HQoV-711uTF"
   },
   "source": [
    "## 방향성 그래프 생성하기"
   ]
  },
  {
   "cell_type": "code",
   "metadata": {
    "pycharm": {
     "name": "#%%\n"
    },
    "id": "H4HFPSvS1uTF"
   },
   "source": [
    "G = nx.DiGraph()"
   ],
   "execution_count": null,
   "outputs": []
  },
  {
   "cell_type": "code",
   "metadata": {
    "pycharm": {
     "name": "#%%\n"
    },
    "id": "cUlXCxbY1uTF"
   },
   "source": [
    "G.add_nodes_from(['A','B','C','D','E'])"
   ],
   "execution_count": null,
   "outputs": []
  },
  {
   "cell_type": "code",
   "metadata": {
    "pycharm": {
     "name": "#%%\n"
    },
    "id": "jatZw1PL1uTF"
   },
   "source": [
    "G.add_edge('A','C',weight=8)\n",
    "G.add_edge('A','E',weight=10)\n",
    "G.add_edge('B','A',weight=15)\n",
    "G.add_edge('C','E',weight=23)\n",
    "G.add_edge('D','B',weight=17)\n",
    "G.add_edge('D','A',weight=27)\n",
    "G.add_edge('E','B',weight=11)\n",
    "G.add_edge('E','D',weight=5)"
   ],
   "execution_count": null,
   "outputs": []
  },
  {
   "cell_type": "code",
   "metadata": {
    "pycharm": {
     "name": "#%%\n"
    },
    "colab": {
     "base_uri": "https://localhost:8080/",
     "height": 319
    },
    "id": "ntUl1dwJ1uTF",
    "outputId": "5bdce5f1-b100-4de0-c1c6-1a397380ba83"
   },
   "source": [
    "nx.draw(G, with_labels=True)"
   ],
   "execution_count": null,
   "outputs": []
  },
  {
   "cell_type": "markdown",
   "metadata": {
    "collapsed": false,
    "pycharm": {
     "name": "#%% md\n"
    },
    "id": "lJvHGPbc1uTF"
   },
   "source": [
    "## Degree 이해하기"
   ]
  },
  {
   "cell_type": "code",
   "metadata": {
    "pycharm": {
     "name": "#%%\n"
    },
    "colab": {
     "base_uri": "https://localhost:8080/"
    },
    "id": "5XGY6ENM1uTF",
    "outputId": "a8903858-5504-4afa-ebd5-05ca3d15f113"
   },
   "source": [
    "# in/out degree 출력\n",
    "G.degree"
   ],
   "execution_count": null,
   "outputs": []
  },
  {
   "cell_type": "code",
   "metadata": {
    "pycharm": {
     "name": "#%%\n"
    },
    "colab": {
     "base_uri": "https://localhost:8080/"
    },
    "id": "ipU8dYMq1uTF",
    "outputId": "f39a9bd0-223a-42fe-c488-6769ed2d90e7"
   },
   "source": [
    "# in_degree 출력\n",
    "G.in_degree()"
   ],
   "execution_count": null,
   "outputs": []
  },
  {
   "cell_type": "code",
   "metadata": {
    "pycharm": {
     "name": "#%%\n"
    },
    "colab": {
     "base_uri": "https://localhost:8080/"
    },
    "id": "NTBRcNi11uTF",
    "outputId": "4d92daa3-bcca-43e3-81f0-c30a727de102"
   },
   "source": [
    "# out_degree 출력\n",
    "G.out_degree()"
   ],
   "execution_count": null,
   "outputs": []
  },
  {
   "cell_type": "markdown",
   "metadata": {
    "collapsed": false,
    "pycharm": {
     "name": "#%% md\n"
    },
    "id": "h0B1q9Ha1uTG"
   },
   "source": [
    "## 전임노드(Predecessor node)와 후임노드(Successor node)란?\n",
    "Successor node: Digraph에서 기준이 되는 node의 edge에 의해 다음으로 가리키는 node를 뜻한다.\n",
    "\n",
    "Predecessor node: Digraph에서 기준이 되는 노드가 edge에 의해 가리켜지는  node를 뜻한다.\n",
    "\n",
    "예를 들어 A를 기준으로 치면 다음으로 가리키는 C, E가 Successor node가 된다.\n",
    "\n",
    "그리고 A를 기준으로 화살표를 받는 B,D가 Predecessor node가 된다."
   ]
  },
  {
   "cell_type": "code",
   "metadata": {
    "pycharm": {
     "name": "#%%\n"
    },
    "colab": {
     "base_uri": "https://localhost:8080/"
    },
    "id": "gIz4zTy-1uTG",
    "outputId": "61a22703-b8d0-4da2-985f-a1a8c63720e5"
   },
   "source": [
    "# A의 successor nodes\n",
    "list(G.successors('A'))"
   ],
   "execution_count": null,
   "outputs": []
  },
  {
   "cell_type": "code",
   "metadata": {
    "pycharm": {
     "name": "#%%\n"
    },
    "colab": {
     "base_uri": "https://localhost:8080/"
    },
    "id": "5jgoeqoO1uTG",
    "outputId": "65429fe3-8b64-48cd-f6e0-44b0e117572d"
   },
   "source": [
    "# B의 successor nodes\n",
    "list(G.predecessors('A'))"
   ],
   "execution_count": null,
   "outputs": []
  },
  {
   "cell_type": "markdown",
   "metadata": {
    "collapsed": false,
    "pycharm": {
     "name": "#%% md\n"
    },
    "id": "s9QHSRNV1uTG"
   },
   "source": [
    "## 문제 5-1: 최고의 in-degree/out-degree 비율을 갖는 지점을 찾는 함수를 작성하여라."
   ]
  },
  {
   "cell_type": "code",
   "metadata": {
    "pycharm": {
     "name": "#%%\n"
    },
    "id": "yKzvDoL11uTG"
   },
   "source": [
    "# 랜덤으로 생성되는 방향을 가진 그래프 (directed graph)\n",
    "random_digraph = nx.fast_gnp_random_graph(10, 0.3, seed=None, directed=True)"
   ],
   "execution_count": null,
   "outputs": []
  },
  {
   "cell_type": "code",
   "metadata": {
    "pycharm": {
     "name": "#%%\n"
    },
    "colab": {
     "base_uri": "https://localhost:8080/",
     "height": 319
    },
    "id": "u-MQgoXi1uTG",
    "outputId": "cc484add-55ff-4ab9-f2b1-3143646c9a2c"
   },
   "source": [
    "nx.draw(random_digraph)"
   ],
   "execution_count": null,
   "outputs": []
  },
  {
   "cell_type": "code",
   "metadata": {
    "pycharm": {
     "name": "#%%\n"
    },
    "colab": {
     "base_uri": "https://localhost:8080/",
     "height": 139
    },
    "id": "C2ICCJxX1uTG",
    "outputId": "94da0719-954e-49a1-fbb3-bd6ee2957159"
   },
   "source": [
    "def find_highest_custom_degree(graph):\n",
    "  '''\n",
    "  주어진 그래프로부터 제일 높은 custom_degree를 찾는 것을 목표한다.\n",
    "  구체적으로, 각 노드에서 custom_degree는  ( in_degree * 10 - out_degree * 5 ) 로 계산된다.\n",
    "  :param graph: 그래프\n",
    "  :return: 최대 높은 custom degree\n",
    "  '''\n",
    "  highest_score = -1\n",
    "  for n in graph.nodes:\n",
    "    score = in_degree * 10 - out_degree * 5\n",
    "    if  highest_score > score:\n",
    "        # your code here\n",
    "    # your code here\n",
    "  return highest_score"
   ],
   "execution_count": null,
   "outputs": []
  },
  {
   "cell_type": "code",
   "metadata": {
    "pycharm": {
     "name": "#%%\n"
    },
    "id": "n3-CoQvs1uTG"
   },
   "source": [
    "find_highest_custom_degree(random_digraph)"
   ],
   "execution_count": null,
   "outputs": []
  },
  {
   "cell_type": "markdown",
   "metadata": {
    "collapsed": false,
    "pycharm": {
     "name": "#%% md\n"
    },
    "id": "N4dO0LWR1uTH"
   },
   "source": [
    "## 문제 5-2: 넓이 우선 검색(Breadth-First Search)  구현하기\n",
    "\n",
    "넓이 우선검색은 Level 우선 검색이라고도 한다. 가까운 근처 이웃부터 천천히 검색하는 방법이다. 즉, 주위의 정보를 먼저 검색하고 그 다음에 점점 먼 이웃을 검색하는 방법이다.\n",
    "\n",
    "connected_caveman_graph 는 k 크기의 l 개의 clique를 가진 caveman 그래프를 반환한다. 예로, 5-clique가 5개인 그래프를 다음과 같이 생성할 수 있다. 5-clique는 5명이 완벽하게 서로 커뮤니케이션하는 완전한 그래프라고 할 수 있다.\n",
    "\n"
   ]
  },
  {
   "cell_type": "code",
   "metadata": {
    "pycharm": {
     "name": "#%%\n"
    },
    "colab": {
     "base_uri": "https://localhost:8080/",
     "height": 319
    },
    "id": "MAcL9PUM1uTH",
    "outputId": "aecc0269-b678-4783-c67a-1c42e114b8d0"
   },
   "source": [
    "g =  nx.connected_caveman_graph(5, 5)\n",
    "nx.draw(g, with_labels=True)"
   ],
   "execution_count": null,
   "outputs": []
  },
  {
   "cell_type": "code",
   "metadata": {
    "pycharm": {
     "name": "#%%\n"
    },
    "id": "8G1bcknh1uTH"
   },
   "source": [
    "def bfs(graph, source):\n",
    "  '''\n",
    "  # 넓이우선 검색 함수를 구현하시오\n",
    "  :param graph: graph는 이전 g 파라미터\n",
    "  :param source: source는 시작노드\n",
    "  :return: 마지막 도착 노드\n",
    "  '''\n",
    "  # your code here\n",
    "  return last_visited"
   ],
   "execution_count": null,
   "outputs": []
  },
  {
   "cell_type": "code",
   "metadata": {
    "pycharm": {
     "name": "#%%\n"
    },
    "colab": {
     "base_uri": "https://localhost:8080/",
     "height": 269
    },
    "id": "jlq2z5nC1uTH",
    "outputId": "64a86dbd-8e83-45b2-efaa-20e37163d1ba"
   },
   "source": [
    "bfs(g, 0)"
   ],
   "execution_count": null,
   "outputs": []
  },
  {
   "cell_type": "markdown",
   "metadata": {
    "collapsed": false,
    "pycharm": {
     "name": "#%% md\n"
    },
    "id": "mnV3dqPr1uTH"
   },
   "source": [
    "# 소셜네트워크 분석 이해하기\n",
    "그래프 네트워크에서 노드간의 직접적인 연결은 1 홉(hop)에 있다고 표현한다. 예를 들면, (A)-(B)-(C) 가 3개로 노드로 이루어진 그래프에서, A와 C는 2 hops 관계 있다고 본다. 따라서, 큰 hop은 해당 노드로 부터 멀리 떨어져 있는 노드로 볼 수 있다. 소셜네트워크에서는, 친구와 친구 사이의 관계가 먼 것으로 이야기한다."
   ]
  },
  {
   "cell_type": "code",
   "metadata": {
    "pycharm": {
     "name": "#%%\n"
    },
    "colab": {
     "base_uri": "https://localhost:8080/"
    },
    "id": "8E6qxsGl1uTH",
    "outputId": "0a655bec-e03b-4005-cb4e-ed6f47ecc9a8"
   },
   "source": [
    "# source 로부터 n-HOPS가 떨어진 노드들을 찾는 방법\n",
    "HOPS = 2\n",
    "[n for n, d in nx.shortest_path_length(g ,source=0).items() if d==HOPS]"
   ],
   "execution_count": null,
   "outputs": []
  },
  {
   "cell_type": "markdown",
   "metadata": {
    "collapsed": false,
    "pycharm": {
     "name": "#%% md\n"
    },
    "id": "MI5d94RQ1uTH"
   },
   "source": [
    "## 문제 6-1: 인플루언서로부터 전체 노드의 50%를 차지하게되는 최소 HOPS를 계산하여라.\n",
    "인플루언서 p가 주어졌을때, p가 전체 노드의 50%를 알게 되는 최소 HOPS을 찾는 함수 find_min_hops_with_above_50_friends()을 구현하시오\n",
    "\n",
    "Watts-Strogatz 그래프 모델은 Small-World 그래프를 표현합니다. Small-World 그래프는 많은 노드가 하나 이상의 이웃을 가지지 않는, 일부 노드에 많은 이웃을 가지게되는 그래프입니다. 예로, 우리가 알고있는 인플루언서 기반 소셜네트워크, 온라인 상점 내 인기상품 기반 상품 네트워크 등은 이러한 Small World 그래프 입니다. 또한, 실제 사람들의 커뮤니티에서도 많은 사람들은 적은 수의 사람들을 알고 있으며, 소수의 사람들이 많은 인맥을 가지는 구조로 보여주게 됩니다.\n",
    "참조링크: (Small-World 그래프)[https://en.wikipedia.org/wiki/Small-world_network]\n",
    "\n"
   ]
  },
  {
   "cell_type": "code",
   "metadata": {
    "pycharm": {
     "name": "#%%\n"
    },
    "colab": {
     "base_uri": "https://localhost:8080/",
     "height": 319
    },
    "id": "kpfjdd_F1uTH",
    "outputId": "6caa0ba2-9ac6-41dd-a629-160d5f67f8db"
   },
   "source": [
    "# watts_strogatz_graph는 Small World 그래프 생성을 위해 다음과 같은 arguments을 input으로 받아 그래프를 생성합니다.\n",
    "# n은 노드의 수, k는 각 노드마다 연결될 이웃의 수(edge의 수), p= 연결될 확률\n",
    "g = nx.watts_strogatz_graph(n = 100, k= 5, p = 0.5, seed=None)\n",
    "nx.draw(g, with_labels=True)"
   ],
   "execution_count": null,
   "outputs": []
  },
  {
   "cell_type": "code",
   "metadata": {
    "pycharm": {
     "name": "#%%\n"
    },
    "id": "yZobODF01uTH"
   },
   "source": [
    "def find_min_hops_with_above_50_friends(g, influencer=0, min_percent=50):\n",
    "  '''\n",
    "  주어진 노드가 50% 이상의 친구 노드를 가지는 최소 홉수를 찾으시오\n",
    "  :param g: 그래프\n",
    "  :param influencer: 타겟이 될 인플루언서 노드\n",
    "  :param min_percent: 최소 요구해야할 노드의 비율 실제 필요한 노드 수는 전체 노드 수(g.nodes) * 0.5 이상이 되어야한다.\n",
    "  :return: 최소 hops 로 반환해야한다.\n",
    "  '''\n",
    "  return hops"
   ],
   "execution_count": null,
   "outputs": []
  }
 ]
}