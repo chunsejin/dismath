{
 "nbformat": 4,
 "nbformat_minor": 0,
 "metadata": {
  "colab": {
   "name": "Untitled2.ipynb",
   "provenance": [],
   "collapsed_sections": [],
   "toc_visible": true
  },
  "kernelspec": {
   "name": "python3",
   "display_name": "Python 3"
  },
  "language_info": {
   "name": "python"
  }
 },
 "cells": [
  {
   "cell_type": "markdown",
   "metadata": {
    "id": "YJnuJPN5L4xg"
   },
   "source": [
    "# 과제 4-5: 그래프 생성하기 \n",
    "---\n",
    "박정현, 배정훈\n",
    "---\n",
    "우리는 관계 강의를 통해 그래프에 대한 구성을 이론적으로 학습하였다. 구체적으로, 유향/무향 그래프 및 관계행렬 등을 그래프 표현으로 배웠다. 하지만, 강의에서 학습한 데이터는 단순한 숫자(1,2,3,..)/문자형(a,b,c,..)이었기 때문에 실제 세계에서 적용하기는 어렵다. \n",
    "\n",
    "본 프로그래밍 과정을 통해, 실제 데이터를 어떻게 그래프 모델로 표현하고, 또한 그래프의 이론적인 방법을 실용적으로 어떻게 응용하는지에 대해서 배울 예정이다.\n",
    "\n",
    "\n"
   ]
  },
  {
   "cell_type": "markdown",
   "metadata": {
    "id": "tp5ObGzXM0Gz"
   },
   "source": [
    "# numpy 사용하기\n",
    "Numpy는 C언어로 구현된 파이썬 라이브러리로써, 고성능의 수치계산을 위해 제작되었습니다. Numpy(Numerical Python의 줄임말)는 벡터 및 행렬 연산에 있어서 매우 편리한 기능을 제공합니다.\n",
    "\n",
    "이미 경험한 pandas와 matplotlib의 기반으로 사용될 수 도 있습니다. 예로, 라이브러리를 사용하면 numpy의 행렬을 pandas데이터로 변환할 수 있습니다.\n",
    "\n",
    "기본적으로 Numpy는 배열/행렬(array) 단위로 데이터를 기본으로합니다. 따라서 1d, 2d, 3d(d는 차원으로써 dimention의 약어)에 기반한 배열 연산을 수행합니다.\n",
    "\n",
    "\n",
    "** numpy는 워낙 방대하기 때문에 본 챕터에서는 관계행렬 혹은 가중치 그래프 중심의 행렬 연산을 주로 배울 예정입니다. \n",
    "\n",
    "\n",
    "세부적으로, 공부하고 싶은 학생은 \"파이썬과 NumPy로 배우는 선형대수\", \"Mastering Numerical Computing with NumPy\" 등와 같은 도서를 구입하고 별도로 공부하길 바랍니다."
   ]
  },
  {
   "cell_type": "markdown",
   "metadata": {
    "id": "gWi8XPQyNa6l"
   },
   "source": [
    "## numpy 데이터 선언하기"
   ]
  },
  {
   "cell_type": "code",
   "metadata": {
    "id": "isi10GTmLzeX"
   },
   "source": [
    "import numpy as np"
   ],
   "execution_count": 1,
   "outputs": []
  },
  {
   "cell_type": "code",
   "metadata": {
    "colab": {
     "base_uri": "https://localhost:8080/"
    },
    "id": "tOsZFgDWMzbH",
    "outputId": "0aa46497-ddec-4986-ea17-d4d133c55dad"
   },
   "source": [
    "data1 = [1,2,3,4,5]\n",
    "data1"
   ],
   "execution_count": 2,
   "outputs": [
    {
     "data": {
      "text/plain": "[1, 2, 3, 4, 5]"
     },
     "execution_count": 2,
     "metadata": {},
     "output_type": "execute_result"
    }
   ]
  },
  {
   "cell_type": "code",
   "metadata": {
    "colab": {
     "base_uri": "https://localhost:8080/"
    },
    "id": "N4MVMfnhNE2Z",
    "outputId": "d423db4f-088f-4f74-985f-15604dc653c6"
   },
   "source": [
    "arr1 = np.array(data1)\n",
    "arr1"
   ],
   "execution_count": 3,
   "outputs": [
    {
     "data": {
      "text/plain": "array([1, 2, 3, 4, 5])"
     },
     "execution_count": 3,
     "metadata": {},
     "output_type": "execute_result"
    }
   ]
  },
  {
   "cell_type": "code",
   "metadata": {
    "colab": {
     "base_uri": "https://localhost:8080/"
    },
    "id": "cZwlYeuCNGJG",
    "outputId": "887f25a7-2287-4e65-d6f6-8ac26c34fe46"
   },
   "source": [
    "arr1.shape"
   ],
   "execution_count": 4,
   "outputs": [
    {
     "data": {
      "text/plain": "(5,)"
     },
     "execution_count": 4,
     "metadata": {},
     "output_type": "execute_result"
    }
   ]
  },
  {
   "cell_type": "code",
   "metadata": {
    "colab": {
     "base_uri": "https://localhost:8080/"
    },
    "id": "-sjYb-BvNLHc",
    "outputId": "698bf660-1fdf-401a-d0d2-26cc5126cd79"
   },
   "source": [
    "arr4 = np.array([[1,2,3],[4,5,6],[7,8,9],[10,11,12]])\n",
    "arr4"
   ],
   "execution_count": 5,
   "outputs": [
    {
     "data": {
      "text/plain": "array([[ 1,  2,  3],\n       [ 4,  5,  6],\n       [ 7,  8,  9],\n       [10, 11, 12]])"
     },
     "execution_count": 5,
     "metadata": {},
     "output_type": "execute_result"
    }
   ]
  },
  {
   "cell_type": "code",
   "metadata": {
    "colab": {
     "base_uri": "https://localhost:8080/"
    },
    "id": "QMzlgPDxNN7n",
    "outputId": "95193c35-895e-40f4-c15b-349531f2b938"
   },
   "source": [
    "np.zeros((3,3))"
   ],
   "execution_count": 6,
   "outputs": [
    {
     "data": {
      "text/plain": "array([[0., 0., 0.],\n       [0., 0., 0.],\n       [0., 0., 0.]])"
     },
     "execution_count": 6,
     "metadata": {},
     "output_type": "execute_result"
    }
   ]
  },
  {
   "cell_type": "code",
   "metadata": {
    "colab": {
     "base_uri": "https://localhost:8080/"
    },
    "id": "7sAFH9_2NPd6",
    "outputId": "55a8580d-01e6-4dec-cf36-fad70f9306bd"
   },
   "source": [
    "np.ones((3, 3))"
   ],
   "execution_count": 7,
   "outputs": [
    {
     "data": {
      "text/plain": "array([[1., 1., 1.],\n       [1., 1., 1.],\n       [1., 1., 1.]])"
     },
     "execution_count": 7,
     "metadata": {},
     "output_type": "execute_result"
    }
   ]
  },
  {
   "cell_type": "markdown",
   "metadata": {
    "id": "f28taIOvNi6I"
   },
   "source": [
    "## numpy 데이터간 연산하기"
   ]
  },
  {
   "cell_type": "code",
   "metadata": {
    "id": "klu1xROpNYuQ"
   },
   "source": [
    "arr1 = np.array([[True,True],[False, False]])"
   ],
   "execution_count": 8,
   "outputs": []
  },
  {
   "cell_type": "code",
   "metadata": {
    "id": "WnA_hS-mPAT0"
   },
   "source": [
    "arr2 = np.array([[True,True],[True, False]])"
   ],
   "execution_count": 9,
   "outputs": []
  },
  {
   "cell_type": "code",
   "metadata": {
    "id": "kb7nTxouQLwc"
   },
   "source": [
    "# 논리합 계산하기\n",
    "# astype(int)를 통해서 True/False 값을 0/1로 변환하기\n",
    "np.logical_and(arr1, arr2).astype(int)"
   ],
   "execution_count": 17,
   "outputs": [
    {
     "data": {
      "text/plain": "array([[1, 1],\n       [0, 0]])"
     },
     "execution_count": 17,
     "metadata": {},
     "output_type": "execute_result"
    }
   ]
  },
  {
   "cell_type": "markdown",
   "metadata": {
    "id": "BZSSeDl2QMSS"
   },
   "source": [
    "# 관계에 대한 이해\n"
   ]
  },
  {
   "cell_type": "code",
   "metadata": {
    "id": "13ofWymuRppT"
   },
   "source": [
    "def gen_rand_boolean_matrix(N):\n",
    "  arr = np.full((N,N), False)\n",
    "  idx = np.random.randint(N, size=N)\n",
    "\n",
    "  # replace \"False\" by \"True\" at given indices\n",
    "  arr[range(N), idx] = True\n",
    "  return arr"
   ],
   "execution_count": 11,
   "outputs": []
  },
  {
   "cell_type": "code",
   "metadata": {
    "colab": {
     "base_uri": "https://localhost:8080/"
    },
    "id": "U-bN2qpwQtWd",
    "outputId": "54c68eff-d3ea-4580-af58-4e1e52727552"
   },
   "source": [
    "M = 8\n",
    "R = gen_rand_boolean_matrix(M)\n",
    "R.astype(int)"
   ],
   "execution_count": 18,
   "outputs": [
    {
     "data": {
      "text/plain": "array([[1, 0, 0, 0, 0, 0, 0, 0],\n       [0, 0, 0, 0, 0, 1, 0, 0],\n       [0, 1, 0, 0, 0, 0, 0, 0],\n       [0, 0, 0, 0, 0, 0, 1, 0],\n       [0, 1, 0, 0, 0, 0, 0, 0],\n       [0, 0, 0, 0, 1, 0, 0, 0],\n       [1, 0, 0, 0, 0, 0, 0, 0],\n       [1, 0, 0, 0, 0, 0, 0, 0]])"
     },
     "execution_count": 18,
     "metadata": {},
     "output_type": "execute_result"
    }
   ]
  },
  {
   "cell_type": "code",
   "metadata": {
    "id": "AWWVgk40SD3h"
   },
   "source": [
    "S = gen_rand_boolean_matrix(M)"
   ],
   "execution_count": 13,
   "outputs": []
  },
  {
   "cell_type": "code",
   "metadata": {
    "colab": {
     "base_uri": "https://localhost:8080/"
    },
    "id": "8fkPgk9kS5tr",
    "outputId": "45ac1058-27a4-457f-ff33-c88c24778a5e"
   },
   "source": [
    "R_and_S = np.logical_and(R,S) \n",
    "R_and_S"
   ],
   "execution_count": 14,
   "outputs": [
    {
     "data": {
      "text/plain": "array([[False, False, False, False, False, False, False, False],\n       [False, False, False, False, False, False, False, False],\n       [False, False, False, False, False, False, False, False],\n       [False, False, False, False, False, False, False, False],\n       [False, False, False, False, False, False, False, False],\n       [False, False, False, False, False, False, False, False],\n       [False, False, False, False, False, False, False, False],\n       [False, False, False, False, False, False, False, False]])"
     },
     "execution_count": 14,
     "metadata": {},
     "output_type": "execute_result"
    }
   ]
  },
  {
   "cell_type": "code",
   "metadata": {
    "colab": {
     "base_uri": "https://localhost:8080/"
    },
    "id": "R0mSenSPTGP9",
    "outputId": "9d9fde01-d3fb-4010-be2f-44ce77f2d59b"
   },
   "source": [
    "R_and_S.astype(int)"
   ],
   "execution_count": 15,
   "outputs": [
    {
     "data": {
      "text/plain": "array([[0, 0, 0, 0, 0, 0, 0, 0],\n       [0, 0, 0, 0, 0, 0, 0, 0],\n       [0, 0, 0, 0, 0, 0, 0, 0],\n       [0, 0, 0, 0, 0, 0, 0, 0],\n       [0, 0, 0, 0, 0, 0, 0, 0],\n       [0, 0, 0, 0, 0, 0, 0, 0],\n       [0, 0, 0, 0, 0, 0, 0, 0],\n       [0, 0, 0, 0, 0, 0, 0, 0]])"
     },
     "execution_count": 15,
     "metadata": {},
     "output_type": "execute_result"
    }
   ]
  },
  {
   "cell_type": "markdown",
   "metadata": {
    "id": "KGYZ2J5tTdzb"
   },
   "source": [
    "## 문제 4-1: 부울곱(Boolean Product)을 생성하시오"
   ]
  },
  {
   "cell_type": "code",
   "metadata": {
    "id": "dKvnbno3fFMp"
   },
   "source": [
    "# 주어진 관계 매트릭스로부터 부울곱\n",
    "def my_boolean_product(R, S):\n",
    "# your code here"
   ],
   "execution_count": 16,
   "outputs": [
    {
     "ename": "SyntaxError",
     "evalue": "invalid syntax (<ipython-input-16-a0d1f041dc8a>, line 2)",
     "output_type": "error",
     "traceback": [
      "\u001B[1;36m  File \u001B[1;32m\"<ipython-input-16-a0d1f041dc8a>\"\u001B[1;36m, line \u001B[1;32m2\u001B[0m\n\u001B[1;33m    def logical_product(R1, R2)\u001B[0m\n\u001B[1;37m                               ^\u001B[0m\n\u001B[1;31mSyntaxError\u001B[0m\u001B[1;31m:\u001B[0m invalid syntax\n"
     ]
    }
   ]
  },
  {
   "cell_type": "code",
   "execution_count": null,
   "outputs": [],
   "source": [
    "my_boolean_product(R,S)"
   ],
   "metadata": {
    "collapsed": false,
    "pycharm": {
     "name": "#%%\n"
    }
   }
  },
  {
   "cell_type": "markdown",
   "metadata": {
    "id": "bPywG3lfToq3"
   },
   "source": [
    "## 문제 4-2: Transitive Relation, Symmetric Relation, Reflexive Relation\n",
    "주어진 행렬 M이 Transitive Relation, Symmetric Relation, Reflexive Relation, 만족하는 지를 확인하는 메소드를 만드시오"
   ]
  },
  {
   "cell_type": "code",
   "metadata": {
    "id": "VnBRToAkezZL"
   },
   "source": [
    "# transitive relation인지 확인하는 함수\n",
    "def is_transitive_relation(M):\n",
    "  # your code here\n",
    "  return False"
   ],
   "execution_count": null,
   "outputs": []
  },
  {
   "cell_type": "code",
   "execution_count": null,
   "outputs": [],
   "source": [
    "# symmetric relation인지 확인하는 함수\n",
    "def is_symmetric_relation(M):\n",
    "  # your code here\n",
    "  return False"
   ],
   "metadata": {
    "collapsed": false,
    "pycharm": {
     "name": "#%%\n"
    }
   }
  },
  {
   "cell_type": "code",
   "execution_count": null,
   "outputs": [],
   "source": [
    "def is_reflexive_relation(M):\n",
    "  # your code here\n",
    "  return False"
   ],
   "metadata": {
    "collapsed": false,
    "pycharm": {
     "name": "#%%\n"
    }
   }
  },
  {
   "cell_type": "code",
   "execution_count": null,
   "outputs": [],
   "source": [
    "M = np.full((3,3, True))"
   ],
   "metadata": {
    "collapsed": false,
    "pycharm": {
     "name": "#%%\n"
    }
   }
  },
  {
   "cell_type": "code",
   "execution_count": null,
   "outputs": [],
   "source": [
    "is_transitive_relation(M)"
   ],
   "metadata": {
    "collapsed": false,
    "pycharm": {
     "name": "#%%\n"
    }
   }
  },
  {
   "cell_type": "code",
   "execution_count": null,
   "outputs": [],
   "source": [
    "is_symmetric_relation(M)"
   ],
   "metadata": {
    "collapsed": false,
    "pycharm": {
     "name": "#%%\n"
    }
   }
  },
  {
   "cell_type": "code",
   "execution_count": null,
   "outputs": [],
   "source": [
    "is_reflexive_relation(M)"
   ],
   "metadata": {
    "collapsed": false,
    "pycharm": {
     "name": "#%%\n"
    }
   }
  },
  {
   "cell_type": "code",
   "execution_count": null,
   "outputs": [],
   "source": [
    "M = np.full((3,3, False))"
   ],
   "metadata": {
    "collapsed": false,
    "pycharm": {
     "name": "#%%\n"
    }
   }
  },
  {
   "cell_type": "code",
   "execution_count": null,
   "outputs": [],
   "source": [
    "is_transitive_relation(M)"
   ],
   "metadata": {
    "collapsed": false,
    "pycharm": {
     "name": "#%%\n"
    }
   }
  },
  {
   "cell_type": "code",
   "execution_count": null,
   "outputs": [],
   "source": [
    "is_symmetric_relation(M)"
   ],
   "metadata": {
    "collapsed": false,
    "pycharm": {
     "name": "#%%\n"
    }
   }
  },
  {
   "cell_type": "code",
   "execution_count": null,
   "outputs": [],
   "source": [
    "is_reflexive_relation(M)"
   ],
   "metadata": {
    "collapsed": false,
    "pycharm": {
     "name": "#%%\n"
    }
   }
  },
  {
   "cell_type": "markdown",
   "metadata": {
    "id": "0fpAZxLwe5FR"
   },
   "source": [
    "## 문제 4-3: Equivalence relation\n",
    "is_transitive, is_symmetric, is_reflexive_relation 메소드를 활용하여 equivalence relation인지를 확인하는 메소드를 생성하시오\n"
   ]
  },
  {
   "cell_type": "code",
   "metadata": {
    "id": "HyFu0yHwgPb1"
   },
   "source": [
    "def is_equivalence_relation(M):\n",
    "  return False"
   ],
   "execution_count": null,
   "outputs": []
  },
  {
   "cell_type": "code",
   "execution_count": null,
   "outputs": [],
   "source": [
    "M = np.array([[True,True,True,True],[False,True,False,True],[True,True,True,True],[True,True,True,True]])"
   ],
   "metadata": {
    "collapsed": false,
    "pycharm": {
     "name": "#%%\n"
    }
   }
  },
  {
   "cell_type": "code",
   "execution_count": null,
   "outputs": [],
   "source": [
    "is_equivalence_relation(M)"
   ],
   "metadata": {
    "collapsed": false,
    "pycharm": {
     "name": "#%%\n"
    }
   }
  },
  {
   "cell_type": "code",
   "execution_count": null,
   "outputs": [],
   "source": [
    "M = np.full((3,3, True))"
   ],
   "metadata": {
    "collapsed": false,
    "pycharm": {
     "name": "#%%\n"
    }
   }
  },
  {
   "cell_type": "code",
   "execution_count": null,
   "outputs": [],
   "source": [
    "is_equivalence_relation(M)"
   ],
   "metadata": {
    "collapsed": false,
    "pycharm": {
     "name": "#%%\n"
    }
   }
  },
  {
   "cell_type": "markdown",
   "metadata": {
    "id": "MlocFs85gPxl"
   },
   "source": [
    "## 문제 4-4: Floyd Washall Algorithm\n",
    "플로이드 워셜 알고리즘을 작성하고, 이를 통해 주어진 관계행렬을 만족하는 가장 작은 동치 관계(Equivalence relation)를 구하여라\n",
    "플로이드 알고리즘은 외부 혹은 라이브러리를 사용해도 무관하다. 단 입출력은 만족해야한다."
   ]
  },
  {
   "cell_type": "code",
   "execution_count": null,
   "outputs": [],
   "source": [
    "# 관계행렬 R과 S를 입력으로 받아서 가장 작은 동치 관계행렬을 반환한다\n",
    "def floyd_washall(R, S):\n",
    "  return E # 가장작은 동치 관계행렬을 반환"
   ],
   "metadata": {
    "collapsed": false,
    "pycharm": {
     "name": "#%%\n"
    }
   }
  },
  {
   "cell_type": "code",
   "execution_count": null,
   "outputs": [],
   "source": [
    "R = np.array([[True,True,False,False,False],[True,True,False,False,False],[False,False,True,True,False],[False,False,True,True,True],[False,False,False,False,True]])\n",
    "\n",
    "S = np.array([[True,False,False,False,False],[False,True,False,False,False],[False,False,True,False,False],[False,False,False,True,True],[False,False,False,True,True]])"
   ],
   "metadata": {
    "collapsed": false,
    "pycharm": {
     "name": "#%%\n",
     "is_executing": true
    }
   }
  },
  {
   "cell_type": "code",
   "execution_count": null,
   "outputs": [],
   "source": [
    "# 슬라이드 관계 p105의 정답과 동일해야함\n",
    "floyd_washall(R, S)"
   ],
   "metadata": {
    "collapsed": false,
    "pycharm": {
     "name": "#%%\n"
    }
   }
  },
  {
   "cell_type": "markdown",
   "metadata": {
    "id": "BnJ0u5qZgwjo"
   },
   "source": [
    "# 그래프 생성하기\n",
    "그래프의 edge와 vertex(node)를 생성하는 방법을 배웁니다"
   ]
  },
  {
   "cell_type": "code",
   "metadata": {
    "id": "OvfK1glUhf1I"
   },
   "source": [
    "import networkx as nx"
   ],
   "execution_count": 21,
   "outputs": []
  },
  {
   "cell_type": "code",
   "execution_count": 22,
   "outputs": [],
   "source": [
    "# 기본 그래프 선언\n",
    "g=nx.Graph()"
   ],
   "metadata": {
    "collapsed": false,
    "pycharm": {
     "name": "#%%\n"
    }
   }
  },
  {
   "cell_type": "markdown",
   "source": [
    "add_node: 노드를 추가합니다.\n",
    "add_nodes_from: 리스트 등으로부터 여러 노드를 추가합니다"
   ],
   "metadata": {
    "collapsed": false,
    "pycharm": {
     "name": "#%% md\n"
    }
   }
  },
  {
   "cell_type": "code",
   "execution_count": 23,
   "outputs": [],
   "source": [
    "g.add_node(\"A\")\n",
    "g.add_node(\"B\")\n",
    "g.add_node(\"C\")\n",
    "g.add_nodes_from([\"D\",\"E\",\"F\"])\n",
    "g.add_node(\"G\")"
   ],
   "metadata": {
    "collapsed": false,
    "pycharm": {
     "name": "#%%\n"
    }
   }
  },
  {
   "cell_type": "code",
   "execution_count": 38,
   "outputs": [
    {
     "data": {
      "text/plain": "NodeView(('A', 'B', 'C', 'D', 'E', 'F'))"
     },
     "execution_count": 38,
     "metadata": {},
     "output_type": "execute_result"
    }
   ],
   "source": [
    "g.nodes"
   ],
   "metadata": {
    "collapsed": false,
    "pycharm": {
     "name": "#%%\n"
    }
   }
  },
  {
   "cell_type": "code",
   "execution_count": 24,
   "outputs": [
    {
     "data": {
      "text/plain": "7"
     },
     "execution_count": 24,
     "metadata": {},
     "output_type": "execute_result"
    }
   ],
   "source": [
    "# 노드의 수를 확인합니다.\n",
    "g.number_of_nodes()"
   ],
   "metadata": {
    "collapsed": false,
    "pycharm": {
     "name": "#%%\n"
    }
   }
  },
  {
   "cell_type": "code",
   "execution_count": 27,
   "outputs": [],
   "source": [
    "g.remove_node(\"G\")"
   ],
   "metadata": {
    "collapsed": false,
    "pycharm": {
     "name": "#%%\n"
    }
   }
  },
  {
   "cell_type": "code",
   "execution_count": 25,
   "outputs": [],
   "source": [
    "g.add_edge(\"A\",\"C\")\n",
    "g.add_edge(\"A\",\"D\")\n",
    "g.add_edge(\"A\",\"E\")\n",
    "g.add_edge(\"A\",\"F\")\n",
    "g.add_edges_from([(\"B\",\"B\"),(\"B\",\"C\"),(\"B\",\"D\"),(\"B\",\"F\")])\n",
    "g.add_edge(\"D\",\"E\")\n",
    "g.add_edge(\"C\",\"D\")\n",
    "g.add_edge(\"C\",\"F\")\n",
    "g.add_edge(\"E\",\"E\")"
   ],
   "metadata": {
    "collapsed": false,
    "pycharm": {
     "name": "#%%\n"
    }
   }
  },
  {
   "cell_type": "code",
   "execution_count": null,
   "outputs": [],
   "source": [
    "g.number_of_edges()"
   ],
   "metadata": {
    "collapsed": false,
    "pycharm": {
     "name": "#%%\n"
    }
   }
  },
  {
   "cell_type": "code",
   "execution_count": 29,
   "outputs": [
    {
     "data": {
      "text/plain": "<Figure size 432x288 with 1 Axes>",
      "image/png": "[encoded data removed]"
     },
     "metadata": {},
     "output_type": "display_data"
    }
   ],
   "source": [
    "# 그래프 화면 출력\n",
    "nx.draw(g, with_labels = True)"
   ],
   "metadata": {
    "collapsed": false,
    "pycharm": {
     "name": "#%%\n"
    }
   }
  },
  {
   "cell_type": "code",
   "execution_count": null,
   "outputs": [],
   "source": [
    "# 엣지 제거\n",
    "g.remove_edge(\"C\",\"D\")"
   ],
   "metadata": {
    "collapsed": false,
    "pycharm": {
     "name": "#%%\n"
    }
   }
  },
  {
   "cell_type": "code",
   "execution_count": null,
   "outputs": [],
   "source": [
    "g.edges"
   ],
   "metadata": {
    "collapsed": false,
    "pycharm": {
     "name": "#%%\n"
    }
   }
  },
  {
   "cell_type": "code",
   "execution_count": null,
   "outputs": [],
   "source": [
    "nx.draw(g, with_labels = True)"
   ],
   "metadata": {
    "collapsed": false,
    "pycharm": {
     "name": "#%%\n"
    }
   }
  },
  {
   "cell_type": "markdown",
   "source": [
    "## 방향성 그래프 생성하기"
   ],
   "metadata": {
    "collapsed": false,
    "pycharm": {
     "name": "#%% md\n"
    }
   }
  },
  {
   "cell_type": "code",
   "execution_count": 30,
   "outputs": [],
   "source": [
    "G = nx.DiGraph()"
   ],
   "metadata": {
    "collapsed": false,
    "pycharm": {
     "name": "#%%\n"
    }
   }
  },
  {
   "cell_type": "code",
   "execution_count": 31,
   "outputs": [],
   "source": [
    "G.add_nodes_from(['A','B','C','D','E'])"
   ],
   "metadata": {
    "collapsed": false,
    "pycharm": {
     "name": "#%%\n"
    }
   }
  },
  {
   "cell_type": "code",
   "execution_count": 32,
   "outputs": [],
   "source": [
    "G.add_edge('A','C',weight=8)\n",
    "G.add_edge('A','E',weight=10)\n",
    "G.add_edge('B','A',weight=15)\n",
    "G.add_edge('C','E',weight=23)\n",
    "G.add_edge('D','B',weight=17)\n",
    "G.add_edge('D','A',weight=27)\n",
    "G.add_edge('E','B',weight=11)\n",
    "G.add_edge('E','D',weight=5)"
   ],
   "metadata": {
    "collapsed": false,
    "pycharm": {
     "name": "#%%\n"
    }
   }
  },
  {
   "cell_type": "code",
   "execution_count": 34,
   "outputs": [
    {
     "data": {
      "text/plain": "<Figure size 432x288 with 1 Axes>",
      "image/png": "[encoded data removed]"
     },
     "metadata": {},
     "output_type": "display_data"
    }
   ],
   "source": [
    "nx.draw(G, with_labels=True)"
   ],
   "metadata": {
    "collapsed": false,
    "pycharm": {
     "name": "#%%\n"
    }
   }
  },
  {
   "cell_type": "markdown",
   "source": [
    "## Degree 이해하기"
   ],
   "metadata": {
    "collapsed": false,
    "pycharm": {
     "name": "#%% md\n"
    }
   }
  },
  {
   "cell_type": "code",
   "execution_count": 37,
   "outputs": [
    {
     "data": {
      "text/plain": "DiDegreeView({'A': 4, 'B': 3, 'C': 2, 'D': 3, 'E': 4})"
     },
     "execution_count": 37,
     "metadata": {},
     "output_type": "execute_result"
    }
   ],
   "source": [
    "# in/out degree 출력\n",
    "G.degree"
   ],
   "metadata": {
    "collapsed": false,
    "pycharm": {
     "name": "#%%\n"
    }
   }
  },
  {
   "cell_type": "code",
   "execution_count": 35,
   "outputs": [
    {
     "data": {
      "text/plain": "InDegreeView({'A': 2, 'B': 2, 'C': 1, 'D': 1, 'E': 2})"
     },
     "execution_count": 35,
     "metadata": {},
     "output_type": "execute_result"
    }
   ],
   "source": [
    "# in_degree 출력\n",
    "G.in_degree()"
   ],
   "metadata": {
    "collapsed": false,
    "pycharm": {
     "name": "#%%\n"
    }
   }
  },
  {
   "cell_type": "code",
   "execution_count": 36,
   "outputs": [
    {
     "data": {
      "text/plain": "OutDegreeView({'A': 2, 'B': 1, 'C': 1, 'D': 2, 'E': 2})"
     },
     "execution_count": 36,
     "metadata": {},
     "output_type": "execute_result"
    }
   ],
   "source": [
    "# out_degree 출력\n",
    "G.out_degree()"
   ],
   "metadata": {
    "collapsed": false,
    "pycharm": {
     "name": "#%%\n"
    }
   }
  },
  {
   "cell_type": "markdown",
   "source": [
    "## 문제 5-1: 최고의 in-degree/out-degree 비율을 갖는 지점을 찾는 함수를 작성하여라."
   ],
   "metadata": {
    "collapsed": false,
    "pycharm": {
     "name": "#%% md\n"
    }
   }
  },
  {
   "cell_type": "code",
   "execution_count": 55,
   "outputs": [],
   "source": [
    "# 랜덤으로 생성되는 방향을 가진 그래프 (directed graph)\n",
    "random_digraph = nx.fast_gnp_random_graph(10, 0.3, seed=None, directed=True)"
   ],
   "metadata": {
    "collapsed": false,
    "pycharm": {
     "name": "#%%\n"
    }
   }
  },
  {
   "cell_type": "code",
   "execution_count": 56,
   "outputs": [
    {
     "data": {
      "text/plain": "<Figure size 432x288 with 1 Axes>",
      "image/png": "[encoded data removed]"
     },
     "metadata": {},
     "output_type": "display_data"
    }
   ],
   "source": [
    "nx.draw(random_digraph)"
   ],
   "metadata": {
    "collapsed": false,
    "pycharm": {
     "name": "#%%\n"
    }
   }
  },
  {
   "cell_type": "code",
   "execution_count": null,
   "outputs": [],
   "source": [
    "# find_highest_custom_degree는 주어진 그래프로부터 제일 높은 custom_degree를 찾는 것을 목표한다.\n",
    "# 구체적으로, 각 노드에서 custom_degree는  ( in_degree * 10 - out_degree * 5) 로 계산된다\n",
    "def find_highest_custom_degree(graph):\n",
    "  # your code here\n",
    "  return highest_score"
   ],
   "metadata": {
    "collapsed": false,
    "pycharm": {
     "name": "#%%\n"
    }
   }
  },
  {
   "cell_type": "code",
   "execution_count": null,
   "outputs": [],
   "source": [
    "find_highest_custom_degree(random_digraph)"
   ],
   "metadata": {
    "collapsed": false,
    "pycharm": {
     "name": "#%%\n"
    }
   }
  }
 ]
}