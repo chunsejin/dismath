{
 "cells": [
  {
   "cell_type": "markdown",
   "metadata": {
    "id": "YJnuJPN5L4xg"
   },
   "source": [
    "# 과제 7 & 8: 그래프 알고리즘\n",
    "---\n",
    "박정현(pwjdgus1017@donga.ac.kr), 배정훈(rhenus9911@gmail.com), 최재혁(fkdlfkdl68@donga.ac.kr), 권건우(a71463092@gmail.com)\n",
    "---\n",
    "우리는 그래프에 대한 이론을 학습하였다. 특히, 우리는 다양한 그래프에 대한 종류(Complete graph, isomorphism graph, homomorphism graph, spanning graph, euler graph, hamilton graph 등을 학삽하였다. 또한 그에 관련된 알고리즘으로써, 우리는 그래프 종류에 대한 평가 방법(각 그래프 종류 판별법) 및 관련된 알고리즘(판매원 탐방, 최단 경로, 그래프 컬러링 등)를 학습하였다. 이를 기반으로, 아래의 주어진 문제 7, 8 에 대한 코드를 작성하시오.\n",
    "\n",
    "\n"
   ]
  },
  {
   "cell_type": "markdown",
   "metadata": {
    "id": "LyFhqIPQ2WFt"
   },
   "source": [
    "# 해당파일 활용 방법- [메뉴] 파일->드라이브에 사본 저장을 통해서 프로그램 실행하시면 됩니다."
   ]
  },
  {
   "cell_type": "markdown",
   "metadata": {
    "collapsed": false,
    "id": "2fkhiOxW1uS1",
    "pycharm": {
     "name": "#%% md\n"
    }
   },
   "source": []
  },
  {
   "cell_type": "markdown",
   "metadata": {
    "id": "BnJ0u5qZgwjo"
   },
   "source": [
    "# 문제 7: 여러가지 그래프 판별법\n",
    "Isomorphism graph, Sparse and Dense graphs, Euler and Hamiltonian graph를 인지를 확인하는 코드를 작성하시오.\n"
   ]
  },
  {
   "cell_type": "code",
   "execution_count": 1,
   "metadata": {
    "id": "OvfK1glUhf1I"
   },
   "outputs": [],
   "source": [
    "import networkx as nx"
   ]
  },
  {
   "cell_type": "markdown",
   "metadata": {
    "collapsed": false,
    "id": "X12vXI7v1uTD",
    "pycharm": {
     "name": "#%% md\n"
    }
   },
   "source": [
    "## 문제 7-1: Isomorphism\n",
    "주어진 두 Directed 그래프 (G1, G2) 로부터 Isomorphism graph 인지를 판별하기"
   ]
  },
  {
   "cell_type": "code",
   "execution_count": 2,
   "metadata": {
    "id": "YYzSj7Qk1uTD",
    "pycharm": {
     "name": "#%%\n"
    }
   },
   "outputs": [],
   "source": [
    "def is_isomorphic(G1, G2):\n",
    "  '''\n",
    "  G1과 G2가 isomorphic 관계인지를 체크\n",
    "  :param G1: Directed 그래프\n",
    "  :param G2: Directed 그래프\n",
    "  :return: Boolean\n",
    "  '''\n",
    "  pass"
   ]
  },
  {
   "cell_type": "code",
   "execution_count": 3,
   "metadata": {
    "colab": {
     "base_uri": "https://localhost:8080/"
    },
    "id": "hfmry0Ov1uTD",
    "outputId": "8851beff-1a5f-4617-e534-be2a8a13c5d5",
    "pycharm": {
     "name": "#%%\n"
    }
   },
   "outputs": [
    {
     "name": "stdout",
     "output_type": "stream",
     "text": [
      "None\n"
     ]
    }
   ],
   "source": [
    "g1 = nx.DiGraph()\n",
    "g2 = nx.DiGraph()\n",
    "nx.add_path(g1, [1,2,3,4,5,6,7,8,9,10])\n",
    "nx.add_path(g2, [10,20,30,40,50,60,70,80,90,100])\n",
    "print(is_isomorphic(g1,g2)) # nx.is_isomorphic 사용하지 말 것"
   ]
  },
  {
   "cell_type": "markdown",
   "metadata": {
    "colab": {
     "base_uri": "https://localhost:8080/"
    },
    "id": "AI2JA3w31uTD",
    "outputId": "dd9cacea-8082-4ace-c1d2-57f81eff1ce4",
    "pycharm": {
     "name": "#%% md\n"
    }
   },
   "source": [
    "## 문제 7-2: Graph Density\n",
    "다음 그래프에 대해서 Graph Density를 계산하는 구하는 함수 def calculate_density()를 작성하여라. 또한"
   ]
  },
  {
   "cell_type": "code",
   "execution_count": 4,
   "metadata": {
    "id": "BCqOh-9W1uTE",
    "pycharm": {
     "name": "#%%\n"
    }
   },
   "outputs": [],
   "source": [
    "def calculate_density(G):\n",
    "  '''\n",
    "  :param G: directed 그래프\n",
    "  :return: graph density의 값 [0,1]\n",
    "  '''\n",
    "  pass"
   ]
  },
  {
   "cell_type": "code",
   "execution_count": 5,
   "metadata": {
    "collapsed": false,
    "pycharm": {
     "name": "#%%\n"
    }
   },
   "outputs": [],
   "source": [
    "g = nx.watts_strogatz_graph(50, 20, 1)\n",
    "calculate_density(g) # nx.density 사용하지 말 것"
   ]
  },
  {
   "cell_type": "markdown",
   "metadata": {
    "collapsed": false,
    "pycharm": {
     "name": "#%% md\n"
    }
   },
   "source": [
    "## 문제 7-3: Euler graph\n",
    "다음 주어진 그래프가 Euler graph 인지를 확인하는 코드를 작성하시오"
   ]
  },
  {
   "cell_type": "code",
   "execution_count": 6,
   "metadata": {
    "collapsed": false,
    "pycharm": {
     "name": "#%%\n"
    }
   },
   "outputs": [],
   "source": [
    "def is_Eulerian(g):\n",
    "  '''\n",
    "  :param g: undirected graph\n",
    "  :return: Boolean\n",
    "  '''\n",
    "  pass"
   ]
  },
  {
   "cell_type": "markdown",
   "metadata": {
    "collapsed": false
   },
   "source": []
  },
  {
   "cell_type": "code",
   "execution_count": 8,
   "metadata": {
    "collapsed": false,
    "pycharm": {
     "name": "#%%\n"
    }
   },
   "outputs": [
    {
     "data": {
      "image/png": "[encoded data removed]",
      "text/plain": [
       "<Figure size 432x288 with 1 Axes>"
      ]
     },
     "metadata": {},
     "output_type": "display_data"
    }
   ],
   "source": [
    "g = nx.path_graph(5)\n",
    "nx.draw(g, with_labels=True)"
   ]
  },
  {
   "cell_type": "code",
   "execution_count": null,
   "metadata": {
    "collapsed": false,
    "pycharm": {
     "name": "#%%\n"
    }
   },
   "outputs": [],
   "source": [
    "is_Eulerian(g) # nx.is_Eulerian 사용하지 말 것"
   ]
  },
  {
   "cell_type": "markdown",
   "metadata": {},
   "source": [
    "# 문제 7-4: Hamilton Graph"
   ]
  },
  {
   "cell_type": "markdown",
   "metadata": {},
   "source": [
    "다음 graph1, graph2, graph3이 hamilton graph 인지를 판별하는 프로그램을 구현하라"
   ]
  },
  {
   "cell_type": "code",
   "execution_count": null,
   "metadata": {},
   "outputs": [],
   "source": [
    "# q1\n",
    "g = nx.Graph()\n",
    "\n",
    "g.add_edge(1,2)\n",
    "g.add_edge(2,3)\n",
    "g.add_edge(3,4)\n",
    "g.add_edge(4,5)\n",
    "g.add_edge(5,1)\n",
    "g.add_edge(1,20)\n",
    "g.add_edge(2,12)\n",
    "g.add_edge(3,10)\n",
    "g.add_edge(4,8)\n",
    "g.add_edge(5,6)\n",
    "g.add_edge(12,13)\n",
    "g.add_edge(13,20)\n",
    "g.add_edge(20,19)\n",
    "g.add_edge(19,6)\n",
    "g.add_edge(6,7)\n",
    "g.add_edge(7,8)\n",
    "g.add_edge(8,9)\n",
    "g.add_edge(9,10)\n",
    "g.add_edge(10,11)\n",
    "g.add_edge(11,12)\n",
    "g.add_edge(13,14)\n",
    "g.add_edge(18,19)\n",
    "g.add_edge(17,7)\n",
    "g.add_edge(9,16)\n",
    "g.add_edge(11,15)\n",
    "g.add_edge(14,15)\n",
    "g.add_edge(15,16)\n",
    "g.add_edge(16,17)\n",
    "g.add_edge(17,18)\n",
    "g.add_edge(18,14)\n",
    "\n",
    "nx.draw(g, with_labels=True)"
   ]
  },
  {
   "cell_type": "code",
   "execution_count": null,
   "metadata": {},
   "outputs": [],
   "source": [
    "# q2\n",
    "g1 = nx.Graph()\n",
    "g1.add_edge(1,2)\n",
    "g1.add_edge(2,5)\n",
    "g1.add_edge(5,4)\n",
    "g1.add_edge(4,3)\n",
    "g1.add_edge(1,3)\n",
    "g1.add_edge(5,7)\n",
    "g1.add_edge(7,6)\n",
    "g1.add_edge(5,6)\n",
    "nx.draw(g1, with_labels=True)"
   ]
  },
  {
   "cell_type": "code",
   "execution_count": null,
   "metadata": {},
   "outputs": [],
   "source": [
    "#q3\n",
    "g2 = nx.Graph()\n",
    "\n",
    "g2.add_edge(3,0)\n",
    "g2.add_edge(1,2)\n",
    "g2.add_edge(2,3)\n",
    "g2.add_edge(3,4)\n",
    "g2.add_edge(4,5)\n",
    "g2.add_edge(5,1)\n",
    "g2.add_edge(1,20)\n",
    "g2.add_edge(2,12)\n",
    "g2.add_edge(3,10)\n",
    "g2.add_edge(4,8)\n",
    "g2.add_edge(5,6)\n",
    "g2.add_edge(12,13)\n",
    "g2.add_edge(13,20)\n",
    "g2.add_edge(20,19)\n",
    "g2.add_edge(19,6)\n",
    "g2.add_edge(6,7)\n",
    "g2.add_edge(7,8)\n",
    "g2.add_edge(8,9)\n",
    "g2.add_edge(9,10)\n",
    "g2.add_edge(10,11)\n",
    "g2.add_edge(11,12)\n",
    "g2.add_edge(13,14)\n",
    "g2.add_edge(18,19)\n",
    "g2.add_edge(17,7)\n",
    "g2.add_edge(9,16)\n",
    "g2.add_edge(11,15)\n",
    "g2.add_edge(14,15)\n",
    "g2.add_edge(15,16)\n",
    "g2.add_edge(16,17)\n",
    "g2.add_edge(17,18)\n",
    "g2.add_edge(18,14)\n",
    "\n",
    "nx.draw(g2, with_labels=True)"
   ]
  },
  {
   "cell_type": "code",
   "execution_count": null,
   "metadata": {},
   "outputs": [],
   "source": [
    "#예제 Code\n",
    "def hamilton_graph(g, source):\n",
    "  '''\n",
    "  g : directed graph\n",
    "  source : start node\n",
    "  '''\n",
    "  pass\n",
    "\n",
    "def get_edges(source, li):\n",
    "  '''\n",
    "  source : node\n",
    "  li : directed graph의 edges\n",
    "  '''\n",
    "  pass\n",
    "\n",
    "def do_backtrack(g, edges_list, source, first_Node, lately_node, li, visited_Node):\n",
    "  '''\n",
    "  g : directed graph\n",
    "  edges_list : source를 기준으로 출발하는 edges\n",
    "  source : 현재 node\n",
    "  first_Node : Hamilton Graph의 시작점\n",
    "  lately_node : source 이전에 방문했던 Node\n",
    "  li : directed graph의 edges\n",
    "  visited_Node : 방문 한 노드\n",
    "  '''\n",
    "  pass"
   ]
  },
  {
   "cell_type": "code",
   "execution_count": null,
   "metadata": {},
   "outputs": [],
   "source": [
    "print(\"g :\", end = \" \")\n",
    "hamilton_graph(g,1)\n",
    "# g is regarded as hamilton graph\n",
    "print(\"g1 :\", end = \" \")\n",
    "hamilton_graph(g1,1)\n",
    "print(\"g2 :\", end = \" \")\n",
    "hamilton_graph(g2,1)"
   ]
  },
  {
   "cell_type": "markdown",
   "metadata": {
    "collapsed": false,
    "pycharm": {
     "name": "#%% md\n"
    }
   },
   "source": [
    "# 문제 8: 그래프 알고리즘 사용하기"
   ]
  },
  {
   "cell_type": "markdown",
   "metadata": {
    "collapsed": false,
    "pycharm": {
     "name": "#%% md\n"
    }
   },
   "source": [
    "그래프 알고리즘이 주로 사용되는 예는 항공운항정보의 네트워크를 구성할때 사용한다. 그래프 모델에서, 항공사(airlines)혹은 공항(airports)는 노드(Nodes/Vertices)로 구성되고 각 공항간의 운항 정보는 관계(Relationships/Edges)로 표현된다."
   ]
  },
  {
   "cell_type": "markdown",
   "metadata": {
    "collapsed": false,
    "pycharm": {
     "name": "#%% md\n"
    }
   },
   "source": [
    "## 항공운항정보 데이터 셋업"
   ]
  },
  {
   "cell_type": "code",
   "execution_count": 9,
   "metadata": {
    "collapsed": false,
    "pycharm": {
     "name": "#%%\n"
    }
   },
   "outputs": [],
   "source": [
    "import pandas as pd"
   ]
  },
  {
   "cell_type": "code",
   "execution_count": 10,
   "metadata": {
    "collapsed": false,
    "pycharm": {
     "name": "#%%\n"
    }
   },
   "outputs": [],
   "source": [
    "# 공항 정보, 항공사, 운항정보를 불러오기를 수행한다\n",
    "airports = pd.read_csv(\"dataset/airports.csv\", header=None)"
   ]
  },
  {
   "cell_type": "code",
   "execution_count": 11,
   "metadata": {
    "collapsed": false,
    "pycharm": {
     "name": "#%%\n"
    }
   },
   "outputs": [],
   "source": [
    "usa_airports = airports[airports.iloc[:, 3] == 'United States'] # 미국 내 공항만 추출"
   ]
  },
  {
   "cell_type": "code",
   "execution_count": 12,
   "metadata": {
    "collapsed": false,
    "pycharm": {
     "name": "#%%\n"
    }
   },
   "outputs": [
    {
     "data": {
      "text/html": [
       "<div>\n",
       "<style scoped>\n",
       "    .dataframe tbody tr th:only-of-type {\n",
       "        vertical-align: middle;\n",
       "    }\n",
       "\n",
       "    .dataframe tbody tr th {\n",
       "        vertical-align: top;\n",
       "    }\n",
       "\n",
       "    .dataframe thead th {\n",
       "        text-align: right;\n",
       "    }\n",
       "</style>\n",
       "<table border=\"1\" class=\"dataframe\">\n",
       "  <thead>\n",
       "    <tr style=\"text-align: right;\">\n",
       "      <th></th>\n",
       "      <th>name</th>\n",
       "      <th>id</th>\n",
       "      <th>latitude</th>\n",
       "      <th>longitude</th>\n",
       "    </tr>\n",
       "  </thead>\n",
       "  <tbody>\n",
       "    <tr>\n",
       "      <th>3200</th>\n",
       "      <td>Barter Island LRRS Airport</td>\n",
       "      <td>BTI</td>\n",
       "      <td>70.134003</td>\n",
       "      <td>-143.582001</td>\n",
       "    </tr>\n",
       "    <tr>\n",
       "      <th>3201</th>\n",
       "      <td>Cape Lisburne LRRS Airport</td>\n",
       "      <td>LUR</td>\n",
       "      <td>68.875099</td>\n",
       "      <td>-166.110001</td>\n",
       "    </tr>\n",
       "    <tr>\n",
       "      <th>3202</th>\n",
       "      <td>Point Lay LRRS Airport</td>\n",
       "      <td>PIZ</td>\n",
       "      <td>69.732903</td>\n",
       "      <td>-163.005005</td>\n",
       "    </tr>\n",
       "    <tr>\n",
       "      <th>3203</th>\n",
       "      <td>Hilo International Airport</td>\n",
       "      <td>ITO</td>\n",
       "      <td>19.721399</td>\n",
       "      <td>-155.048004</td>\n",
       "    </tr>\n",
       "    <tr>\n",
       "      <th>3204</th>\n",
       "      <td>Orlando Executive Airport</td>\n",
       "      <td>ORL</td>\n",
       "      <td>28.545500</td>\n",
       "      <td>-81.332901</td>\n",
       "    </tr>\n",
       "    <tr>\n",
       "      <th>...</th>\n",
       "      <td>...</td>\n",
       "      <td>...</td>\n",
       "      <td>...</td>\n",
       "      <td>...</td>\n",
       "    </tr>\n",
       "    <tr>\n",
       "      <th>6996</th>\n",
       "      <td>Cape Canaveral AFS Skid Strip</td>\n",
       "      <td>XMR</td>\n",
       "      <td>28.467600</td>\n",
       "      <td>-80.566597</td>\n",
       "    </tr>\n",
       "    <tr>\n",
       "      <th>6997</th>\n",
       "      <td>Homey (Area 51) Airport</td>\n",
       "      <td>\\N</td>\n",
       "      <td>37.235001</td>\n",
       "      <td>-115.810997</td>\n",
       "    </tr>\n",
       "    <tr>\n",
       "      <th>6998</th>\n",
       "      <td>Zanesville Municipal Airport</td>\n",
       "      <td>ZZV</td>\n",
       "      <td>39.944401</td>\n",
       "      <td>-81.892097</td>\n",
       "    </tr>\n",
       "    <tr>\n",
       "      <th>7048</th>\n",
       "      <td>Nenana Municipal Airport</td>\n",
       "      <td>ENN</td>\n",
       "      <td>64.547302</td>\n",
       "      <td>-149.074005</td>\n",
       "    </tr>\n",
       "    <tr>\n",
       "      <th>7049</th>\n",
       "      <td>Wasilla Airport</td>\n",
       "      <td>WWA</td>\n",
       "      <td>61.571701</td>\n",
       "      <td>-149.539993</td>\n",
       "    </tr>\n",
       "  </tbody>\n",
       "</table>\n",
       "<p>1435 rows × 4 columns</p>\n",
       "</div>"
      ],
      "text/plain": [
       "                               name   id   latitude   longitude\n",
       "3200     Barter Island LRRS Airport  BTI  70.134003 -143.582001\n",
       "3201     Cape Lisburne LRRS Airport  LUR  68.875099 -166.110001\n",
       "3202         Point Lay LRRS Airport  PIZ  69.732903 -163.005005\n",
       "3203     Hilo International Airport  ITO  19.721399 -155.048004\n",
       "3204      Orlando Executive Airport  ORL  28.545500  -81.332901\n",
       "...                             ...  ...        ...         ...\n",
       "6996  Cape Canaveral AFS Skid Strip  XMR  28.467600  -80.566597\n",
       "6997        Homey (Area 51) Airport   \\N  37.235001 -115.810997\n",
       "6998   Zanesville Municipal Airport  ZZV  39.944401  -81.892097\n",
       "7048       Nenana Municipal Airport  ENN  64.547302 -149.074005\n",
       "7049                Wasilla Airport  WWA  61.571701 -149.539993\n",
       "\n",
       "[1435 rows x 4 columns]"
      ]
     },
     "execution_count": 12,
     "metadata": {},
     "output_type": "execute_result"
    }
   ],
   "source": [
    "usa_airports = usa_airports.loc[:,[1,4,6,7]]\n",
    "usa_airports.rename(columns={1: 'name', 4: 'id', 6: 'latitude', 7: 'longitude'}, inplace=True)\n",
    "usa_airports\n",
    "# column_names=['name','id','latitude','longitude']"
   ]
  },
  {
   "cell_type": "code",
   "execution_count": 14,
   "metadata": {
    "collapsed": false,
    "pycharm": {
     "name": "#%%\n"
    }
   },
   "outputs": [],
   "source": [
    "trips = pd.read_csv(\"dataset/188591317_T_ONTIME.csv.gz\", low_memory=False)"
   ]
  },
  {
   "cell_type": "code",
   "execution_count": 15,
   "metadata": {
    "collapsed": false,
    "pycharm": {
     "name": "#%%\n"
    }
   },
   "outputs": [],
   "source": [
    "trips.rename(columns={\"ORIGIN\":\"src\", \"DEST\":\"dst\", \"DEP_DELAY\":\"deptDelay\", \"ARR_DELAY\":\"arrDelay\",\"TAIL_NUM\":\"tailNumber\",\"FL_NUM\":\"flightNumber\",\"FL_DATE\":\"date\", \"CRS_DEP_TIME\":\"time\",\"CRS_ARR_TIME\":\"arrivalTime\",\"DISTANCE\":\"distance\",\"UNIQUE_CARRIER\":\"airline\"}, inplace=True)"
   ]
  },
  {
   "cell_type": "code",
   "execution_count": 16,
   "metadata": {
    "collapsed": false,
    "pycharm": {
     "name": "#%%\n"
    }
   },
   "outputs": [],
   "source": [
    "G = nx.from_pandas_edgelist(trips, source=\"src\", target=\"dst\", edge_attr=['distance'])"
   ]
  },
  {
   "cell_type": "code",
   "execution_count": 77,
   "metadata": {
    "collapsed": false,
    "pycharm": {
     "name": "#%%\n"
    }
   },
   "outputs": [
    {
     "data": {
      "image/png": "[encoded data removed]",
      "text/plain": [
       "<Figure size 432x288 with 1 Axes>"
      ]
     },
     "metadata": {},
     "output_type": "display_data"
    }
   ],
   "source": [
    "nx.draw(G, with_labels=True)"
   ]
  },
  {
   "cell_type": "code",
   "execution_count": 21,
   "metadata": {
    "collapsed": false,
    "pycharm": {
     "name": "#%%\n"
    }
   },
   "outputs": [
    {
     "data": {
      "text/html": [
       "<div>\n",
       "<style scoped>\n",
       "    .dataframe tbody tr th:only-of-type {\n",
       "        vertical-align: middle;\n",
       "    }\n",
       "\n",
       "    .dataframe tbody tr th {\n",
       "        vertical-align: top;\n",
       "    }\n",
       "\n",
       "    .dataframe thead th {\n",
       "        text-align: right;\n",
       "    }\n",
       "</style>\n",
       "<table border=\"1\" class=\"dataframe\">\n",
       "  <thead>\n",
       "    <tr style=\"text-align: right;\">\n",
       "      <th></th>\n",
       "      <th>YEAR</th>\n",
       "      <th>QUARTER</th>\n",
       "      <th>MONTH</th>\n",
       "      <th>DAY_OF_MONTH</th>\n",
       "      <th>DAY_OF_WEEK</th>\n",
       "      <th>date</th>\n",
       "      <th>airline</th>\n",
       "      <th>AIRLINE_ID</th>\n",
       "      <th>CARRIER</th>\n",
       "      <th>tailNumber</th>\n",
       "      <th>...</th>\n",
       "      <th>DIV4_TAIL_NUM</th>\n",
       "      <th>DIV5_AIRPORT</th>\n",
       "      <th>DIV5_AIRPORT_ID</th>\n",
       "      <th>DIV5_AIRPORT_SEQ_ID</th>\n",
       "      <th>DIV5_WHEELS_ON</th>\n",
       "      <th>DIV5_TOTAL_GTIME</th>\n",
       "      <th>DIV5_LONGEST_GTIME</th>\n",
       "      <th>DIV5_WHEELS_OFF</th>\n",
       "      <th>DIV5_TAIL_NUM</th>\n",
       "      <th>Unnamed: 109</th>\n",
       "    </tr>\n",
       "  </thead>\n",
       "  <tbody>\n",
       "    <tr>\n",
       "      <th>0</th>\n",
       "      <td>2018</td>\n",
       "      <td>2</td>\n",
       "      <td>5</td>\n",
       "      <td>1</td>\n",
       "      <td>2</td>\n",
       "      <td>2018-05-01</td>\n",
       "      <td>DL</td>\n",
       "      <td>19790</td>\n",
       "      <td>DL</td>\n",
       "      <td>N6709</td>\n",
       "      <td>...</td>\n",
       "      <td>NaN</td>\n",
       "      <td>NaN</td>\n",
       "      <td>NaN</td>\n",
       "      <td>NaN</td>\n",
       "      <td>NaN</td>\n",
       "      <td>NaN</td>\n",
       "      <td>NaN</td>\n",
       "      <td>NaN</td>\n",
       "      <td>NaN</td>\n",
       "      <td>NaN</td>\n",
       "    </tr>\n",
       "    <tr>\n",
       "      <th>1</th>\n",
       "      <td>2018</td>\n",
       "      <td>2</td>\n",
       "      <td>5</td>\n",
       "      <td>1</td>\n",
       "      <td>2</td>\n",
       "      <td>2018-05-01</td>\n",
       "      <td>DL</td>\n",
       "      <td>19790</td>\n",
       "      <td>DL</td>\n",
       "      <td>N820DN</td>\n",
       "      <td>...</td>\n",
       "      <td>NaN</td>\n",
       "      <td>NaN</td>\n",
       "      <td>NaN</td>\n",
       "      <td>NaN</td>\n",
       "      <td>NaN</td>\n",
       "      <td>NaN</td>\n",
       "      <td>NaN</td>\n",
       "      <td>NaN</td>\n",
       "      <td>NaN</td>\n",
       "      <td>NaN</td>\n",
       "    </tr>\n",
       "    <tr>\n",
       "      <th>2</th>\n",
       "      <td>2018</td>\n",
       "      <td>2</td>\n",
       "      <td>5</td>\n",
       "      <td>1</td>\n",
       "      <td>2</td>\n",
       "      <td>2018-05-01</td>\n",
       "      <td>DL</td>\n",
       "      <td>19790</td>\n",
       "      <td>DL</td>\n",
       "      <td>N856DN</td>\n",
       "      <td>...</td>\n",
       "      <td>NaN</td>\n",
       "      <td>NaN</td>\n",
       "      <td>NaN</td>\n",
       "      <td>NaN</td>\n",
       "      <td>NaN</td>\n",
       "      <td>NaN</td>\n",
       "      <td>NaN</td>\n",
       "      <td>NaN</td>\n",
       "      <td>NaN</td>\n",
       "      <td>NaN</td>\n",
       "    </tr>\n",
       "    <tr>\n",
       "      <th>3</th>\n",
       "      <td>2018</td>\n",
       "      <td>2</td>\n",
       "      <td>5</td>\n",
       "      <td>1</td>\n",
       "      <td>2</td>\n",
       "      <td>2018-05-01</td>\n",
       "      <td>DL</td>\n",
       "      <td>19790</td>\n",
       "      <td>DL</td>\n",
       "      <td>N329NB</td>\n",
       "      <td>...</td>\n",
       "      <td>NaN</td>\n",
       "      <td>NaN</td>\n",
       "      <td>NaN</td>\n",
       "      <td>NaN</td>\n",
       "      <td>NaN</td>\n",
       "      <td>NaN</td>\n",
       "      <td>NaN</td>\n",
       "      <td>NaN</td>\n",
       "      <td>NaN</td>\n",
       "      <td>NaN</td>\n",
       "    </tr>\n",
       "    <tr>\n",
       "      <th>4</th>\n",
       "      <td>2018</td>\n",
       "      <td>2</td>\n",
       "      <td>5</td>\n",
       "      <td>1</td>\n",
       "      <td>2</td>\n",
       "      <td>2018-05-01</td>\n",
       "      <td>DL</td>\n",
       "      <td>19790</td>\n",
       "      <td>DL</td>\n",
       "      <td>N697DL</td>\n",
       "      <td>...</td>\n",
       "      <td>NaN</td>\n",
       "      <td>NaN</td>\n",
       "      <td>NaN</td>\n",
       "      <td>NaN</td>\n",
       "      <td>NaN</td>\n",
       "      <td>NaN</td>\n",
       "      <td>NaN</td>\n",
       "      <td>NaN</td>\n",
       "      <td>NaN</td>\n",
       "      <td>NaN</td>\n",
       "    </tr>\n",
       "    <tr>\n",
       "      <th>...</th>\n",
       "      <td>...</td>\n",
       "      <td>...</td>\n",
       "      <td>...</td>\n",
       "      <td>...</td>\n",
       "      <td>...</td>\n",
       "      <td>...</td>\n",
       "      <td>...</td>\n",
       "      <td>...</td>\n",
       "      <td>...</td>\n",
       "      <td>...</td>\n",
       "      <td>...</td>\n",
       "      <td>...</td>\n",
       "      <td>...</td>\n",
       "      <td>...</td>\n",
       "      <td>...</td>\n",
       "      <td>...</td>\n",
       "      <td>...</td>\n",
       "      <td>...</td>\n",
       "      <td>...</td>\n",
       "      <td>...</td>\n",
       "      <td>...</td>\n",
       "    </tr>\n",
       "    <tr>\n",
       "      <th>616524</th>\n",
       "      <td>2018</td>\n",
       "      <td>2</td>\n",
       "      <td>5</td>\n",
       "      <td>17</td>\n",
       "      <td>4</td>\n",
       "      <td>2018-05-17</td>\n",
       "      <td>UA</td>\n",
       "      <td>19977</td>\n",
       "      <td>UA</td>\n",
       "      <td>N76502</td>\n",
       "      <td>...</td>\n",
       "      <td>NaN</td>\n",
       "      <td>NaN</td>\n",
       "      <td>NaN</td>\n",
       "      <td>NaN</td>\n",
       "      <td>NaN</td>\n",
       "      <td>NaN</td>\n",
       "      <td>NaN</td>\n",
       "      <td>NaN</td>\n",
       "      <td>NaN</td>\n",
       "      <td>NaN</td>\n",
       "    </tr>\n",
       "    <tr>\n",
       "      <th>616525</th>\n",
       "      <td>2018</td>\n",
       "      <td>2</td>\n",
       "      <td>5</td>\n",
       "      <td>17</td>\n",
       "      <td>4</td>\n",
       "      <td>2018-05-17</td>\n",
       "      <td>UA</td>\n",
       "      <td>19977</td>\n",
       "      <td>UA</td>\n",
       "      <td>N73860</td>\n",
       "      <td>...</td>\n",
       "      <td>NaN</td>\n",
       "      <td>NaN</td>\n",
       "      <td>NaN</td>\n",
       "      <td>NaN</td>\n",
       "      <td>NaN</td>\n",
       "      <td>NaN</td>\n",
       "      <td>NaN</td>\n",
       "      <td>NaN</td>\n",
       "      <td>NaN</td>\n",
       "      <td>NaN</td>\n",
       "    </tr>\n",
       "    <tr>\n",
       "      <th>616526</th>\n",
       "      <td>2018</td>\n",
       "      <td>2</td>\n",
       "      <td>5</td>\n",
       "      <td>17</td>\n",
       "      <td>4</td>\n",
       "      <td>2018-05-17</td>\n",
       "      <td>UA</td>\n",
       "      <td>19977</td>\n",
       "      <td>UA</td>\n",
       "      <td>N48127</td>\n",
       "      <td>...</td>\n",
       "      <td>NaN</td>\n",
       "      <td>NaN</td>\n",
       "      <td>NaN</td>\n",
       "      <td>NaN</td>\n",
       "      <td>NaN</td>\n",
       "      <td>NaN</td>\n",
       "      <td>NaN</td>\n",
       "      <td>NaN</td>\n",
       "      <td>NaN</td>\n",
       "      <td>NaN</td>\n",
       "    </tr>\n",
       "    <tr>\n",
       "      <th>616527</th>\n",
       "      <td>2018</td>\n",
       "      <td>2</td>\n",
       "      <td>5</td>\n",
       "      <td>17</td>\n",
       "      <td>4</td>\n",
       "      <td>2018-05-17</td>\n",
       "      <td>UA</td>\n",
       "      <td>19977</td>\n",
       "      <td>UA</td>\n",
       "      <td>N822UA</td>\n",
       "      <td>...</td>\n",
       "      <td>NaN</td>\n",
       "      <td>NaN</td>\n",
       "      <td>NaN</td>\n",
       "      <td>NaN</td>\n",
       "      <td>NaN</td>\n",
       "      <td>NaN</td>\n",
       "      <td>NaN</td>\n",
       "      <td>NaN</td>\n",
       "      <td>NaN</td>\n",
       "      <td>NaN</td>\n",
       "    </tr>\n",
       "    <tr>\n",
       "      <th>616528</th>\n",
       "      <td>2018</td>\n",
       "      <td>2</td>\n",
       "      <td>5</td>\n",
       "      <td>17</td>\n",
       "      <td>4</td>\n",
       "      <td>2018-05-17</td>\n",
       "      <td>UA</td>\n",
       "      <td>19977</td>\n",
       "      <td>UA</td>\n",
       "      <td>N27734</td>\n",
       "      <td>...</td>\n",
       "      <td>NaN</td>\n",
       "      <td>NaN</td>\n",
       "      <td>NaN</td>\n",
       "      <td>NaN</td>\n",
       "      <td>NaN</td>\n",
       "      <td>NaN</td>\n",
       "      <td>NaN</td>\n",
       "      <td>NaN</td>\n",
       "      <td>NaN</td>\n",
       "      <td>NaN</td>\n",
       "    </tr>\n",
       "  </tbody>\n",
       "</table>\n",
       "<p>616529 rows × 110 columns</p>\n",
       "</div>"
      ],
      "text/plain": [
       "        YEAR  QUARTER  MONTH  DAY_OF_MONTH  DAY_OF_WEEK        date airline  \\\n",
       "0       2018        2      5             1            2  2018-05-01      DL   \n",
       "1       2018        2      5             1            2  2018-05-01      DL   \n",
       "2       2018        2      5             1            2  2018-05-01      DL   \n",
       "3       2018        2      5             1            2  2018-05-01      DL   \n",
       "4       2018        2      5             1            2  2018-05-01      DL   \n",
       "...      ...      ...    ...           ...          ...         ...     ...   \n",
       "616524  2018        2      5            17            4  2018-05-17      UA   \n",
       "616525  2018        2      5            17            4  2018-05-17      UA   \n",
       "616526  2018        2      5            17            4  2018-05-17      UA   \n",
       "616527  2018        2      5            17            4  2018-05-17      UA   \n",
       "616528  2018        2      5            17            4  2018-05-17      UA   \n",
       "\n",
       "        AIRLINE_ID CARRIER tailNumber  ...  DIV4_TAIL_NUM  DIV5_AIRPORT  \\\n",
       "0            19790      DL      N6709  ...            NaN           NaN   \n",
       "1            19790      DL     N820DN  ...            NaN           NaN   \n",
       "2            19790      DL     N856DN  ...            NaN           NaN   \n",
       "3            19790      DL     N329NB  ...            NaN           NaN   \n",
       "4            19790      DL     N697DL  ...            NaN           NaN   \n",
       "...            ...     ...        ...  ...            ...           ...   \n",
       "616524       19977      UA     N76502  ...            NaN           NaN   \n",
       "616525       19977      UA     N73860  ...            NaN           NaN   \n",
       "616526       19977      UA     N48127  ...            NaN           NaN   \n",
       "616527       19977      UA     N822UA  ...            NaN           NaN   \n",
       "616528       19977      UA     N27734  ...            NaN           NaN   \n",
       "\n",
       "        DIV5_AIRPORT_ID  DIV5_AIRPORT_SEQ_ID DIV5_WHEELS_ON DIV5_TOTAL_GTIME  \\\n",
       "0                   NaN                  NaN            NaN              NaN   \n",
       "1                   NaN                  NaN            NaN              NaN   \n",
       "2                   NaN                  NaN            NaN              NaN   \n",
       "3                   NaN                  NaN            NaN              NaN   \n",
       "4                   NaN                  NaN            NaN              NaN   \n",
       "...                 ...                  ...            ...              ...   \n",
       "616524              NaN                  NaN            NaN              NaN   \n",
       "616525              NaN                  NaN            NaN              NaN   \n",
       "616526              NaN                  NaN            NaN              NaN   \n",
       "616527              NaN                  NaN            NaN              NaN   \n",
       "616528              NaN                  NaN            NaN              NaN   \n",
       "\n",
       "       DIV5_LONGEST_GTIME  DIV5_WHEELS_OFF DIV5_TAIL_NUM  Unnamed: 109  \n",
       "0                     NaN              NaN           NaN           NaN  \n",
       "1                     NaN              NaN           NaN           NaN  \n",
       "2                     NaN              NaN           NaN           NaN  \n",
       "3                     NaN              NaN           NaN           NaN  \n",
       "4                     NaN              NaN           NaN           NaN  \n",
       "...                   ...              ...           ...           ...  \n",
       "616524                NaN              NaN           NaN           NaN  \n",
       "616525                NaN              NaN           NaN           NaN  \n",
       "616526                NaN              NaN           NaN           NaN  \n",
       "616527                NaN              NaN           NaN           NaN  \n",
       "616528                NaN              NaN           NaN           NaN  \n",
       "\n",
       "[616529 rows x 110 columns]"
      ]
     },
     "execution_count": 21,
     "metadata": {},
     "output_type": "execute_result"
    }
   ],
   "source": [
    "trips"
   ]
  },
  {
   "cell_type": "markdown",
   "metadata": {
    "collapsed": false,
    "pycharm": {
     "name": "#%% md\n"
    }
   },
   "source": [
    "미국 공항 개수, 항로의 수"
   ]
  },
  {
   "cell_type": "code",
   "execution_count": 18,
   "metadata": {
    "collapsed": false,
    "pycharm": {
     "name": "#%%\n"
    }
   },
   "outputs": [
    {
     "data": {
      "text/plain": [
       "341"
      ]
     },
     "execution_count": 18,
     "metadata": {},
     "output_type": "execute_result"
    }
   ],
   "source": [
    "G.number_of_nodes()"
   ]
  },
  {
   "cell_type": "code",
   "execution_count": 19,
   "metadata": {
    "collapsed": false,
    "pycharm": {
     "name": "#%%\n"
    }
   },
   "outputs": [
    {
     "data": {
      "text/plain": [
       "2677"
      ]
     },
     "execution_count": 19,
     "metadata": {},
     "output_type": "execute_result"
    }
   ],
   "source": [
    "G.number_of_edges()"
   ]
  },
  {
   "cell_type": "markdown",
   "metadata": {
    "collapsed": false,
    "pycharm": {
     "name": "#%% md\n"
    }
   },
   "source": [
    "## 최단거리 알고리즘\n",
    "최단거리 알고리즘은 다양한 방법들이 존재한다. 학습한 Dijkstra 이외에도, A*, Bellman-Ford, Floyd-Warshall, Yen's 등 다양한 알고리즘이 존재한다.\n",
    "https://networkx.org/documentation/stable//reference/algorithms/shortest_paths.html#\n",
    "참고하여 다음 문제를 해결하시오"
   ]
  },
  {
   "cell_type": "markdown",
   "metadata": {
    "collapsed": false,
    "pycharm": {
     "name": "#%% md\n"
    }
   },
   "source": [
    "## 문제 8-1: 최단거리 문제\n",
    "샌프란시스코 국제 공항(San Francisco International Airport)과 뉴욕의 존 F 케네디 국제 공항(John F Kennedy International Airport)사이에 직항(non-stop flight)이 있는지 찾으시오.\n",
    "힌트: 공항 코드를 사용하여, 두 공항 사이에 최단거리 경로 내 경유 공항이 있는지를 확인\n",
    "\n",
    "출력의 결과는 참고용입니다."
   ]
  },
  {
   "cell_type": "code",
   "execution_count": 37,
   "metadata": {
    "collapsed": false,
    "pycharm": {
     "name": "#%%\n"
    }
   },
   "outputs": [
    {
     "data": {
      "text/html": [
       "<div>\n",
       "<style scoped>\n",
       "    .dataframe tbody tr th:only-of-type {\n",
       "        vertical-align: middle;\n",
       "    }\n",
       "\n",
       "    .dataframe tbody tr th {\n",
       "        vertical-align: top;\n",
       "    }\n",
       "\n",
       "    .dataframe thead th {\n",
       "        text-align: right;\n",
       "    }\n",
       "</style>\n",
       "<table border=\"1\" class=\"dataframe\">\n",
       "  <thead>\n",
       "    <tr style=\"text-align: right;\">\n",
       "      <th></th>\n",
       "      <th>name</th>\n",
       "      <th>id</th>\n",
       "      <th>latitude</th>\n",
       "      <th>longitude</th>\n",
       "    </tr>\n",
       "  </thead>\n",
       "  <tbody>\n",
       "    <tr>\n",
       "      <th>3579</th>\n",
       "      <td>John F Kennedy International Airport</td>\n",
       "      <td>JFK</td>\n",
       "      <td>40.639801</td>\n",
       "      <td>-73.7789</td>\n",
       "    </tr>\n",
       "  </tbody>\n",
       "</table>\n",
       "</div>"
      ],
      "text/plain": [
       "                                      name   id   latitude  longitude\n",
       "3579  John F Kennedy International Airport  JFK  40.639801   -73.7789"
      ]
     },
     "execution_count": 37,
     "metadata": {},
     "output_type": "execute_result"
    }
   ],
   "source": [
    "# 샌프란시스코 국제 공항을 찾는 예제\n",
    "src = usa_airports[usa_airports.name.str.contains('San Francisco International Airport')]\n",
    "# 존 F 케네디 국제 공황을 찾는 예제\n",
    "dst = usa_airports[usa_airports.name.str.contains('San Francisco International Airport')]\n",
    "# 공항코드 검색\n",
    "# your code here"
   ]
  },
  {
   "cell_type": "code",
   "execution_count": null,
   "metadata": {
    "collapsed": false,
    "pycharm": {
     "name": "#%%\n"
    }
   },
   "outputs": [],
   "source": [
    "def has_nonstop_flight(graph, src, dst):\n",
    "  '''\n",
    "  두 공항 사이에 non-stop flight가 있는지 체크하는 함수\n",
    "  :param graph: trips 그래프\n",
    "  :param src: 출발 공항\n",
    "  :param dst: 목적 공항\n",
    "  :return: Boolean\n",
    "  '''\n",
    "  return 0"
   ]
  },
  {
   "cell_type": "code",
   "execution_count": 38,
   "metadata": {
    "collapsed": false,
    "pycharm": {
     "name": "#%%\n"
    }
   },
   "outputs": [
    {
     "name": "stdout",
     "output_type": "stream",
     "text": [
      "True\n"
     ]
    }
   ],
   "source": [
    "has_nonstop_flight(G, src, dst)"
   ]
  },
  {
   "cell_type": "markdown",
   "metadata": {
    "collapsed": false,
    "pycharm": {
     "name": "#%% md\n"
    }
   },
   "source": [
    "## 문제 8-2: 주어진 공항들을 순서대로 경유하는 경로의 최단 거리(distance)를 계산하는 함수를 작성하시오\n",
    "\n",
    "다음 4개의 공항을 순서대로 경유하면 된다.(출발 시간은 고려하지 않는다)\n",
    "Los Angeles International Airport -> Hartsfield Jackson Atlanta International Airport -> Miami International Airport -> Washington Dulles International Airport\n"
   ]
  },
  {
   "cell_type": "code",
   "execution_count": null,
   "metadata": {
    "collapsed": false,
    "pycharm": {
     "name": "#%%\n"
    }
   },
   "outputs": [],
   "source": [
    "def shortest_path_length_from_airports(graph, airport_seq):\n",
    "  '''\n",
    "  주어진 공항의 시퀀스(sequence)로부터 최단경로의 거리를 계산하시오\n",
    "  :param graph: trips 그래프\n",
    "  :param airport_seq: 공항정보 (list형)\n",
    "  :return: 총 거리(distance) 값(float형)\n",
    "  '''\n",
    "  return 0"
   ]
  },
  {
   "cell_type": "code",
   "execution_count": null,
   "metadata": {
    "collapsed": false,
    "pycharm": {
     "name": "#%%\n"
    }
   },
   "outputs": [],
   "source": [
    "seq = [ ]\n",
    "shortest_path_length_from_airports(G, seq)"
   ]
  },
  {
   "cell_type": "markdown",
   "metadata": {
    "collapsed": false,
    "pycharm": {
     "name": "#%% md\n"
    }
   },
   "source": [
    "## 문제 8-3: 단일 출발지 최단거리 찾기 (Single source shortest path)\n",
    "Los Angeles International Airport 국제 공항에서 직항(Non-stop)으로 이동할수 있는 공항 중에서 가장 가까운 공항과 가장 먼 공항을 반환하는 함수를 작성하시오"
   ]
  },
  {
   "cell_type": "code",
   "execution_count": null,
   "metadata": {
    "collapsed": false,
    "pycharm": {
     "name": "#%%\n"
    }
   },
   "outputs": [],
   "source": [
    "def get_farthest_or_shortest_airports_from(graph, src):\n",
    "  '''\n",
    "  가장 멀거나\n",
    "  :param graph: trips 그래프\n",
    "  :param src: 출발지\n",
    "  :return: ( farthest airport code, shortest airport code ) (tuple 형으로 반환)\n",
    "  '''\n",
    "  return 0"
   ]
  },
  {
   "cell_type": "code",
   "execution_count": null,
   "metadata": {
    "collapsed": false,
    "pycharm": {
     "name": "#%%\n"
    }
   },
   "outputs": [],
   "source": [
    "get_farthest_or_shortest_airports_from(G, src)"
   ]
  },
  {
   "cell_type": "markdown",
   "metadata": {
    "collapsed": false,
    "pycharm": {
     "name": "#%% md\n"
    }
   },
   "source": [
    "## 문제 8-4: 출발을 제일 많이 하는 공항은?\n",
    "주어진 trips 그래프로부터 제일 많은 수의 출발지(src)를 가진 공항이 어디인지 탐색하시오."
   ]
  },
  {
   "cell_type": "code",
   "execution_count": null,
   "metadata": {
    "collapsed": false,
    "pycharm": {
     "name": "#%%\n"
    }
   },
   "outputs": [],
   "source": [
    "def get_airport_with_highest_out_degree(graph):\n",
    "  '''\n",
    "  graph로부터 가장 높은 out-degree를 가진 공항을 찾아서 반환\n",
    "  :param graph: trips 그래프\n",
    "  :return: ( airport code )\n",
    "  '''\n",
    "  return 0"
   ]
  },
  {
   "cell_type": "code",
   "execution_count": null,
   "metadata": {
    "collapsed": false,
    "pycharm": {
     "name": "#%%\n"
    }
   },
   "outputs": [],
   "source": [
    "get_airport_with_highest_out_degree(G)"
   ]
  },
  {
   "cell_type": "markdown",
   "metadata": {
    "collapsed": false,
    "pycharm": {
     "name": "#%% md\n"
    }
   },
   "source": [
    "## Floyd Washall 알고리즘 활용\n",
    "Floyd Washall 알고리즘은 모든 쌍의 경로의 가중치를 계산하는 데 사용된다. 다음 예제를 사용하여 우리는 LAX 코드를 가진 공항에서 출발하는 모든 공항에 대한 최단경로의 거리값을 계산할 수 있다.\n",
    "https://networkx.org/documentation/stable/reference/algorithms/generated/networkx.algorithms.shortest_paths.dense.floyd_warshall.html#networkx.algorithms.shortest_paths.dense.floyd_warshall"
   ]
  },
  {
   "cell_type": "code",
   "execution_count": 68,
   "metadata": {
    "collapsed": false,
    "pycharm": {
     "name": "#%%\n"
    }
   },
   "outputs": [],
   "source": [
    "all_pairs_shortest_path = nx.floyd_warshall(G, weight='distance')"
   ]
  },
  {
   "cell_type": "code",
   "execution_count": 76,
   "metadata": {
    "collapsed": false,
    "pycharm": {
     "name": "#%%\n"
    }
   },
   "outputs": [
    {
     "name": "stdout",
     "output_type": "stream",
     "text": [
      "defaultdict(<function floyd_warshall_predecessor_and_distance.<locals>.<lambda>.<locals>.<lambda> at 0x0000020C81A98DC0>, {'LAX': 0, 'ATL': 1946.0, 'SLC': 590.0, 'LAS': 236.0, 'DTW': 1978.0, 'MSP': 1535.0, 'SAN': 109.0, 'DFW': 1235.0, 'ANC': 2345.0, 'SEA': 954.0, 'PHL': 2401.0, 'JFK': 2475.0, 'MCO': 2218.0, 'AUS': 1242.0, 'MIA': 2342.0, 'OAK': 337.0, 'IAH': 1379.0, 'RNO': 391.0, 'CVG': 1900.0, 'BOS': 2610.0, 'SFO': 337.0, 'PDX': 834.0, 'BNA': 1797.0, 'MSY': 1670.0, 'HNL': 2556.0, 'TPA': 2158.0, 'MCI': 1363.0, 'DEN': 862.0, 'IND': 1814.0, 'RDU': 2239.0, 'OGG': 2486.0, 'KOA': 2504.0, 'CMH': 1995.0, 'LIH': 2615.0, 'DCA': 2311.0, 'MEM': 1619.0, 'SJC': 308.0, 'MFR': 630.0, 'BLI': 1047.0, 'SGF': 1423.0, 'TUL': 1283.0, 'EUG': 748.0, 'BOI': 674.0, 'PVU': 569.0, 'MSO': 923.0, 'EWR': 2454.0, 'ORD': 1744.0, 'IAD': 2288.0, 'CLE': 2052.0, 'ITO': 2449.0, 'BWI': 2329.0, 'SDF': 1843.0, 'FLL': 2342.0, 'DAL': 1246.0, 'ABQ': 677.0, 'ELP': 715.0, 'HOU': 1390.0, 'MDW': 1750.0, 'MKE': 1756.0, 'PHX': 370.0, 'PIT': 2136.0, 'SAT': 1211.0, 'SMF': 373.0, 'STL': 1592.0, 'TUS': 451.0, 'CLT': 2125.0, 'OMA': 1330.0, 'BDL': 2527.0, 'BUF': 2218.0, 'FAT': 209.0, 'RDM': 726.0, 'SGU': 349.0, 'SBA': 89.0, 'MRY': 266.0, 'PSP': 110.0, 'COS': 833.0, 'SBP': 156.0, 'FLG': 393.0, 'RSW': 2240.0, 'BHM': 1832.0, 'LGA': 2470.0, 'GSP': 2097.0, 'GRR': 1877.0, 'GEG': 961.0, 'SJU': 3386.0, 'STT': 3449.0, 'CHO': 2310.0, 'BIL': 977.0, 'PBI': 2335.0, 'GSO': 2208.0, 'CID': 1554.0, 'SNA': 462.0, 'JAN': 1643.0, 'HSV': 1838.0, 'XNA': 1399.0, 'JAC': 795.0, 'FAR': 1441.0, 'ROA': 2280.0, 'GRB': 1787.0, 'PNS': 1839.0, 'BZN': 937.0, 'MLB': 2388.0, 'FSD': 1340.0, 'VPS': 1876.0, 'CHS': 2205.0, 'TRI': 2173.0, 'PVD': 2592.0, 'CAE': 2138.0, 'ABE': 2399.0, 'TVC': 1911.0, 'DAB': 2312.0, 'CHA': 1930.0, 'MOB': 1774.0, 'MSN': 1688.0, 'BTV': 2507.0, 'AVP': 2376.0, 'HPN': 2482.0, 'JAX': 2153.0, 'FNT': 1967.0, 'ALB': 2467.0, 'ROC': 2272.0, 'PWM': 2644.0, 'BIS': 1284.0, 'LEX': 2020.0, 'RIC': 2344.0, 'OKC': 1203.0, 'SAV': 2160.0, 'ORF': 2415.0, 'ATW': 1746.0, 'DAY': 1984.0, 'CAK': 2087.0, 'EVV': 1877.0, 'MDT': 2338.0, 'ECP': 1920.0, 'GPT': 1735.0, 'SRQ': 2390.0, 'MHT': 2587.0, 'LIT': 1506.0, 'PHF': 2407.0, 'AVL': 2110.0, 'DSM': 1451.0, 'FAI': 2487.0, 'SYR': 2351.0, 'GNV': 2246.0, 'MYR': 2263.0, 'TLH': 2002.0, 'FCA': 1081.0, 'FAY': 2243.0, 'CRW': 2309.0, 'EYW': 2467.0, 'BTR': 1618.0, 'TYS': 1975.0, 'ILM': 2310.0, 'LFT': 1580.0, 'ICT': 1222.0, 'AGS': 2089.0, 'JNU': 1863.0, 'STX': 3480.0, 'SBN': 1828.0, 'SHV': 1425.0, 'BGR': 2847.0, 'MBS': 1966.0, 'MGM': 1857.0, 'CSG': 2029.0, 'CWA': 1710.0, 'OAJ': 2316.0, 'EWN': 2346.0, 'BQK': 2184.0, 'LNK': 1866.0, 'VLD': 2154.0, 'ABY': 2091.0, 'BMI': 1860.0, 'AZA': 512.0, 'PIA': 1649.0, 'LCK': 2307.0, 'PIE': 2151.0, 'USA': 2339.0, 'PSM': 3360.0, 'SFB': 2216.0, 'PGD': 2398.0, 'FWA': 1901.0, 'BLV': 1636.0, 'HTS': 2360.0, 'SCK': 532.0, 'PBG': 3074.0, 'STC': 1771.0, 'MLI': 1612.0, 'GFK': 1466.0, 'ELM': 3170.0, 'IAG': 2913.0, 'SPI': 1865.0, 'OGS': 3358.0, 'TOL': 1957.0, 'MFE': 1446.0, 'SMX': 546.0, 'SWF': 2457.0, 'PSC': 957.0, 'IDA': 774.0, 'GTF': 1047.0, 'RFD': 1691.0, 'RAP': 1079.0, 'MOT': 1334.0, 'LRD': 1328.0, 'GRI': 1207.0, 'CKB': 2188.0, 'OGD': 1056.0, 'HGR': 2996.0, 'GJT': 656.0, 'OWB': 2922.0, 'ONT': 433.0, 'DLH': 1679.0, 'BUR': 459.0, 'BQN': 3324.0, 'GUM': 6357.0, 'EGE': 982.0, 'SCC': 2860.0, 'ADQ': 2598.0, 'BET': 2744.0, 'BRW': 2990.0, 'KTN': 1634.0, 'YAK': 2061.0, 'CDV': 2274.0, 'SIT': 1815.0, 'PSG': 1747.0, 'WRG': 1716.0, 'OME': 2884.0, 'OTZ': 2893.0, 'ADK': 3537.0, 'AMA': 972.0, 'HRL': 1515.0, 'LBB': 958.0, 'ISP': 2517.0, 'CRP': 1577.0, 'MAF': 951.0, 'LGB': 467.0, 'MLU': 1528.0, 'GRK': 1369.0, 'SAF': 740.0, 'MHK': 1666.0, 'JLN': 1562.0, 'CLL': 1399.0, 'AEX': 1520.0, 'LCH': 1506.0, 'BRO': 1687.0, 'HOB': 1880.0, 'RST': 1611.0, 'FSM': 1462.0, 'GGG': 1375.0, 'SUX': 1892.0, 'TYR': 1337.0, 'MQT': 1835.0, 'DBQ': 1891.0, 'TXK': 1416.0, 'SWO': 1460.0, 'ABI': 1393.0, 'SPS': 1348.0, 'CMI': 1879.0, 'LAW': 1375.0, 'ACT': 1324.0, 'COU': 1533.0, 'LAN': 1923.0, 'ROW': 803.0, 'BPT': 1505.0, 'GCK': 1639.0, 'AZO': 1866.0, 'ALO': 1978.0, 'SJT': 1464.0, 'ACY': 2625.0, 'LBE': 2718.0, 'DRO': 723.0, 'BFL': 575.0, 'MTJ': 1957.0, 'STS': 403.0, 'ORH': 2625.0, 'PSE': 3397.0, 'ACK': 2674.0, 'MVY': 2648.0, 'HYA': 2671.0, 'PPG': 5155.0, 'TTN': 2437.0, 'ASE': 882.0, 'YUM': 530.0, 'LSE': 1654.0, 'PIB': 1697.0, 'MEI': 1720.0, 'ISN': 1438.0, 'DHN': 2116.0, 'TWF': 765.0, 'PIH': 740.0, 'CPR': 910.0, 'SCE': 2279.0, 'ERI': 2142.0, 'HLN': 992.0, 'SUN': 812.0, 'GTR': 2187.0, 'CMX': 2104.0, 'EAU': 2013.0, 'LWB': 2233.0, 'SHD': 2320.0, 'LBF': 1090.0, 'MKG': 1862.0, 'HYS': 1160.0, 'SLN': 1248.0, 'BFF': 1012.0, 'GCC': 1175.0, 'RKS': 1122.0, 'PUB': 971.0, 'LBL': 1142.0, 'PAH': 2086.0, 'CGI': 2084.0, 'UIN': 1966.0, 'CNY': 1145.0, 'DVL': 1500.0, 'JMS': 1435.0, 'LAR': 975.0, 'RDD': 536.0, 'ACV': 587.0, 'OTH': 749.0, 'COD': 888.0, 'LWS': 1051.0, 'ABR': 1792.0, 'APN': 2176.0, 'ESC': 2284.0, 'PLN': 2221.0, 'BJI': 1734.0, 'BRD': 1649.0, 'BTM': 948.0, 'CDC': 811.0, 'CIU': 1970.0, 'EKO': 790.0, 'ITH': 2331.0, 'HIB': 1709.0, 'BGM': 2356.0, 'RHI': 1725.0, 'INL': 1790.0, 'IMT': 1792.0, 'WYS': 863.0, 'PGV': 2328.0, 'FLO': 2224.0, 'LYH': 2300.0, 'HVN': 2558.0})\n"
     ]
    }
   ],
   "source": [
    "# 예시 floyd_warshall\n",
    "for k, dists in all_pairs_shortest_path.items():\n",
    "  if k == 'LAX':\n",
    "    print(dists)"
   ]
  },
  {
   "cell_type": "markdown",
   "metadata": {
    "collapsed": false,
    "pycharm": {
     "name": "#%% md\n"
    }
   },
   "source": [
    "## 문제 8-5: 1시간 내 도착지 계산 (Floyd Washall 알고리즘의 활용)\n",
    "비행기의 속도가 500 km/h 라고 가정할 때 2시간내로 도착하는 공항 코드를 반환하는 함수를 작성하시오"
   ]
  },
  {
   "cell_type": "code",
   "execution_count": null,
   "metadata": {
    "collapsed": false,
    "pycharm": {
     "name": "#%%\n"
    }
   },
   "outputs": [],
   "source": [
    "def get_airports_within_2hours(G, speed):\n",
    "  '''\n",
    "  2시간내\n",
    "  :param G: trips 그래프\n",
    "  :param speed: 비행기의 속도  km/h\n",
    "  :return: 공항 코드 (list 형)\n",
    "  '''"
   ]
  },
  {
   "cell_type": "code",
   "execution_count": null,
   "metadata": {
    "collapsed": false,
    "pycharm": {
     "name": "#%%\n"
    }
   },
   "outputs": [],
   "source": [
    "flight_speed = 500 # km/h\n",
    "get_airports_within_2hours(G, flight_speed)"
   ]
  },
  {
   "cell_type": "markdown",
   "metadata": {
    "collapsed": false,
    "pycharm": {
     "name": "#%% md\n"
    }
   },
   "source": [
    "완료한 숙제는 ipynb 파일형식으로 다운로드 받아서, 가상대학 내 [과제 7,8에 업로드하시기 바랍니다."
   ]
  },
  {
   "cell_type": "markdown",
   "metadata": {
    "collapsed": false,
    "pycharm": {
     "name": "#%% md\n"
    }
   },
   "source": [
    "# 감사합니다."
   ]
  }
 ],
 "metadata": {
  "colab": {
   "collapsed_sections": [],
   "name": "주제5_(4,5,6)_그래프_다루기.ipynb",
   "provenance": [],
   "toc_visible": true
  },
  "kernelspec": {
   "display_name": "Python 3",
   "name": "python3"
  },
  "language_info": {
   "name": "python"
  }
 },
 "nbformat": 4,
 "nbformat_minor": 0
}
