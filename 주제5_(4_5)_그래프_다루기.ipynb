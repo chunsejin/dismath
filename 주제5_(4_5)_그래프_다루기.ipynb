{
 "nbformat": 4,
 "nbformat_minor": 0,
 "metadata": {
  "colab": {
   "name": "주제5_(4-5)_그래프 다루기",
   "provenance": [],
   "collapsed_sections": [],
   "toc_visible": true
  },
  "kernelspec": {
   "name": "python3",
   "display_name": "Python 3"
  },
  "language_info": {
   "name": "python"
  }
 },
 "cells": [
  {
   "cell_type": "markdown",
   "metadata": {
    "id": "YJnuJPN5L4xg"
   },
   "source": [
    "# 과제 4 & 5: 관계에 대한 이해 및 그래프 생성/분석\n",
    "---\n",
    "박정현(pwjdgus1017@donga.ac.kr), 배정훈(rhenus9911@gmail.com), 최재혁(fkdlfkdl68@donga.ac.kr), 권건우(a71463092@gmail.com)\n",
    "---\n",
    "우리는 관계 강의를 통해 그래프에 대한 구성을 이론적으로 학습하였다. 구체적으로, 유향/무향 그래프 및 관계행렬 등을 그래프 표현으로 배웠다. 하지만, 강의에서 학습한 데이터는 단순한 숫자(1,2,3,..)/문자형(a,b,c,..)이었기 때문에 실제 세계에서 적용하기는 어렵다. \n",
    "\n",
    "본 프로그래밍 과정을 통해, 실제 데이터를 어떻게 그래프 모델로 표현하고, 또한 그래프의 이론적인 방법을 실용적으로 어떻게 응용하는지에 대해서 배울 예정이다.\n",
    "\n",
    "\n"
   ]
  },
  {
   "cell_type": "markdown",
   "metadata": {
    "id": "LyFhqIPQ2WFt"
   },
   "source": [
    "# 해당파일 활용 방법- [메뉴] 파일->드라이브에 사본 저장을 통해서 프로그램 실행하시면 됩니다."
   ]
  },
  {
   "cell_type": "markdown",
   "metadata": {
    "collapsed": false,
    "pycharm": {
     "name": "#%% md\n"
    },
    "id": "2fkhiOxW1uS1"
   },
   "source": [
    "# 과제 도우미 학생을 통해 문제 해결이 어려운 경우, 가상대학의 문의게시판에 궁금한 부분을 게재하시기 바랍니다."
   ]
  },
  {
   "cell_type": "markdown",
   "metadata": {
    "id": "tp5ObGzXM0Gz"
   },
   "source": [
    "# numpy 사용하기\n",
    "Numpy는 C언어로 구현된 파이썬 라이브러리로써, 고성능의 수치계산을 위해 제작되었습니다. Numpy(Numerical Python의 줄임말)는 벡터 및 행렬 연산에 있어서 매우 편리한 기능을 제공합니다.\n",
    "\n",
    "이미 경험한 pandas와 matplotlib의 기반으로 사용될 수 도 있습니다. 예로, 라이브러리를 사용하면 numpy의 행렬을 pandas데이터로 변환할 수 있습니다.\n",
    "\n",
    "기본적으로 Numpy는 배열/행렬(array) 단위로 데이터를 기본으로합니다. 따라서 1d, 2d, 3d(d는 차원으로써 dimention의 약어)에 기반한 배열 연산을 수행합니다.\n",
    "\n",
    "\n",
    "** numpy는 워낙 방대하기 때문에 본 챕터에서는 관계행렬 혹은 가중치 그래프 중심의 행렬 연산을 주로 배울 예정입니다. \n",
    "\n",
    "\n",
    "세부적으로, 공부하고 싶은 학생은 \"파이썬과 NumPy로 배우는 선형대수\", \"Mastering Numerical Computing with NumPy\" 등와 같은 도서를 구입하고 별도로 공부하길 바랍니다."
   ]
  },
  {
   "cell_type": "markdown",
   "metadata": {
    "id": "gWi8XPQyNa6l"
   },
   "source": [
    "## numpy 데이터 선언하기"
   ]
  },
  {
   "cell_type": "code",
   "metadata": {
    "id": "isi10GTmLzeX"
   },
   "source": [
    "import numpy as np"
   ],
   "execution_count": 1,
   "outputs": []
  },
  {
   "cell_type": "code",
   "metadata": {
    "colab": {
     "base_uri": "https://localhost:8080/"
    },
    "id": "tOsZFgDWMzbH",
    "outputId": "d4a4a5b7-abdf-4d2e-a819-30aaf9f2186d"
   },
   "source": [
    "data1 = [1,2,3,4,5]\n",
    "data1"
   ],
   "execution_count": 2,
   "outputs": [
    {
     "output_type": "execute_result",
     "data": {
      "text/plain": [
       "[1, 2, 3, 4, 5]"
      ]
     },
     "metadata": {},
     "execution_count": 2
    }
   ]
  },
  {
   "cell_type": "code",
   "metadata": {
    "colab": {
     "base_uri": "https://localhost:8080/"
    },
    "id": "N4MVMfnhNE2Z",
    "outputId": "477a854f-1471-4c50-a64f-3b1b8d046941"
   },
   "source": [
    "arr1 = np.array(data1)\n",
    "arr1"
   ],
   "execution_count": 3,
   "outputs": [
    {
     "output_type": "execute_result",
     "data": {
      "text/plain": [
       "array([1, 2, 3, 4, 5])"
      ]
     },
     "metadata": {},
     "execution_count": 3
    }
   ]
  },
  {
   "cell_type": "code",
   "metadata": {
    "colab": {
     "base_uri": "https://localhost:8080/"
    },
    "id": "cZwlYeuCNGJG",
    "outputId": "8673a194-0bad-4f9b-ea08-5647d0109647"
   },
   "source": [
    "arr1.shape"
   ],
   "execution_count": 4,
   "outputs": [
    {
     "output_type": "execute_result",
     "data": {
      "text/plain": [
       "(5,)"
      ]
     },
     "metadata": {},
     "execution_count": 4
    }
   ]
  },
  {
   "cell_type": "code",
   "metadata": {
    "colab": {
     "base_uri": "https://localhost:8080/"
    },
    "id": "-sjYb-BvNLHc",
    "outputId": "35c5f338-a68e-42e8-86e3-8ffc27537d72"
   },
   "source": [
    "arr4 = np.array([[1,2,3],[4,5,6],[7,8,9],[10,11,12]])\n",
    "arr4"
   ],
   "execution_count": 5,
   "outputs": [
    {
     "output_type": "execute_result",
     "data": {
      "text/plain": [
       "array([[ 1,  2,  3],\n",
       "       [ 4,  5,  6],\n",
       "       [ 7,  8,  9],\n",
       "       [10, 11, 12]])"
      ]
     },
     "metadata": {},
     "execution_count": 5
    }
   ]
  },
  {
   "cell_type": "code",
   "metadata": {
    "colab": {
     "base_uri": "https://localhost:8080/"
    },
    "id": "QMzlgPDxNN7n",
    "outputId": "91de8969-d08e-438c-c04a-e61f3c97dfcd"
   },
   "source": [
    "np.zeros((3,3))"
   ],
   "execution_count": 6,
   "outputs": [
    {
     "output_type": "execute_result",
     "data": {
      "text/plain": [
       "array([[0., 0., 0.],\n",
       "       [0., 0., 0.],\n",
       "       [0., 0., 0.]])"
      ]
     },
     "metadata": {},
     "execution_count": 6
    }
   ]
  },
  {
   "cell_type": "code",
   "metadata": {
    "colab": {
     "base_uri": "https://localhost:8080/"
    },
    "id": "7sAFH9_2NPd6",
    "outputId": "d8ed1037-a0d4-47d6-b127-d6f4878e3475"
   },
   "source": [
    "np.ones((3, 3))"
   ],
   "execution_count": 7,
   "outputs": [
    {
     "output_type": "execute_result",
     "data": {
      "text/plain": [
       "array([[1., 1., 1.],\n",
       "       [1., 1., 1.],\n",
       "       [1., 1., 1.]])"
      ]
     },
     "metadata": {},
     "execution_count": 7
    }
   ]
  },
  {
   "cell_type": "markdown",
   "metadata": {
    "id": "f28taIOvNi6I"
   },
   "source": [
    "## numpy 데이터간 연산하기"
   ]
  },
  {
   "cell_type": "code",
   "metadata": {
    "id": "klu1xROpNYuQ"
   },
   "source": [
    "arr1 = np.array([[True,True],[False, False]])"
   ],
   "execution_count": 8,
   "outputs": []
  },
  {
   "cell_type": "code",
   "metadata": {
    "id": "WnA_hS-mPAT0"
   },
   "source": [
    "arr2 = np.array([[True,True],[True, False]])"
   ],
   "execution_count": 9,
   "outputs": []
  },
  {
   "cell_type": "code",
   "metadata": {
    "id": "kb7nTxouQLwc",
    "colab": {
     "base_uri": "https://localhost:8080/"
    },
    "outputId": "cf40f916-6198-4554-cc96-7daa5cb0d186"
   },
   "source": [
    "# 논리합 계산하기\n",
    "# astype(int)를 통해서 True/False 값을 0/1로 변환하기\n",
    "np.logical_and(arr1, arr2).astype(int)"
   ],
   "execution_count": 10,
   "outputs": [
    {
     "output_type": "execute_result",
     "data": {
      "text/plain": [
       "array([[1, 1],\n",
       "       [0, 0]])"
      ]
     },
     "metadata": {},
     "execution_count": 10
    }
   ]
  },
  {
   "cell_type": "markdown",
   "metadata": {
    "id": "BZSSeDl2QMSS"
   },
   "source": [
    "# 관계에 대한 이해\n"
   ]
  },
  {
   "cell_type": "code",
   "metadata": {
    "id": "13ofWymuRppT"
   },
   "source": [
    "def gen_rand_boolean_matrix(N):\n",
    "  arr = np.full((N,N), False)\n",
    "  idx = np.random.randint(N, size=N)\n",
    "\n",
    "  # replace \"False\" by \"True\" at given indices\n",
    "  arr[range(N), idx] = True\n",
    "  return arr"
   ],
   "execution_count": 11,
   "outputs": []
  },
  {
   "cell_type": "code",
   "metadata": {
    "colab": {
     "base_uri": "https://localhost:8080/"
    },
    "id": "U-bN2qpwQtWd",
    "outputId": "56d32bec-cba5-43c2-be02-80859677935d"
   },
   "source": [
    "M = 8\n",
    "R = gen_rand_boolean_matrix(M)\n",
    "R.astype(int)"
   ],
   "execution_count": 12,
   "outputs": [
    {
     "output_type": "execute_result",
     "data": {
      "text/plain": [
       "array([[0, 0, 0, 0, 0, 1, 0, 0],\n",
       "       [0, 0, 0, 0, 0, 0, 1, 0],\n",
       "       [0, 0, 0, 0, 1, 0, 0, 0],\n",
       "       [0, 0, 0, 1, 0, 0, 0, 0],\n",
       "       [0, 0, 0, 0, 1, 0, 0, 0],\n",
       "       [0, 1, 0, 0, 0, 0, 0, 0],\n",
       "       [0, 0, 0, 0, 0, 0, 0, 1],\n",
       "       [0, 0, 1, 0, 0, 0, 0, 0]])"
      ]
     },
     "metadata": {},
     "execution_count": 12
    }
   ]
  },
  {
   "cell_type": "code",
   "metadata": {
    "id": "AWWVgk40SD3h"
   },
   "source": [
    "S = gen_rand_boolean_matrix(M)"
   ],
   "execution_count": 13,
   "outputs": []
  },
  {
   "cell_type": "code",
   "metadata": {
    "colab": {
     "base_uri": "https://localhost:8080/"
    },
    "id": "8fkPgk9kS5tr",
    "outputId": "58d6a394-6f8a-428e-a511-b999f0304207"
   },
   "source": [
    "R_and_S = np.logical_and(R,S) \n",
    "R_and_S"
   ],
   "execution_count": 14,
   "outputs": [
    {
     "output_type": "execute_result",
     "data": {
      "text/plain": [
       "array([[False, False, False, False, False, False, False, False],\n",
       "       [False, False, False, False, False, False, False, False],\n",
       "       [False, False, False, False, False, False, False, False],\n",
       "       [False, False, False, False, False, False, False, False],\n",
       "       [False, False, False, False, False, False, False, False],\n",
       "       [False, False, False, False, False, False, False, False],\n",
       "       [False, False, False, False, False, False, False, False],\n",
       "       [False, False, False, False, False, False, False, False]])"
      ]
     },
     "metadata": {},
     "execution_count": 14
    }
   ]
  },
  {
   "cell_type": "code",
   "metadata": {
    "colab": {
     "base_uri": "https://localhost:8080/"
    },
    "id": "R0mSenSPTGP9",
    "outputId": "4e2cc54c-92cc-4d26-fd1a-e6d173fa9043"
   },
   "source": [
    "R_and_S.astype(int)"
   ],
   "execution_count": 15,
   "outputs": [
    {
     "output_type": "execute_result",
     "data": {
      "text/plain": [
       "array([[0, 0, 0, 0, 0, 0, 0, 0],\n",
       "       [0, 0, 0, 0, 0, 0, 0, 0],\n",
       "       [0, 0, 0, 0, 0, 0, 0, 0],\n",
       "       [0, 0, 0, 0, 0, 0, 0, 0],\n",
       "       [0, 0, 0, 0, 0, 0, 0, 0],\n",
       "       [0, 0, 0, 0, 0, 0, 0, 0],\n",
       "       [0, 0, 0, 0, 0, 0, 0, 0],\n",
       "       [0, 0, 0, 0, 0, 0, 0, 0]])"
      ]
     },
     "metadata": {},
     "execution_count": 15
    }
   ]
  },
  {
   "cell_type": "markdown",
   "metadata": {
    "id": "KGYZ2J5tTdzb"
   },
   "source": [
    "## 문제 4-1: 부울곱(Boolean Product)을 생성하시오"
   ]
  },
  {
   "cell_type": "code",
   "metadata": {
    "id": "dKvnbno3fFMp"
   },
   "source": [
    "def my_boolean_product(R, S):\n",
    "  '''\n",
    "  주어진 관계 매트릭스로부터 부울곱 (Boolean Product)한 결과를 계산하시오\n",
    "  :param R: NxN Boolean 기반 관계행렬\n",
    "  :param S: NxN Boolean 기반 관계행렬\n",
    "  :return: NxN Boolean 기반 관계행렬\n",
    "  '''\n",
    "  return M # M은 관계행렬"
   ],
   "execution_count": 16,
   "outputs": []
  },
  {
   "cell_type": "code",
   "metadata": {
    "pycharm": {
     "name": "#%%\n"
    },
    "colab": {
     "base_uri": "https://localhost:8080/"
    },
    "id": "pkXAmdMP1uS9",
    "outputId": "b355b883-262c-433b-838e-17e74adbeb34"
   },
   "source": [
    "my_boolean_product(R,S)"
   ],
   "execution_count": 17,
   "outputs": [
    {
     "output_type": "execute_result",
     "data": {
      "text/plain": [
       "8"
      ]
     },
     "metadata": {},
     "execution_count": 17
    }
   ]
  },
  {
   "cell_type": "markdown",
   "metadata": {
    "id": "bPywG3lfToq3"
   },
   "source": [
    "## 문제 4-2: Transitive Relation, Symmetric Relation, Reflexive Relation\n",
    "주어진 행렬 M이 Transitive Relation, Symmetric Relation, Reflexive Relation, 만족하는 지를 확인하는 메소드를 만드시오"
   ]
  },
  {
   "cell_type": "code",
   "metadata": {
    "id": "VnBRToAkezZL"
   },
   "source": [
    "def is_transitive_relation(M):\n",
    "  '''\n",
    "  추이 관계인지를 확인하는 함수\n",
    "  :param M: NxN Boolean 기반 관계행렬\n",
    "  :return: True / False\n",
    "  '''\n",
    "  return False"
   ],
   "execution_count": 18,
   "outputs": []
  },
  {
   "cell_type": "code",
   "metadata": {
    "pycharm": {
     "name": "#%%\n"
    },
    "id": "W0wrmMbX1uS-"
   },
   "source": [
    "def is_symmetric_relation(M):\n",
    "  '''\n",
    "  대칭 관계인지를 확인하는 함수\n",
    "  :param M: NxN Boolean 기반 관계행렬\n",
    "  :return: True / False\n",
    "  '''\n",
    "  return False"
   ],
   "execution_count": 19,
   "outputs": []
  },
  {
   "cell_type": "code",
   "metadata": {
    "pycharm": {
     "name": "#%%\n"
    },
    "id": "nVtVm3xB1uS-"
   },
   "source": [
    "def is_reflexive_relation(M):\n",
    "  '''\n",
    "  반사 관계인지를 확인하는 함수\n",
    "  :param M: NxN Boolean 기반 관계행렬\n",
    "  :return: True / False\n",
    "  '''\n",
    "  return False"
   ],
   "execution_count": 20,
   "outputs": []
  },
  {
   "cell_type": "code",
   "metadata": {
    "pycharm": {
     "name": "#%%\n"
    },
    "colab": {
     "base_uri": "https://localhost:8080/"
    },
    "id": "pE8yK-7g1uS-",
    "outputId": "768c75aa-3117-451b-c7ff-b3b89aa3267e"
   },
   "source": [
    "M = np.full((3,3), True)\n",
    "M"
   ],
   "execution_count": 21,
   "outputs": [
    {
     "output_type": "execute_result",
     "data": {
      "text/plain": [
       "array([[ True,  True,  True],\n",
       "       [ True,  True,  True],\n",
       "       [ True,  True,  True]])"
      ]
     },
     "metadata": {},
     "execution_count": 21
    }
   ]
  },
  {
   "cell_type": "code",
   "metadata": {
    "pycharm": {
     "name": "#%%\n"
    },
    "colab": {
     "base_uri": "https://localhost:8080/"
    },
    "id": "o1nv4X0u1uS-",
    "outputId": "f8c18a40-8e1d-491c-d30d-c61274efdde3"
   },
   "source": [
    "is_transitive_relation(M)"
   ],
   "execution_count": 22,
   "outputs": [
    {
     "output_type": "execute_result",
     "data": {
      "text/plain": [
       "False"
      ]
     },
     "metadata": {},
     "execution_count": 22
    }
   ]
  },
  {
   "cell_type": "code",
   "metadata": {
    "pycharm": {
     "name": "#%%\n"
    },
    "colab": {
     "base_uri": "https://localhost:8080/"
    },
    "id": "EM7O4lZy1uS-",
    "outputId": "dafe96b9-4d19-4865-f83f-c093065f76c8"
   },
   "source": [
    "is_symmetric_relation(M)"
   ],
   "execution_count": 23,
   "outputs": [
    {
     "output_type": "execute_result",
     "data": {
      "text/plain": [
       "False"
      ]
     },
     "metadata": {},
     "execution_count": 23
    }
   ]
  },
  {
   "cell_type": "code",
   "metadata": {
    "pycharm": {
     "name": "#%%\n"
    },
    "colab": {
     "base_uri": "https://localhost:8080/"
    },
    "id": "xOWPMmzy1uS_",
    "outputId": "fe49d09a-51b7-4c0c-e6fa-49605ba57f70"
   },
   "source": [
    "is_reflexive_relation(M)"
   ],
   "execution_count": 24,
   "outputs": [
    {
     "output_type": "execute_result",
     "data": {
      "text/plain": [
       "False"
      ]
     },
     "metadata": {},
     "execution_count": 24
    }
   ]
  },
  {
   "cell_type": "code",
   "metadata": {
    "pycharm": {
     "name": "#%%\n"
    },
    "colab": {
     "base_uri": "https://localhost:8080/"
    },
    "id": "HSbGH7Tj1uS_",
    "outputId": "fd2943cf-916a-46d2-b22b-8b455de4c83d"
   },
   "source": [
    "M = np.full((3,3), False)\n",
    "M"
   ],
   "execution_count": 25,
   "outputs": [
    {
     "output_type": "execute_result",
     "data": {
      "text/plain": [
       "array([[False, False, False],\n",
       "       [False, False, False],\n",
       "       [False, False, False]])"
      ]
     },
     "metadata": {},
     "execution_count": 25
    }
   ]
  },
  {
   "cell_type": "code",
   "metadata": {
    "pycharm": {
     "name": "#%%\n"
    },
    "colab": {
     "base_uri": "https://localhost:8080/"
    },
    "id": "9W4YdHdw1uTA",
    "outputId": "9d3a0e6b-b6b2-4981-f9fe-d1099ca163ad"
   },
   "source": [
    "is_transitive_relation(M)"
   ],
   "execution_count": 26,
   "outputs": [
    {
     "output_type": "execute_result",
     "data": {
      "text/plain": [
       "False"
      ]
     },
     "metadata": {},
     "execution_count": 26
    }
   ]
  },
  {
   "cell_type": "code",
   "metadata": {
    "pycharm": {
     "name": "#%%\n"
    },
    "colab": {
     "base_uri": "https://localhost:8080/"
    },
    "id": "lCM9JWTS1uTB",
    "outputId": "b7754d49-df28-47e3-d1a7-47816b0b5bf5"
   },
   "source": [
    "is_symmetric_relation(M)"
   ],
   "execution_count": 27,
   "outputs": [
    {
     "output_type": "execute_result",
     "data": {
      "text/plain": [
       "False"
      ]
     },
     "metadata": {},
     "execution_count": 27
    }
   ]
  },
  {
   "cell_type": "code",
   "metadata": {
    "pycharm": {
     "name": "#%%\n"
    },
    "colab": {
     "base_uri": "https://localhost:8080/"
    },
    "id": "inoX3Ka_1uTB",
    "outputId": "64b1eb82-66c6-4073-a0a1-8d98a23ca6d0"
   },
   "source": [
    "is_reflexive_relation(M)"
   ],
   "execution_count": 28,
   "outputs": [
    {
     "output_type": "execute_result",
     "data": {
      "text/plain": [
       "False"
      ]
     },
     "metadata": {},
     "execution_count": 28
    }
   ]
  },
  {
   "cell_type": "markdown",
   "metadata": {
    "id": "0fpAZxLwe5FR"
   },
   "source": [
    "## 문제 4-3: Equivalence relation\n",
    "is_transitive, is_symmetric, is_reflexive_relation 메소드를 활용하여 equivalence relation인지를 확인하는 메소드를 생성하시오\n"
   ]
  },
  {
   "cell_type": "code",
   "metadata": {
    "id": "HyFu0yHwgPb1"
   },
   "source": [
    "def is_equivalence_relation(M):\n",
    "  '''\n",
    "  동치 관계인지를 확인하는 함수\n",
    "  :param M: NxN Boolean 기반 관계행렬\n",
    "  :return: True / False\n",
    "  '''\n",
    "  return False"
   ],
   "execution_count": 29,
   "outputs": []
  },
  {
   "cell_type": "code",
   "metadata": {
    "pycharm": {
     "name": "#%%\n"
    },
    "colab": {
     "base_uri": "https://localhost:8080/"
    },
    "id": "VrkYWXpu1uTB",
    "outputId": "3a1607b9-e5fb-4ef9-fe23-fe047a15216d"
   },
   "source": [
    "M = np.array([[True,True,True,True],[False,True,False,True],[True,True,True,True],[True,True,True,True]])\n",
    "M"
   ],
   "execution_count": 30,
   "outputs": [
    {
     "output_type": "execute_result",
     "data": {
      "text/plain": [
       "array([[ True,  True,  True,  True],\n",
       "       [False,  True, False,  True],\n",
       "       [ True,  True,  True,  True],\n",
       "       [ True,  True,  True,  True]])"
      ]
     },
     "metadata": {},
     "execution_count": 30
    }
   ]
  },
  {
   "cell_type": "code",
   "metadata": {
    "pycharm": {
     "name": "#%%\n"
    },
    "colab": {
     "base_uri": "https://localhost:8080/"
    },
    "id": "x1Tb0k2E1uTB",
    "outputId": "a05fed3c-2ea6-4e69-d1b5-bb9d32eb7910"
   },
   "source": [
    "is_equivalence_relation(M)"
   ],
   "execution_count": 31,
   "outputs": [
    {
     "output_type": "execute_result",
     "data": {
      "text/plain": [
       "False"
      ]
     },
     "metadata": {},
     "execution_count": 31
    }
   ]
  },
  {
   "cell_type": "code",
   "metadata": {
    "pycharm": {
     "name": "#%%\n"
    },
    "colab": {
     "base_uri": "https://localhost:8080/"
    },
    "id": "_cUpvsXY1uTC",
    "outputId": "cbfc9f64-67a0-4692-a1cb-88b486325dc8"
   },
   "source": [
    "M = np.full((3,3), True)\n",
    "M"
   ],
   "execution_count": 32,
   "outputs": [
    {
     "output_type": "execute_result",
     "data": {
      "text/plain": [
       "array([[ True,  True,  True],\n",
       "       [ True,  True,  True],\n",
       "       [ True,  True,  True]])"
      ]
     },
     "metadata": {},
     "execution_count": 32
    }
   ]
  },
  {
   "cell_type": "code",
   "metadata": {
    "pycharm": {
     "name": "#%%\n"
    },
    "colab": {
     "base_uri": "https://localhost:8080/"
    },
    "id": "ImTKG4rR1uTC",
    "outputId": "20ca3f48-3035-4f03-adf3-de0ef7e27d3d"
   },
   "source": [
    "is_equivalence_relation(M)"
   ],
   "execution_count": 33,
   "outputs": [
    {
     "output_type": "execute_result",
     "data": {
      "text/plain": [
       "False"
      ]
     },
     "metadata": {},
     "execution_count": 33
    }
   ]
  },
  {
   "cell_type": "markdown",
   "metadata": {
    "id": "MlocFs85gPxl"
   },
   "source": [
    "## 문제 4-4: Floyd Washall Algorithm\n",
    "플로이드 워셜 알고리즘을 작성하고, 이를 통해 주어진 관계행렬을 만족하는 가장 작은 동치 관계(Equivalence relation)를 구하여라\n",
    "플로이드 알고리즘은 외부 혹은 라이브러리를 사용해도 무관하다. 단 입출력은 만족해야한다."
   ]
  },
  {
   "cell_type": "code",
   "metadata": {
    "pycharm": {
     "name": "#%%\n"
    },
    "id": "dKIXmfTy1uTC"
   },
   "source": [
    "def floyd_washall(R, S):\n",
    "  '''\n",
    "  관계행렬 R과 S를 입력으로 받아서 플로이드 워셜 알고리즘을 통해 가장 작은 동치 관계행렬을 반환한다\n",
    "  :param R: NxN의 관계행렬\n",
    "  :param S: NxN의 관계행렬\n",
    "  :return: NxN의 관계행렬\n",
    "  '''\n",
    "  E = np.array([None, None]) # 수정해도 되는 부분\n",
    "  return E # 가장작은 동치 관계행렬을 반환"
   ],
   "execution_count": 34,
   "outputs": []
  },
  {
   "cell_type": "code",
   "metadata": {
    "pycharm": {
     "name": "#%%\n"
    },
    "colab": {
     "base_uri": "https://localhost:8080/"
    },
    "id": "lwH4AF4H1uTC",
    "outputId": "6332ae4c-6c9f-4c7c-c27c-282ccf05b9e1"
   },
   "source": [
    "R = np.array([[True,True,False,False,False],[True,True,False,False,False],[False,False,True,True,False],[False,False,True,True,True],[False,False,False,False,True]])\n",
    "\n",
    "S = np.array([[True,False,False,False,False],[False,True,False,False,False],[False,False,True,False,False],[False,False,False,True,True],[False,False,False,True,True]])\n",
    "R"
   ],
   "execution_count": 35,
   "outputs": [
    {
     "output_type": "execute_result",
     "data": {
      "text/plain": [
       "array([[ True,  True, False, False, False],\n",
       "       [ True,  True, False, False, False],\n",
       "       [False, False,  True,  True, False],\n",
       "       [False, False,  True,  True,  True],\n",
       "       [False, False, False, False,  True]])"
      ]
     },
     "metadata": {},
     "execution_count": 35
    }
   ]
  },
  {
   "cell_type": "code",
   "metadata": {
    "pycharm": {
     "name": "#%%\n"
    },
    "colab": {
     "base_uri": "https://localhost:8080/"
    },
    "id": "Y8UBNHxE1uTC",
    "outputId": "6dcf9c0f-b1f2-4bfb-c530-096e01d530d2"
   },
   "source": [
    "S"
   ],
   "execution_count": 36,
   "outputs": [
    {
     "output_type": "execute_result",
     "data": {
      "text/plain": [
       "array([[ True, False, False, False, False],\n",
       "       [False,  True, False, False, False],\n",
       "       [False, False,  True, False, False],\n",
       "       [False, False, False,  True,  True],\n",
       "       [False, False, False,  True,  True]])"
      ]
     },
     "metadata": {},
     "execution_count": 36
    }
   ]
  },
  {
   "cell_type": "code",
   "metadata": {
    "pycharm": {
     "name": "#%%\n"
    },
    "colab": {
     "base_uri": "https://localhost:8080/"
    },
    "id": "49aQPHJ11uTD",
    "outputId": "b21e207b-2ae3-4f11-cb84-3acdd1c7e39b"
   },
   "source": [
    "# 슬라이드 관계 챕터에서, p105의 정답과 동일해야함\n",
    "floyd_washall(R, S)"
   ],
   "execution_count": 37,
   "outputs": [
    {
     "output_type": "execute_result",
     "data": {
      "text/plain": [
       "array([None, None], dtype=object)"
      ]
     },
     "metadata": {},
     "execution_count": 37
    }
   ]
  },
  {
   "cell_type": "markdown",
   "metadata": {
    "id": "BnJ0u5qZgwjo"
   },
   "source": [
    "# 그래프 생성하기\n",
    "그래프의 edge와 vertex(node)를 생성하는 방법을 배웁니다"
   ]
  },
  {
   "cell_type": "code",
   "metadata": {
    "id": "OvfK1glUhf1I"
   },
   "source": [
    "import networkx as nx"
   ],
   "execution_count": 38,
   "outputs": []
  },
  {
   "cell_type": "code",
   "metadata": {
    "pycharm": {
     "name": "#%%\n"
    },
    "id": "iv-7IZxV1uTD"
   },
   "source": [
    "# 기본 그래프 선언\n",
    "g=nx.Graph()"
   ],
   "execution_count": 39,
   "outputs": []
  },
  {
   "cell_type": "markdown",
   "metadata": {
    "collapsed": false,
    "pycharm": {
     "name": "#%% md\n"
    },
    "id": "X12vXI7v1uTD"
   },
   "source": [
    "add_node: 노드를 추가합니다.\n",
    "add_nodes_from: 리스트 등으로부터 여러 노드를 추가합니다"
   ]
  },
  {
   "cell_type": "code",
   "metadata": {
    "pycharm": {
     "name": "#%%\n"
    },
    "id": "YYzSj7Qk1uTD"
   },
   "source": [
    "g.add_node(\"A\")\n",
    "g.add_node(\"B\")\n",
    "g.add_node(\"C\")\n",
    "g.add_nodes_from([\"D\",\"E\",\"F\"])\n",
    "g.add_node(\"G\")"
   ],
   "execution_count": 40,
   "outputs": []
  },
  {
   "cell_type": "code",
   "metadata": {
    "pycharm": {
     "name": "#%%\n"
    },
    "colab": {
     "base_uri": "https://localhost:8080/"
    },
    "id": "hfmry0Ov1uTD",
    "outputId": "8851beff-1a5f-4617-e534-be2a8a13c5d5"
   },
   "source": [
    "g.nodes"
   ],
   "execution_count": 41,
   "outputs": [
    {
     "output_type": "execute_result",
     "data": {
      "text/plain": [
       "NodeView(('A', 'B', 'C', 'D', 'E', 'F', 'G'))"
      ]
     },
     "metadata": {},
     "execution_count": 41
    }
   ]
  },
  {
   "cell_type": "code",
   "metadata": {
    "pycharm": {
     "name": "#%%\n"
    },
    "colab": {
     "base_uri": "https://localhost:8080/"
    },
    "id": "AI2JA3w31uTD",
    "outputId": "dd9cacea-8082-4ace-c1d2-57f81eff1ce4"
   },
   "source": [
    "# 노드의 수를 확인합니다.\n",
    "g.number_of_nodes()"
   ],
   "execution_count": 42,
   "outputs": [
    {
     "output_type": "execute_result",
     "data": {
      "text/plain": [
       "7"
      ]
     },
     "metadata": {},
     "execution_count": 42
    }
   ]
  },
  {
   "cell_type": "code",
   "metadata": {
    "pycharm": {
     "name": "#%%\n"
    },
    "id": "BCqOh-9W1uTE"
   },
   "source": [
    "g.remove_node(\"G\")"
   ],
   "execution_count": 43,
   "outputs": []
  },
  {
   "cell_type": "code",
   "metadata": {
    "pycharm": {
     "name": "#%%\n"
    },
    "id": "XBaXz9a41uTE"
   },
   "source": [
    "g.add_edge(\"A\",\"C\")\n",
    "g.add_edge(\"A\",\"D\")\n",
    "g.add_edge(\"A\",\"E\")\n",
    "g.add_edge(\"A\",\"F\")\n",
    "g.add_edges_from([(\"B\",\"B\"),(\"B\",\"C\"),(\"B\",\"D\"),(\"B\",\"F\")])\n",
    "g.add_edge(\"D\",\"E\")\n",
    "g.add_edge(\"C\",\"D\")\n",
    "g.add_edge(\"C\",\"F\")\n",
    "g.add_edge(\"E\",\"E\")"
   ],
   "execution_count": 44,
   "outputs": []
  },
  {
   "cell_type": "code",
   "metadata": {
    "pycharm": {
     "name": "#%%\n"
    },
    "colab": {
     "base_uri": "https://localhost:8080/"
    },
    "id": "i8c7gikA1uTE",
    "outputId": "c4669c72-8334-4189-e097-3405ed9b4d5f"
   },
   "source": [
    "g.number_of_edges()"
   ],
   "execution_count": 45,
   "outputs": [
    {
     "output_type": "execute_result",
     "data": {
      "text/plain": [
       "12"
      ]
     },
     "metadata": {},
     "execution_count": 45
    }
   ]
  },
  {
   "cell_type": "code",
   "metadata": {
    "pycharm": {
     "name": "#%%\n"
    },
    "colab": {
     "base_uri": "https://localhost:8080/",
     "height": 319
    },
    "id": "ETcR_0vz1uTE",
    "outputId": "50e667be-4685-45c9-975a-7d3d62f699ef"
   },
   "source": [
    "# 그래프 화면 출력\n",
    "nx.draw(g, with_labels = True)"
   ],
   "execution_count": 46,
   "outputs": [
    {
     "output_type": "display_data",
     "data": {
      "image/png": "[encoded data removed]",
      "text/plain": [
       "<Figure size 432x288 with 1 Axes>"
      ]
     },
     "metadata": {}
    }
   ]
  },
  {
   "cell_type": "code",
   "metadata": {
    "pycharm": {
     "name": "#%%\n"
    },
    "id": "K8B2Hise1uTE"
   },
   "source": [
    "# 엣지 제거\n",
    "g.remove_edge(\"C\",\"D\")"
   ],
   "execution_count": 47,
   "outputs": []
  },
  {
   "cell_type": "code",
   "metadata": {
    "pycharm": {
     "name": "#%%\n"
    },
    "colab": {
     "base_uri": "https://localhost:8080/"
    },
    "id": "kLGt447P1uTE",
    "outputId": "da5ed672-6f47-410e-d4bf-933f4f2d4341"
   },
   "source": [
    "g.edges"
   ],
   "execution_count": 48,
   "outputs": [
    {
     "output_type": "execute_result",
     "data": {
      "text/plain": [
       "EdgeView([('A', 'C'), ('A', 'D'), ('A', 'E'), ('A', 'F'), ('B', 'B'), ('B', 'C'), ('B', 'D'), ('B', 'F'), ('C', 'F'), ('D', 'E'), ('E', 'E')])"
      ]
     },
     "metadata": {},
     "execution_count": 48
    }
   ]
  },
  {
   "cell_type": "code",
   "metadata": {
    "pycharm": {
     "name": "#%%\n"
    },
    "colab": {
     "base_uri": "https://localhost:8080/",
     "height": 319
    },
    "id": "_w-yYpEh1uTE",
    "outputId": "1a43c79d-3312-40d7-98e4-e7b782720335"
   },
   "source": [
    "nx.draw(g, with_labels = True)"
   ],
   "execution_count": 49,
   "outputs": [
    {
     "output_type": "display_data",
     "data": {
      "image/png": "[encoded data removed]",
      "text/plain": [
       "<Figure size 432x288 with 1 Axes>"
      ]
     },
     "metadata": {}
    }
   ]
  },
  {
   "cell_type": "markdown",
   "metadata": {
    "collapsed": false,
    "pycharm": {
     "name": "#%% md\n"
    },
    "id": "2HQoV-711uTF"
   },
   "source": [
    "## 방향성 그래프 생성하기"
   ]
  },
  {
   "cell_type": "code",
   "metadata": {
    "pycharm": {
     "name": "#%%\n"
    },
    "id": "H4HFPSvS1uTF"
   },
   "source": [
    "G = nx.DiGraph()"
   ],
   "execution_count": 50,
   "outputs": []
  },
  {
   "cell_type": "code",
   "metadata": {
    "pycharm": {
     "name": "#%%\n"
    },
    "id": "cUlXCxbY1uTF"
   },
   "source": [
    "G.add_nodes_from(['A','B','C','D','E'])"
   ],
   "execution_count": 51,
   "outputs": []
  },
  {
   "cell_type": "code",
   "metadata": {
    "pycharm": {
     "name": "#%%\n"
    },
    "id": "jatZw1PL1uTF"
   },
   "source": [
    "G.add_edge('A','C',weight=8)\n",
    "G.add_edge('A','E',weight=10)\n",
    "G.add_edge('B','A',weight=15)\n",
    "G.add_edge('C','E',weight=23)\n",
    "G.add_edge('D','B',weight=17)\n",
    "G.add_edge('D','A',weight=27)\n",
    "G.add_edge('E','B',weight=11)\n",
    "G.add_edge('E','D',weight=5)"
   ],
   "execution_count": 52,
   "outputs": []
  },
  {
   "cell_type": "code",
   "metadata": {
    "pycharm": {
     "name": "#%%\n"
    },
    "colab": {
     "base_uri": "https://localhost:8080/",
     "height": 319
    },
    "id": "ntUl1dwJ1uTF",
    "outputId": "5bdce5f1-b100-4de0-c1c6-1a397380ba83"
   },
   "source": [
    "nx.draw(G, with_labels=True)"
   ],
   "execution_count": 53,
   "outputs": [
    {
     "output_type": "display_data",
     "data": {
      "image/png": "[encoded data removed]",
      "text/plain": [
       "<Figure size 432x288 with 1 Axes>"
      ]
     },
     "metadata": {}
    }
   ]
  },
  {
   "cell_type": "markdown",
   "metadata": {
    "collapsed": false,
    "pycharm": {
     "name": "#%% md\n"
    },
    "id": "lJvHGPbc1uTF"
   },
   "source": [
    "## Degree 이해하기"
   ]
  },
  {
   "cell_type": "code",
   "metadata": {
    "pycharm": {
     "name": "#%%\n"
    },
    "colab": {
     "base_uri": "https://localhost:8080/"
    },
    "id": "5XGY6ENM1uTF",
    "outputId": "a8903858-5504-4afa-ebd5-05ca3d15f113"
   },
   "source": [
    "# in/out degree 출력\n",
    "G.degree"
   ],
   "execution_count": 54,
   "outputs": [
    {
     "output_type": "execute_result",
     "data": {
      "text/plain": [
       "DiDegreeView({'A': 4, 'B': 3, 'C': 2, 'D': 3, 'E': 4})"
      ]
     },
     "metadata": {},
     "execution_count": 54
    }
   ]
  },
  {
   "cell_type": "code",
   "metadata": {
    "pycharm": {
     "name": "#%%\n"
    },
    "colab": {
     "base_uri": "https://localhost:8080/"
    },
    "id": "ipU8dYMq1uTF",
    "outputId": "f39a9bd0-223a-42fe-c488-6769ed2d90e7"
   },
   "source": [
    "# in_degree 출력\n",
    "G.in_degree()"
   ],
   "execution_count": 55,
   "outputs": [
    {
     "output_type": "execute_result",
     "data": {
      "text/plain": [
       "InDegreeView({'A': 2, 'B': 2, 'C': 1, 'D': 1, 'E': 2})"
      ]
     },
     "metadata": {},
     "execution_count": 55
    }
   ]
  },
  {
   "cell_type": "code",
   "metadata": {
    "pycharm": {
     "name": "#%%\n"
    },
    "colab": {
     "base_uri": "https://localhost:8080/"
    },
    "id": "NTBRcNi11uTF",
    "outputId": "4d92daa3-bcca-43e3-81f0-c30a727de102"
   },
   "source": [
    "# out_degree 출력\n",
    "G.out_degree()"
   ],
   "execution_count": 56,
   "outputs": [
    {
     "output_type": "execute_result",
     "data": {
      "text/plain": [
       "OutDegreeView({'A': 2, 'B': 1, 'C': 1, 'D': 2, 'E': 2})"
      ]
     },
     "metadata": {},
     "execution_count": 56
    }
   ]
  },
  {
   "cell_type": "markdown",
   "metadata": {
    "collapsed": false,
    "pycharm": {
     "name": "#%% md\n"
    },
    "id": "h0B1q9Ha1uTG"
   },
   "source": [
    "## 전임노드(Predecessor node)와 후임노드(Successor node)란?\n",
    "Successor node: Digraph에서 기준이 되는 node의 edge에 의해 다음으로 가리키는 node를 뜻한다.\n",
    "\n",
    "Predecessor node: Digraph에서 기준이 되는 노드가 edge에 의해 가리켜지는  node를 뜻한다.\n",
    "\n",
    "예를 들어 A를 기준으로 치면 다음으로 가리키는 C, E가 Successor node가 된다.\n",
    "\n",
    "그리고 A를 기준으로 화살표를 받는 B,D가 Predecessor node가 된다."
   ]
  },
  {
   "cell_type": "code",
   "metadata": {
    "pycharm": {
     "name": "#%%\n"
    },
    "colab": {
     "base_uri": "https://localhost:8080/"
    },
    "id": "gIz4zTy-1uTG",
    "outputId": "61a22703-b8d0-4da2-985f-a1a8c63720e5"
   },
   "source": [
    "# A의 successor nodes\n",
    "list(G.successors('A'))"
   ],
   "execution_count": 57,
   "outputs": [
    {
     "output_type": "execute_result",
     "data": {
      "text/plain": [
       "['C', 'E']"
      ]
     },
     "metadata": {},
     "execution_count": 57
    }
   ]
  },
  {
   "cell_type": "code",
   "metadata": {
    "pycharm": {
     "name": "#%%\n"
    },
    "colab": {
     "base_uri": "https://localhost:8080/"
    },
    "id": "5jgoeqoO1uTG",
    "outputId": "65429fe3-8b64-48cd-f6e0-44b0e117572d"
   },
   "source": [
    "# B의 successor nodes\n",
    "list(G.predecessors('A'))"
   ],
   "execution_count": 58,
   "outputs": [
    {
     "output_type": "execute_result",
     "data": {
      "text/plain": [
       "['B', 'D']"
      ]
     },
     "metadata": {},
     "execution_count": 58
    }
   ]
  },
  {
   "cell_type": "markdown",
   "metadata": {
    "collapsed": false,
    "pycharm": {
     "name": "#%% md\n"
    },
    "id": "s9QHSRNV1uTG"
   },
   "source": [
    "## 문제 5-1: 최고의 in-degree/out-degree 비율을 갖는 지점을 찾는 함수를 작성하여라."
   ]
  },
  {
   "cell_type": "code",
   "metadata": {
    "pycharm": {
     "name": "#%%\n"
    },
    "id": "yKzvDoL11uTG"
   },
   "source": [
    "# 랜덤으로 생성되는 방향을 가진 그래프 (directed graph)\n",
    "random_digraph = nx.fast_gnp_random_graph(10, 0.3, seed=None, directed=True)"
   ],
   "execution_count": 59,
   "outputs": []
  },
  {
   "cell_type": "code",
   "metadata": {
    "pycharm": {
     "name": "#%%\n"
    },
    "colab": {
     "base_uri": "https://localhost:8080/",
     "height": 319
    },
    "id": "u-MQgoXi1uTG",
    "outputId": "cc484add-55ff-4ab9-f2b1-3143646c9a2c"
   },
   "source": [
    "nx.draw(random_digraph)"
   ],
   "execution_count": 60,
   "outputs": [
    {
     "output_type": "display_data",
     "data": {
      "image/png": "[encoded data removed]",
      "text/plain": [
       "<Figure size 432x288 with 1 Axes>"
      ]
     },
     "metadata": {}
    }
   ]
  },
  {
   "cell_type": "code",
   "metadata": {
    "pycharm": {
     "name": "#%%\n"
    },
    "colab": {
     "base_uri": "https://localhost:8080/",
     "height": 139
    },
    "id": "C2ICCJxX1uTG",
    "outputId": "94da0719-954e-49a1-fbb3-bd6ee2957159"
   },
   "source": [
    "def find_highest_custom_degree(graph):\n",
    "  '''\n",
    "  주어진 그래프로부터 제일 높은 custom_degree를 찾는 것을 목표한다.\n",
    "  구체적으로, 각 노드에서 custom_degree는  ( in_degree * 10 - out_degree * 5 ) 로 계산된다.\n",
    "  :param graph: 그래프\n",
    "  :return: 최대 높은 custom degree\n",
    "  '''\n",
    "  highest_score = -1\n",
    "  for n in graph.nodes:\n",
    "    score = in_degree * 10 - out_degree * 5\n",
    "    if  highest_score > score:\n",
    "        # your code here\n",
    "    # your code here\n",
    "  return highest_score"
   ],
   "execution_count": 61,
   "outputs": [
    {
     "output_type": "error",
     "ename": "IndentationError",
     "evalue": "ignored",
     "traceback": [
      "\u001B[0;36m  File \u001B[0;32m\"<ipython-input-61-68b1ae5e4823>\"\u001B[0;36m, line \u001B[0;32m14\u001B[0m\n\u001B[0;31m    return highest_score\u001B[0m\n\u001B[0m    ^\u001B[0m\n\u001B[0;31mIndentationError\u001B[0m\u001B[0;31m:\u001B[0m expected an indented block\n"
     ]
    }
   ]
  },
  {
   "cell_type": "code",
   "metadata": {
    "pycharm": {
     "name": "#%%\n"
    },
    "id": "n3-CoQvs1uTG"
   },
   "source": [
    "find_highest_custom_degree(random_digraph)"
   ],
   "execution_count": null,
   "outputs": []
  },
  {
   "cell_type": "markdown",
   "metadata": {
    "collapsed": false,
    "pycharm": {
     "name": "#%% md\n"
    },
    "id": "N4dO0LWR1uTH"
   },
   "source": [
    "## 문제 5-2: 넓이 우선 검색(Breadth-First Search)  구현하기\n",
    "\n",
    "넓이 우선검색은 Level 우선 검색이라고도 한다. 가까운 근처 이웃부터 천천히 검색하는 방법이다. 즉, 주위의 정보를 먼저 검색하고 그 다음에 점점 먼 이웃을 검색하는 방법이다.\n",
    "\n",
    "connected_caveman_graph 는 k 크기의 l 개의 clique를 가진 caveman 그래프를 반환한다. 예로, 5-clique가 5개인 그래프를 다음과 같이 생성할 수 있다. 5-clique는 5명이 완벽하게 서로 커뮤니케이션하는 완전한 그래프라고 할 수 있다.\n",
    "\n"
   ]
  },
  {
   "cell_type": "code",
   "metadata": {
    "pycharm": {
     "name": "#%%\n"
    },
    "colab": {
     "base_uri": "https://localhost:8080/",
     "height": 319
    },
    "id": "MAcL9PUM1uTH",
    "outputId": "aecc0269-b678-4783-c67a-1c42e114b8d0"
   },
   "source": [
    "g =  nx.connected_caveman_graph(5, 5)\n",
    "nx.draw(g, with_labels=True)"
   ],
   "execution_count": 62,
   "outputs": [
    {
     "output_type": "display_data",
     "data": {
      "image/png": "[encoded data removed]",
      "text/plain": [
       "<Figure size 432x288 with 1 Axes>"
      ]
     },
     "metadata": {}
    }
   ]
  },
  {
   "cell_type": "code",
   "metadata": {
    "pycharm": {
     "name": "#%%\n"
    },
    "id": "8G1bcknh1uTH"
   },
   "source": [
    "def bfs(graph, source):\n",
    "  '''\n",
    "  # 넓이우선 검색 함수를 구현하시오\n",
    "  :param graph: graph는 이전 g 파라미터\n",
    "  :param source: source는 시작노드\n",
    "  :return: 마지막 도착 노드\n",
    "  '''\n",
    "  # your code here\n",
    "  return last_visited"
   ],
   "execution_count": 63,
   "outputs": []
  },
  {
   "cell_type": "code",
   "metadata": {
    "pycharm": {
     "name": "#%%\n"
    },
    "colab": {
     "base_uri": "https://localhost:8080/",
     "height": 269
    },
    "id": "jlq2z5nC1uTH",
    "outputId": "64a86dbd-8e83-45b2-efaa-20e37163d1ba"
   },
   "source": [
    "bfs(g, 0)"
   ],
   "execution_count": 64,
   "outputs": [
    {
     "output_type": "error",
     "ename": "NameError",
     "evalue": "ignored",
     "traceback": [
      "\u001B[0;31m---------------------------------------------------------------------------\u001B[0m",
      "\u001B[0;31mNameError\u001B[0m                                 Traceback (most recent call last)",
      "\u001B[0;32m<ipython-input-64-2eb46c80fa26>\u001B[0m in \u001B[0;36m<module>\u001B[0;34m()\u001B[0m\n\u001B[0;32m----> 1\u001B[0;31m \u001B[0mbfs\u001B[0m\u001B[0;34m(\u001B[0m\u001B[0mg\u001B[0m\u001B[0;34m,\u001B[0m \u001B[0;36m0\u001B[0m\u001B[0;34m)\u001B[0m\u001B[0;34m\u001B[0m\u001B[0;34m\u001B[0m\u001B[0m\n\u001B[0m",
      "\u001B[0;32m<ipython-input-63-f3f8f0e11a21>\u001B[0m in \u001B[0;36mbfs\u001B[0;34m(graph, source)\u001B[0m\n\u001B[1;32m      7\u001B[0m   '''\n\u001B[1;32m      8\u001B[0m   \u001B[0;31m# your code here\u001B[0m\u001B[0;34m\u001B[0m\u001B[0;34m\u001B[0m\u001B[0;34m\u001B[0m\u001B[0m\n\u001B[0;32m----> 9\u001B[0;31m   \u001B[0;32mreturn\u001B[0m \u001B[0mlast_visited\u001B[0m\u001B[0;34m\u001B[0m\u001B[0;34m\u001B[0m\u001B[0m\n\u001B[0m",
      "\u001B[0;31mNameError\u001B[0m: name 'last_visited' is not defined"
     ]
    }
   ]
  },
  {
   "cell_type": "markdown",
   "metadata": {
    "collapsed": false,
    "pycharm": {
     "name": "#%% md\n"
    },
    "id": "mnV3dqPr1uTH"
   },
   "source": [
    "# 소셜네트워크 분석 이해하기\n",
    "그래프 네트워크에서 노드간의 직접적인 연결은 1 홉(hop)에 있다고 표현한다. 예를 들면, (A)-(B)-(C) 가 3개로 노드로 이루어진 그래프에서, A와 C는 2 hops 관계 있다고 본다. 따라서, 큰 hop은 해당 노드로 부터 멀리 떨어져 있는 노드로 볼 수 있다. 소셜네트워크에서는, 친구와 친구 사이의 관계가 먼 것으로 이야기한다."
   ]
  },
  {
   "cell_type": "code",
   "metadata": {
    "pycharm": {
     "name": "#%%\n"
    },
    "colab": {
     "base_uri": "https://localhost:8080/"
    },
    "id": "8E6qxsGl1uTH",
    "outputId": "0a655bec-e03b-4005-cb4e-ed6f47ecc9a8"
   },
   "source": [
    "# source 로부터 n-HOPS가 떨어진 노드들을 찾는 방법\n",
    "HOPS = 2\n",
    "[n for n, d in nx.shortest_path_length(g ,source=0).items() if d==HOPS]"
   ],
   "execution_count": 65,
   "outputs": [
    {
     "output_type": "execute_result",
     "data": {
      "text/plain": [
       "[1, 5, 20, 21, 22, 23]"
      ]
     },
     "metadata": {},
     "execution_count": 65
    }
   ]
  },
  {
   "cell_type": "markdown",
   "metadata": {
    "collapsed": false,
    "pycharm": {
     "name": "#%% md\n"
    },
    "id": "MI5d94RQ1uTH"
   },
   "source": [
    "## 문제 6-1: 인플루언서로부터 전체 노드의 50%를 차지하게되는 최소 HOPS를 계산하여라.\n",
    "인플루언서 p가 주어졌을때, p가 전체 노드의 50%를 알게 되는 최소 HOPS을 찾는 함수 find_min_hops_with_above_50_friends()을 구현하시오\n",
    "\n",
    "Watts-Strogatz 그래프 모델은 Small-World 그래프를 표현합니다. Small-World 그래프는 많은 노드가 하나 이상의 이웃을 가지지 않는, 일부 노드에 많은 이웃을 가지게되는 그래프입니다. 예로, 우리가 알고있는 인플루언서 기반 소셜네트워크, 온라인 상점 내 인기상품 기반 상품 네트워크 등은 이러한 Small World 그래프 입니다. 또한, 실제 사람들의 커뮤니티에서도 많은 사람들은 적은 수의 사람들을 알고 있으며, 소수의 사람들이 많은 인맥을 가지는 구조로 보여주게 됩니다.\n",
    "참조링크: (Small-World 그래프)[https://en.wikipedia.org/wiki/Small-world_network]\n",
    "\n"
   ]
  },
  {
   "cell_type": "code",
   "metadata": {
    "pycharm": {
     "name": "#%%\n"
    },
    "colab": {
     "base_uri": "https://localhost:8080/",
     "height": 319
    },
    "id": "kpfjdd_F1uTH",
    "outputId": "6caa0ba2-9ac6-41dd-a629-160d5f67f8db"
   },
   "source": [
    "# watts_strogatz_graph는 Small World 그래프 생성을 위해 다음과 같은 arguments을 input으로 받아 그래프를 생성합니다.\n",
    "# n은 노드의 수, k는 각 노드마다 연결될 이웃의 수(edge의 수), p= 연결될 확률\n",
    "g = nx.watts_strogatz_graph(n = 100, k= 5, p = 0.5, seed=None)\n",
    "nx.draw(g, with_labels=True)"
   ],
   "execution_count": 66,
   "outputs": [
    {
     "output_type": "display_data",
     "data": {
      "image/png": "[encoded data removed]",
      "text/plain": [
       "<Figure size 432x288 with 1 Axes>"
      ]
     },
     "metadata": {}
    }
   ]
  },
  {
   "cell_type": "code",
   "metadata": {
    "pycharm": {
     "name": "#%%\n"
    },
    "id": "yZobODF01uTH"
   },
   "source": [
    "def find_min_hops_with_above_50_friends(g, influencer=0, min_percent=50):\n",
    "  '''\n",
    "  주어진 노드가 50% 이상의 친구 노드를 가지는 최소 홉수를 찾으시오\n",
    "  :param g: 그래프\n",
    "  :param influencer: 타겟이 될 인플루언서 노드\n",
    "  :param min_percent: 최소 요구해야할 노드의 비율 실제 필요한 노드 수는 전체 노드 수(g.nodes) * 0.5 이상이 되어야한다.\n",
    "  :return: 최소 hops 로 반환해야한다.\n",
    "  '''\n",
    "  return hops"
   ],
   "execution_count": 67,
   "outputs": []
  }
 ]
}